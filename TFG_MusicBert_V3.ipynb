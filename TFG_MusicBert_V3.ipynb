{
 "cells": [
  {
   "cell_type": "markdown",
   "metadata": {
    "id": "wFTEEPoMa0qh",
    "tags": []
   },
   "source": [
    "# Installing dependencies"
   ]
  },
  {
   "cell_type": "code",
   "execution_count": 1,
   "metadata": {
    "id": "DRdBxk55-CRP",
    "tags": []
   },
   "outputs": [],
   "source": [
    "# !pip install fairseq\n",
    "#==0.10.2"
   ]
  },
  {
   "cell_type": "code",
   "execution_count": 2,
   "metadata": {
    "id": "WWhwUZMkGcQE",
    "tags": []
   },
   "outputs": [],
   "source": [
    "# !pip install fairseq==0.10.1"
   ]
  },
  {
   "cell_type": "code",
   "execution_count": 3,
   "metadata": {
    "tags": []
   },
   "outputs": [
    {
     "name": "stderr",
     "output_type": "stream",
     "text": [
      "/usr/local/lib/python3.8/dist-packages/tqdm/auto.py:21: TqdmWarning: IProgress not found. Please update jupyter and ipywidgets. See https://ipywidgets.readthedocs.io/en/stable/user_install.html\n",
      "  from .autonotebook import tqdm as notebook_tqdm\n"
     ]
    },
    {
     "data": {
      "text/plain": [
       "'1.13.1+cu116'"
      ]
     },
     "execution_count": 3,
     "metadata": {},
     "output_type": "execute_result"
    }
   ],
   "source": [
    "import torch\n",
    "torch.__version__"
   ]
  },
  {
   "cell_type": "code",
   "execution_count": 4,
   "metadata": {
    "tags": []
   },
   "outputs": [],
   "source": [
    "#!pip install torch==1.13.1+cu116 torchvision==0.14.1+cu116 torchaudio==0.13.1 --extra-index-url https://download.pytorch.org/whl/cu116"
   ]
  },
  {
   "cell_type": "code",
   "execution_count": 5,
   "metadata": {
    "tags": []
   },
   "outputs": [],
   "source": [
    "import os\n",
    "os.environ[\"CUDA_DEVICE_ORDER\"] = \"PCI_BUS_ID\"\n",
    "os.environ[\"CUDA_VISIBLE_DEVICES\"] = \"0\""
   ]
  },
  {
   "cell_type": "markdown",
   "metadata": {
    "id": "hovJZkcIdLLY",
    "tags": []
   },
   "source": [
    "## Importing appropriate Fairseq version from Github"
   ]
  },
  {
   "cell_type": "markdown",
   "metadata": {
    "id": "McYdHQjYsMKj"
   },
   "source": [
    "https://github.com/microsoft/muzic/blob/main/musicbert/eval_nsp.py"
   ]
  },
  {
   "cell_type": "markdown",
   "metadata": {
    "id": "PW7zz0Orw5MZ"
   },
   "source": [
    "https://github.com/microsoft/muzic/issues/37"
   ]
  },
  {
   "cell_type": "code",
   "execution_count": 6,
   "metadata": {
    "id": "T3qig1VdmsAJ",
    "tags": []
   },
   "outputs": [],
   "source": [
    "# !pip install fairseq==0.12.2"
   ]
  },
  {
   "cell_type": "code",
   "execution_count": 7,
   "metadata": {
    "colab": {
     "base_uri": "https://localhost:8080/"
    },
    "id": "a0MEnV7hQAv5",
    "outputId": "85cabb7b-4c76-44a7-adf2-2d007cfbb41e",
    "tags": []
   },
   "outputs": [
    {
     "name": "stdout",
     "output_type": "stream",
     "text": [
      "/app/work/TFG/fairseq\n"
     ]
    }
   ],
   "source": [
    "if 'PYTHONPATH' in os.environ:\n",
    "    os.environ['PYTHONPATH'] += \":/app/work/TFG/fairseq\"\n",
    "else:\n",
    "    os.environ['PYTHONPATH'] = \"/app/work/TFG/fairseq\"\n",
    "\n",
    "get_ipython().system(' echo $PYTHONPATH')\n"
   ]
  },
  {
   "cell_type": "code",
   "execution_count": 8,
   "metadata": {
    "tags": []
   },
   "outputs": [],
   "source": [
    "import fairseq"
   ]
  },
  {
   "cell_type": "markdown",
   "metadata": {
    "id": "7ayYu78SYWs7",
    "tags": []
   },
   "source": [
    "## Set up music21 for Colab (only for displaying MIDI files)\n",
    "\n"
   ]
  },
  {
   "cell_type": "markdown",
   "metadata": {
    "id": "jIWHrVZ8cVUf"
   },
   "source": [
    "Click the play button below to upgrade music21 and install MuseScore to use in Google Colab"
   ]
  },
  {
   "cell_type": "code",
   "execution_count": 9,
   "metadata": {
    "colab": {
     "base_uri": "https://localhost:8080/"
    },
    "id": "0bh1YgqP56Gq",
    "outputId": "6fabaffe-5723-433a-f866-7d933bb304bc",
    "tags": []
   },
   "outputs": [],
   "source": [
    "#!pip install --upgrade music21"
   ]
  },
  {
   "cell_type": "code",
   "execution_count": 10,
   "metadata": {
    "colab": {
     "base_uri": "https://localhost:8080/"
    },
    "id": "8r3K2_Tu7NUo",
    "outputId": "82ab833d-a282-45e7-d65d-f0832472d402",
    "tags": []
   },
   "outputs": [],
   "source": [
    "#!add-apt-repository ppa:mscore-ubuntu/mscore-stable -y\n",
    "#!apt-get update\n",
    "#!apt-get install musescore"
   ]
  },
  {
   "cell_type": "code",
   "execution_count": 11,
   "metadata": {
    "colab": {
     "base_uri": "https://localhost:8080/"
    },
    "id": "Yxxz3oEIVkeI",
    "outputId": "16f045b1-9c53-41d7-95eb-e8207102708c",
    "tags": []
   },
   "outputs": [],
   "source": [
    "#!apt-get install xvfb"
   ]
  },
  {
   "cell_type": "markdown",
   "metadata": {
    "id": "my_PrLy1ct7n",
    "tags": []
   },
   "source": [
    "## Importing Dependencies"
   ]
  },
  {
   "cell_type": "code",
   "execution_count": 12,
   "metadata": {
    "id": "vWQUKDG9cSi9",
    "tags": []
   },
   "outputs": [],
   "source": [
    "#from music21 import *\n",
    "#us = environment.UserSettings()\n",
    "#us['musescoreDirectPNGPath'] = '/usr/bin/mscore'\n",
    "#us['directoryScratch'] = '/tmp'\n",
    "\n",
    "# music21 is Open Source under the BSD License\n",
    "# Copyright (c) 2006-22 Michael Scott Asato Cuthbert and cuthbertLab\n",
    "# Support music21 by citing it in your research or produts:\n",
    "#\n",
    "#     Cuthbert, Michael Scott.  \n",
    "#     _music21: a Toolkit for Computer-Aided Music Research_\n",
    "#     https://web.mit.edu/music21\n",
    "#     2006-22"
   ]
  },
  {
   "cell_type": "code",
   "execution_count": 13,
   "metadata": {
    "id": "DR45mQPrc0fj",
    "tags": []
   },
   "outputs": [],
   "source": [
    "from tqdm import tqdm\n",
    "from enum import Enum\n",
    "from itertools import chain"
   ]
  },
  {
   "cell_type": "markdown",
   "metadata": {
    "id": "5cbUiE_Hhean"
   },
   "source": [
    "## Source code"
   ]
  },
  {
   "cell_type": "code",
   "execution_count": 14,
   "metadata": {
    "id": "HLGRCI90ef3V",
    "tags": []
   },
   "outputs": [],
   "source": [
    "# Copyright (c) Microsoft Corporation. All rights reserved.\n",
    "# Licensed under the MIT License.\n",
    "#\n",
    "\n",
    "import os\n",
    "import sys\n",
    "import io\n",
    "import zipfile\n",
    "import miditoolkit\n",
    "import random\n",
    "import time\n",
    "import math\n",
    "import signal\n",
    "import hashlib\n",
    "from multiprocessing import Pool, Lock, Manager"
   ]
  },
  {
   "cell_type": "code",
   "execution_count": 15,
   "metadata": {
    "id": "TTcxLXHnXIFF",
    "tags": []
   },
   "outputs": [],
   "source": [
    "import numpy as np"
   ]
  },
  {
   "cell_type": "markdown",
   "metadata": {
    "id": "PB2OLM9pYUTI"
   },
   "source": [
    "### Setting `bar_max` used in `encoding_to_str` function"
   ]
  },
  {
   "cell_type": "markdown",
   "metadata": {
    "id": "YqXhfmZ4Yvj-"
   },
   "source": [
    "If `bar_max` is too low song gets clipped while encoding to Octuple tokens from MIDI"
   ]
  },
  {
   "cell_type": "code",
   "execution_count": 16,
   "metadata": {
    "id": "btksu-IoYTnI",
    "tags": []
   },
   "outputs": [],
   "source": [
    "bar_max = 256 #@param {type:\"integer\"}"
   ]
  },
  {
   "cell_type": "code",
   "execution_count": 17,
   "metadata": {
    "id": "9ruWQwXQef8_",
    "tags": []
   },
   "outputs": [],
   "source": [
    "pos_resolution = 16  # per beat (quarter note)\n",
    "\n",
    "velocity_quant = 4\n",
    "tempo_quant = 12  # 2 ** (1 / 12)\n",
    "min_tempo = 16\n",
    "max_tempo = 256\n",
    "duration_max = 8  # 2 ** 8 * beat\n",
    "max_ts_denominator = 6  # x/1 x/2 x/4 ... x/64\n",
    "max_notes_per_bar = 2  # 1/64 ... 128/64\n",
    "beat_note_factor = 4  # In MIDI format a note is always 4 beats\n",
    "deduplicate = True\n",
    "filter_symbolic = False\n",
    "filter_symbolic_ppl = 16\n",
    "trunc_pos = 2 ** 16  # approx 30 minutes (1024 measures)\n",
    "sample_len_max = 1000  # window length max\n",
    "sample_overlap_rate = 4\n",
    "ts_filter = False\n",
    "pool_num = 24\n",
    "max_inst = 127\n",
    "max_pitch = 127\n",
    "max_velocity = 127\n",
    "\n",
    "data_zip = None\n",
    "output_file = None\n"
   ]
  },
  {
   "cell_type": "code",
   "execution_count": 18,
   "metadata": {
    "id": "wY43GZF8a3pJ",
    "tags": []
   },
   "outputs": [],
   "source": [
    "lock_file = Lock()\n",
    "lock_write = Lock()\n",
    "lock_set = Lock()\n",
    "manager = Manager()\n",
    "midi_dict = manager.dict()"
   ]
  },
  {
   "cell_type": "code",
   "execution_count": 19,
   "metadata": {
    "id": "fw4FRwzba3jh",
    "tags": []
   },
   "outputs": [],
   "source": [
    "# (0 Measure, 1 Pos, 2 Program, 3 Pitch, 4 Duration, 5 Velocity, 6 TimeSig, 7 Tempo)\n",
    "# (Measure, TimeSig)\n",
    "# (Pos, Tempo)\n",
    "# Percussion: Program=128 Pitch=[128,255]\n",
    "\n",
    "# drum ins -> 6 ins kick, cymbal, snare, .... "
   ]
  },
  {
   "cell_type": "code",
   "execution_count": 20,
   "metadata": {
    "id": "OpP6vZqCa3hh",
    "tags": []
   },
   "outputs": [],
   "source": [
    "\n",
    "ts_dict = dict()\n",
    "ts_list = list()\n",
    "for i in range(0, max_ts_denominator + 1):  # 1 ~ 64\n",
    "    for j in range(1, ((2 ** i) * max_notes_per_bar) + 1):\n",
    "        ts_dict[(j, 2 ** i)] = len(ts_dict)\n",
    "        ts_list.append((j, 2 ** i))\n",
    "dur_enc = list()\n",
    "dur_dec = list()\n",
    "for i in range(duration_max):\n",
    "    for j in range(pos_resolution):\n",
    "        dur_dec.append(len(dur_enc))\n",
    "        for k in range(2 ** i):\n",
    "            dur_enc.append(len(dur_dec) - 1)"
   ]
  },
  {
   "cell_type": "code",
   "execution_count": 21,
   "metadata": {
    "colab": {
     "base_uri": "https://localhost:8080/"
    },
    "id": "HX-wPeyPgALv",
    "outputId": "57c07ea8-6d73-429f-ca60-bb4889e4bdc5",
    "tags": []
   },
   "outputs": [
    {
     "name": "stdout",
     "output_type": "stream",
     "text": [
      "{(1, 1): 0, (2, 1): 1, (1, 2): 2, (2, 2): 3, (3, 2): 4, (4, 2): 5, (1, 4): 6, (2, 4): 7, (3, 4): 8, (4, 4): 9, (5, 4): 10, (6, 4): 11, (7, 4): 12, (8, 4): 13, (1, 8): 14, (2, 8): 15, (3, 8): 16, (4, 8): 17, (5, 8): 18, (6, 8): 19, (7, 8): 20, (8, 8): 21, (9, 8): 22, (10, 8): 23, (11, 8): 24, (12, 8): 25, (13, 8): 26, (14, 8): 27, (15, 8): 28, (16, 8): 29, (1, 16): 30, (2, 16): 31, (3, 16): 32, (4, 16): 33, (5, 16): 34, (6, 16): 35, (7, 16): 36, (8, 16): 37, (9, 16): 38, (10, 16): 39, (11, 16): 40, (12, 16): 41, (13, 16): 42, (14, 16): 43, (15, 16): 44, (16, 16): 45, (17, 16): 46, (18, 16): 47, (19, 16): 48, (20, 16): 49, (21, 16): 50, (22, 16): 51, (23, 16): 52, (24, 16): 53, (25, 16): 54, (26, 16): 55, (27, 16): 56, (28, 16): 57, (29, 16): 58, (30, 16): 59, (31, 16): 60, (32, 16): 61, (1, 32): 62, (2, 32): 63, (3, 32): 64, (4, 32): 65, (5, 32): 66, (6, 32): 67, (7, 32): 68, (8, 32): 69, (9, 32): 70, (10, 32): 71, (11, 32): 72, (12, 32): 73, (13, 32): 74, (14, 32): 75, (15, 32): 76, (16, 32): 77, (17, 32): 78, (18, 32): 79, (19, 32): 80, (20, 32): 81, (21, 32): 82, (22, 32): 83, (23, 32): 84, (24, 32): 85, (25, 32): 86, (26, 32): 87, (27, 32): 88, (28, 32): 89, (29, 32): 90, (30, 32): 91, (31, 32): 92, (32, 32): 93, (33, 32): 94, (34, 32): 95, (35, 32): 96, (36, 32): 97, (37, 32): 98, (38, 32): 99, (39, 32): 100, (40, 32): 101, (41, 32): 102, (42, 32): 103, (43, 32): 104, (44, 32): 105, (45, 32): 106, (46, 32): 107, (47, 32): 108, (48, 32): 109, (49, 32): 110, (50, 32): 111, (51, 32): 112, (52, 32): 113, (53, 32): 114, (54, 32): 115, (55, 32): 116, (56, 32): 117, (57, 32): 118, (58, 32): 119, (59, 32): 120, (60, 32): 121, (61, 32): 122, (62, 32): 123, (63, 32): 124, (64, 32): 125, (1, 64): 126, (2, 64): 127, (3, 64): 128, (4, 64): 129, (5, 64): 130, (6, 64): 131, (7, 64): 132, (8, 64): 133, (9, 64): 134, (10, 64): 135, (11, 64): 136, (12, 64): 137, (13, 64): 138, (14, 64): 139, (15, 64): 140, (16, 64): 141, (17, 64): 142, (18, 64): 143, (19, 64): 144, (20, 64): 145, (21, 64): 146, (22, 64): 147, (23, 64): 148, (24, 64): 149, (25, 64): 150, (26, 64): 151, (27, 64): 152, (28, 64): 153, (29, 64): 154, (30, 64): 155, (31, 64): 156, (32, 64): 157, (33, 64): 158, (34, 64): 159, (35, 64): 160, (36, 64): 161, (37, 64): 162, (38, 64): 163, (39, 64): 164, (40, 64): 165, (41, 64): 166, (42, 64): 167, (43, 64): 168, (44, 64): 169, (45, 64): 170, (46, 64): 171, (47, 64): 172, (48, 64): 173, (49, 64): 174, (50, 64): 175, (51, 64): 176, (52, 64): 177, (53, 64): 178, (54, 64): 179, (55, 64): 180, (56, 64): 181, (57, 64): 182, (58, 64): 183, (59, 64): 184, (60, 64): 185, (61, 64): 186, (62, 64): 187, (63, 64): 188, (64, 64): 189, (65, 64): 190, (66, 64): 191, (67, 64): 192, (68, 64): 193, (69, 64): 194, (70, 64): 195, (71, 64): 196, (72, 64): 197, (73, 64): 198, (74, 64): 199, (75, 64): 200, (76, 64): 201, (77, 64): 202, (78, 64): 203, (79, 64): 204, (80, 64): 205, (81, 64): 206, (82, 64): 207, (83, 64): 208, (84, 64): 209, (85, 64): 210, (86, 64): 211, (87, 64): 212, (88, 64): 213, (89, 64): 214, (90, 64): 215, (91, 64): 216, (92, 64): 217, (93, 64): 218, (94, 64): 219, (95, 64): 220, (96, 64): 221, (97, 64): 222, (98, 64): 223, (99, 64): 224, (100, 64): 225, (101, 64): 226, (102, 64): 227, (103, 64): 228, (104, 64): 229, (105, 64): 230, (106, 64): 231, (107, 64): 232, (108, 64): 233, (109, 64): 234, (110, 64): 235, (111, 64): 236, (112, 64): 237, (113, 64): 238, (114, 64): 239, (115, 64): 240, (116, 64): 241, (117, 64): 242, (118, 64): 243, (119, 64): 244, (120, 64): 245, (121, 64): 246, (122, 64): 247, (123, 64): 248, (124, 64): 249, (125, 64): 250, (126, 64): 251, (127, 64): 252, (128, 64): 253}\n",
      "[(1, 1), (2, 1), (1, 2), (2, 2), (3, 2), (4, 2), (1, 4), (2, 4), (3, 4), (4, 4), (5, 4), (6, 4), (7, 4), (8, 4), (1, 8), (2, 8), (3, 8), (4, 8), (5, 8), (6, 8), (7, 8), (8, 8), (9, 8), (10, 8), (11, 8), (12, 8), (13, 8), (14, 8), (15, 8), (16, 8), (1, 16), (2, 16), (3, 16), (4, 16), (5, 16), (6, 16), (7, 16), (8, 16), (9, 16), (10, 16), (11, 16), (12, 16), (13, 16), (14, 16), (15, 16), (16, 16), (17, 16), (18, 16), (19, 16), (20, 16), (21, 16), (22, 16), (23, 16), (24, 16), (25, 16), (26, 16), (27, 16), (28, 16), (29, 16), (30, 16), (31, 16), (32, 16), (1, 32), (2, 32), (3, 32), (4, 32), (5, 32), (6, 32), (7, 32), (8, 32), (9, 32), (10, 32), (11, 32), (12, 32), (13, 32), (14, 32), (15, 32), (16, 32), (17, 32), (18, 32), (19, 32), (20, 32), (21, 32), (22, 32), (23, 32), (24, 32), (25, 32), (26, 32), (27, 32), (28, 32), (29, 32), (30, 32), (31, 32), (32, 32), (33, 32), (34, 32), (35, 32), (36, 32), (37, 32), (38, 32), (39, 32), (40, 32), (41, 32), (42, 32), (43, 32), (44, 32), (45, 32), (46, 32), (47, 32), (48, 32), (49, 32), (50, 32), (51, 32), (52, 32), (53, 32), (54, 32), (55, 32), (56, 32), (57, 32), (58, 32), (59, 32), (60, 32), (61, 32), (62, 32), (63, 32), (64, 32), (1, 64), (2, 64), (3, 64), (4, 64), (5, 64), (6, 64), (7, 64), (8, 64), (9, 64), (10, 64), (11, 64), (12, 64), (13, 64), (14, 64), (15, 64), (16, 64), (17, 64), (18, 64), (19, 64), (20, 64), (21, 64), (22, 64), (23, 64), (24, 64), (25, 64), (26, 64), (27, 64), (28, 64), (29, 64), (30, 64), (31, 64), (32, 64), (33, 64), (34, 64), (35, 64), (36, 64), (37, 64), (38, 64), (39, 64), (40, 64), (41, 64), (42, 64), (43, 64), (44, 64), (45, 64), (46, 64), (47, 64), (48, 64), (49, 64), (50, 64), (51, 64), (52, 64), (53, 64), (54, 64), (55, 64), (56, 64), (57, 64), (58, 64), (59, 64), (60, 64), (61, 64), (62, 64), (63, 64), (64, 64), (65, 64), (66, 64), (67, 64), (68, 64), (69, 64), (70, 64), (71, 64), (72, 64), (73, 64), (74, 64), (75, 64), (76, 64), (77, 64), (78, 64), (79, 64), (80, 64), (81, 64), (82, 64), (83, 64), (84, 64), (85, 64), (86, 64), (87, 64), (88, 64), (89, 64), (90, 64), (91, 64), (92, 64), (93, 64), (94, 64), (95, 64), (96, 64), (97, 64), (98, 64), (99, 64), (100, 64), (101, 64), (102, 64), (103, 64), (104, 64), (105, 64), (106, 64), (107, 64), (108, 64), (109, 64), (110, 64), (111, 64), (112, 64), (113, 64), (114, 64), (115, 64), (116, 64), (117, 64), (118, 64), (119, 64), (120, 64), (121, 64), (122, 64), (123, 64), (124, 64), (125, 64), (126, 64), (127, 64), (128, 64)]\n"
     ]
    }
   ],
   "source": [
    "print(ts_dict)\n",
    "print(ts_list)"
   ]
  },
  {
   "cell_type": "code",
   "execution_count": 22,
   "metadata": {
    "id": "yfi_3_Uxfw7e",
    "tags": []
   },
   "outputs": [],
   "source": [
    "class timeout:\n",
    "    def __init__(self, seconds=1, error_message='Timeout'):\n",
    "        self.seconds = seconds\n",
    "        self.error_message = error_message\n",
    "\n",
    "    def handle_timeout(self, signum, frame):\n",
    "        raise TimeoutError(self.error_message)\n",
    "\n",
    "    def __enter__(self):\n",
    "        signal.signal(signal.SIGALRM, self.handle_timeout)\n",
    "        signal.alarm(self.seconds)\n",
    "\n",
    "    def __exit__(self, exc_type, value, traceback):\n",
    "        signal.alarm(0)\n",
    "\n",
    "\n",
    "def t2e(x):\n",
    "    assert x in ts_dict, 'unsupported time signature: ' + str(x)\n",
    "    return ts_dict[x]\n",
    "\n",
    "\n",
    "def e2t(x):\n",
    "    return ts_list[x]\n",
    "\n",
    "\n",
    "def d2e(x):\n",
    "    return dur_enc[x] if x < len(dur_enc) else dur_enc[-1]\n",
    "\n",
    "\n",
    "def e2d(x):\n",
    "    return dur_dec[x] if x < len(dur_dec) else dur_dec[-1]\n",
    "\n",
    "\n",
    "def v2e(x):\n",
    "    return x // velocity_quant\n",
    "\n",
    "\n",
    "def e2v(x):\n",
    "    return (x * velocity_quant) + (velocity_quant // 2)\n",
    "\n",
    "\n",
    "def b2e(x):\n",
    "    x = max(x, min_tempo)\n",
    "    x = min(x, max_tempo)\n",
    "    x = x / min_tempo\n",
    "    e = round(math.log2(x) * tempo_quant)\n",
    "    return e\n",
    "\n",
    "\n",
    "def e2b(x):\n",
    "    return 2 ** (x / tempo_quant) * min_tempo"
   ]
  },
  {
   "cell_type": "code",
   "execution_count": 23,
   "metadata": {
    "id": "YtGmFtXHf1i4",
    "tags": []
   },
   "outputs": [],
   "source": [
    "def time_signature_reduce(numerator, denominator):\n",
    "    # reduction (when denominator is too large)\n",
    "    while denominator > 2 ** max_ts_denominator and denominator % 2 == 0 and numerator % 2 == 0:\n",
    "        denominator //= 2\n",
    "        numerator //= 2\n",
    "    # decomposition (when length of a bar exceed max_notes_per_bar)\n",
    "    while numerator > max_notes_per_bar * denominator:\n",
    "        for i in range(2, numerator + 1):\n",
    "            if numerator % i == 0:\n",
    "                numerator //= i\n",
    "                break\n",
    "    return numerator, denominator\n",
    "\n",
    "\n",
    "def writer(file_name, output_str_list):\n",
    "    # note: parameter \"file_name\" is reserved for patching\n",
    "    with open(output_file, 'a') as f:\n",
    "        for output_str in output_str_list:\n",
    "            f.write(output_str + '\\n')"
   ]
  },
  {
   "cell_type": "code",
   "execution_count": 24,
   "metadata": {
    "id": "vQyXtZyMgMdE",
    "tags": []
   },
   "outputs": [],
   "source": [
    "def gen_dictionary(file_name):\n",
    "    num = 0\n",
    "    with open(file_name, 'w') as f:\n",
    "        for j in range(bar_max):\n",
    "            print('<0-{}>'.format(j), num, file=f)\n",
    "        for j in range(beat_note_factor * max_notes_per_bar * pos_resolution):\n",
    "            print('<1-{}>'.format(j), num, file=f)\n",
    "        for j in range(max_inst + 1 + 1):\n",
    "            # max_inst + 1 for percussion\n",
    "            print('<2-{}>'.format(j), num, file=f)\n",
    "        for j in range(2 * max_pitch + 1 + 1):\n",
    "            # max_pitch + 1 ~ 2 * max_pitch + 1 for percussion\n",
    "            print('<3-{}>'.format(j), num, file=f)\n",
    "        for j in range(duration_max * pos_resolution):\n",
    "            print('<4-{}>'.format(j), num, file=f)\n",
    "        for j in range(v2e(max_velocity) + 1):\n",
    "            print('<5-{}>'.format(j), num, file=f)\n",
    "        for j in range(len(ts_list)):\n",
    "            print('<6-{}>'.format(j), num, file=f)\n",
    "        for j in range(b2e(max_tempo) + 1):\n",
    "            print('<7-{}>'.format(j), num, file=f)"
   ]
  },
  {
   "cell_type": "code",
   "execution_count": 25,
   "metadata": {
    "id": "Xhkm6k3AgMwl",
    "tags": []
   },
   "outputs": [],
   "source": [
    "def MIDI_to_encoding(midi_obj):\n",
    "    def time_to_pos(t):\n",
    "        return round(t * pos_resolution / midi_obj.ticks_per_beat)\n",
    "    notes_start_pos = [time_to_pos(j.start)\n",
    "                       for i in midi_obj.instruments for j in i.notes]\n",
    "    if len(notes_start_pos) == 0:\n",
    "        return list()\n",
    "    max_pos = min(max(notes_start_pos) + 1, trunc_pos)\n",
    "    pos_to_info = [[None for _ in range(4)] for _ in range(\n",
    "        max_pos)]  # (Measure, TimeSig, Pos, Tempo)\n",
    "    tsc = midi_obj.time_signature_changes\n",
    "    tpc = midi_obj.tempo_changes\n",
    "    for i in range(len(tsc)):\n",
    "        for j in range(time_to_pos(tsc[i].time), time_to_pos(tsc[i + 1].time) if i < len(tsc) - 1 else max_pos):\n",
    "            if j < len(pos_to_info):\n",
    "                pos_to_info[j][1] = t2e(time_signature_reduce(\n",
    "                    tsc[i].numerator, tsc[i].denominator))\n",
    "    for i in range(len(tpc)):\n",
    "        for j in range(time_to_pos(tpc[i].time), time_to_pos(tpc[i + 1].time) if i < len(tpc) - 1 else max_pos):\n",
    "            if j < len(pos_to_info):\n",
    "                pos_to_info[j][3] = b2e(tpc[i].tempo)\n",
    "    for j in range(len(pos_to_info)):\n",
    "        if pos_to_info[j][1] is None:\n",
    "            # MIDI default time signature\n",
    "            pos_to_info[j][1] = t2e(time_signature_reduce(4, 4))\n",
    "        if pos_to_info[j][3] is None:\n",
    "            pos_to_info[j][3] = b2e(120.0)  # MIDI default tempo (BPM)\n",
    "    cnt = 0\n",
    "    bar = 0\n",
    "    measure_length = None\n",
    "    for j in range(len(pos_to_info)):\n",
    "        ts = e2t(pos_to_info[j][1])\n",
    "        if cnt == 0:\n",
    "            measure_length = ts[0] * beat_note_factor * pos_resolution // ts[1]\n",
    "        pos_to_info[j][0] = bar\n",
    "        pos_to_info[j][2] = cnt\n",
    "        cnt += 1\n",
    "        if cnt >= measure_length:\n",
    "            assert cnt == measure_length, 'invalid time signature change: pos = {}'.format(\n",
    "                j)\n",
    "            cnt -= measure_length\n",
    "            bar += 1\n",
    "    encoding = []\n",
    "    start_distribution = [0] * pos_resolution\n",
    "    for inst in midi_obj.instruments:\n",
    "        for note in inst.notes:\n",
    "            if time_to_pos(note.start) >= trunc_pos:\n",
    "                continue\n",
    "            start_distribution[time_to_pos(note.start) % pos_resolution] += 1\n",
    "            info = pos_to_info[time_to_pos(note.start)]\n",
    "            encoding.append((info[0], info[2], max_inst + 1 if inst.is_drum else inst.program, note.pitch + max_pitch +\n",
    "                             1 if inst.is_drum else note.pitch, d2e(time_to_pos(note.end) - time_to_pos(note.start)), v2e(note.velocity), info[1], info[3]))\n",
    "    if len(encoding) == 0:\n",
    "        return list()\n",
    "    tot = sum(start_distribution)\n",
    "    start_ppl = 2 ** sum((0 if x == 0 else -(x / tot) *\n",
    "                          math.log2((x / tot)) for x in start_distribution))\n",
    "    # filter unaligned music\n",
    "    if filter_symbolic:\n",
    "        assert start_ppl <= filter_symbolic_ppl, 'filtered out by the symbolic filter: ppl = {:.2f}'.format(\n",
    "            start_ppl)\n",
    "    encoding.sort()\n",
    "    return encoding"
   ]
  },
  {
   "cell_type": "code",
   "execution_count": 26,
   "metadata": {
    "id": "DS2JEuTxgM1f",
    "tags": []
   },
   "outputs": [],
   "source": [
    "def encoding_to_MIDI(encoding):\n",
    "    # TODO: filter out non-valid notes and error handling\n",
    "    bar_to_timesig = [list()\n",
    "                      for _ in range(max(map(lambda x: x[0], encoding)) + 1)]\n",
    "    for i in encoding:\n",
    "        bar_to_timesig[i[0]].append(i[6])\n",
    "    bar_to_timesig = [max(set(i), key=i.count) if len(\n",
    "        i) > 0 else None for i in bar_to_timesig]\n",
    "    for i in range(len(bar_to_timesig)):\n",
    "        if bar_to_timesig[i] is None:\n",
    "            bar_to_timesig[i] = t2e(time_signature_reduce(\n",
    "                4, 4)) if i == 0 else bar_to_timesig[i - 1]\n",
    "    bar_to_pos = [None] * len(bar_to_timesig)\n",
    "    cur_pos = 0\n",
    "    for i in range(len(bar_to_pos)):\n",
    "        bar_to_pos[i] = cur_pos\n",
    "        ts = e2t(bar_to_timesig[i])\n",
    "        measure_length = ts[0] * beat_note_factor * pos_resolution // ts[1]\n",
    "        cur_pos += measure_length\n",
    "    pos_to_tempo = [list() for _ in range(\n",
    "        cur_pos + max(map(lambda x: x[1], encoding)))]\n",
    "    for i in encoding:\n",
    "        pos_to_tempo[bar_to_pos[i[0]] + i[1]].append(i[7])\n",
    "    pos_to_tempo = [round(sum(i) / len(i)) if len(i) >\n",
    "                    0 else None for i in pos_to_tempo]\n",
    "    for i in range(len(pos_to_tempo)):\n",
    "        if pos_to_tempo[i] is None:\n",
    "            pos_to_tempo[i] = b2e(120.0) if i == 0 else pos_to_tempo[i - 1]\n",
    "    midi_obj = miditoolkit.midi.parser.MidiFile()\n",
    "\n",
    "    def get_tick(bar, pos):\n",
    "        return (bar_to_pos[bar] + pos) * midi_obj.ticks_per_beat // pos_resolution\n",
    "    midi_obj.instruments = [miditoolkit.containers.Instrument(program=(\n",
    "        0 if i == 128 else i), is_drum=(i == 128), name=str(i)) for i in range(128 + 1)]\n",
    "    for i in encoding:\n",
    "        start = get_tick(i[0], i[1])\n",
    "        program = i[2]\n",
    "        pitch = (i[3] - 128 if program == 128 else i[3])\n",
    "        duration = get_tick(0, e2d(i[4]))\n",
    "        if duration == 0:\n",
    "            duration = 1\n",
    "        end = start + duration\n",
    "        velocity = e2v(i[5])\n",
    "        midi_obj.instruments[program].notes.append(miditoolkit.containers.Note(\n",
    "            start=start, end=end, pitch=pitch, velocity=velocity))\n",
    "    midi_obj.instruments = [\n",
    "        i for i in midi_obj.instruments if len(i.notes) > 0]\n",
    "    cur_ts = None\n",
    "    for i in range(len(bar_to_timesig)):\n",
    "        new_ts = bar_to_timesig[i]\n",
    "        if new_ts != cur_ts:\n",
    "            numerator, denominator = e2t(new_ts)\n",
    "            midi_obj.time_signature_changes.append(miditoolkit.containers.TimeSignature(\n",
    "                numerator=numerator, denominator=denominator, time=get_tick(i, 0)))\n",
    "            cur_ts = new_ts\n",
    "    cur_tp = None\n",
    "    for i in range(len(pos_to_tempo)):\n",
    "        new_tp = pos_to_tempo[i]\n",
    "        if new_tp != cur_tp:\n",
    "            tempo = e2b(new_tp)\n",
    "            midi_obj.tempo_changes.append(\n",
    "                miditoolkit.containers.TempoChange(tempo=tempo, time=get_tick(0, i)))\n",
    "            cur_tp = new_tp\n",
    "    return midi_obj"
   ]
  },
  {
   "cell_type": "code",
   "execution_count": 27,
   "metadata": {
    "id": "e_CldWtbgcj2",
    "tags": []
   },
   "outputs": [],
   "source": [
    "def get_hash(encoding):\n",
    "    # add i[4] and i[5] for stricter match\n",
    "    midi_tuple = tuple((i[2], i[3]) for i in encoding)\n",
    "    midi_hash = hashlib.md5(str(midi_tuple).encode('ascii')).hexdigest()\n",
    "    return midi_hash"
   ]
  },
  {
   "cell_type": "code",
   "execution_count": 28,
   "metadata": {
    "id": "XgJH1YS7gcnu",
    "tags": []
   },
   "outputs": [],
   "source": [
    "def F(file_name):\n",
    "    try_times = 10\n",
    "    midi_file = None\n",
    "    for _ in range(try_times):\n",
    "        try:\n",
    "            lock_file.acquire()\n",
    "            with data_zip.open(file_name) as f:\n",
    "                # this may fail due to unknown bug\n",
    "                midi_file = io.BytesIO(f.read())\n",
    "        except BaseException as e:\n",
    "            try_times -= 1\n",
    "            time.sleep(1)\n",
    "            if try_times == 0:\n",
    "                print('ERROR(READ): ' + file_name +\n",
    "                      ' ' + str(e) + '\\n', end='')\n",
    "                return None\n",
    "        finally:\n",
    "            lock_file.release()\n",
    "    try:\n",
    "        with timeout(seconds=600):\n",
    "            midi_obj = miditoolkit.midi.parser.MidiFile(file=midi_file)\n",
    "        # check abnormal values in parse result\n",
    "        assert all(0 <= j.start < 2 ** 31 and 0 <= j.end < 2 **\n",
    "                   31 for i in midi_obj.instruments for j in i.notes), 'bad note time'\n",
    "        assert all(0 < j.numerator < 2 ** 31 and 0 < j.denominator < 2 **\n",
    "                   31 for j in midi_obj.time_signature_changes), 'bad time signature value'\n",
    "        assert 0 < midi_obj.ticks_per_beat < 2 ** 31, 'bad ticks per beat'\n",
    "    except BaseException as e:\n",
    "        print('ERROR(PARSE): ' + file_name + ' ' + str(e) + '\\n', end='')\n",
    "        return None\n",
    "    midi_notes_count = sum(len(inst.notes) for inst in midi_obj.instruments)\n",
    "    if midi_notes_count == 0:\n",
    "        print('ERROR(BLANK): ' + file_name + '\\n', end='')\n",
    "        return None\n",
    "    try:\n",
    "        e = MIDI_to_encoding(midi_obj)\n",
    "        if len(e) == 0:\n",
    "            print('ERROR(BLANK): ' + file_name + '\\n', end='')\n",
    "            return None\n",
    "        if ts_filter:\n",
    "            allowed_ts = t2e(time_signature_reduce(4, 4))\n",
    "            if not all(i[6] == allowed_ts for i in e):\n",
    "                print('ERROR(TSFILT): ' + file_name + '\\n', end='')\n",
    "                return None\n",
    "        if deduplicate:\n",
    "            duplicated = False\n",
    "            dup_file_name = ''\n",
    "            midi_hash = '0' * 32\n",
    "            try:\n",
    "                midi_hash = get_hash(e)\n",
    "            except BaseException as e:\n",
    "                pass\n",
    "            lock_set.acquire()\n",
    "            if midi_hash in midi_dict:\n",
    "                dup_file_name = midi_dict[midi_hash]\n",
    "                duplicated = True\n",
    "            else:\n",
    "                midi_dict[midi_hash] = file_name\n",
    "            lock_set.release()\n",
    "            if duplicated:\n",
    "                print('ERROR(DUPLICATED): ' + midi_hash + ' ' +\n",
    "                      file_name + ' == ' + dup_file_name + '\\n', end='')\n",
    "                return None\n",
    "        output_str_list = []\n",
    "        sample_step = max(round(sample_len_max / sample_overlap_rate), 1)\n",
    "        for p in range(0 - random.randint(0, sample_len_max - 1), len(e), sample_step):\n",
    "            L = max(p, 0)\n",
    "            R = min(p + sample_len_max, len(e)) - 1\n",
    "            bar_index_list = [e[i][0]\n",
    "                              for i in range(L, R + 1) if e[i][0] is not None]\n",
    "            bar_index_min = 0\n",
    "            bar_index_max = 0\n",
    "            if len(bar_index_list) > 0:\n",
    "                bar_index_min = min(bar_index_list)\n",
    "                bar_index_max = max(bar_index_list)\n",
    "            offset_lower_bound = -bar_index_min\n",
    "            offset_upper_bound = bar_max - 1 - bar_index_max\n",
    "            # to make bar index distribute in [0, bar_max)\n",
    "            bar_index_offset = random.randint(\n",
    "                offset_lower_bound, offset_upper_bound) if offset_lower_bound <= offset_upper_bound else offset_lower_bound\n",
    "            e_segment = []\n",
    "            for i in e[L: R + 1]:\n",
    "                if i[0] is None or i[0] + bar_index_offset < bar_max:\n",
    "                    e_segment.append(i)\n",
    "                else:\n",
    "                    break\n",
    "            tokens_per_note = 8\n",
    "            output_words = (['<s>'] * tokens_per_note) \\\n",
    "                + [('<{}-{}>'.format(j, k if j > 0 else k + bar_index_offset) if k is not None else '<unk>') for i in e_segment for j, k in enumerate(i)] \\\n",
    "                + (['</s>'] * (tokens_per_note - 1)\n",
    "                   )  # tokens_per_note - 1 for append_eos functionality of binarizer in fairseq\n",
    "            output_str_list.append(' '.join(output_words))\n",
    "\n",
    "        # no empty\n",
    "        if not all(len(i.split()) > tokens_per_note * 2 - 1 for i in output_str_list):\n",
    "            print('ERROR(ENCODE): ' + file_name + ' ' + str(e) + '\\n', end='')\n",
    "            return False\n",
    "        try:\n",
    "            lock_write.acquire()\n",
    "            writer(file_name, output_str_list)\n",
    "        except BaseException as e:\n",
    "            print('ERROR(WRITE): ' + file_name + ' ' + str(e) + '\\n', end='')\n",
    "            return False\n",
    "        finally:\n",
    "            lock_write.release()\n",
    "        print('SUCCESS: ' + file_name + '\\n', end='')\n",
    "        return True\n",
    "    except BaseException as e:\n",
    "        print('ERROR(PROCESS): ' + file_name + ' ' + str(e) + '\\n', end='')\n",
    "        return False\n",
    "    print('ERROR(GENERAL): ' + file_name + '\\n', end='')\n",
    "    return False\n",
    "\n",
    "\n",
    "def G(file_name):\n",
    "    try:\n",
    "        return F(file_name)\n",
    "    except BaseException as e:\n",
    "        print('ERROR(UNCAUGHT): ' + file_name + '\\n', end='')\n",
    "        return False"
   ]
  },
  {
   "cell_type": "code",
   "execution_count": 29,
   "metadata": {
    "id": "krRjjck_gM5y",
    "tags": []
   },
   "outputs": [],
   "source": [
    "def str_to_encoding(s):\n",
    "    encoding = [int(i[3: -1]) for i in s.split() if 's' not in i]\n",
    "    tokens_per_note = 8\n",
    "    assert len(encoding) % tokens_per_note == 0\n",
    "    encoding = [tuple(encoding[i + j] for j in range(tokens_per_note))\n",
    "                for i in range(0, len(encoding), tokens_per_note)]\n",
    "    return encoding\n"
   ]
  },
  {
   "cell_type": "code",
   "execution_count": 30,
   "metadata": {
    "id": "TG_n87S7g9dP",
    "tags": []
   },
   "outputs": [],
   "source": [
    "def encoding_to_str(e, bar_max = bar_max):\n",
    "    bar_index_offset = 0\n",
    "    p = 0\n",
    "    tokens_per_note = 8\n",
    "    return ' '.join((['<s>'] * tokens_per_note)\n",
    "                    + ['<{}-{}>'.format(j, k if j > 0 else k + bar_index_offset) for i in e[p: p +\n",
    "                                                                                            sample_len_max] if i[0] + bar_index_offset < bar_max for j, k in enumerate(i)]\n",
    "                    + (['</s>'] * (tokens_per_note\n",
    "                                   - 1)))   # 8 - 1 for append_eos functionality of binarizer in fairseq"
   ]
  },
  {
   "cell_type": "markdown",
   "metadata": {
    "id": "nN04JzAwiuIn",
    "tags": []
   },
   "source": [
    "## Preprocessing zip to OctupleMIDI"
   ]
  },
  {
   "cell_type": "code",
   "execution_count": 31,
   "metadata": {
    "id": "8MNGpbnFcyKt",
    "tags": []
   },
   "outputs": [],
   "source": [
    "#import os\n",
    "#import gdown\n",
    "\n",
    "#midi_dir = os.path.join(\"midi\")\n",
    "#os.makedirs(midi_dir, exist_ok=True)\n",
    "\n",
    "#file_id1 = \"14GSG63ynI-iUdQI_eqnUUppi8H0Djgl1\"\n",
    "#url1 = f\"https://drive.google.com/uc?id={file_id1}\"\n",
    "#output_filename1 = \"lmd_matched3.zip\"\n",
    "\n",
    "#output_path1 = os.path.join(midi_dir, output_filename1)\n",
    "#gdown.download(url1, output_path1, quiet=False)\n",
    "\n",
    "\n",
    "#file_id2 = \"1iW8B0BlzL0pKWuDIb-KnckH3pIwGK096\"\n",
    "#url2 = f\"https://drive.google.com/uc?id={file_id2}\"\n",
    "#output_filename2 = \"lmd_matched.zip\"\n",
    "\n",
    "#output_path2 = os.path.join(midi_dir, output_filename2)\n",
    "#gdown.download(url2, output_path2, quiet=False)\n"
   ]
  },
  {
   "cell_type": "code",
   "execution_count": 32,
   "metadata": {
    "tags": []
   },
   "outputs": [],
   "source": [
    "#file_id3 = \"1DbCUGMVSzuf971KObdmxZDtzre_zmDBU\"\n",
    "#url3 = f\"https://drive.google.com/uc?id={file_id3}\"\n",
    "#output_filename3 = \"iwantitthatway.mid\"\n",
    "\n",
    "#output_path3 = os.path.join(midi_dir, output_filename3)\n",
    "#gdown.download(url3, output_path3, quiet=False)\n"
   ]
  },
  {
   "cell_type": "markdown",
   "metadata": {
    "id": "010X3PiShhDH",
    "tags": []
   },
   "source": [
    "## Working on single MIDI"
   ]
  },
  {
   "cell_type": "code",
   "execution_count": 33,
   "metadata": {
    "id": "9jzle41dg_p-",
    "tags": []
   },
   "outputs": [],
   "source": [
    " sample_midi_path = '/app/work/midi/iwantitthatway.mid'"
   ]
  },
  {
   "cell_type": "code",
   "execution_count": 34,
   "metadata": {
    "id": "C9Xvb1v1g_um",
    "tags": []
   },
   "outputs": [],
   "source": [
    " midi_obj = miditoolkit.midi.parser.MidiFile(sample_midi_path)"
   ]
  },
  {
   "cell_type": "code",
   "execution_count": 35,
   "metadata": {
    "colab": {
     "base_uri": "https://localhost:8080/"
    },
    "id": "gXEi7tgTpDID",
    "outputId": "112876b8-d8f8-438e-dde1-56a28887bb54",
    "tags": []
   },
   "outputs": [
    {
     "name": "stdout",
     "output_type": "stream",
     "text": [
      "ticks per beat: 120\n",
      "max tick: 42241\n",
      "tempo changes: 5\n",
      "time sig: 1\n",
      "key sig: 1\n",
      "markers: 11\n",
      "lyrics: False\n",
      "instruments: 16\n"
     ]
    }
   ],
   "source": [
    " print(midi_obj)"
   ]
  },
  {
   "cell_type": "code",
   "execution_count": 36,
   "metadata": {
    "id": "H5CaoPujg9g5",
    "tags": []
   },
   "outputs": [],
   "source": [
    " assert all(0 <= j.start < 2 ** 31 and 0 <= j.end < 2 **\n",
    "                    31 for i in midi_obj.instruments for j in i.notes), 'bad note time'\n",
    " assert all(0 < j.numerator < 2 ** 31 and 0 < j.denominator < 2 **\n",
    "             31 for j in midi_obj.time_signature_changes), 'bad time signature value'\n",
    " assert 0 < midi_obj.ticks_per_beat < 2 ** 31, 'bad ticks per beat'"
   ]
  },
  {
   "cell_type": "code",
   "execution_count": 37,
   "metadata": {
    "colab": {
     "base_uri": "https://localhost:8080/"
    },
    "id": "1o20iNpKohq1",
    "outputId": "e37e961d-23be-4e67-e71e-8f9b24de26d8",
    "tags": []
   },
   "outputs": [
    {
     "name": "stdout",
     "output_type": "stream",
     "text": [
      "Instrument(program=1, is_drum=False, name=\"\")\n",
      "Instrument(program=33, is_drum=False, name=\"\")\n",
      "Instrument(program=18, is_drum=False, name=\"\")\n",
      "Instrument(program=68, is_drum=False, name=\"\")\n",
      "Instrument(program=25, is_drum=False, name=\"\")\n",
      "Instrument(program=25, is_drum=False, name=\"\")\n",
      "Instrument(program=54, is_drum=False, name=\"\")\n",
      "Instrument(program=27, is_drum=False, name=\"\")\n",
      "Instrument(program=74, is_drum=False, name=\"\")\n",
      "Instrument(program=0, is_drum=True, name=\"\")\n",
      "Instrument(program=119, is_drum=False, name=\"\")\n",
      "Instrument(program=89, is_drum=False, name=\"\")\n",
      "Instrument(program=49, is_drum=False, name=\"\")\n",
      "Instrument(program=127, is_drum=False, name=\"\")\n",
      "Instrument(program=27, is_drum=False, name=\"\")\n",
      "Instrument(program=124, is_drum=False, name=\"\")\n"
     ]
    }
   ],
   "source": [
    " for ins in midi_obj.instruments:\n",
    "   print(ins)"
   ]
  },
  {
   "cell_type": "code",
   "execution_count": 38,
   "metadata": {
    "id": "Pc8wmK1mg9k_",
    "tags": []
   },
   "outputs": [],
   "source": [
    " midi_notes_count = sum(len(inst.notes) for inst in midi_obj.instruments)\n",
    " if midi_notes_count == 0:\n",
    "   print('ERROR(BLANK): ' + file_name + '\\n', end='')"
   ]
  },
  {
   "cell_type": "markdown",
   "metadata": {
    "id": "Wl2Hyr7Ulo1l"
   },
   "source": [
    "### Obtained 8 tuple representation"
   ]
  },
  {
   "cell_type": "code",
   "execution_count": 39,
   "metadata": {
    "id": "NSmutI0qmZhM",
    "tags": []
   },
   "outputs": [],
   "source": [
    "# (0 Measure, 1 Pos, 2 Program, 3 Pitch, 4 Duration, 5 Velocity, 6 TimeSig, 7 Tempo)\n",
    "# (Measure, TimeSig)\n",
    "# (Pos, Tempo)\n",
    "# Percussion: Program=128 Pitch=[128,255]"
   ]
  },
  {
   "cell_type": "code",
   "execution_count": 40,
   "metadata": {
    "colab": {
     "base_uri": "https://localhost:8080/"
    },
    "id": "yG65y2lRlIft",
    "outputId": "b0618b7b-19a1-4bc8-e172-54c15392f8df",
    "tags": []
   },
   "outputs": [
    {
     "name": "stdout",
     "output_type": "stream",
     "text": [
      "[(2, 0, 25, 42, 36, 21, 9, 32), (2, 8, 25, 54, 20, 19, 9, 32), (2, 16, 25, 61, 20, 24, 9, 32), (2, 24, 25, 57, 24, 20, 9, 32), (2, 32, 25, 54, 20, 18, 9, 32), (2, 40, 25, 62, 8, 25, 9, 32), (2, 48, 25, 61, 8, 17, 9, 32), (2, 56, 25, 57, 8, 18, 9, 32), (3, 0, 25, 50, 20, 20, 9, 32), (3, 8, 25, 57, 16, 17, 9, 32), (3, 15, 68, 73, 8, 26, 9, 32), (3, 16, 25, 62, 8, 21, 9, 32), (3, 23, 68, 71, 16, 24, 9, 32), (3, 24, 25, 45, 28, 19, 9, 32), (3, 32, 25, 52, 20, 19, 9, 32), (3, 40, 25, 57, 8, 20, 9, 32), (3, 40, 68, 69, 20, 26, 9, 32), (3, 48, 25, 64, 8, 24, 9, 32), (3, 56, 25, 57, 8, 19, 9, 32), (4, 0, 25, 42, 36, 21, 9, 32), (4, 8, 25, 54, 20, 19, 9, 32), (4, 16, 25, 61, 20, 24, 9, 32), (4, 24, 25, 57, 24, 20, 9, 32), (4, 32, 25, 54, 20, 18, 9, 32), (4, 40, 25, 62, 8, 25, 9, 32), (4, 48, 25, 61, 8, 17, 9, 32), (4, 56, 25, 57, 8, 18, 9, 32), (5, 0, 25, 50, 20, 20, 9, 32), (5, 8, 25, 57, 16, 17, 9, 32), (5, 16, 25, 62, 8, 21, 9, 32), (5, 24, 25, 45, 28, 19, 9, 32), (5, 32, 25, 52, 20, 19, 9, 32), (5, 40, 25, 57, 8, 20, 9, 32), (5, 48, 25, 64, 8, 24, 9, 32), (5, 48, 68, 66, 7, 24, 9, 32), (5, 56, 25, 57, 8, 19, 9, 32), (5, 56, 68, 69, 28, 24, 9, 32), (6, 0, 25, 42, 36, 21, 9, 32), (6, 0, 27, 57, 36, 30, 9, 32), (6, 0, 27, 61, 36, 30, 9, 32), (6, 8, 25, 54, 20, 19, 9, 32), (6, 16, 25, 61, 20, 24, 9, 32), (6, 24, 25, 57, 24, 20, 9, 32), (6, 32, 25, 54, 20, 18, 9, 32), (6, 40, 25, 62, 8, 25, 9, 32), (6, 48, 25, 61, 8, 17, 9, 32), (6, 49, 68, 73, 15, 20, 9, 32), (6, 56, 25, 57, 8, 18, 9, 32), (7, 0, 25, 50, 20, 20, 9, 32), (7, 0, 68, 66, 20, 20, 9, 32), (7, 8, 25, 57, 16, 17, 9, 32), (7, 16, 25, 62, 8, 21, 9, 32), (7, 24, 25, 45, 28, 19, 9, 32), (7, 24, 68, 64, 20, 24, 9, 32), (7, 32, 25, 52, 20, 19, 9, 32), (7, 40, 25, 57, 8, 20, 9, 32), (7, 48, 25, 64, 8, 24, 9, 32), (7, 48, 68, 66, 8, 24, 9, 32), (7, 56, 25, 57, 8, 19, 9, 32), (7, 56, 68, 69, 28, 25, 9, 32), (8, 0, 25, 42, 36, 21, 9, 32), (8, 8, 25, 54, 20, 19, 9, 32), (8, 16, 25, 61, 20, 24, 9, 32), (8, 24, 25, 57, 24, 20, 9, 32), (8, 32, 25, 54, 20, 18, 9, 32), (8, 40, 25, 62, 8, 25, 9, 32), (8, 48, 25, 61, 8, 17, 9, 32), (8, 48, 68, 73, 16, 26, 9, 32), (8, 56, 25, 57, 8, 18, 9, 32), (9, 0, 25, 50, 20, 20, 9, 32), (9, 1, 68, 66, 19, 20, 9, 32), (9, 8, 25, 57, 16, 17, 9, 32), (9, 16, 25, 62, 8, 21, 9, 32), (9, 24, 25, 45, 28, 19, 9, 32), (9, 24, 68, 71, 18, 22, 9, 32), (9, 32, 25, 52, 20, 19, 9, 32), (9, 40, 25, 57, 8, 20, 9, 32), (9, 48, 25, 64, 8, 24, 9, 32), (9, 48, 68, 66, 7, 20, 9, 32), (9, 56, 25, 57, 8, 19, 9, 32), (9, 56, 68, 69, 28, 26, 9, 32), (10, 0, 25, 42, 36, 21, 9, 32), (10, 0, 27, 57, 36, 30, 9, 32), (10, 0, 27, 61, 36, 30, 9, 32), (10, 8, 25, 54, 20, 19, 9, 32), (10, 16, 25, 61, 20, 24, 9, 32), (10, 24, 25, 57, 24, 20, 9, 32), (10, 32, 25, 54, 20, 18, 9, 32), (10, 40, 25, 62, 8, 25, 9, 32), (10, 48, 25, 61, 8, 17, 9, 32), (10, 48, 68, 73, 15, 22, 9, 32), (10, 56, 25, 57, 8, 18, 9, 32), (10, 57, 25, 50, 22, 26, 9, 32), (10, 59, 25, 54, 22, 26, 9, 32), (10, 61, 25, 57, 21, 26, 9, 32), (11, 0, 25, 50, 20, 20, 9, 32), (11, 0, 25, 62, 20, 21, 9, 32), (11, 0, 68, 66, 18, 24, 9, 32), (11, 8, 25, 57, 16, 17, 9, 32), (11, 16, 25, 62, 8, 21, 9, 32), (11, 24, 25, 45, 28, 19, 9, 32), (11, 24, 68, 64, 20, 22, 9, 32), (11, 32, 25, 52, 20, 19, 9, 32), (11, 40, 25, 57, 8, 20, 9, 32), (11, 48, 25, 64, 8, 24, 9, 32), (11, 56, 25, 57, 5, 23, 9, 32), (11, 57, 25, 54, 22, 26, 9, 32), (11, 59, 25, 57, 21, 26, 9, 32), (11, 61, 25, 61, 20, 26, 9, 32), (11, 63, 25, 66, 20, 21, 9, 32), (12, 0, 25, 42, 36, 19, 9, 32), (12, 0, 68, 66, 18, 22, 9, 32), (12, 8, 25, 54, 20, 19, 9, 32), (12, 16, 25, 61, 8, 21, 9, 32), (12, 24, 25, 57, 24, 20, 9, 32), (12, 24, 68, 69, 18, 26, 9, 32), (12, 32, 25, 54, 8, 18, 9, 32), (12, 40, 25, 62, 8, 25, 9, 32), (12, 48, 25, 61, 8, 17, 9, 32), (12, 49, 68, 73, 15, 28, 9, 32), (12, 56, 25, 57, 8, 18, 9, 32), (13, 0, 25, 52, 19, 21, 9, 32), (13, 0, 25, 56, 20, 21, 9, 32), (13, 0, 25, 59, 20, 21, 9, 32), (13, 0, 68, 71, 16, 25, 9, 32), (13, 1, 25, 64, 20, 19, 9, 32), (13, 16, 68, 69, 1, 21, 9, 32), (13, 24, 25, 52, 27, 21, 9, 32), (13, 24, 25, 57, 28, 21, 9, 32), (13, 24, 25, 61, 28, 21, 9, 32), (13, 24, 68, 69, 14, 28, 9, 32), (13, 25, 25, 64, 28, 19, 9, 32), (13, 40, 128, 174, 2, 18, 9, 32), (13, 48, 33, 40, 16, 31, 9, 32), (13, 48, 68, 66, 7, 24, 9, 32), (13, 48, 128, 161, 0, 28, 9, 32), (13, 48, 128, 163, 0, 27, 9, 32), (13, 48, 128, 165, 0, 30, 9, 32), (13, 48, 128, 167, 0, 17, 9, 32), (13, 48, 128, 172, 2, 9, 9, 32), (13, 56, 68, 69, 28, 24, 9, 32), (14, 0, 18, 66, 41, 12, 9, 32), (14, 0, 18, 69, 76, 12, 9, 32), (14, 0, 18, 73, 36, 14, 9, 32), (14, 0, 25, 49, 7, 29, 9, 32), (14, 0, 25, 54, 7, 29, 9, 32), (14, 0, 25, 57, 7, 29, 9, 32), (14, 0, 25, 61, 7, 26, 9, 32), (14, 0, 33, 30, 8, 30, 9, 32), (14, 0, 74, 85, 35, 7, 9, 32), (14, 0, 128, 163, 0, 27, 9, 32), (14, 0, 128, 177, 0, 17, 9, 32), (14, 8, 25, 49, 8, 25, 9, 32), (14, 8, 25, 54, 7, 25, 9, 32), (14, 8, 25, 57, 8, 25, 9, 32), (14, 8, 25, 61, 7, 23, 9, 32), (14, 8, 33, 30, 6, 28, 9, 32), (14, 8, 128, 170, 0, 14, 9, 32), (14, 8, 128, 197, 0, 9, 9, 32), (14, 16, 25, 49, 1, 24, 9, 32), (14, 16, 25, 54, 1, 24, 9, 32), (14, 16, 25, 57, 1, 24, 9, 32), (14, 16, 25, 61, 2, 21, 9, 32), (14, 16, 128, 165, 0, 30, 9, 32), (14, 16, 128, 167, 0, 17, 9, 32), (14, 16, 128, 170, 0, 14, 9, 32), (14, 16, 128, 197, 0, 9, 9, 32), (14, 24, 25, 49, 7, 29, 9, 32), (14, 24, 25, 54, 7, 29, 9, 32), (14, 24, 25, 57, 8, 29, 9, 32), (14, 24, 25, 61, 7, 26, 9, 32), (14, 24, 33, 30, 4, 26, 9, 32), (14, 24, 128, 163, 0, 27, 9, 32), (14, 24, 128, 170, 0, 18, 9, 32), (14, 24, 128, 197, 0, 12, 9, 32), (14, 32, 25, 49, 7, 29, 9, 32), (14, 32, 25, 54, 7, 29, 9, 32), (14, 32, 25, 57, 7, 29, 9, 32), (14, 32, 25, 61, 7, 26, 9, 32), (14, 32, 33, 30, 8, 30, 9, 32), (14, 32, 128, 170, 0, 14, 9, 32), (14, 32, 128, 197, 0, 9, 9, 32), (14, 40, 25, 49, 8, 25, 9, 32), (14, 40, 25, 54, 8, 25, 9, 32), (14, 40, 25, 57, 8, 25, 9, 32), (14, 40, 25, 62, 7, 23, 9, 32), (14, 40, 33, 30, 6, 28, 9, 32), (14, 40, 128, 174, 0, 18, 9, 32), (14, 48, 25, 49, 1, 24, 9, 32), (14, 48, 25, 54, 1, 24, 9, 32), (14, 48, 25, 57, 1, 24, 9, 32), (14, 48, 25, 61, 2, 21, 9, 32), (14, 48, 33, 30, 8, 31, 9, 32), (14, 48, 128, 165, 0, 30, 9, 32), (14, 48, 128, 167, 0, 17, 9, 32), (14, 48, 128, 170, 0, 14, 9, 32), (14, 48, 128, 182, 0, 11, 9, 32), (14, 48, 128, 197, 0, 9, 9, 32), (14, 49, 68, 73, 15, 20, 9, 32), (14, 56, 25, 49, 7, 29, 9, 32), (14, 56, 25, 54, 7, 29, 9, 32), (14, 56, 25, 57, 8, 29, 9, 32), (14, 56, 25, 61, 8, 26, 9, 32), (14, 56, 33, 37, 6, 28, 9, 32), (14, 56, 128, 170, 0, 14, 9, 32), (14, 56, 128, 197, 0, 9, 9, 32), (14, 63, 18, 74, 20, 18, 9, 32), (14, 63, 74, 86, 20, 9, 9, 32), (15, 0, 25, 50, 7, 29, 9, 32), (15, 0, 25, 54, 7, 29, 9, 32), (15, 0, 25, 57, 7, 29, 9, 32), (15, 0, 25, 62, 7, 26, 9, 32), (15, 0, 33, 38, 8, 30, 9, 32), (15, 0, 68, 66, 20, 20, 9, 32), (15, 0, 128, 163, 0, 27, 9, 32), (15, 0, 128, 170, 0, 18, 9, 32), (15, 0, 128, 197, 0, 12, 9, 32), (15, 4, 128, 170, 0, 14, 9, 32), (15, 4, 128, 197, 0, 9, 9, 32), (15, 8, 25, 50, 8, 25, 9, 32), (15, 8, 25, 54, 8, 25, 9, 32), (15, 8, 25, 57, 8, 25, 9, 32), (15, 8, 25, 62, 7, 23, 9, 32), (15, 8, 33, 38, 6, 28, 9, 32), (15, 8, 128, 170, 0, 15, 9, 32), (15, 8, 128, 197, 0, 10, 9, 32), (15, 16, 25, 50, 1, 24, 9, 32), (15, 16, 25, 54, 1, 24, 9, 32), (15, 16, 25, 57, 1, 24, 9, 32), (15, 16, 25, 62, 2, 21, 9, 32), (15, 16, 128, 165, 0, 30, 9, 32), (15, 16, 128, 167, 0, 17, 9, 32), (15, 16, 128, 170, 0, 14, 9, 32), (15, 16, 128, 197, 0, 9, 9, 32), (15, 24, 18, 64, 25, 14, 9, 32), (15, 24, 18, 73, 46, 15, 9, 32), (15, 24, 25, 49, 7, 29, 9, 32), (15, 24, 25, 52, 7, 29, 9, 32), (15, 24, 25, 57, 8, 29, 9, 32), (15, 24, 25, 61, 8, 26, 9, 32), (15, 24, 33, 33, 20, 30, 9, 32), (15, 24, 68, 64, 20, 24, 9, 32), (15, 24, 74, 85, 46, 8, 9, 32), (15, 24, 128, 163, 0, 27, 9, 32), (15, 24, 128, 170, 0, 14, 9, 32), (15, 24, 128, 197, 0, 9, 9, 32), (15, 32, 25, 49, 7, 29, 9, 32), (15, 32, 25, 52, 7, 29, 9, 32), (15, 32, 25, 57, 7, 29, 9, 32), (15, 32, 25, 61, 7, 26, 9, 32), (15, 32, 128, 170, 0, 18, 9, 32), (15, 32, 128, 197, 0, 12, 9, 32), (15, 40, 25, 49, 8, 25, 9, 32), (15, 40, 25, 52, 8, 25, 9, 32), (15, 40, 25, 57, 8, 25, 9, 32), (15, 40, 25, 61, 7, 23, 9, 32), (15, 40, 128, 163, 0, 27, 9, 32), (15, 40, 128, 174, 0, 18, 9, 32), (15, 48, 25, 49, 1, 24, 9, 32), (15, 48, 25, 52, 1, 24, 9, 32), (15, 48, 25, 57, 1, 24, 9, 32), (15, 48, 25, 61, 2, 21, 9, 32), (15, 48, 33, 45, 16, 31, 9, 32), (15, 48, 68, 66, 8, 24, 9, 32), (15, 48, 128, 165, 0, 30, 9, 32), (15, 48, 128, 167, 0, 17, 9, 32), (15, 48, 128, 170, 0, 14, 9, 32), (15, 48, 128, 182, 0, 11, 9, 32), (15, 48, 128, 197, 0, 9, 9, 32), (15, 56, 25, 49, 7, 29, 9, 32), (15, 56, 25, 52, 7, 29, 9, 32), (15, 56, 25, 57, 8, 29, 9, 32), (15, 56, 25, 61, 8, 26, 9, 32), (15, 56, 68, 69, 28, 25, 9, 32), (15, 56, 128, 170, 0, 18, 9, 32), (15, 56, 128, 197, 0, 12, 9, 32), (15, 63, 18, 66, 41, 14, 9, 32), (16, 0, 25, 49, 7, 29, 9, 32), (16, 0, 25, 54, 7, 29, 9, 32), (16, 0, 25, 57, 7, 29, 9, 32), (16, 0, 25, 61, 7, 26, 9, 32), (16, 0, 33, 30, 8, 30, 9, 32), (16, 0, 128, 163, 0, 27, 9, 32), (16, 0, 128, 170, 0, 18, 9, 32), (16, 0, 128, 197, 0, 12, 9, 32), (16, 4, 128, 170, 0, 14, 9, 32), (16, 4, 128, 197, 0, 9, 9, 32), (16, 8, 25, 49, 8, 25, 9, 32), (16, 8, 25, 54, 7, 25, 9, 32), (16, 8, 25, 57, 8, 25, 9, 32), (16, 8, 25, 61, 7, 23, 9, 32), (16, 8, 33, 30, 6, 28, 9, 32), (16, 8, 128, 170, 0, 15, 9, 32), (16, 8, 128, 197, 0, 10, 9, 32), (16, 16, 25, 49, 1, 24, 9, 32), (16, 16, 25, 54, 1, 24, 9, 32), (16, 16, 25, 57, 1, 24, 9, 32), (16, 16, 25, 61, 2, 21, 9, 32), (16, 16, 128, 165, 0, 30, 9, 32), (16, 16, 128, 167, 0, 17, 9, 32), (16, 16, 128, 170, 0, 14, 9, 32), (16, 16, 128, 197, 0, 9, 9, 32), (16, 24, 25, 49, 7, 29, 9, 32), (16, 24, 25, 54, 7, 29, 9, 32), (16, 24, 25, 57, 8, 29, 9, 32), (16, 24, 25, 61, 7, 26, 9, 32), (16, 24, 33, 30, 4, 26, 9, 32), (16, 24, 128, 163, 0, 27, 9, 32), (16, 24, 128, 170, 0, 14, 9, 32), (16, 24, 128, 197, 0, 9, 9, 32), (16, 32, 25, 49, 7, 29, 9, 32), (16, 32, 25, 54, 7, 29, 9, 32), (16, 32, 25, 57, 7, 29, 9, 32), (16, 32, 25, 61, 7, 26, 9, 32), (16, 32, 33, 30, 8, 30, 9, 32), (16, 32, 128, 170, 0, 18, 9, 32), (16, 32, 128, 197, 0, 12, 9, 32), (16, 40, 25, 49, 8, 25, 9, 32), (16, 40, 25, 54, 8, 25, 9, 32), (16, 40, 25, 57, 8, 25, 9, 32), (16, 40, 25, 62, 7, 23, 9, 32), (16, 40, 33, 30, 6, 28, 9, 32), (16, 40, 128, 174, 0, 18, 9, 32), (16, 48, 25, 49, 1, 24, 9, 32), (16, 48, 25, 54, 1, 24, 9, 32), (16, 48, 25, 57, 1, 24, 9, 32), (16, 48, 25, 61, 2, 21, 9, 32), (16, 48, 68, 73, 16, 26, 9, 32), (16, 48, 128, 165, 0, 30, 9, 32), (16, 48, 128, 167, 0, 17, 9, 32), (16, 48, 128, 170, 0, 14, 9, 32), (16, 48, 128, 182, 0, 11, 9, 32), (16, 48, 128, 197, 0, 9, 9, 32), (16, 56, 25, 49, 7, 29, 9, 32), (16, 56, 25, 54, 7, 29, 9, 32), (16, 56, 25, 57, 8, 29, 9, 32), (16, 56, 25, 61, 8, 26, 9, 32), (16, 56, 128, 170, 0, 18, 9, 32), (16, 56, 128, 197, 0, 12, 9, 32), (16, 63, 18, 74, 20, 18, 9, 32), (17, 0, 25, 50, 7, 29, 9, 32), (17, 0, 25, 54, 7, 29, 9, 32), (17, 0, 25, 57, 7, 29, 9, 32), (17, 0, 25, 62, 7, 26, 9, 32), (17, 0, 33, 38, 8, 30, 9, 32), (17, 0, 74, 86, 20, 8, 9, 32), (17, 0, 128, 163, 0, 27, 9, 32), (17, 0, 128, 170, 0, 18, 9, 32), (17, 0, 128, 197, 0, 12, 9, 32), (17, 1, 68, 66, 17, 20, 9, 32), (17, 4, 128, 170, 0, 14, 9, 32), (17, 4, 128, 197, 0, 9, 9, 32), (17, 8, 25, 50, 8, 25, 9, 32), (17, 8, 25, 54, 8, 25, 9, 32), (17, 8, 25, 57, 8, 25, 9, 32), (17, 8, 25, 62, 7, 23, 9, 32), (17, 8, 33, 38, 6, 28, 9, 32), (17, 8, 128, 170, 0, 15, 9, 32), (17, 8, 128, 197, 0, 10, 9, 32), (17, 16, 25, 50, 1, 24, 9, 32), (17, 16, 25, 54, 1, 24, 9, 32), (17, 16, 25, 57, 1, 24, 9, 32), (17, 16, 25, 62, 2, 21, 9, 32), (17, 16, 128, 165, 0, 30, 9, 32), (17, 16, 128, 167, 0, 17, 9, 32), (17, 16, 128, 170, 0, 14, 9, 32), (17, 16, 128, 197, 0, 9, 9, 32), (17, 24, 18, 64, 25, 15, 9, 32), (17, 24, 18, 73, 46, 16, 9, 32), (17, 24, 25, 49, 7, 29, 9, 32), (17, 24, 25, 52, 7, 29, 9, 32), (17, 24, 25, 57, 8, 29, 9, 32), (17, 24, 25, 61, 8, 26, 9, 32), (17, 24, 33, 33, 19, 30, 9, 32), (17, 24, 68, 71, 18, 22, 9, 32), (17, 24, 74, 85, 46, 7, 9, 32), (17, 24, 128, 163, 0, 27, 9, 32), (17, 24, 128, 170, 0, 14, 9, 32), (17, 24, 128, 197, 0, 9, 9, 32), (17, 32, 25, 49, 7, 29, 9, 32), (17, 32, 25, 52, 7, 29, 9, 32), (17, 32, 25, 57, 7, 29, 9, 32), (17, 32, 25, 61, 7, 26, 9, 32), (17, 32, 128, 170, 0, 18, 9, 32), (17, 32, 128, 197, 0, 12, 9, 32), (17, 40, 25, 49, 8, 25, 9, 32), (17, 40, 25, 52, 8, 25, 9, 32), (17, 40, 25, 57, 8, 25, 9, 32), (17, 40, 25, 61, 7, 23, 9, 32), (17, 40, 128, 163, 0, 21, 9, 32), (17, 40, 128, 174, 0, 18, 9, 32), (17, 48, 25, 49, 1, 24, 9, 32), (17, 48, 25, 52, 1, 24, 9, 32), (17, 48, 25, 57, 1, 24, 9, 32), (17, 48, 25, 61, 2, 21, 9, 32), (17, 48, 33, 33, 16, 29, 9, 32), (17, 48, 128, 165, 0, 30, 9, 32), (17, 48, 128, 167, 0, 17, 9, 32), (17, 48, 128, 170, 0, 14, 9, 32), (17, 48, 128, 182, 0, 11, 9, 32), (17, 48, 128, 197, 0, 9, 9, 32), (17, 49, 68, 73, 16, 24, 9, 32), (17, 56, 25, 49, 7, 29, 9, 32), (17, 56, 25, 52, 7, 29, 9, 32), (17, 56, 25, 57, 8, 29, 9, 32), (17, 56, 25, 61, 8, 26, 9, 32), (17, 56, 128, 170, 0, 18, 9, 32), (17, 56, 128, 197, 0, 12, 9, 32), (17, 63, 25, 45, 7, 31, 9, 32), (17, 63, 25, 49, 8, 31, 9, 32), (18, 0, 18, 66, 41, 14, 9, 32), (18, 0, 25, 54, 7, 31, 9, 32), (18, 0, 33, 30, 8, 30, 9, 32), (18, 0, 68, 71, 3, 18, 9, 32), (18, 0, 128, 163, 0, 27, 9, 32), (18, 0, 128, 177, 0, 17, 9, 32), (18, 1, 25, 57, 7, 31, 9, 32), (18, 1, 25, 61, 7, 30, 9, 32), (18, 3, 68, 69, 5, 17, 9, 32), (18, 8, 25, 49, 8, 25, 9, 32), (18, 8, 25, 54, 7, 25, 9, 32), (18, 8, 25, 57, 8, 25, 9, 32), (18, 8, 25, 61, 7, 23, 9, 32), (18, 8, 33, 30, 6, 28, 9, 32), (18, 8, 128, 170, 0, 14, 9, 32), (18, 8, 128, 197, 0, 9, 9, 32), (18, 9, 68, 66, 20, 18, 9, 32), (18, 16, 25, 49, 1, 24, 9, 32), (18, 16, 25, 54, 1, 24, 9, 32), (18, 16, 25, 57, 1, 24, 9, 32), (18, 16, 25, 61, 2, 21, 9, 32), (18, 16, 128, 165, 0, 30, 9, 32), (18, 16, 128, 167, 0, 17, 9, 32), (18, 16, 128, 170, 0, 14, 9, 32), (18, 16, 128, 197, 0, 9, 9, 32), (18, 24, 25, 49, 7, 29, 9, 32), (18, 24, 25, 54, 7, 29, 9, 32), (18, 24, 25, 57, 8, 29, 9, 32), (18, 24, 25, 61, 7, 26, 9, 32), (18, 24, 33, 30, 4, 26, 9, 32), (18, 24, 128, 163, 0, 27, 9, 32), (18, 24, 128, 170, 0, 18, 9, 32), (18, 24, 128, 197, 0, 12, 9, 32), (18, 32, 25, 49, 7, 29, 9, 32), (18, 32, 25, 54, 7, 29, 9, 32), (18, 32, 25, 57, 7, 29, 9, 32), (18, 32, 25, 61, 7, 26, 9, 32), (18, 32, 33, 30, 8, 30, 9, 32), (18, 32, 128, 170, 0, 14, 9, 32), (18, 32, 128, 197, 0, 9, 9, 32), (18, 40, 25, 49, 8, 25, 9, 32), (18, 40, 25, 54, 8, 25, 9, 32), (18, 40, 25, 57, 8, 25, 9, 32), (18, 40, 25, 62, 7, 23, 9, 32), (18, 40, 33, 30, 6, 28, 9, 32), (18, 40, 128, 174, 0, 18, 9, 32), (18, 48, 25, 49, 1, 24, 9, 32), (18, 48, 25, 54, 1, 24, 9, 32), (18, 48, 25, 57, 1, 24, 9, 32), (18, 48, 25, 61, 2, 21, 9, 32), (18, 48, 33, 30, 8, 31, 9, 32), (18, 48, 68, 73, 15, 22, 9, 32), (18, 48, 128, 165, 0, 30, 9, 32), (18, 48, 128, 167, 0, 17, 9, 32), (18, 48, 128, 170, 0, 14, 9, 32), (18, 48, 128, 182, 0, 11, 9, 32), (18, 48, 128, 197, 0, 9, 9, 32), (18, 56, 25, 49, 7, 29, 9, 32), (18, 56, 25, 54, 7, 29, 9, 32), (18, 56, 25, 57, 8, 29, 9, 32), (18, 56, 25, 61, 8, 26, 9, 32), (18, 56, 33, 37, 6, 28, 9, 32), (18, 56, 128, 170, 0, 14, 9, 32), (18, 56, 128, 197, 0, 9, 9, 32), (19, 0, 18, 74, 20, 19, 9, 32), (19, 0, 25, 50, 7, 29, 9, 32), (19, 0, 25, 54, 7, 29, 9, 32), (19, 0, 25, 57, 7, 29, 9, 32), (19, 0, 25, 62, 7, 26, 9, 32), (19, 0, 33, 38, 8, 30, 9, 32), (19, 0, 68, 66, 18, 24, 9, 32), (19, 0, 74, 86, 20, 8, 9, 32), (19, 0, 128, 163, 0, 27, 9, 32), (19, 0, 128, 170, 0, 18, 9, 32), (19, 0, 128, 197, 0, 12, 9, 32), (19, 4, 128, 170, 0, 14, 9, 32), (19, 4, 128, 197, 0, 9, 9, 32), (19, 8, 25, 50, 8, 25, 9, 32), (19, 8, 25, 54, 8, 25, 9, 32), (19, 8, 25, 57, 8, 25, 9, 32), (19, 8, 25, 62, 7, 23, 9, 32), (19, 8, 33, 38, 6, 28, 9, 32), (19, 8, 128, 170, 0, 15, 9, 32), (19, 8, 128, 197, 0, 10, 9, 32), (19, 16, 25, 50, 1, 24, 9, 32), (19, 16, 25, 54, 1, 24, 9, 32), (19, 16, 25, 57, 1, 24, 9, 32), (19, 16, 25, 62, 2, 21, 9, 32), (19, 16, 128, 165, 0, 30, 9, 32), (19, 16, 128, 167, 0, 17, 9, 32), (19, 16, 128, 170, 0, 14, 9, 32), (19, 16, 128, 197, 0, 9, 9, 32), (19, 24, 18, 64, 25, 17, 9, 32), (19, 24, 18, 73, 46, 17, 9, 32), (19, 24, 25, 49, 7, 29, 9, 32), (19, 24, 25, 52, 7, 29, 9, 32), (19, 24, 25, 57, 8, 29, 9, 32), (19, 24, 25, 61, 8, 26, 9, 32), (19, 24, 33, 33, 20, 30, 9, 32), (19, 24, 68, 64, 20, 22, 9, 32), (19, 24, 74, 85, 28, 8, 9, 32), (19, 24, 128, 163, 0, 27, 9, 32), (19, 24, 128, 170, 0, 14, 9, 32), (19, 24, 128, 197, 0, 9, 9, 32), (19, 32, 25, 49, 7, 29, 9, 32), (19, 32, 25, 52, 7, 29, 9, 32), (19, 32, 25, 57, 7, 29, 9, 32), (19, 32, 25, 61, 7, 26, 9, 32), (19, 32, 128, 170, 0, 18, 9, 32), (19, 32, 128, 197, 0, 12, 9, 32), (19, 40, 25, 49, 8, 25, 9, 32), (19, 40, 25, 52, 8, 25, 9, 32), (19, 40, 25, 57, 8, 25, 9, 32), (19, 40, 25, 61, 7, 23, 9, 32), (19, 40, 128, 163, 0, 27, 9, 32), (19, 40, 128, 174, 0, 18, 9, 32), (19, 48, 25, 49, 1, 24, 9, 32), (19, 48, 25, 52, 1, 24, 9, 32), (19, 48, 25, 57, 1, 24, 9, 32), (19, 48, 25, 61, 2, 21, 9, 32), (19, 48, 33, 45, 16, 31, 9, 32), (19, 48, 128, 165, 0, 30, 9, 32), (19, 48, 128, 167, 0, 17, 9, 32), (19, 48, 128, 170, 0, 14, 9, 32), (19, 48, 128, 182, 0, 11, 9, 32), (19, 48, 128, 197, 0, 9, 9, 32), (19, 56, 25, 49, 7, 29, 9, 32), (19, 56, 25, 52, 7, 29, 9, 32), (19, 56, 25, 57, 8, 29, 9, 32), (19, 56, 25, 61, 8, 26, 9, 32), (19, 56, 68, 64, 7, 26, 9, 32), (19, 56, 128, 170, 0, 18, 9, 32), (19, 56, 128, 197, 0, 12, 9, 32), (20, 0, 18, 66, 35, 15, 9, 32), (20, 0, 25, 49, 7, 29, 9, 32), (20, 0, 25, 54, 7, 29, 9, 32), (20, 0, 25, 57, 7, 29, 9, 32), (20, 0, 25, 61, 7, 26, 9, 32), (20, 0, 33, 30, 8, 30, 9, 32), (20, 0, 68, 66, 18, 22, 9, 32), (20, 0, 74, 85, 35, 7, 9, 32), (20, 0, 128, 163, 0, 27, 9, 32), (20, 0, 128, 170, 0, 18, 9, 32), (20, 0, 128, 197, 0, 12, 9, 32), (20, 4, 128, 170, 0, 14, 9, 32), (20, 4, 128, 197, 0, 9, 9, 32), (20, 8, 25, 49, 8, 25, 9, 32), (20, 8, 25, 54, 7, 25, 9, 32), (20, 8, 25, 57, 8, 25, 9, 32), (20, 8, 25, 61, 7, 23, 9, 32), (20, 8, 33, 30, 6, 28, 9, 32), (20, 8, 128, 170, 0, 15, 9, 32), (20, 8, 128, 197, 0, 10, 9, 32), (20, 16, 25, 49, 1, 24, 9, 32), (20, 16, 25, 54, 1, 24, 9, 32), (20, 16, 25, 57, 1, 24, 9, 32), (20, 16, 25, 61, 2, 21, 9, 32), (20, 16, 128, 165, 0, 30, 9, 32), (20, 16, 128, 167, 0, 17, 9, 32), (20, 16, 128, 170, 0, 14, 9, 32), (20, 16, 128, 197, 0, 9, 9, 32), (20, 24, 25, 49, 7, 29, 9, 32), (20, 24, 25, 54, 7, 29, 9, 32), (20, 24, 25, 57, 8, 29, 9, 32), (20, 24, 25, 61, 7, 26, 9, 32), (20, 24, 33, 30, 4, 26, 9, 32), (20, 24, 68, 69, 18, 26, 9, 32), (20, 24, 128, 163, 0, 27, 9, 32), (20, 24, 128, 170, 0, 14, 9, 32), (20, 24, 128, 197, 0, 9, 9, 32), (20, 32, 25, 49, 7, 29, 9, 32), (20, 32, 25, 54, 7, 29, 9, 32), (20, 32, 25, 57, 7, 29, 9, 32), (20, 32, 25, 61, 7, 26, 9, 32), (20, 32, 33, 30, 8, 30, 9, 32), (20, 32, 128, 170, 0, 18, 9, 32), (20, 32, 128, 197, 0, 12, 9, 32), (20, 40, 25, 49, 8, 25, 9, 32), (20, 40, 25, 54, 8, 25, 9, 32), (20, 40, 25, 57, 8, 25, 9, 32), (20, 40, 25, 62, 7, 23, 9, 32), (20, 40, 33, 30, 6, 28, 9, 32), (20, 40, 128, 174, 0, 18, 9, 32), (20, 48, 25, 49, 1, 24, 9, 32), (20, 48, 25, 54, 1, 24, 9, 32), (20, 48, 25, 57, 1, 24, 9, 32), (20, 48, 25, 61, 2, 21, 9, 32), (20, 48, 128, 165, 0, 30, 9, 32), (20, 48, 128, 167, 0, 17, 9, 32), (20, 48, 128, 170, 0, 14, 9, 32), (20, 48, 128, 182, 0, 11, 9, 32), (20, 48, 128, 197, 0, 9, 9, 32), (20, 49, 68, 73, 15, 28, 9, 32), (20, 56, 25, 49, 7, 29, 9, 32), (20, 56, 25, 54, 7, 29, 9, 32), (20, 56, 25, 57, 8, 29, 9, 32), (20, 56, 25, 61, 8, 26, 9, 32), (20, 56, 128, 170, 0, 18, 9, 32), (20, 56, 128, 197, 0, 12, 9, 32), (20, 63, 18, 71, 20, 16, 9, 32), (20, 63, 74, 83, 20, 6, 9, 32), (21, 0, 18, 64, 36, 17, 9, 32), (21, 0, 18, 68, 20, 15, 9, 32), (21, 0, 25, 52, 19, 29, 9, 32), (21, 0, 25, 56, 20, 29, 9, 32), (21, 0, 25, 59, 20, 29, 9, 32), (21, 0, 33, 28, 19, 31, 9, 32), (21, 0, 68, 71, 19, 25, 9, 32), (21, 0, 128, 163, 0, 27, 9, 32), (21, 0, 128, 170, 0, 18, 9, 32), (21, 0, 128, 185, 0, 14, 9, 32), (21, 0, 128, 197, 0, 12, 9, 32), (21, 1, 25, 64, 20, 26, 9, 32), (21, 16, 128, 170, 0, 14, 9, 32), (21, 16, 128, 197, 0, 9, 9, 32), (21, 24, 18, 69, 28, 18, 9, 32), (21, 24, 18, 73, 28, 17, 9, 32), (21, 24, 25, 52, 27, 28, 9, 32), (21, 24, 25, 57, 28, 28, 9, 32), (21, 24, 25, 61, 28, 28, 9, 32), (21, 24, 33, 33, 20, 29, 9, 32), (21, 24, 68, 69, 14, 28, 9, 32), (21, 24, 74, 81, 20, 4, 9, 32), (21, 24, 128, 163, 0, 27, 9, 32), (21, 24, 128, 177, 0, 14, 9, 32), (21, 25, 25, 64, 28, 23, 9, 32), (21, 32, 128, 170, 0, 18, 9, 32), (21, 32, 128, 197, 0, 12, 9, 32), (21, 40, 128, 163, 0, 21, 9, 32), (21, 40, 128, 174, 0, 18, 9, 32), (21, 48, 68, 73, 7, 26, 9, 32), (21, 48, 128, 165, 0, 30, 9, 32), (21, 48, 128, 167, 0, 17, 9, 32), (21, 48, 128, 170, 0, 14, 9, 32), (21, 48, 128, 182, 0, 11, 9, 32), (21, 48, 128, 197, 0, 9, 9, 32), (21, 56, 68, 76, 2, 22, 9, 32), (21, 61, 27, 50, 36, 27, 9, 32), (21, 62, 27, 54, 36, 28, 9, 32), (21, 63, 27, 57, 36, 28, 9, 32), (22, 0, 25, 50, 7, 29, 9, 32), (22, 0, 25, 50, 24, 19, 9, 32), (22, 0, 25, 54, 7, 29, 9, 32), (22, 0, 25, 57, 7, 29, 9, 32), (22, 0, 25, 62, 7, 26, 9, 32), (22, 0, 27, 62, 36, 31, 9, 32), (22, 0, 33, 38, 8, 30, 9, 32), (22, 0, 49, 50, 36, 31, 9, 32), (22, 0, 49, 62, 36, 31, 9, 32), (22, 0, 49, 66, 36, 31, 9, 32), (22, 0, 49, 69, 36, 31, 9, 32), (22, 0, 68, 76, 16, 24, 9, 32), (22, 0, 128, 163, 0, 27, 9, 32), (22, 0, 128, 177, 0, 17, 9, 32), (22, 0, 128, 182, 0, 4, 9, 32), (22, 4, 128, 182, 0, 3, 9, 32), (22, 8, 25, 50, 8, 25, 9, 32), (22, 8, 25, 54, 7, 25, 9, 32), (22, 8, 25, 54, 20, 17, 9, 32), (22, 8, 25, 57, 8, 25, 9, 32), (22, 8, 25, 62, 7, 23, 9, 32), (22, 8, 33, 38, 6, 28, 9, 32), (22, 8, 128, 170, 0, 14, 9, 32), (22, 8, 128, 182, 0, 4, 9, 32), (22, 8, 128, 197, 0, 9, 9, 32), (22, 12, 128, 182, 0, 3, 9, 32), (22, 16, 1, 100, 16, 17, 9, 32), (22, 16, 25, 50, 1, 24, 9, 32), (22, 16, 25, 54, 1, 24, 9, 32), (22, 16, 25, 57, 1, 24, 9, 32), (22, 16, 25, 62, 2, 21, 9, 32), (22, 16, 25, 62, 20, 19, 9, 32), (22, 16, 54, 73, 16, 20, 9, 32), (22, 16, 54, 76, 16, 20, 9, 32), (22, 16, 68, 64, 16, 25, 9, 32), (22, 16, 128, 165, 0, 30, 9, 32), (22, 16, 128, 167, 0, 17, 9, 32), (22, 16, 128, 170, 0, 14, 9, 32), (22, 16, 128, 182, 0, 11, 9, 32), (22, 16, 128, 197, 0, 9, 9, 32), (22, 20, 128, 182, 0, 3, 9, 32), (22, 24, 25, 50, 7, 29, 9, 32), (22, 24, 25, 54, 7, 29, 9, 32), (22, 24, 25, 57, 8, 29, 9, 32), (22, 24, 25, 57, 24, 18, 9, 32), (22, 24, 25, 62, 7, 26, 9, 32), (22, 24, 33, 38, 4, 26, 9, 32), (22, 24, 128, 163, 0, 27, 9, 32), (22, 24, 128, 170, 0, 18, 9, 32), (22, 24, 128, 182, 0, 4, 9, 32), (22, 24, 128, 197, 0, 12, 9, 32), (22, 28, 128, 182, 0, 3, 9, 32), (22, 32, 1, 98, 8, 17, 9, 32), (22, 32, 25, 50, 7, 29, 9, 32), (22, 32, 25, 50, 20, 16, 9, 32), (22, 32, 25, 54, 7, 29, 9, 32), (22, 32, 25, 57, 7, 29, 9, 32), (22, 32, 25, 62, 7, 26, 9, 32), (22, 32, 33, 38, 8, 30, 9, 32), (22, 32, 128, 170, 0, 14, 9, 32), (22, 32, 128, 182, 0, 4, 9, 32), (22, 32, 128, 197, 0, 9, 9, 32), (22, 33, 54, 71, 8, 19, 9, 32), (22, 33, 54, 74, 8, 19, 9, 32), (22, 33, 68, 62, 8, 24, 9, 32), (22, 36, 128, 182, 0, 3, 9, 32), (22, 40, 1, 97, 8, 17, 9, 32), (22, 40, 25, 50, 8, 25, 9, 32), (22, 40, 25, 54, 8, 25, 9, 32), (22, 40, 25, 57, 8, 25, 9, 32), (22, 40, 25, 62, 7, 23, 9, 32), (22, 40, 25, 62, 8, 20, 9, 32), (22, 40, 33, 38, 6, 28, 9, 32), (22, 40, 128, 174, 0, 18, 9, 32), (22, 40, 128, 182, 0, 4, 9, 32), (22, 41, 54, 69, 8, 20, 9, 32), (22, 41, 54, 73, 8, 20, 9, 32), (22, 41, 68, 61, 8, 24, 9, 32), (22, 44, 128, 182, 0, 3, 9, 32), (22, 48, 1, 95, 8, 17, 9, 32), (22, 48, 25, 50, 1, 24, 9, 32), (22, 48, 25, 54, 1, 24, 9, 32), (22, 48, 25, 57, 1, 24, 9, 32), (22, 48, 25, 61, 8, 15, 9, 32), (22, 48, 25, 62, 2, 21, 9, 32), (22, 48, 33, 38, 8, 31, 9, 32), (22, 48, 128, 165, 0, 30, 9, 32), (22, 48, 128, 167, 0, 17, 9, 32), (22, 48, 128, 170, 0, 14, 9, 32), (22, 48, 128, 182, 0, 11, 9, 32), (22, 48, 128, 197, 0, 9, 9, 32), (22, 49, 54, 68, 8, 19, 9, 32), (22, 49, 54, 71, 8, 19, 9, 32), (22, 49, 68, 59, 8, 24, 9, 32), (22, 52, 128, 182, 0, 3, 9, 32), (22, 56, 1, 93, 8, 17, 9, 32), (22, 56, 25, 50, 7, 29, 9, 32), (22, 56, 25, 54, 7, 29, 9, 32), (22, 56, 25, 57, 8, 16, 9, 32), (22, 56, 25, 57, 8, 29, 9, 32), (22, 56, 25, 62, 8, 26, 9, 32), (22, 56, 33, 38, 6, 28, 9, 32), (22, 56, 54, 66, 8, 17, 9, 32), (22, 56, 54, 69, 8, 17, 9, 32), (22, 56, 68, 57, 8, 21, 9, 32), (22, 56, 128, 170, 0, 14, 9, 32), (22, 56, 128, 182, 0, 4, 9, 32), (22, 56, 128, 197, 0, 9, 9, 32), (22, 60, 128, 182, 0, 3, 9, 32), (23, 0, 1, 92, 16, 17, 9, 32), (23, 0, 25, 52, 7, 29, 9, 32), (23, 0, 25, 52, 20, 18, 9, 32), (23, 0, 25, 56, 7, 29, 9, 32), (23, 0, 25, 59, 7, 29, 9, 32), (23, 0, 25, 64, 7, 26, 9, 32), (23, 0, 33, 28, 8, 30, 9, 32), (23, 0, 49, 52, 20, 31, 9, 32), (23, 0, 49, 64, 20, 31, 9, 32), (23, 0, 49, 68, 20, 31, 9, 32), (23, 0, 49, 71, 20, 31, 9, 32), (23, 0, 54, 64, 18, 20, 9, 32), (23, 0, 54, 68, 18, 20, 9, 32), (23, 0, 68, 56, 18, 25, 9, 32), (23, 0, 128, 163, 0, 27, 9, 32), (23, 0, 128, 170, 0, 18, 9, 32), (23, 0, 128, 182, 0, 4, 9, 32), (23, 0, 128, 197, 0, 12, 9, 32), (23, 4, 128, 170, 0, 14, 9, 32), (23, 4, 128, 182, 0, 3, 9, 32), (23, 4, 128, 197, 0, 9, 9, 32), (23, 8, 25, 52, 8, 25, 9, 32), (23, 8, 25, 56, 8, 25, 9, 32), (23, 8, 25, 59, 8, 25, 9, 32), (23, 8, 25, 59, 16, 15, 9, 32), (23, 8, 25, 64, 7, 23, 9, 32), (23, 8, 33, 28, 6, 28, 9, 32), (23, 8, 128, 170, 0, 15, 9, 32), (23, 8, 128, 182, 0, 4, 9, 32), (23, 8, 128, 197, 0, 10, 9, 32), (23, 12, 128, 182, 0, 3, 9, 32), (23, 16, 25, 52, 1, 24, 9, 32), (23, 16, 25, 56, 1, 24, 9, 32), (23, 16, 25, 59, 1, 24, 9, 32), (23, 16, 25, 64, 2, 21, 9, 32), (23, 16, 25, 64, 8, 19, 9, 32), (23, 16, 128, 165, 0, 30, 9, 32), (23, 16, 128, 167, 0, 17, 9, 32), (23, 16, 128, 170, 0, 14, 9, 32), (23, 16, 128, 182, 0, 11, 9, 32), (23, 16, 128, 197, 0, 9, 9, 32), (23, 20, 128, 182, 0, 3, 9, 32), (23, 24, 1, 93, 16, 17, 9, 32), (23, 24, 25, 49, 28, 17, 9, 32), (23, 24, 25, 52, 7, 29, 9, 32), (23, 24, 25, 56, 7, 29, 9, 32), (23, 24, 25, 59, 8, 29, 9, 32), (23, 24, 25, 64, 8, 26, 9, 32), (23, 24, 33, 30, 20, 30, 9, 32), (23, 24, 49, 54, 28, 31, 9, 32), (23, 24, 49, 66, 28, 31, 9, 32), (23, 24, 49, 69, 28, 31, 9, 32), (23, 24, 49, 73, 28, 31, 9, 32), (23, 24, 54, 66, 16, 20, 9, 32), (23, 24, 54, 69, 16, 20, 9, 32), (23, 24, 68, 57, 16, 25, 9, 32), (23, 24, 128, 163, 0, 27, 9, 32), (23, 24, 128, 170, 0, 14, 9, 32), (23, 24, 128, 182, 0, 4, 9, 32), (23, 24, 128, 197, 0, 9, 9, 32), (23, 28, 128, 182, 0, 3, 9, 32), (23, 32, 25, 49, 7, 29, 9, 32), (23, 32, 25, 54, 7, 29, 9, 32), (23, 32, 25, 54, 20, 17, 9, 32), (23, 32, 25, 57, 7, 29, 9, 32), (23, 32, 25, 61, 7, 26, 9, 32), (23, 32, 128, 170, 0, 18, 9, 32), (23, 32, 128, 182, 0, 4, 9, 32), (23, 32, 128, 197, 0, 12, 9, 32), (23, 36, 128, 182, 0, 3, 9, 32), (23, 40, 25, 49, 8, 25, 9, 32), (23, 40, 25, 54, 8, 25, 9, 32), (23, 40, 25, 57, 8, 18, 9, 32), (23, 40, 25, 57, 8, 25, 9, 32), (23, 40, 25, 61, 7, 23, 9, 32), (23, 40, 128, 163, 0, 27, 9, 32), (23, 40, 128, 174, 0, 18, 9, 32), (23, 40, 128, 182, 0, 4, 9, 32), (23, 44, 128, 182, 0, 3, 9, 32), (23, 48, 25, 49, 1, 24, 9, 32), (23, 48, 25, 54, 1, 24, 9, 32), (23, 48, 25, 57, 1, 24, 9, 32), (23, 48, 25, 61, 2, 21, 9, 32), (23, 48, 25, 66, 8, 20, 9, 32), (23, 48, 68, 73, 7, 24, 9, 32), (23, 48, 128, 165, 0, 30, 9, 32), (23, 48, 128, 167, 0, 17, 9, 32), (23, 48, 128, 170, 0, 14, 9, 32), (23, 48, 128, 182, 0, 11, 9, 32), (23, 48, 128, 197, 0, 9, 9, 32), (23, 52, 128, 182, 0, 3, 9, 32), (23, 55, 33, 28, 6, 28, 9, 32), (23, 56, 25, 49, 7, 29, 9, 32), (23, 56, 25, 54, 7, 29, 9, 32), (23, 56, 25, 57, 8, 29, 9, 32), (23, 56, 25, 61, 8, 17, 9, 32), (23, 56, 25, 61, 8, 26, 9, 32), (23, 56, 68, 76, 4, 22, 9, 32), (23, 56, 128, 170, 0, 18, 9, 32), (23, 56, 128, 182, 0, 4, 9, 32), (23, 56, 128, 197, 0, 12, 9, 32), (23, 60, 128, 182, 0, 3, 9, 32), (23, 61, 27, 50, 36, 25, 9, 32), (23, 62, 27, 54, 36, 26, 9, 32), (23, 63, 27, 57, 36, 26, 9, 32), (24, 0, 25, 50, 7, 29, 9, 32), (24, 0, 25, 50, 24, 19, 9, 32), (24, 0, 25, 54, 7, 29, 9, 32), (24, 0, 25, 57, 7, 29, 9, 32), (24, 0, 25, 62, 7, 26, 9, 32), (24, 0, 27, 62, 36, 29, 9, 32), (24, 0, 33, 38, 8, 30, 9, 32), (24, 0, 49, 50, 36, 31, 9, 32), (24, 0, 49, 62, 36, 31, 9, 32), (24, 0, 49, 66, 36, 31, 9, 32), (24, 0, 49, 69, 36, 31, 9, 32), (24, 0, 68, 76, 16, 24, 9, 32), (24, 0, 128, 163, 0, 27, 9, 32), (24, 0, 128, 170, 0, 18, 9, 32), (24, 0, 128, 182, 0, 4, 9, 32), (24, 0, 128, 197, 0, 12, 9, 32), (24, 4, 128, 170, 0, 14, 9, 32), (24, 4, 128, 182, 0, 3, 9, 32), (24, 4, 128, 197, 0, 9, 9, 32), (24, 8, 25, 50, 8, 25, 9, 32), (24, 8, 25, 54, 7, 25, 9, 32), (24, 8, 25, 54, 20, 17, 9, 32), (24, 8, 25, 57, 8, 25, 9, 32), (24, 8, 25, 62, 7, 23, 9, 32), (24, 8, 33, 38, 6, 28, 9, 32), (24, 8, 128, 170, 0, 15, 9, 32), (24, 8, 128, 182, 0, 4, 9, 32), (24, 8, 128, 197, 0, 10, 9, 32), (24, 12, 128, 182, 0, 3, 9, 32), (24, 16, 1, 100, 16, 17, 9, 32), (24, 16, 25, 50, 1, 24, 9, 32), (24, 16, 25, 54, 1, 24, 9, 32), (24, 16, 25, 57, 1, 24, 9, 32), (24, 16, 25, 62, 2, 21, 9, 32), (24, 16, 25, 62, 20, 19, 9, 32), (24, 16, 54, 73, 16, 20, 9, 32), (24, 16, 54, 76, 16, 20, 9, 32), (24, 16, 68, 64, 16, 25, 9, 32), (24, 16, 128, 165, 0, 30, 9, 32), (24, 16, 128, 167, 0, 17, 9, 32), (24, 16, 128, 170, 0, 14, 9, 32), (24, 16, 128, 182, 0, 11, 9, 32), (24, 16, 128, 197, 0, 9, 9, 32), (24, 20, 128, 182, 0, 3, 9, 32), (24, 24, 25, 50, 7, 29, 9, 32), (24, 24, 25, 54, 7, 29, 9, 32), (24, 24, 25, 57, 8, 29, 9, 32), (24, 24, 25, 57, 24, 18, 9, 32), (24, 24, 25, 62, 7, 26, 9, 32), (24, 24, 33, 38, 4, 26, 9, 32), (24, 24, 128, 163, 0, 27, 9, 32), (24, 24, 128, 170, 0, 14, 9, 32), (24, 24, 128, 182, 0, 4, 9, 32), (24, 24, 128, 197, 0, 9, 9, 32), (24, 28, 128, 182, 0, 3, 9, 32), (24, 32, 1, 98, 8, 17, 9, 32), (24, 32, 25, 50, 7, 29, 9, 32), (24, 32, 25, 50, 20, 16, 9, 32), (24, 32, 25, 54, 7, 29, 9, 32), (24, 32, 25, 57, 7, 29, 9, 32), (24, 32, 25, 62, 7, 26, 9, 32), (24, 32, 33, 38, 8, 30, 9, 32), (24, 32, 54, 74, 9, 19, 9, 32), (24, 32, 68, 62, 9, 24, 9, 32), (24, 32, 128, 170, 0, 18, 9, 32), (24, 32, 128, 182, 0, 4, 9, 32), (24, 32, 128, 197, 0, 12, 9, 32), (24, 33, 54, 71, 8, 19, 9, 32), (24, 36, 128, 182, 0, 3, 9, 32), (24, 40, 1, 97, 8, 17, 9, 32), (24, 40, 25, 50, 8, 25, 9, 32), (24, 40, 25, 54, 8, 25, 9, 32), (24, 40, 25, 57, 8, 25, 9, 32), (24, 40, 25, 62, 7, 23, 9, 32), (24, 40, 25, 62, 8, 20, 9, 32), (24, 40, 33, 38, 6, 28, 9, 32), (24, 40, 54, 73, 8, 19, 9, 32), (24, 40, 68, 61, 8, 24, 9, 32), (24, 40, 128, 174, 0, 18, 9, 32), (24, 40, 128, 182, 0, 4, 9, 32), (24, 41, 54, 69, 8, 20, 9, 32), (24, 44, 128, 182, 0, 3, 9, 32), (24, 48, 1, 95, 8, 17, 9, 32), (24, 48, 25, 50, 1, 24, 9, 32), (24, 48, 25, 54, 1, 24, 9, 32), (24, 48, 25, 57, 1, 24, 9, 32), (24, 48, 25, 61, 8, 15, 9, 32), (24, 48, 25, 62, 2, 21, 9, 32), (24, 48, 33, 38, 8, 31, 9, 32), (24, 48, 54, 71, 9, 19, 9, 32), (24, 48, 68, 59, 9, 24, 9, 32), (24, 48, 128, 165, 0, 30, 9, 32), (24, 48, 128, 167, 0, 17, 9, 32), (24, 48, 128, 170, 0, 14, 9, 32), (24, 48, 128, 182, 0, 11, 9, 32), (24, 48, 128, 197, 0, 9, 9, 32), (24, 49, 54, 68, 8, 19, 9, 32), (24, 52, 128, 182, 0, 3, 9, 32), (24, 56, 1, 93, 8, 17, 9, 32), (24, 56, 25, 50, 7, 29, 9, 32), (24, 56, 25, 54, 7, 29, 9, 32), (24, 56, 25, 57, 8, 16, 9, 32), (24, 56, 25, 57, 8, 29, 9, 32), (24, 56, 25, 62, 8, 26, 9, 32), (24, 56, 33, 38, 6, 28, 9, 32), (24, 56, 54, 66, 8, 17, 9, 32), (24, 56, 54, 69, 9, 17, 9, 32), (24, 56, 68, 57, 9, 21, 9, 32), (24, 56, 128, 170, 0, 18, 9, 32), (24, 56, 128, 182, 0, 4, 9, 32), (24, 56, 128, 197, 0, 12, 9, 32), (24, 60, 128, 182, 0, 3, 9, 32), (25, 0, 1, 92, 16, 17, 9, 32), (25, 0, 25, 52, 7, 29, 9, 32), (25, 0, 25, 52, 20, 18, 9, 32), (25, 0, 25, 56, 7, 29, 9, 32), (25, 0, 25, 59, 7, 29, 9, 32), (25, 0, 25, 64, 7, 26, 9, 32), (25, 0, 33, 28, 8, 30, 9, 32), (25, 0, 49, 52, 20, 31, 9, 32), (25, 0, 49, 64, 20, 31, 9, 32), (25, 0, 49, 68, 20, 31, 9, 32), (25, 0, 49, 71, 20, 31, 9, 32), (25, 0, 54, 64, 18, 20, 9, 32), (25, 0, 54, 68, 18, 20, 9, 32), (25, 0, 68, 56, 18, 25, 9, 32), (25, 0, 128, 163, 0, 27, 9, 32), (25, 0, 128, 170, 0, 18, 9, 32), (25, 0, 128, 182, 0, 4, 9, 32), (25, 0, 128, 197, 0, 12, 9, 32), (25, 4, 128, 170, 0, 14, 9, 32), (25, 4, 128, 182, 0, 3, 9, 32), (25, 4, 128, 197, 0, 9, 9, 32), (25, 8, 25, 52, 8, 25, 9, 32), (25, 8, 25, 56, 8, 25, 9, 32), (25, 8, 25, 59, 8, 25, 9, 32), (25, 8, 25, 59, 16, 15, 9, 32), (25, 8, 25, 64, 7, 23, 9, 32), (25, 8, 33, 28, 6, 28, 9, 32), (25, 8, 128, 170, 0, 15, 9, 32), (25, 8, 128, 182, 0, 4, 9, 32), (25, 8, 128, 197, 0, 10, 9, 32), (25, 12, 128, 182, 0, 3, 9, 32), (25, 16, 25, 52, 1, 24, 9, 32), (25, 16, 25, 56, 1, 24, 9, 32), (25, 16, 25, 59, 1, 24, 9, 32), (25, 16, 25, 64, 2, 21, 9, 32), (25, 16, 25, 64, 8, 19, 9, 32), (25, 16, 128, 165, 0, 30, 9, 32), (25, 16, 128, 167, 0, 17, 9, 32), (25, 16, 128, 170, 0, 14, 9, 32), (25, 16, 128, 182, 0, 11, 9, 32), (25, 16, 128, 197, 0, 9, 9, 32), (25, 20, 128, 182, 0, 3, 9, 32), (25, 24, 1, 93, 16, 17, 9, 32), (25, 24, 25, 49, 28, 17, 9, 32), (25, 24, 25, 52, 7, 29, 9, 32), (25, 24, 25, 56, 7, 29, 9, 32), (25, 24, 25, 59, 8, 29, 9, 32), (25, 24, 25, 64, 8, 26, 9, 32), (25, 24, 33, 30, 20, 30, 9, 32), (25, 24, 49, 54, 28, 31, 9, 32), (25, 24, 49, 66, 28, 31, 9, 32), (25, 24, 49, 69, 28, 31, 9, 32), (25, 24, 49, 73, 28, 31, 9, 32), (25, 24, 54, 66, 16, 20, 9, 32), (25, 24, 54, 69, 16, 20, 9, 32), (25, 24, 68, 57, 16, 25, 9, 32), (25, 24, 128, 163, 0, 27, 9, 32), (25, 24, 128, 170, 0, 14, 9, 32), (25, 24, 128, 182, 0, 4, 9, 32), (25, 24, 128, 197, 0, 9, 9, 32), (25, 28, 128, 182, 0, 3, 9, 32), (25, 32, 25, 49, 7, 29, 9, 32), (25, 32, 25, 54, 7, 29, 9, 32), (25, 32, 25, 54, 20, 17, 9, 32), (25, 32, 25, 57, 7, 29, 9, 32), (25, 32, 25, 61, 7, 26, 9, 32), (25, 32, 128, 170, 0, 18, 9, 32), (25, 32, 128, 182, 0, 4, 9, 32), (25, 32, 128, 197, 0, 12, 9, 32), (25, 36, 128, 182, 0, 3, 9, 32), (25, 40, 25, 49, 8, 25, 9, 32), (25, 40, 25, 54, 8, 25, 9, 32), (25, 40, 25, 57, 8, 18, 9, 32), (25, 40, 25, 57, 8, 25, 9, 32), (25, 40, 25, 61, 7, 23, 9, 32), (25, 40, 128, 163, 0, 21, 9, 32), (25, 40, 128, 174, 0, 18, 9, 32), (25, 40, 128, 182, 0, 4, 9, 32), (25, 44, 128, 182, 0, 3, 9, 32), (25, 48, 1, 93, 8, 17, 9, 32), (25, 48, 25, 49, 1, 24, 9, 32), (25, 48, 25, 54, 1, 24, 9, 32), (25, 48, 25, 57, 1, 24, 9, 32), (25, 48, 25, 61, 2, 21, 9, 32), (25, 48, 25, 66, 8, 20, 9, 32), (25, 48, 54, 66, 7, 19, 9, 32), (25, 48, 54, 69, 7, 19, 9, 32), (25, 48, 68, 57, 7, 24, 9, 32), (25, 48, 128, 165, 0, 30, 9, 32), (25, 48, 128, 167, 0, 17, 9, 32), (25, 48, 128, 170, 0, 14, 9, 32), (25, 48, 128, 182, 0, 11, 9, 32), (25, 48, 128, 197, 0, 9, 9, 32), (25, 52, 128, 182, 0, 3, 9, 32), (25, 55, 33, 28, 6, 28, 9, 32), (25, 56, 25, 49, 7, 29, 9, 32), (25, 56, 25, 54, 7, 29, 9, 32), (25, 56, 25, 57, 8, 29, 9, 32), (25, 56, 25, 61, 8, 17, 9, 32), (25, 56, 25, 61, 8, 26, 9, 32), (25, 56, 54, 61, 6, 20, 9, 32), (25, 56, 54, 66, 6, 20, 9, 32), (25, 56, 68, 54, 6, 24, 9, 32), (25, 56, 128, 170, 0, 18, 9, 32), (25, 56, 128, 182, 0, 4, 9, 32), (25, 56, 128, 197, 0, 12, 9, 32), (25, 57, 1, 92, 7, 18, 9, 32), (25, 60, 128, 182, 0, 3, 9, 32), (25, 61, 27, 50, 36, 25, 9, 32), (25, 62, 27, 54, 36, 26, 9, 32), (25, 63, 27, 57, 36, 26, 9, 32), (26, 0, 1, 90, 16, 18, 9, 32), (26, 0, 25, 50, 7, 29, 9, 32), (26, 0, 25, 50, 24, 19, 9, 32), (26, 0, 25, 54, 7, 29, 9, 32), (26, 0, 25, 57, 7, 29, 9, 32), (26, 0, 25, 62, 7, 26, 9, 32), (26, 0, 27, 62, 36, 29, 9, 32), (26, 0, 33, 38, 8, 30, 9, 32), (26, 0, 49, 50, 36, 31, 9, 32), (26, 0, 49, 62, 36, 31, 9, 32), (26, 0, 49, 66, 36, 31, 9, 32), (26, 0, 49, 69, 36, 31, 9, 32), (26, 0, 54, 61, 8, 25, 9, 32), (26, 0, 54, 66, 8, 25, 9, 32), (26, 0, 68, 54, 8, 31, 9, 32), (26, 0, 128, 163, 0, 27, 9, 32), (26, 0, 128, 177, 0, 13, 9, 32), (26, 0, 128, 182, 0, 4, 9, 32), (26, 4, 128, 182, 0, 3, 9, 32), (26, 8, 25, 50, 8, 25, 9, 32), (26, 8, 25, 54, 7, 25, 9, 32), (26, 8, 25, 54, 20, 17, 9, 32), (26, 8, 25, 57, 8, 25, 9, 32), (26, 8, 25, 62, 7, 23, 9, 32), (26, 8, 33, 38, 6, 28, 9, 32), (26, 8, 128, 170, 0, 14, 9, 32), (26, 8, 128, 182, 0, 4, 9, 32), (26, 8, 128, 197, 0, 9, 9, 32), (26, 12, 128, 182, 0, 3, 9, 32), (26, 16, 25, 50, 1, 24, 9, 32), (26, 16, 25, 54, 1, 24, 9, 32), (26, 16, 25, 57, 1, 24, 9, 32), (26, 16, 25, 62, 2, 21, 9, 32), (26, 16, 25, 62, 20, 19, 9, 32), (26, 16, 68, 64, 15, 26, 9, 32), (26, 16, 128, 165, 0, 30, 9, 32), (26, 16, 128, 167, 0, 17, 9, 32), (26, 16, 128, 170, 0, 14, 9, 32), (26, 16, 128, 182, 0, 11, 9, 32), (26, 16, 128, 197, 0, 9, 9, 32), (26, 20, 128, 182, 0, 3, 9, 32), (26, 24, 25, 50, 7, 29, 9, 32), (26, 24, 25, 54, 7, 29, 9, 32), (26, 24, 25, 57, 8, 29, 9, 32), (26, 24, 25, 57, 24, 18, 9, 32), (26, 24, 25, 62, 7, 26, 9, 32), (26, 24, 33, 38, 4, 26, 9, 32), (26, 24, 128, 163, 0, 27, 9, 32), (26, 24, 128, 170, 0, 18, 9, 32), (26, 24, 128, 182, 0, 4, 9, 32), (26, 24, 128, 197, 0, 12, 9, 32), (26, 28, 128, 182, 0, 3, 9, 32), (26, 31, 68, 62, 8, 26, 9, 32), (26, 32, 25, 50, 7, 29, 9, 32), (26, 32, 25, 50, 20, 16, 9, 32), (26, 32, 25, 54, 7, 29, 9, 32), (26, 32, 25, 57, 7, 29, 9, 32), (26, 32, 25, 62, 7, 26, 9, 32), (26, 32, 33, 38, 8, 30, 9, 32), (26, 32, 128, 170, 0, 14, 9, 32), (26, 32, 128, 182, 0, 4, 9, 32), (26, 32, 128, 197, 0, 9, 9, 32), (26, 36, 128, 182, 0, 3, 9, 32), (26, 39, 68, 61, 8, 28, 9, 32), (26, 40, 25, 50, 8, 25, 9, 32), (26, 40, 25, 54, 8, 25, 9, 32), (26, 40, 25, 57, 8, 25, 9, 32), (26, 40, 25, 62, 7, 23, 9, 32), (26, 40, 25, 62, 8, 20, 9, 32), (26, 40, 33, 38, 6, 28, 9, 32), (26, 40, 128, 174, 0, 18, 9, 32), (26, 40, 128, 182, 0, 4, 9, 32), (26, 44, 128, 182, 0, 3, 9, 32), (26, 48, 25, 50, 1, 24, 9, 32), (26, 48, 25, 54, 1, 24, 9, 32), (26, 48, 25, 57, 1, 24, 9, 32), (26, 48, 25, 61, 8, 15, 9, 32), (26, 48, 25, 62, 2, 21, 9, 32), (26, 48, 68, 59, 8, 25, 9, 32), (26, 48, 128, 165, 0, 30, 9, 32), (26, 48, 128, 167, 0, 17, 9, 32), (26, 48, 128, 170, 0, 14, 9, 32), (26, 48, 128, 182, 0, 11, 9, 32), (26, 48, 128, 197, 0, 9, 9, 32), (26, 52, 128, 182, 0, 3, 9, 32), (26, 55, 68, 57, 9, 22, 9, 32), (26, 56, 25, 50, 7, 29, 9, 32), (26, 56, 25, 54, 7, 29, 9, 32), (26, 56, 25, 57, 8, 16, 9, 32), (26, 56, 25, 57, 8, 29, 9, 32), (26, 56, 25, 62, 8, 26, 9, 32), (26, 56, 33, 38, 4, 26, 9, 32), (26, 56, 128, 170, 0, 14, 9, 32), (26, 56, 128, 182, 0, 4, 9, 32), (26, 56, 128, 197, 0, 9, 9, 32), (26, 60, 128, 182, 0, 3, 9, 32), (27, 0, 25, 52, 7, 29, 9, 32), (27, 0, 25, 52, 20, 18, 9, 32), (27, 0, 25, 56, 7, 29, 9, 32), (27, 0, 25, 59, 7, 29, 9, 32), (27, 0, 25, 64, 7, 26, 9, 32), (27, 0, 33, 28, 8, 30, 9, 32), (27, 0, 49, 52, 20, 31, 9, 32), (27, 0, 49, 64, 20, 31, 9, 32), (27, 0, 49, 68, 20, 31, 9, 32), (27, 0, 49, 71, 20, 31, 9, 32), (27, 0, 68, 59, 15, 26, 9, 32), (27, 0, 128, 163, 0, 27, 9, 32), (27, 0, 128, 170, 0, 18, 9, 32), (27, 0, 128, 182, 0, 4, 9, 32), (27, 0, 128, 197, 0, 12, 9, 32), (27, 4, 128, 170, 0, 14, 9, 32), (27, 4, 128, 182, 0, 3, 9, 32), (27, 4, 128, 197, 0, 9, 9, 32), (27, 8, 25, 52, 8, 25, 9, 32), (27, 8, 25, 56, 8, 25, 9, 32), (27, 8, 25, 59, 8, 25, 9, 32), (27, 8, 25, 59, 16, 15, 9, 32), (27, 8, 25, 64, 7, 23, 9, 32), (27, 8, 33, 28, 6, 28, 9, 32), (27, 8, 128, 170, 0, 15, 9, 32), (27, 8, 128, 182, 0, 4, 9, 32), (27, 8, 128, 197, 0, 10, 9, 32), (27, 12, 128, 182, 0, 3, 9, 32), (27, 16, 25, 52, 1, 24, 9, 32), (27, 16, 25, 56, 1, 24, 9, 32), (27, 16, 25, 59, 1, 24, 9, 32), (27, 16, 25, 64, 2, 21, 9, 32), (27, 16, 25, 64, 8, 19, 9, 32), (27, 16, 33, 30, 8, 30, 9, 32), (27, 16, 68, 61, 2, 28, 9, 32), (27, 16, 128, 165, 0, 30, 9, 32), (27, 16, 128, 167, 0, 17, 9, 32), (27, 16, 128, 170, 0, 14, 9, 32), (27, 16, 128, 182, 0, 11, 9, 32), (27, 16, 128, 197, 0, 9, 9, 32), (27, 20, 128, 182, 0, 3, 9, 32), (27, 24, 25, 49, 28, 17, 9, 32), (27, 24, 25, 52, 7, 29, 9, 32), (27, 24, 25, 56, 7, 29, 9, 32), (27, 24, 25, 59, 8, 29, 9, 32), (27, 24, 25, 64, 8, 26, 9, 32), (27, 24, 33, 33, 19, 31, 9, 32), (27, 24, 49, 57, 28, 31, 9, 32), (27, 24, 49, 64, 28, 31, 9, 32), (27, 24, 49, 69, 28, 31, 9, 32), (27, 24, 49, 73, 28, 31, 9, 32), (27, 24, 54, 64, 20, 20, 9, 32), (27, 24, 54, 69, 11, 20, 9, 32), (27, 24, 54, 73, 13, 22, 9, 32), (27, 24, 68, 61, 12, 30, 9, 32), (27, 24, 128, 163, 0, 27, 9, 32), (27, 24, 128, 170, 0, 14, 9, 32), (27, 24, 128, 182, 0, 4, 9, 32), (27, 24, 128, 197, 0, 9, 9, 32), (27, 28, 128, 182, 0, 3, 9, 32), (27, 32, 25, 49, 7, 29, 9, 32), (27, 32, 25, 52, 7, 29, 9, 32), (27, 32, 25, 52, 20, 17, 9, 32), (27, 32, 25, 57, 7, 29, 9, 32), (27, 32, 25, 61, 7, 26, 9, 32), (27, 32, 128, 170, 0, 18, 9, 32), (27, 32, 128, 182, 0, 4, 9, 32), (27, 32, 128, 197, 0, 12, 9, 32), (27, 36, 128, 182, 0, 3, 9, 32), (27, 37, 54, 71, 2, 16, 9, 32), (27, 37, 68, 59, 2, 22, 9, 32), (27, 40, 25, 49, 8, 25, 9, 32), (27, 40, 25, 52, 8, 25, 9, 32), (27, 40, 25, 57, 8, 18, 9, 32), (27, 40, 25, 57, 8, 25, 9, 32), (27, 40, 25, 61, 7, 23, 9, 32), (27, 40, 54, 69, 8, 21, 9, 32), (27, 40, 68, 57, 12, 22, 9, 32), (27, 40, 128, 163, 0, 27, 9, 32), (27, 40, 128, 174, 0, 18, 9, 32), (27, 40, 128, 182, 0, 4, 9, 32), (27, 44, 128, 182, 0, 3, 9, 32), (27, 48, 25, 49, 1, 24, 9, 32), (27, 48, 25, 52, 1, 24, 9, 32), (27, 48, 25, 57, 1, 24, 9, 32), (27, 48, 25, 61, 2, 21, 9, 32), (27, 48, 25, 64, 8, 20, 9, 32), (27, 48, 33, 33, 16, 29, 9, 32), (27, 48, 128, 165, 0, 30, 9, 32), (27, 48, 128, 167, 0, 17, 9, 32), (27, 48, 128, 170, 0, 14, 9, 32), (27, 48, 128, 182, 0, 11, 9, 32), (27, 48, 128, 197, 0, 9, 9, 32), (27, 52, 128, 182, 0, 3, 9, 32), (27, 56, 25, 49, 7, 29, 9, 32), (27, 56, 25, 52, 7, 29, 9, 32), (27, 56, 25, 57, 8, 29, 9, 32), (27, 56, 25, 61, 8, 17, 9, 32), (27, 56, 25, 61, 8, 26, 9, 32), (27, 56, 128, 170, 0, 18, 9, 32), (27, 56, 128, 182, 0, 4, 9, 32), (27, 56, 128, 197, 0, 12, 9, 32), (27, 60, 128, 182, 0, 3, 9, 32), (28, 0, 1, 90, 16, 20, 9, 32), (28, 0, 25, 42, 36, 17, 9, 32), (28, 0, 25, 49, 7, 29, 9, 32), (28, 0, 25, 54, 7, 29, 9, 32), (28, 0, 25, 57, 7, 29, 9, 32), (28, 0, 25, 61, 7, 26, 9, 32), (28, 0, 33, 30, 8, 30, 9, 32), (28, 0, 49, 54, 36, 31, 9, 32), (28, 0, 49, 66, 36, 31, 9, 32), (28, 0, 49, 69, 36, 31, 9, 32), (28, 0, 49, 73, 36, 31, 9, 32), (28, 0, 54, 61, 18, 25, 9, 32), (28, 0, 54, 66, 18, 25, 9, 32), (28, 0, 68, 54, 18, 31, 9, 32), (28, 0, 128, 163, 0, 27, 9, 32), (28, 0, 128, 177, 0, 13, 9, 32), (28, 0, 128, 182, 0, 4, 9, 32), (28, 4, 128, 170, 0, 14, 9, 32), (28, 4, 128, 182, 0, 3, 9, 32), (28, 4, 128, 197, 0, 9, 9, 32), (28, 8, 25, 49, 8, 25, 9, 32), (28, 8, 25, 54, 7, 25, 9, 32), (28, 8, 25, 54, 20, 15, 9, 32), (28, 8, 25, 57, 8, 25, 9, 32), (28, 8, 25, 61, 7, 23, 9, 32), (28, 8, 33, 30, 6, 28, 9, 32), (28, 8, 128, 170, 0, 15, 9, 32), (28, 8, 128, 182, 0, 4, 9, 32), (28, 8, 128, 197, 0, 10, 9, 32), (28, 12, 128, 182, 0, 3, 9, 32), (28, 16, 25, 49, 1, 24, 9, 32), (28, 16, 25, 54, 1, 24, 9, 32), (28, 16, 25, 57, 1, 24, 9, 32), (28, 16, 25, 61, 2, 21, 9, 32), (28, 16, 25, 61, 20, 21, 9, 32), (28, 16, 128, 165, 0, 30, 9, 32), (28, 16, 128, 167, 0, 17, 9, 32), (28, 16, 128, 170, 0, 14, 9, 32), (28, 16, 128, 182, 0, 11, 9, 32), (28, 16, 128, 197, 0, 9, 9, 32), (28, 20, 128, 182, 0, 3, 9, 32), (28, 24, 1, 93, 16, 20, 9, 32), (28, 24, 25, 49, 7, 29, 9, 32), (28, 24, 25, 54, 7, 29, 9, 32), (28, 24, 25, 57, 8, 29, 9, 32), (28, 24, 25, 57, 24, 16, 9, 32), (28, 24, 25, 61, 7, 26, 9, 32), (28, 24, 33, 30, 4, 26, 9, 32), (28, 24, 54, 66, 20, 22, 9, 32), (28, 24, 54, 69, 20, 22, 9, 32), (28, 24, 68, 57, 20, 27, 9, 32), (28, 24, 128, 163, 0, 27, 9, 32), (28, 24, 128, 170, 0, 14, 9, 32), (28, 24, 128, 182, 0, 4, 9, 32), (28, 24, 128, 197, 0, 9, 9, 32), (28, 28, 128, 182, 0, 3, 9, 32), (28, 32, 25, 49, 7, 29, 9, 32), (28, 32, 25, 54, 7, 29, 9, 32), (28, 32, 25, 54, 20, 14, 9, 32), (28, 32, 25, 57, 7, 29, 9, 32), (28, 32, 25, 61, 7, 26, 9, 32), (28, 32, 33, 30, 8, 30, 9, 32), (28, 32, 128, 170, 0, 18, 9, 32), (28, 32, 128, 182, 0, 4, 9, 32), (28, 32, 128, 197, 0, 12, 9, 32), (28, 36, 128, 182, 0, 3, 9, 32), (28, 40, 25, 49, 8, 25, 9, 32), (28, 40, 25, 54, 8, 25, 9, 32), (28, 40, 25, 57, 8, 25, 9, 32), (28, 40, 25, 62, 7, 23, 9, 32), (28, 40, 25, 62, 8, 20, 9, 32), (28, 40, 33, 30, 6, 28, 9, 32), (28, 40, 128, 174, 0, 18, 9, 32), (28, 40, 128, 182, 0, 4, 9, 32), (28, 44, 128, 182, 0, 3, 9, 32), (28, 48, 1, 97, 15, 20, 9, 32), (28, 48, 25, 49, 1, 24, 9, 32), (28, 48, 25, 54, 1, 24, 9, 32), (28, 48, 25, 57, 1, 24, 9, 32), (28, 48, 25, 61, 2, 21, 9, 32), (28, 48, 25, 61, 8, 14, 9, 32), (28, 48, 128, 165, 0, 30, 9, 32), (28, 48, 128, 167, 0, 17, 9, 32), (28, 48, 128, 170, 0, 14, 9, 32), (28, 48, 128, 182, 0, 11, 9, 32), (28, 48, 128, 197, 0, 9, 9, 32), (28, 49, 54, 69, 15, 24, 9, 32), (28, 49, 54, 73, 15, 24, 9, 32), (28, 49, 68, 61, 15, 30, 9, 32), (28, 52, 128, 182, 0, 3, 9, 32), (28, 56, 25, 49, 7, 29, 9, 32), (28, 56, 25, 54, 7, 29, 9, 32), (28, 56, 25, 57, 8, 14, 9, 32), (28, 56, 25, 57, 8, 29, 9, 32), (28, 56, 25, 61, 8, 26, 9, 32), (28, 56, 128, 170, 0, 18, 9, 32), (28, 56, 128, 182, 0, 4, 9, 32), (28, 56, 128, 197, 0, 12, 9, 32), (28, 60, 128, 182, 0, 3, 9, 32), (29, 0, 1, 95, 16, 20, 9, 32), (29, 0, 25, 52, 7, 29, 9, 32), (29, 0, 25, 52, 20, 18, 9, 32), (29, 0, 25, 56, 7, 29, 9, 32), (29, 0, 25, 59, 7, 29, 9, 32), (29, 0, 25, 64, 7, 26, 9, 32), (29, 0, 33, 28, 8, 30, 9, 32), (29, 0, 49, 52, 36, 31, 9, 32), (29, 0, 49, 64, 36, 31, 9, 32), (29, 0, 49, 68, 20, 31, 9, 32), (29, 0, 49, 71, 20, 31, 9, 32), (29, 0, 54, 68, 20, 22, 9, 32), (29, 0, 54, 71, 20, 22, 9, 32), (29, 0, 68, 59, 16, 27, 9, 32), (29, 0, 128, 163, 0, 27, 9, 32), (29, 0, 128, 170, 0, 18, 9, 32), (29, 0, 128, 182, 0, 4, 9, 32), (29, 0, 128, 197, 0, 12, 9, 32), (29, 4, 128, 170, 0, 14, 9, 32), (29, 4, 128, 182, 0, 3, 9, 32), (29, 4, 128, 197, 0, 9, 9, 32), (29, 8, 25, 52, 8, 25, 9, 32), (29, 8, 25, 56, 8, 25, 9, 32), (29, 8, 25, 59, 8, 25, 9, 32), (29, 8, 25, 59, 16, 15, 9, 32), (29, 8, 25, 64, 7, 23, 9, 32), (29, 8, 33, 28, 6, 28, 9, 32), (29, 8, 128, 170, 0, 15, 9, 32), (29, 8, 128, 182, 0, 4, 9, 32), (29, 8, 128, 197, 0, 10, 9, 32), (29, 12, 128, 182, 0, 3, 9, 32), (29, 16, 25, 52, 1, 24, 9, 32), (29, 16, 25, 56, 1, 24, 9, 32), (29, 16, 25, 59, 1, 24, 9, 32), (29, 16, 25, 64, 2, 21, 9, 32), (29, 16, 25, 64, 8, 19, 9, 32), (29, 16, 33, 30, 8, 30, 9, 32), (29, 16, 68, 57, 1, 23, 9, 32), (29, 16, 128, 165, 0, 30, 9, 32), (29, 16, 128, 167, 0, 17, 9, 32), (29, 16, 128, 170, 0, 14, 9, 32), (29, 16, 128, 182, 0, 11, 9, 32), (29, 16, 128, 197, 0, 9, 9, 32), (29, 20, 128, 182, 0, 3, 9, 32), (29, 24, 1, 93, 16, 20, 9, 32), (29, 24, 25, 52, 7, 29, 9, 32), (29, 24, 25, 56, 7, 29, 9, 32), (29, 24, 25, 57, 28, 17, 9, 32), (29, 24, 25, 59, 8, 29, 9, 32), (29, 24, 25, 64, 8, 26, 9, 32), (29, 24, 33, 33, 20, 31, 9, 32), (29, 24, 49, 69, 28, 31, 9, 32), (29, 24, 49, 73, 28, 31, 9, 32), (29, 24, 54, 64, 17, 22, 9, 32), (29, 24, 54, 69, 17, 22, 9, 32), (29, 24, 68, 57, 17, 27, 9, 32), (29, 24, 128, 163, 0, 27, 9, 32), (29, 24, 128, 170, 0, 14, 9, 32), (29, 24, 128, 182, 0, 4, 9, 32), (29, 24, 128, 197, 0, 9, 9, 32), (29, 28, 128, 182, 0, 3, 9, 32), (29, 32, 25, 49, 7, 29, 9, 32), (29, 32, 25, 52, 7, 29, 9, 32), (29, 32, 25, 57, 7, 29, 9, 32), (29, 32, 25, 61, 7, 26, 9, 32), (29, 32, 128, 170, 0, 18, 9, 32), (29, 32, 128, 182, 0, 5, 9, 32), (29, 32, 128, 197, 0, 12, 9, 32), (29, 33, 128, 182, 0, 4, 9, 32), (29, 35, 128, 182, 0, 5, 9, 32), (29, 36, 128, 182, 0, 3, 9, 32), (29, 37, 128, 182, 0, 5, 9, 32), (29, 39, 128, 182, 0, 4, 9, 32), (29, 40, 25, 49, 8, 25, 9, 32), (29, 40, 25, 52, 8, 25, 9, 32), (29, 40, 25, 57, 8, 25, 9, 32), (29, 40, 25, 61, 7, 23, 9, 32), (29, 40, 128, 163, 0, 21, 9, 32), (29, 40, 128, 174, 0, 18, 9, 32), (29, 40, 128, 182, 0, 5, 9, 32), (29, 41, 128, 182, 1, 3, 9, 32), (29, 43, 128, 182, 0, 5, 9, 32), (29, 44, 128, 182, 0, 4, 9, 32), (29, 45, 128, 182, 0, 5, 9, 32), (29, 47, 128, 182, 0, 3, 9, 32), (29, 48, 25, 49, 1, 24, 9, 32), (29, 48, 25, 52, 1, 24, 9, 32), (29, 48, 25, 57, 1, 24, 9, 32), (29, 48, 25, 61, 2, 21, 9, 32), (29, 48, 68, 66, 7, 16, 9, 32), (29, 48, 128, 163, 0, 27, 9, 32), (29, 48, 128, 165, 0, 30, 9, 32), (29, 48, 128, 167, 0, 17, 9, 32), (29, 48, 128, 170, 0, 14, 9, 32), (29, 48, 128, 182, 0, 11, 9, 32), (29, 48, 128, 197, 0, 9, 9, 32), (29, 56, 25, 49, 7, 29, 9, 32), (29, 56, 25, 52, 7, 29, 9, 32), (29, 56, 25, 57, 8, 29, 9, 32), (29, 56, 25, 61, 8, 26, 9, 32), (29, 56, 33, 30, 8, 31, 9, 32), (29, 56, 68, 69, 8, 26, 9, 32), (29, 56, 128, 170, 0, 18, 9, 32), (29, 56, 128, 197, 0, 12, 9, 32), (30, 0, 18, 66, 41, 7, 9, 32), (30, 0, 18, 69, 73, 7, 9, 32), (30, 0, 18, 73, 36, 9, 9, 32), (30, 0, 25, 49, 7, 29, 9, 32), (30, 0, 25, 54, 7, 29, 9, 32), (30, 0, 25, 57, 7, 29, 9, 32), (30, 0, 25, 61, 7, 26, 9, 32), (30, 0, 33, 30, 8, 30, 9, 32), (30, 0, 74, 85, 35, 15, 9, 32), (30, 0, 128, 163, 0, 27, 9, 32), (30, 0, 128, 177, 0, 17, 9, 32), (30, 8, 25, 49, 8, 25, 9, 32), (30, 8, 25, 54, 7, 25, 9, 32), (30, 8, 25, 57, 8, 25, 9, 32), (30, 8, 25, 61, 7, 23, 9, 32), (30, 8, 33, 30, 6, 28, 9, 32), (30, 8, 68, 69, 8, 17, 9, 32), (30, 8, 128, 170, 0, 14, 9, 32), (30, 8, 128, 197, 0, 9, 9, 32), (30, 16, 25, 49, 1, 24, 9, 32), (30, 16, 25, 54, 1, 24, 9, 32), (30, 16, 25, 57, 1, 24, 9, 32), (30, 16, 25, 61, 2, 21, 9, 32), (30, 16, 128, 165, 0, 30, 9, 32), (30, 16, 128, 167, 0, 17, 9, 32), (30, 16, 128, 170, 0, 14, 9, 32), (30, 16, 128, 197, 0, 9, 9, 32), (30, 24, 25, 49, 7, 29, 9, 32), (30, 24, 25, 54, 7, 29, 9, 32), (30, 24, 25, 57, 8, 29, 9, 32), (30, 24, 25, 61, 7, 26, 9, 32), (30, 24, 33, 30, 4, 26, 9, 32), (30, 24, 68, 69, 8, 11, 9, 32), (30, 24, 128, 163, 0, 27, 9, 32), (30, 24, 128, 170, 0, 18, 9, 32), (30, 24, 128, 197, 0, 12, 9, 32), (30, 32, 25, 49, 7, 29, 9, 32), (30, 32, 25, 54, 7, 29, 9, 32), (30, 32, 25, 57, 7, 29, 9, 32), (30, 32, 25, 61, 7, 26, 9, 32), (30, 32, 33, 30, 8, 30, 9, 32), (30, 32, 128, 170, 0, 14, 9, 32), (30, 32, 128, 197, 0, 9, 9, 32), (30, 40, 25, 49, 8, 25, 9, 32), (30, 40, 25, 54, 8, 25, 9, 32), (30, 40, 25, 57, 8, 25, 9, 32), (30, 40, 25, 62, 7, 23, 9, 32), (30, 40, 33, 30, 6, 28, 9, 32), (30, 40, 68, 69, 8, 8, 9, 32), (30, 40, 128, 174, 0, 18, 9, 32), (30, 48, 25, 49, 1, 24, 9, 32), (30, 48, 25, 54, 1, 24, 9, 32), (30, 48, 25, 57, 1, 24, 9, 32), (30, 48, 25, 61, 2, 21, 9, 32), (30, 48, 33, 30, 8, 31, 9, 32), (30, 48, 128, 165, 0, 30, 9, 32), (30, 48, 128, 167, 0, 17, 9, 32), (30, 48, 128, 170, 0, 14, 9, 32), (30, 48, 128, 182, 0, 11, 9, 32), (30, 48, 128, 197, 0, 9, 9, 32), (30, 49, 68, 73, 15, 20, 9, 32), (30, 56, 25, 49, 7, 29, 9, 32), (30, 56, 25, 54, 7, 29, 9, 32), (30, 56, 25, 57, 8, 29, 9, 32), (30, 56, 25, 61, 8, 26, 9, 32), (30, 56, 33, 37, 6, 28, 9, 32), (30, 56, 128, 170, 0, 14, 9, 32), (30, 56, 128, 197, 0, 9, 9, 32), (30, 63, 18, 74, 20, 11, 9, 32), (30, 63, 54, 69, 19, 15, 9, 32), (30, 63, 54, 74, 19, 15, 9, 32), (30, 63, 74, 86, 20, 19, 9, 32), (31, 0, 25, 50, 7, 29, 9, 32), (31, 0, 25, 54, 7, 29, 9, 32), (31, 0, 25, 57, 7, 29, 9, 32), (31, 0, 25, 62, 7, 26, 9, 32), (31, 0, 33, 38, 8, 30, 9, 32), (31, 0, 68, 66, 20, 20, 9, 32), (31, 0, 128, 163, 0, 27, 9, 32), (31, 0, 128, 170, 0, 18, 9, 32), (31, 0, 128, 197, 0, 12, 9, 32), (31, 4, 128, 170, 0, 14, 9, 32), (31, 4, 128, 197, 0, 9, 9, 32), (31, 8, 25, 50, 8, 25, 9, 32), (31, 8, 25, 54, 8, 25, 9, 32), (31, 8, 25, 57, 8, 25, 9, 32), (31, 8, 25, 62, 7, 23, 9, 32), (31, 8, 33, 38, 6, 28, 9, 32), (31, 8, 128, 170, 0, 15, 9, 32), (31, 8, 128, 197, 0, 10, 9, 32), (31, 16, 25, 50, 1, 24, 9, 32), (31, 16, 25, 54, 1, 24, 9, 32), (31, 16, 25, 57, 1, 24, 9, 32), (31, 16, 25, 62, 2, 21, 9, 32), (31, 16, 128, 165, 0, 30, 9, 32), (31, 16, 128, 167, 0, 17, 9, 32), (31, 16, 128, 170, 0, 14, 9, 32), (31, 16, 128, 197, 0, 9, 9, 32), (31, 24, 18, 64, 25, 8, 9, 32), (31, 24, 18, 73, 46, 9, 9, 32), (31, 24, 25, 49, 7, 29, 9, 32), (31, 24, 25, 52, 7, 29, 9, 32), (31, 24, 25, 57, 8, 29, 9, 32), (31, 24, 25, 61, 8, 26, 9, 32), (31, 24, 33, 33, 20, 30, 9, 32), (31, 24, 54, 69, 20, 14, 9, 32), (31, 24, 54, 73, 20, 13, 9, 32), (31, 24, 68, 64, 20, 24, 9, 32), (31, 24, 74, 85, 46, 18, 9, 32), (31, 24, 128, 163, 0, 27, 9, 32), (31, 24, 128, 170, 0, 14, 9, 32), (31, 24, 128, 197, 0, 9, 9, 32), (31, 32, 25, 49, 7, 29, 9, 32), (31, 32, 25, 52, 7, 29, 9, 32), (31, 32, 25, 57, 7, 29, 9, 32), (31, 32, 25, 61, 7, 26, 9, 32), (31, 32, 128, 170, 0, 18, 9, 32), (31, 32, 128, 197, 0, 12, 9, 32), (31, 40, 25, 49, 8, 25, 9, 32), (31, 40, 25, 52, 8, 25, 9, 32), (31, 40, 25, 57, 8, 25, 9, 32), (31, 40, 25, 61, 7, 23, 9, 32), (31, 40, 128, 163, 0, 27, 9, 32), (31, 40, 128, 174, 0, 18, 9, 32), (31, 48, 25, 49, 1, 24, 9, 32), (31, 48, 25, 52, 1, 24, 9, 32), (31, 48, 25, 57, 1, 24, 9, 32), (31, 48, 25, 61, 2, 21, 9, 32), (31, 48, 33, 45, 16, 31, 9, 32), (31, 48, 68, 66, 8, 24, 9, 32), (31, 48, 128, 165, 0, 30, 9, 32), (31, 48, 128, 167, 0, 17, 9, 32), (31, 48, 128, 170, 0, 14, 9, 32), (31, 48, 128, 182, 0, 11, 9, 32), (31, 48, 128, 197, 0, 9, 9, 32), (31, 56, 25, 49, 7, 29, 9, 32), (31, 56, 25, 52, 7, 29, 9, 32), (31, 56, 25, 57, 8, 29, 9, 32), (31, 56, 25, 61, 8, 26, 9, 32), (31, 56, 68, 69, 28, 25, 9, 32), (31, 56, 128, 170, 0, 18, 9, 32), (31, 56, 128, 197, 0, 12, 9, 32), (31, 63, 18, 66, 41, 8, 9, 32), (32, 0, 25, 49, 7, 29, 9, 32), (32, 0, 25, 54, 7, 29, 9, 32), (32, 0, 25, 57, 7, 29, 9, 32), (32, 0, 25, 61, 7, 26, 9, 32), (32, 0, 33, 30, 8, 30, 9, 32), (32, 0, 128, 163, 0, 27, 9, 32), (32, 0, 128, 170, 0, 18, 9, 32), (32, 0, 128, 197, 0, 12, 9, 32), (32, 4, 128, 170, 0, 14, 9, 32), (32, 4, 128, 197, 0, 9, 9, 32), (32, 8, 25, 49, 8, 25, 9, 32), (32, 8, 25, 54, 7, 25, 9, 32), (32, 8, 25, 57, 8, 25, 9, 32), (32, 8, 25, 61, 7, 23, 9, 32), (32, 8, 33, 30, 6, 28, 9, 32), (32, 8, 128, 170, 0, 15, 9, 32), (32, 8, 128, 197, 0, 10, 9, 32), (32, 16, 25, 49, 1, 24, 9, 32), (32, 16, 25, 54, 1, 24, 9, 32), (32, 16, 25, 57, 1, 24, 9, 32), (32, 16, 25, 61, 2, 21, 9, 32), (32, 16, 128, 165, 0, 30, 9, 32), (32, 16, 128, 167, 0, 17, 9, 32), (32, 16, 128, 170, 0, 14, 9, 32), (32, 16, 128, 197, 0, 9, 9, 32), (32, 24, 25, 49, 7, 29, 9, 32), (32, 24, 25, 54, 7, 29, 9, 32), (32, 24, 25, 57, 8, 29, 9, 32), (32, 24, 25, 61, 7, 26, 9, 32), (32, 24, 33, 30, 4, 26, 9, 32), (32, 24, 128, 163, 0, 27, 9, 32), (32, 24, 128, 170, 0, 14, 9, 32), (32, 24, 128, 197, 0, 9, 9, 32), (32, 32, 25, 49, 7, 29, 9, 32), (32, 32, 25, 54, 7, 29, 9, 32), (32, 32, 25, 57, 7, 29, 9, 32), (32, 32, 25, 61, 7, 26, 9, 32), (32, 32, 33, 30, 8, 30, 9, 32), (32, 32, 128, 170, 0, 18, 9, 32), (32, 32, 128, 197, 0, 12, 9, 32), (32, 40, 25, 49, 8, 25, 9, 32), (32, 40, 25, 54, 8, 25, 9, 32), (32, 40, 25, 57, 8, 25, 9, 32), (32, 40, 25, 62, 7, 23, 9, 32), (32, 40, 33, 30, 6, 28, 9, 32), (32, 40, 128, 174, 0, 18, 9, 32), (32, 48, 25, 49, 1, 24, 9, 32), (32, 48, 25, 54, 1, 24, 9, 32), (32, 48, 25, 57, 1, 24, 9, 32), (32, 48, 25, 61, 2, 21, 9, 32), (32, 48, 68, 73, 16, 26, 9, 32), (32, 48, 128, 165, 0, 30, 9, 32), (32, 48, 128, 167, 0, 17, 9, 32), (32, 48, 128, 170, 0, 14, 9, 32), (32, 48, 128, 182, 0, 11, 9, 32), (32, 48, 128, 197, 0, 9, 9, 32), (32, 56, 25, 49, 7, 29, 9, 32), (32, 56, 25, 54, 7, 29, 9, 32), (32, 56, 25, 57, 8, 29, 9, 32), (32, 56, 25, 61, 8, 26, 9, 32), (32, 56, 128, 170, 0, 18, 9, 32), (32, 56, 128, 197, 0, 12, 9, 32), (32, 63, 18, 74, 20, 11, 9, 32), (33, 0, 25, 50, 7, 29, 9, 32), (33, 0, 25, 54, 7, 29, 9, 32), (33, 0, 25, 57, 7, 29, 9, 32), (33, 0, 25, 62, 7, 26, 9, 32), (33, 0, 33, 38, 8, 30, 9, 32), (33, 0, 54, 69, 19, 15, 9, 32), (33, 0, 54, 74, 19, 15, 9, 32), (33, 0, 68, 66, 20, 20, 9, 32), (33, 0, 74, 86, 20, 16, 9, 32), (33, 0, 128, 163, 0, 27, 9, 32), (33, 0, 128, 170, 0, 18, 9, 32), (33, 0, 128, 197, 0, 12, 9, 32), (33, 4, 128, 170, 0, 14, 9, 32), (33, 4, 128, 197, 0, 9, 9, 32), (33, 8, 25, 50, 8, 25, 9, 32), (33, 8, 25, 54, 8, 25, 9, 32), (33, 8, 25, 57, 8, 25, 9, 32), (33, 8, 25, 62, 7, 23, 9, 32), (33, 8, 33, 38, 6, 28, 9, 32), (33, 8, 128, 170, 0, 15, 9, 32), (33, 8, 128, 197, 0, 10, 9, 32), (33, 16, 25, 50, 1, 24, 9, 32), (33, 16, 25, 54, 1, 24, 9, 32), (33, 16, 25, 57, 1, 24, 9, 32), (33, 16, 25, 62, 2, 21, 9, 32), (33, 16, 128, 165, 0, 30, 9, 32), (33, 16, 128, 167, 0, 17, 9, 32), (33, 16, 128, 170, 0, 14, 9, 32), (33, 16, 128, 197, 0, 9, 9, 32), (33, 24, 18, 64, 25, 9, 9, 32), (33, 24, 18, 73, 46, 10, 9, 32), (33, 24, 25, 49, 7, 29, 9, 32), (33, 24, 25, 52, 7, 29, 9, 32), (33, 24, 25, 57, 8, 29, 9, 32), (33, 24, 25, 61, 8, 26, 9, 32), (33, 24, 33, 33, 19, 30, 9, 32), (33, 24, 68, 71, 16, 22, 9, 32), (33, 24, 74, 85, 46, 15, 9, 32), (33, 24, 128, 163, 0, 27, 9, 32), (33, 24, 128, 170, 0, 14, 9, 32), (33, 24, 128, 197, 0, 9, 9, 32), (33, 25, 54, 69, 20, 14, 9, 32), (33, 25, 54, 73, 20, 13, 9, 32), (33, 32, 25, 49, 7, 29, 9, 32), (33, 32, 25, 52, 7, 29, 9, 32), (33, 32, 25, 57, 7, 29, 9, 32), (33, 32, 25, 61, 7, 26, 9, 32), (33, 32, 128, 170, 0, 18, 9, 32), (33, 32, 128, 197, 0, 12, 9, 32), (33, 40, 25, 49, 8, 25, 9, 32), (33, 40, 25, 52, 8, 25, 9, 32), (33, 40, 25, 57, 8, 25, 9, 32), (33, 40, 25, 61, 7, 23, 9, 32), (33, 40, 68, 73, 8, 24, 9, 32), (33, 40, 128, 163, 0, 21, 9, 32), (33, 40, 128, 174, 0, 18, 9, 32), (33, 48, 25, 49, 1, 24, 9, 32), (33, 48, 25, 52, 1, 24, 9, 32), (33, 48, 25, 57, 1, 24, 9, 32), (33, 48, 25, 61, 2, 21, 9, 32), (33, 48, 33, 33, 16, 29, 9, 32), (33, 48, 68, 76, 8, 24, 9, 32), (33, 48, 128, 165, 0, 30, 9, 32), (33, 48, 128, 167, 0, 17, 9, 32), (33, 48, 128, 170, 0, 14, 9, 32), (33, 48, 128, 182, 0, 11, 9, 32), (33, 48, 128, 197, 0, 9, 9, 32), (33, 56, 25, 49, 7, 29, 9, 32), (33, 56, 25, 52, 7, 29, 9, 32), (33, 56, 25, 57, 8, 29, 9, 32), (33, 56, 25, 61, 8, 26, 9, 32), (33, 56, 68, 76, 8, 24, 9, 32), (33, 56, 128, 170, 0, 18, 9, 32), (33, 56, 128, 197, 0, 12, 9, 32), (33, 63, 25, 45, 7, 31, 9, 32), (33, 63, 25, 49, 8, 31, 9, 32), (34, 0, 18, 66, 41, 9, 9, 32), (34, 0, 25, 54, 7, 31, 9, 32), (34, 0, 33, 30, 8, 30, 9, 32), (34, 0, 68, 73, 16, 18, 9, 32), (34, 0, 128, 163, 0, 27, 9, 32), (34, 0, 128, 170, 0, 18, 9, 32), (34, 1, 25, 57, 7, 31, 9, 32), (34, 1, 25, 61, 7, 30, 9, 32), (34, 8, 25, 49, 8, 25, 9, 32), (34, 8, 25, 54, 7, 25, 9, 32), (34, 8, 25, 57, 8, 25, 9, 32), (34, 8, 25, 61, 7, 23, 9, 32), (34, 8, 33, 30, 6, 28, 9, 32), (34, 8, 128, 170, 0, 14, 9, 32), (34, 8, 128, 197, 0, 9, 9, 32), (34, 16, 25, 49, 1, 24, 9, 32), (34, 16, 25, 54, 1, 24, 9, 32), (34, 16, 25, 57, 1, 24, 9, 32), (34, 16, 25, 61, 2, 21, 9, 32), (34, 16, 68, 69, 20, 18, 9, 32), (34, 16, 128, 165, 0, 30, 9, 32), (34, 16, 128, 167, 0, 17, 9, 32), (34, 16, 128, 170, 0, 14, 9, 32), (34, 16, 128, 197, 0, 9, 9, 32), (34, 24, 25, 49, 7, 29, 9, 32), (34, 24, 25, 54, 7, 29, 9, 32), (34, 24, 25, 57, 8, 29, 9, 32), (34, 24, 25, 61, 7, 26, 9, 32), (34, 24, 33, 30, 4, 26, 9, 32), (34, 24, 128, 163, 0, 27, 9, 32), (34, 24, 128, 170, 0, 18, 9, 32), (34, 24, 128, 197, 0, 12, 9, 32), (34, 32, 25, 49, 7, 29, 9, 32), (34, 32, 25, 54, 7, 29, 9, 32), (34, 32, 25, 57, 7, 29, 9, 32), (34, 32, 25, 61, 7, 26, 9, 32), (34, 32, 33, 30, 8, 30, 9, 32), (34, 32, 128, 170, 0, 14, 9, 32), (34, 32, 128, 197, 0, 9, 9, 32), (34, 40, 25, 49, 8, 25, 9, 32), (34, 40, 25, 54, 8, 25, 9, 32), (34, 40, 25, 57, 8, 25, 9, 32), (34, 40, 25, 62, 7, 23, 9, 32), (34, 40, 33, 30, 6, 28, 9, 32), (34, 40, 128, 174, 0, 18, 9, 32), (34, 48, 25, 49, 1, 24, 9, 32), (34, 48, 25, 54, 1, 24, 9, 32), (34, 48, 25, 57, 1, 24, 9, 32), (34, 48, 25, 61, 2, 21, 9, 32), (34, 48, 33, 30, 8, 31, 9, 32), (34, 48, 68, 69, 15, 22, 9, 32), (34, 48, 128, 165, 0, 30, 9, 32), (34, 48, 128, 167, 0, 17, 9, 32), (34, 48, 128, 170, 0, 14, 9, 32), (34, 48, 128, 182, 0, 11, 9, 32), (34, 48, 128, 197, 0, 9, 9, 32), (34, 56, 25, 49, 7, 29, 9, 32), (34, 56, 25, 54, 7, 29, 9, 32), (34, 56, 25, 57, 8, 29, 9, 32), (34, 56, 25, 61, 8, 26, 9, 32), (34, 56, 33, 37, 6, 28, 9, 32), (34, 56, 128, 170, 0, 14, 9, 32), (34, 56, 128, 197, 0, 9, 9, 32), (35, 0, 18, 74, 20, 12, 9, 32), (35, 0, 25, 50, 7, 29, 9, 32), (35, 0, 25, 54, 7, 29, 9, 32), (35, 0, 25, 57, 7, 29, 9, 32), (35, 0, 25, 62, 7, 26, 9, 32), (35, 0, 33, 38, 8, 30, 9, 32), (35, 0, 54, 64, 18, 15, 9, 32), (35, 0, 54, 71, 18, 15, 9, 32), (35, 0, 68, 71, 18, 24, 9, 32), (35, 0, 74, 86, 20, 18, 9, 32), (35, 0, 128, 163, 0, 27, 9, 32), (35, 0, 128, 170, 0, 18, 9, 32), (35, 0, 128, 197, 0, 12, 9, 32), (35, 4, 128, 170, 0, 14, 9, 32), (35, 4, 128, 197, 0, 9, 9, 32), (35, 8, 25, 50, 8, 25, 9, 32), (35, 8, 25, 54, 8, 25, 9, 32), (35, 8, 25, 57, 8, 25, 9, 32), (35, 8, 25, 62, 7, 23, 9, 32), (35, 8, 33, 38, 6, 28, 9, 32), (35, 8, 128, 170, 0, 15, 9, 32), (35, 8, 128, 197, 0, 10, 9, 32), (35, 16, 25, 50, 1, 24, 9, 32), (35, 16, 25, 54, 1, 24, 9, 32), (35, 16, 25, 57, 1, 24, 9, 32), (35, 16, 25, 62, 2, 21, 9, 32), (35, 16, 128, 165, 0, 30, 9, 32), (35, 16, 128, 167, 0, 17, 9, 32), (35, 16, 128, 170, 0, 14, 9, 32), (35, 16, 128, 197, 0, 9, 9, 32), (35, 24, 18, 64, 25, 10, 9, 32), (35, 24, 18, 73, 28, 10, 9, 32), (35, 24, 25, 49, 7, 29, 9, 32), (35, 24, 25, 52, 7, 29, 9, 32), (35, 24, 25, 57, 8, 29, 9, 32), (35, 24, 25, 61, 8, 26, 9, 32), (35, 24, 33, 33, 20, 30, 9, 32), (35, 24, 54, 69, 16, 14, 9, 32), (35, 24, 54, 73, 16, 14, 9, 32), (35, 24, 68, 73, 12, 22, 9, 32), (35, 24, 74, 85, 28, 18, 9, 32), (35, 24, 128, 163, 0, 27, 9, 32), (35, 24, 128, 170, 0, 14, 9, 32), (35, 24, 128, 197, 0, 9, 9, 32), (35, 32, 25, 49, 7, 29, 9, 32), (35, 32, 25, 52, 7, 29, 9, 32), (35, 32, 25, 57, 7, 29, 9, 32), (35, 32, 25, 61, 7, 26, 9, 32), (35, 32, 128, 170, 0, 18, 9, 32), (35, 32, 128, 197, 0, 12, 9, 32), (35, 37, 68, 71, 2, 20, 9, 32), (35, 40, 25, 49, 8, 25, 9, 32), (35, 40, 25, 52, 8, 25, 9, 32), (35, 40, 25, 57, 8, 25, 9, 32), (35, 40, 25, 61, 7, 23, 9, 32), (35, 40, 68, 69, 12, 18, 9, 32), (35, 40, 128, 163, 0, 27, 9, 32), (35, 40, 128, 174, 0, 18, 9, 32), (35, 48, 25, 49, 1, 24, 9, 32), (35, 48, 25, 52, 1, 24, 9, 32), (35, 48, 25, 57, 1, 24, 9, 32), (35, 48, 25, 61, 2, 21, 9, 32), (35, 48, 33, 45, 16, 31, 9, 32), (35, 48, 128, 165, 0, 30, 9, 32), (35, 48, 128, 167, 0, 17, 9, 32), (35, 48, 128, 170, 0, 14, 9, 32), (35, 48, 128, 182, 0, 11, 9, 32), (35, 48, 128, 197, 0, 9, 9, 32), (35, 56, 25, 49, 7, 29, 9, 32), (35, 56, 25, 52, 7, 29, 9, 32), (35, 56, 25, 57, 8, 29, 9, 32), (35, 56, 25, 61, 8, 26, 9, 32), (35, 56, 68, 69, 4, 26, 9, 32), (35, 56, 128, 170, 0, 18, 9, 32), (35, 56, 128, 197, 0, 12, 9, 32), (35, 60, 68, 68, 4, 26, 9, 32), (36, 0, 25, 49, 7, 29, 9, 32), (36, 0, 25, 54, 7, 29, 9, 32), (36, 0, 25, 57, 7, 29, 9, 32), (36, 0, 25, 61, 7, 26, 9, 32), (36, 0, 33, 30, 8, 30, 9, 32), (36, 0, 68, 66, 18, 22, 9, 32), (36, 0, 74, 85, 35, 15, 9, 32), (36, 0, 128, 163, 0, 27, 9, 32), (36, 0, 128, 170, 0, 18, 9, 32), (36, 0, 128, 197, 0, 12, 9, 32), (36, 4, 128, 170, 0, 14, 9, 32), (36, 4, 128, 197, 0, 9, 9, 32), (36, 8, 25, 49, 8, 25, 9, 32), (36, 8, 25, 54, 7, 25, 9, 32), (36, 8, 25, 57, 8, 25, 9, 32), (36, 8, 25, 61, 7, 23, 9, 32), (36, 8, 33, 30, 6, 28, 9, 32), (36, 8, 128, 170, 0, 15, 9, 32), (36, 8, 128, 197, 0, 10, 9, 32), (36, 16, 25, 49, 1, 24, 9, 32), (36, 16, 25, 54, 1, 24, 9, 32), (36, 16, 25, 57, 1, 24, 9, 32), (36, 16, 25, 61, 2, 21, 9, 32), (36, 16, 128, 165, 0, 30, 9, 32), (36, 16, 128, 167, 0, 17, 9, 32), (36, 16, 128, 170, 0, 14, 9, 32), (36, 16, 128, 197, 0, 9, 9, 32), (36, 24, 25, 49, 7, 29, 9, 32), (36, 24, 25, 54, 7, 29, 9, 32), (36, 24, 25, 57, 8, 29, 9, 32), (36, 24, 25, 61, 7, 26, 9, 32), (36, 24, 33, 30, 4, 26, 9, 32), (36, 24, 68, 69, 18, 26, 9, 32), (36, 24, 128, 163, 0, 27, 9, 32), (36, 24, 128, 170, 0, 14, 9, 32), (36, 24, 128, 197, 0, 9, 9, 32), (36, 32, 25, 49, 7, 29, 9, 32), (36, 32, 25, 54, 7, 29, 9, 32), (36, 32, 25, 57, 7, 29, 9, 32), (36, 32, 25, 61, 7, 26, 9, 32), (36, 32, 33, 30, 8, 30, 9, 32), (36, 32, 128, 170, 0, 18, 9, 32), (36, 32, 128, 197, 0, 12, 9, 32), (36, 40, 25, 49, 8, 25, 9, 32), (36, 40, 25, 54, 8, 25, 9, 32), (36, 40, 25, 57, 8, 25, 9, 32), (36, 40, 25, 62, 7, 23, 9, 32), (36, 40, 33, 30, 6, 28, 9, 32), (36, 40, 128, 174, 0, 18, 9, 32), (36, 48, 25, 49, 1, 24, 9, 32), (36, 48, 25, 54, 1, 24, 9, 32), (36, 48, 25, 57, 1, 24, 9, 32), (36, 48, 25, 61, 2, 21, 9, 32), (36, 48, 128, 165, 0, 30, 9, 32), (36, 48, 128, 167, 0, 17, 9, 32), (36, 48, 128, 170, 0, 14, 9, 32), (36, 48, 128, 182, 0, 11, 9, 32), (36, 48, 128, 197, 0, 9, 9, 32), (36, 49, 68, 73, 15, 28, 9, 32), (36, 56, 25, 49, 7, 29, 9, 32), (36, 56, 25, 54, 7, 29, 9, 32), (36, 56, 25, 57, 8, 29, 9, 32), (36, 56, 25, 61, 8, 26, 9, 32), (36, 56, 128, 170, 0, 18, 9, 32), (36, 56, 128, 197, 0, 12, 9, 32), (36, 63, 74, 83, 20, 12, 9, 32), (37, 0, 25, 52, 19, 29, 9, 32), (37, 0, 25, 56, 20, 29, 9, 32), (37, 0, 25, 59, 20, 29, 9, 32), (37, 0, 33, 28, 19, 31, 9, 32), (37, 0, 68, 71, 19, 25, 9, 32), (37, 0, 128, 163, 0, 27, 9, 32), (37, 0, 128, 170, 0, 18, 9, 32), (37, 0, 128, 185, 0, 14, 9, 32), (37, 0, 128, 197, 0, 12, 9, 32), (37, 1, 25, 64, 20, 26, 9, 32), (37, 16, 128, 170, 0, 14, 9, 32), (37, 16, 128, 197, 0, 9, 9, 32), (37, 24, 25, 52, 27, 28, 9, 32), (37, 24, 25, 57, 28, 28, 9, 32), (37, 24, 25, 61, 28, 28, 9, 32), (37, 24, 33, 33, 20, 29, 9, 32), (37, 24, 68, 69, 14, 28, 9, 32), (37, 24, 74, 81, 20, 9, 9, 32), (37, 24, 128, 163, 0, 27, 9, 32), (37, 24, 128, 177, 0, 14, 9, 32), (37, 25, 25, 64, 28, 23, 9, 32), (37, 32, 128, 170, 0, 18, 9, 32), (37, 32, 128, 197, 0, 12, 9, 32), (37, 40, 128, 163, 0, 21, 9, 32), (37, 40, 128, 174, 0, 18, 9, 32), (37, 48, 33, 40, 16, 31, 9, 32), (37, 48, 68, 73, 7, 26, 9, 32), (37, 48, 128, 165, 0, 30, 9, 32), (37, 48, 128, 167, 0, 17, 9, 32), (37, 48, 128, 170, 0, 14, 9, 32), (37, 48, 128, 182, 0, 11, 9, 32), (37, 48, 128, 197, 0, 9, 9, 32), (37, 56, 68, 76, 2, 22, 9, 32), (37, 61, 27, 50, 36, 27, 9, 32), (37, 62, 27, 54, 36, 28, 9, 32), (37, 63, 27, 57, 36, 28, 9, 32), (38, 0, 25, 50, 7, 29, 9, 32), (38, 0, 25, 50, 24, 19, 9, 32), (38, 0, 25, 54, 7, 29, 9, 32), (38, 0, 25, 57, 7, 29, 9, 32), (38, 0, 25, 62, 7, 26, 9, 32), (38, 0, 27, 62, 36, 31, 9, 32), (38, 0, 33, 38, 8, 30, 9, 32), (38, 0, 49, 50, 36, 31, 9, 32), (38, 0, 49, 62, 36, 31, 9, 32), (38, 0, 49, 66, 36, 31, 9, 32), (38, 0, 49, 69, 36, 31, 9, 32), (38, 0, 68, 76, 16, 24, 9, 32), (38, 0, 128, 163, 0, 27, 9, 32), (38, 0, 128, 177, 0, 17, 9, 32), (38, 0, 128, 182, 0, 4, 9, 32), (38, 4, 128, 182, 0, 3, 9, 32), (38, 8, 25, 50, 8, 25, 9, 32), (38, 8, 25, 54, 7, 25, 9, 32), (38, 8, 25, 54, 20, 17, 9, 32), (38, 8, 25, 57, 8, 25, 9, 32), (38, 8, 25, 62, 7, 23, 9, 32), (38, 8, 33, 38, 6, 28, 9, 32), (38, 8, 128, 170, 0, 14, 9, 32), (38, 8, 128, 182, 0, 4, 9, 32), (38, 8, 128, 197, 0, 9, 9, 32), (38, 12, 128, 182, 0, 3, 9, 32), (38, 16, 1, 100, 16, 17, 9, 32), (38, 16, 25, 50, 1, 24, 9, 32), (38, 16, 25, 54, 1, 24, 9, 32), (38, 16, 25, 57, 1, 24, 9, 32), (38, 16, 25, 62, 2, 21, 9, 32), (38, 16, 25, 62, 20, 19, 9, 32), (38, 16, 54, 73, 16, 20, 9, 32), (38, 16, 54, 76, 16, 20, 9, 32), (38, 16, 68, 64, 16, 25, 9, 32), (38, 16, 128, 165, 0, 30, 9, 32), (38, 16, 128, 167, 0, 17, 9, 32), (38, 16, 128, 170, 0, 14, 9, 32), (38, 16, 128, 182, 0, 11, 9, 32), (38, 16, 128, 197, 0, 9, 9, 32), (38, 20, 128, 182, 0, 3, 9, 32), (38, 24, 25, 50, 7, 29, 9, 32), (38, 24, 25, 54, 7, 29, 9, 32), (38, 24, 25, 57, 8, 29, 9, 32), (38, 24, 25, 57, 24, 18, 9, 32), (38, 24, 25, 62, 7, 26, 9, 32), (38, 24, 33, 38, 4, 26, 9, 32), (38, 24, 128, 163, 0, 27, 9, 32), (38, 24, 128, 170, 0, 18, 9, 32), (38, 24, 128, 182, 0, 4, 9, 32), (38, 24, 128, 197, 0, 12, 9, 32), (38, 28, 128, 182, 0, 3, 9, 32), (38, 32, 1, 98, 8, 17, 9, 32), (38, 32, 25, 50, 7, 29, 9, 32), (38, 32, 25, 50, 20, 16, 9, 32), (38, 32, 25, 54, 7, 29, 9, 32), (38, 32, 25, 57, 7, 29, 9, 32), (38, 32, 25, 62, 7, 26, 9, 32), (38, 32, 33, 38, 8, 30, 9, 32), (38, 32, 128, 170, 0, 14, 9, 32), (38, 32, 128, 182, 0, 4, 9, 32), (38, 32, 128, 197, 0, 9, 9, 32), (38, 33, 54, 71, 8, 19, 9, 32), (38, 33, 54, 74, 8, 19, 9, 32), (38, 33, 68, 62, 8, 24, 9, 32), (38, 36, 128, 182, 0, 3, 9, 32), (38, 40, 1, 97, 8, 17, 9, 32), (38, 40, 25, 50, 8, 25, 9, 32), (38, 40, 25, 54, 8, 25, 9, 32), (38, 40, 25, 57, 8, 25, 9, 32), (38, 40, 25, 62, 7, 23, 9, 32), (38, 40, 25, 62, 8, 20, 9, 32), (38, 40, 33, 38, 6, 28, 9, 32), (38, 40, 128, 174, 0, 18, 9, 32), (38, 40, 128, 182, 0, 4, 9, 32), (38, 41, 54, 69, 8, 20, 9, 32), (38, 41, 54, 73, 8, 20, 9, 32), (38, 41, 68, 61, 8, 24, 9, 32), (38, 44, 128, 182, 0, 3, 9, 32), (38, 48, 1, 95, 8, 17, 9, 32), (38, 48, 25, 50, 1, 24, 9, 32), (38, 48, 25, 54, 1, 24, 9, 32), (38, 48, 25, 57, 1, 24, 9, 32), (38, 48, 25, 61, 8, 15, 9, 32), (38, 48, 25, 62, 2, 21, 9, 32), (38, 48, 33, 38, 8, 31, 9, 32), (38, 48, 128, 165, 0, 30, 9, 32), (38, 48, 128, 167, 0, 17, 9, 32), (38, 48, 128, 170, 0, 14, 9, 32), (38, 48, 128, 182, 0, 11, 9, 32), (38, 48, 128, 197, 0, 9, 9, 32), (38, 49, 54, 68, 8, 19, 9, 32), (38, 49, 54, 71, 8, 19, 9, 32), (38, 49, 68, 59, 8, 24, 9, 32), (38, 52, 128, 182, 0, 3, 9, 32), (38, 56, 1, 93, 8, 17, 9, 32), (38, 56, 25, 50, 7, 29, 9, 32), (38, 56, 25, 54, 7, 29, 9, 32), (38, 56, 25, 57, 8, 16, 9, 32), (38, 56, 25, 57, 8, 29, 9, 32), (38, 56, 25, 62, 8, 26, 9, 32), (38, 56, 33, 38, 6, 28, 9, 32), (38, 56, 54, 66, 8, 17, 9, 32), (38, 56, 54, 69, 8, 17, 9, 32), (38, 56, 68, 57, 8, 21, 9, 32), (38, 56, 128, 170, 0, 14, 9, 32), (38, 56, 128, 182, 0, 4, 9, 32), (38, 56, 128, 197, 0, 9, 9, 32), (38, 60, 128, 182, 0, 3, 9, 32), (39, 0, 1, 92, 16, 17, 9, 32), (39, 0, 25, 52, 7, 29, 9, 32), (39, 0, 25, 52, 20, 18, 9, 32), (39, 0, 25, 56, 7, 29, 9, 32), (39, 0, 25, 59, 7, 29, 9, 32), (39, 0, 25, 64, 7, 26, 9, 32), (39, 0, 33, 28, 8, 30, 9, 32), (39, 0, 49, 52, 20, 31, 9, 32), (39, 0, 49, 64, 20, 31, 9, 32), (39, 0, 49, 68, 20, 31, 9, 32), (39, 0, 49, 71, 20, 31, 9, 32), (39, 0, 54, 64, 18, 20, 9, 32), (39, 0, 54, 68, 18, 20, 9, 32), (39, 0, 68, 56, 18, 25, 9, 32), (39, 0, 128, 163, 0, 27, 9, 32), (39, 0, 128, 170, 0, 18, 9, 32), (39, 0, 128, 182, 0, 4, 9, 32), (39, 0, 128, 197, 0, 12, 9, 32), (39, 4, 128, 170, 0, 14, 9, 32), (39, 4, 128, 182, 0, 3, 9, 32), (39, 4, 128, 197, 0, 9, 9, 32), (39, 8, 25, 52, 8, 25, 9, 32), (39, 8, 25, 56, 8, 25, 9, 32), (39, 8, 25, 59, 8, 25, 9, 32), (39, 8, 25, 59, 16, 15, 9, 32), (39, 8, 25, 64, 7, 23, 9, 32), (39, 8, 33, 28, 6, 28, 9, 32), (39, 8, 128, 170, 0, 15, 9, 32), (39, 8, 128, 182, 0, 4, 9, 32), (39, 8, 128, 197, 0, 10, 9, 32), (39, 12, 128, 182, 0, 3, 9, 32), (39, 16, 25, 52, 1, 24, 9, 32), (39, 16, 25, 56, 1, 24, 9, 32), (39, 16, 25, 59, 1, 24, 9, 32), (39, 16, 25, 64, 2, 21, 9, 32), (39, 16, 25, 64, 8, 19, 9, 32), (39, 16, 128, 165, 0, 30, 9, 32), (39, 16, 128, 167, 0, 17, 9, 32), (39, 16, 128, 170, 0, 14, 9, 32), (39, 16, 128, 182, 0, 11, 9, 32), (39, 16, 128, 197, 0, 9, 9, 32), (39, 20, 128, 182, 0, 3, 9, 32), (39, 23, 68, 57, 16, 25, 9, 32), (39, 24, 1, 93, 16, 17, 9, 32), (39, 24, 25, 49, 28, 17, 9, 32), (39, 24, 25, 52, 7, 29, 9, 32), (39, 24, 25, 56, 7, 29, 9, 32), (39, 24, 25, 59, 8, 29, 9, 32), (39, 24, 25, 64, 8, 26, 9, 32), (39, 24, 33, 30, 20, 30, 9, 32), (39, 24, 49, 54, 28, 31, 9, 32), (39, 24, 49, 66, 28, 31, 9, 32), (39, 24, 49, 69, 28, 31, 9, 32), (39, 24, 49, 73, 28, 31, 9, 32), (39, 24, 54, 66, 16, 20, 9, 32), (39, 24, 54, 69, 16, 20, 9, 32), (39, 24, 68, 78, 22, 24, 9, 32), (39, 24, 128, 163, 0, 27, 9, 32), (39, 24, 128, 170, 0, 14, 9, 32), (39, 24, 128, 182, 0, 4, 9, 32), (39, 24, 128, 197, 0, 9, 9, 32), (39, 28, 128, 182, 0, 3, 9, 32), (39, 32, 25, 49, 7, 29, 9, 32), (39, 32, 25, 54, 7, 29, 9, 32), (39, 32, 25, 54, 20, 17, 9, 32), (39, 32, 25, 57, 7, 29, 9, 32), (39, 32, 25, 61, 7, 26, 9, 32), (39, 32, 128, 170, 0, 18, 9, 32), (39, 32, 128, 182, 0, 4, 9, 32), (39, 32, 128, 197, 0, 12, 9, 32), (39, 36, 128, 182, 0, 3, 9, 32), (39, 40, 25, 49, 8, 25, 9, 32), (39, 40, 25, 54, 8, 25, 9, 32), (39, 40, 25, 57, 8, 18, 9, 32), (39, 40, 25, 57, 8, 25, 9, 32), (39, 40, 25, 61, 7, 23, 9, 32), (39, 40, 128, 163, 0, 27, 9, 32), (39, 40, 128, 174, 0, 18, 9, 32), (39, 40, 128, 182, 0, 4, 9, 32), (39, 44, 128, 182, 0, 3, 9, 32), (39, 48, 25, 49, 1, 24, 9, 32), (39, 48, 25, 54, 1, 24, 9, 32), (39, 48, 25, 57, 1, 24, 9, 32), (39, 48, 25, 61, 2, 21, 9, 32), (39, 48, 25, 66, 8, 20, 9, 32), (39, 48, 128, 165, 0, 30, 9, 32), (39, 48, 128, 167, 0, 17, 9, 32), (39, 48, 128, 170, 0, 14, 9, 32), (39, 48, 128, 182, 0, 11, 9, 32), (39, 48, 128, 197, 0, 9, 9, 32), (39, 52, 128, 182, 0, 3, 9, 32), (39, 55, 33, 28, 6, 28, 9, 32), (39, 56, 25, 49, 7, 29, 9, 32), (39, 56, 25, 54, 7, 29, 9, 32), (39, 56, 25, 57, 8, 29, 9, 32), (39, 56, 25, 61, 8, 17, 9, 32), (39, 56, 25, 61, 8, 26, 9, 32), (39, 56, 68, 76, 4, 22, 9, 32), (39, 56, 128, 170, 0, 18, 9, 32), (39, 56, 128, 182, 0, 4, 9, 32), (39, 56, 128, 197, 0, 12, 9, 32), (39, 60, 128, 182, 0, 3, 9, 32), (39, 61, 27, 50, 36, 25, 9, 32), (39, 62, 27, 54, 36, 26, 9, 32), (39, 63, 27, 57, 36, 26, 9, 32), (40, 0, 25, 50, 7, 29, 9, 32), (40, 0, 25, 50, 24, 19, 9, 32), (40, 0, 25, 54, 7, 29, 9, 32), (40, 0, 25, 57, 7, 29, 9, 32), (40, 0, 25, 62, 7, 26, 9, 32), (40, 0, 27, 62, 36, 29, 9, 32), (40, 0, 33, 38, 8, 30, 9, 32), (40, 0, 49, 50, 36, 31, 9, 32), (40, 0, 49, 62, 36, 31, 9, 32), (40, 0, 49, 66, 36, 31, 9, 32), (40, 0, 49, 69, 36, 31, 9, 32), (40, 0, 68, 76, 8, 25, 9, 32), (40, 0, 128, 163, 0, 27, 9, 32), (40, 0, 128, 170, 0, 18, 9, 32), (40, 0, 128, 177, 0, 13, 9, 32), (40, 0, 128, 182, 0, 4, 9, 32), (40, 0, 128, 197, 0, 12, 9, 32), (40, 4, 128, 170, 0, 14, 9, 32), (40, 4, 128, 182, 0, 3, 9, 32), (40, 4, 128, 197, 0, 9, 9, 32), (40, 8, 25, 50, 8, 25, 9, 32), (40, 8, 25, 54, 7, 25, 9, 32), (40, 8, 25, 54, 20, 17, 9, 32), (40, 8, 25, 57, 8, 25, 9, 32), (40, 8, 25, 62, 7, 23, 9, 32), (40, 8, 33, 38, 6, 28, 9, 32), (40, 8, 128, 170, 0, 15, 9, 32), (40, 8, 128, 182, 0, 4, 9, 32), (40, 8, 128, 197, 0, 10, 9, 32), (40, 12, 128, 182, 0, 3, 9, 32), (40, 16, 1, 100, 16, 17, 9, 32), (40, 16, 25, 50, 1, 24, 9, 32), (40, 16, 25, 54, 1, 24, 9, 32), (40, 16, 25, 57, 1, 24, 9, 32), (40, 16, 25, 62, 2, 21, 9, 32), (40, 16, 25, 62, 20, 19, 9, 32), (40, 16, 54, 73, 16, 20, 9, 32), (40, 16, 54, 76, 16, 20, 9, 32), (40, 16, 68, 64, 16, 25, 9, 32), (40, 16, 128, 165, 0, 30, 9, 32), (40, 16, 128, 167, 0, 17, 9, 32), (40, 16, 128, 170, 0, 14, 9, 32), (40, 16, 128, 182, 0, 11, 9, 32), (40, 16, 128, 197, 0, 9, 9, 32), (40, 20, 128, 182, 0, 3, 9, 32), (40, 24, 25, 50, 7, 29, 9, 32), (40, 24, 25, 54, 7, 29, 9, 32), (40, 24, 25, 57, 8, 29, 9, 32), (40, 24, 25, 57, 24, 18, 9, 32), (40, 24, 25, 62, 7, 26, 9, 32), (40, 24, 33, 38, 4, 26, 9, 32), (40, 24, 128, 163, 0, 27, 9, 32), (40, 24, 128, 170, 0, 14, 9, 32), (40, 24, 128, 182, 0, 4, 9, 32), (40, 24, 128, 197, 0, 9, 9, 32), (40, 28, 128, 182, 0, 3, 9, 32), (40, 32, 1, 98, 8, 17, 9, 32), (40, 32, 25, 50, 7, 29, 9, 32), (40, 32, 25, 50, 20, 16, 9, 32), (40, 32, 25, 54, 7, 29, 9, 32), (40, 32, 25, 57, 7, 29, 9, 32), (40, 32, 25, 62, 7, 26, 9, 32), (40, 32, 33, 38, 8, 30, 9, 32), (40, 32, 54, 74, 9, 19, 9, 32), (40, 32, 68, 62, 9, 24, 9, 32), (40, 32, 128, 170, 0, 18, 9, 32), (40, 32, 128, 182, 0, 4, 9, 32), (40, 32, 128, 197, 0, 12, 9, 32), (40, 33, 54, 71, 8, 19, 9, 32), (40, 36, 128, 182, 0, 3, 9, 32), (40, 40, 1, 97, 8, 17, 9, 32), (40, 40, 25, 50, 8, 25, 9, 32), (40, 40, 25, 54, 8, 25, 9, 32), (40, 40, 25, 57, 8, 25, 9, 32), (40, 40, 25, 62, 7, 23, 9, 32), (40, 40, 25, 62, 8, 20, 9, 32), (40, 40, 33, 38, 6, 28, 9, 32), (40, 40, 54, 73, 8, 19, 9, 32), (40, 40, 68, 61, 8, 24, 9, 32), (40, 40, 128, 174, 0, 18, 9, 32), (40, 40, 128, 182, 0, 4, 9, 32), (40, 41, 54, 69, 8, 20, 9, 32), (40, 44, 128, 182, 0, 3, 9, 32), (40, 48, 1, 95, 8, 17, 9, 32), (40, 48, 25, 50, 1, 24, 9, 32), (40, 48, 25, 54, 1, 24, 9, 32), (40, 48, 25, 57, 1, 24, 9, 32), (40, 48, 25, 61, 8, 15, 9, 32), (40, 48, 25, 62, 2, 21, 9, 32), (40, 48, 33, 38, 8, 31, 9, 32), (40, 48, 54, 71, 9, 19, 9, 32), (40, 48, 68, 59, 9, 24, 9, 32), (40, 48, 128, 165, 0, 30, 9, 32), (40, 48, 128, 167, 0, 17, 9, 32), (40, 48, 128, 170, 0, 14, 9, 32), (40, 48, 128, 182, 0, 11, 9, 32), (40, 48, 128, 197, 0, 9, 9, 32), (40, 49, 54, 68, 8, 19, 9, 32), (40, 52, 128, 182, 0, 3, 9, 32), (40, 56, 1, 93, 8, 17, 9, 32), (40, 56, 25, 50, 7, 29, 9, 32), (40, 56, 25, 54, 7, 29, 9, 32), (40, 56, 25, 57, 8, 16, 9, 32), (40, 56, 25, 57, 8, 29, 9, 32), (40, 56, 25, 62, 8, 26, 9, 32), (40, 56, 33, 38, 6, 28, 9, 32), (40, 56, 54, 66, 8, 17, 9, 32), (40, 56, 54, 69, 9, 17, 9, 32), (40, 56, 68, 57, 9, 21, 9, 32), (40, 56, 128, 170, 0, 18, 9, 32), (40, 56, 128, 182, 0, 4, 9, 32), (40, 56, 128, 197, 0, 12, 9, 32), (40, 60, 128, 182, 0, 3, 9, 32), (41, 0, 1, 92, 16, 17, 9, 32), (41, 0, 25, 52, 7, 29, 9, 32), (41, 0, 25, 52, 20, 18, 9, 32), (41, 0, 25, 56, 7, 29, 9, 32), (41, 0, 25, 59, 7, 29, 9, 32), (41, 0, 25, 64, 7, 26, 9, 32), (41, 0, 33, 28, 8, 30, 9, 32), (41, 0, 49, 52, 20, 31, 9, 32), (41, 0, 49, 64, 20, 31, 9, 32), (41, 0, 49, 68, 20, 31, 9, 32), (41, 0, 49, 71, 20, 31, 9, 32), (41, 0, 54, 64, 18, 20, 9, 32), (41, 0, 54, 68, 18, 20, 9, 32), (41, 0, 68, 56, 18, 25, 9, 32), (41, 0, 128, 163, 0, 27, 9, 32), (41, 0, 128, 170, 0, 18, 9, 32), (41, 0, 128, 182, 0, 4, 9, 32), (41, 0, 128, 197, 0, 12, 9, 32), (41, 4, 128, 170, 0, 14, 9, 32), (41, 4, 128, 182, 0, 3, 9, 32), (41, 4, 128, 197, 0, 9, 9, 32), (41, 8, 25, 52, 8, 25, 9, 32), (41, 8, 25, 56, 8, 25, 9, 32), (41, 8, 25, 59, 8, 25, 9, 32), (41, 8, 25, 59, 16, 15, 9, 32), (41, 8, 25, 64, 7, 23, 9, 32), (41, 8, 33, 28, 6, 28, 9, 32), (41, 8, 128, 170, 0, 15, 9, 32), (41, 8, 128, 182, 0, 4, 9, 32), (41, 8, 128, 197, 0, 10, 9, 32), (41, 12, 128, 182, 0, 3, 9, 32), (41, 16, 25, 52, 1, 24, 9, 32), (41, 16, 25, 56, 1, 24, 9, 32), (41, 16, 25, 59, 1, 24, 9, 32), (41, 16, 25, 64, 2, 21, 9, 32), (41, 16, 25, 64, 8, 19, 9, 32), (41, 16, 128, 165, 0, 30, 9, 32), (41, 16, 128, 167, 0, 17, 9, 32), (41, 16, 128, 170, 0, 14, 9, 32), (41, 16, 128, 182, 0, 11, 9, 32), (41, 16, 128, 197, 0, 9, 9, 32), (41, 20, 128, 182, 0, 3, 9, 32), (41, 24, 1, 93, 16, 17, 9, 32), (41, 24, 25, 49, 28, 17, 9, 32), (41, 24, 25, 52, 7, 29, 9, 32), (41, 24, 25, 56, 7, 29, 9, 32), (41, 24, 25, 59, 8, 29, 9, 32), (41, 24, 25, 64, 8, 26, 9, 32), (41, 24, 33, 30, 20, 30, 9, 32), (41, 24, 49, 54, 28, 31, 9, 32), (41, 24, 49, 66, 28, 31, 9, 32), (41, 24, 49, 69, 28, 31, 9, 32), (41, 24, 49, 73, 28, 31, 9, 32), (41, 24, 54, 66, 16, 20, 9, 32), (41, 24, 54, 69, 16, 20, 9, 32), (41, 24, 68, 57, 16, 25, 9, 32), (41, 24, 128, 163, 0, 27, 9, 32), (41, 24, 128, 170, 0, 14, 9, 32), (41, 24, 128, 182, 0, 4, 9, 32), (41, 24, 128, 197, 0, 9, 9, 32), (41, 28, 128, 182, 0, 3, 9, 32), (41, 32, 25, 49, 7, 29, 9, 32), (41, 32, 25, 54, 7, 29, 9, 32), (41, 32, 25, 54, 20, 17, 9, 32), (41, 32, 25, 57, 7, 29, 9, 32), (41, 32, 25, 61, 7, 26, 9, 32), (41, 32, 128, 170, 0, 18, 9, 32), (41, 32, 128, 182, 0, 4, 9, 32), (41, 32, 128, 197, 0, 12, 9, 32), (41, 36, 128, 182, 0, 3, 9, 32), (41, 40, 25, 49, 8, 25, 9, 32), (41, 40, 25, 54, 8, 25, 9, 32), (41, 40, 25, 57, 8, 18, 9, 32), (41, 40, 25, 57, 8, 25, 9, 32), (41, 40, 25, 61, 7, 23, 9, 32), (41, 40, 128, 163, 0, 21, 9, 32), (41, 40, 128, 174, 0, 18, 9, 32), (41, 40, 128, 182, 0, 4, 9, 32), (41, 44, 128, 182, 0, 3, 9, 32), (41, 48, 1, 93, 8, 17, 9, 32), (41, 48, 25, 49, 1, 24, 9, 32), (41, 48, 25, 54, 1, 24, 9, 32), (41, 48, 25, 57, 1, 24, 9, 32), (41, 48, 25, 61, 2, 21, 9, 32), (41, 48, 25, 66, 8, 20, 9, 32), (41, 48, 54, 66, 7, 19, 9, 32), (41, 48, 54, 69, 7, 19, 9, 32), (41, 48, 68, 57, 7, 24, 9, 32), (41, 48, 128, 165, 0, 30, 9, 32), (41, 48, 128, 167, 0, 17, 9, 32), (41, 48, 128, 170, 0, 14, 9, 32), (41, 48, 128, 182, 0, 11, 9, 32), (41, 48, 128, 197, 0, 9, 9, 32), (41, 52, 128, 182, 0, 3, 9, 32), (41, 55, 33, 28, 6, 28, 9, 32), (41, 56, 25, 49, 7, 29, 9, 32), (41, 56, 25, 54, 7, 29, 9, 32), (41, 56, 25, 57, 8, 29, 9, 32), (41, 56, 25, 61, 8, 17, 9, 32), (41, 56, 25, 61, 8, 26, 9, 32), (41, 56, 54, 61, 6, 20, 9, 32), (41, 56, 54, 66, 6, 20, 9, 32), (41, 56, 68, 56, 6, 24, 9, 32), (41, 56, 128, 170, 0, 18, 9, 32), (41, 56, 128, 182, 0, 4, 9, 32), (41, 56, 128, 197, 0, 12, 9, 32), (41, 57, 1, 92, 7, 18, 9, 32), (41, 60, 128, 182, 0, 3, 9, 32), (41, 61, 27, 50, 36, 25, 9, 32), (41, 62, 27, 54, 36, 26, 9, 32), (41, 63, 27, 57, 36, 26, 9, 32), (42, 0, 1, 90, 16, 18, 9, 32), (42, 0, 25, 50, 7, 29, 9, 32), (42, 0, 25, 50, 24, 19, 9, 32), (42, 0, 25, 54, 7, 29, 9, 32), (42, 0, 25, 57, 7, 29, 9, 32), (42, 0, 25, 62, 7, 26, 9, 32), (42, 0, 27, 62, 36, 29, 9, 32), (42, 0, 33, 38, 8, 30, 9, 32), (42, 0, 49, 50, 36, 31, 9, 32), (42, 0, 49, 62, 36, 31, 9, 32), (42, 0, 49, 66, 36, 31, 9, 32), (42, 0, 49, 69, 36, 31, 9, 32), (42, 0, 54, 61, 8, 25, 9, 32), (42, 0, 54, 66, 8, 25, 9, 32), (42, 0, 68, 54, 8, 31, 9, 32), (42, 0, 128, 163, 0, 27, 9, 32), (42, 0, 128, 177, 0, 13, 9, 32), (42, 0, 128, 182, 0, 4, 9, 32), (42, 4, 128, 182, 0, 3, 9, 32), (42, 8, 25, 50, 8, 25, 9, 32), (42, 8, 25, 54, 7, 25, 9, 32), (42, 8, 25, 54, 20, 17, 9, 32), (42, 8, 25, 57, 8, 25, 9, 32), (42, 8, 25, 62, 7, 23, 9, 32), (42, 8, 33, 38, 6, 28, 9, 32), (42, 8, 128, 170, 0, 14, 9, 32), (42, 8, 128, 182, 0, 4, 9, 32), (42, 8, 128, 197, 0, 9, 9, 32), (42, 12, 128, 182, 0, 3, 9, 32), (42, 16, 25, 50, 1, 24, 9, 32), (42, 16, 25, 54, 1, 24, 9, 32), (42, 16, 25, 57, 1, 24, 9, 32), (42, 16, 25, 62, 2, 21, 9, 32), (42, 16, 25, 62, 20, 19, 9, 32), (42, 16, 68, 64, 15, 26, 9, 32), (42, 16, 128, 165, 0, 30, 9, 32), (42, 16, 128, 167, 0, 17, 9, 32), (42, 16, 128, 170, 0, 14, 9, 32), (42, 16, 128, 182, 0, 11, 9, 32), (42, 16, 128, 197, 0, 9, 9, 32), (42, 20, 128, 182, 0, 3, 9, 32), (42, 24, 25, 50, 7, 29, 9, 32), (42, 24, 25, 54, 7, 29, 9, 32), (42, 24, 25, 57, 8, 29, 9, 32), (42, 24, 25, 57, 24, 18, 9, 32), (42, 24, 25, 62, 7, 26, 9, 32), (42, 24, 33, 38, 4, 26, 9, 32), (42, 24, 128, 163, 0, 27, 9, 32), (42, 24, 128, 170, 0, 18, 9, 32), (42, 24, 128, 182, 0, 4, 9, 32), (42, 24, 128, 197, 0, 12, 9, 32), (42, 28, 128, 182, 0, 3, 9, 32), (42, 31, 68, 62, 8, 26, 9, 32), (42, 32, 25, 50, 7, 29, 9, 32), (42, 32, 25, 50, 20, 16, 9, 32), (42, 32, 25, 54, 7, 29, 9, 32), (42, 32, 25, 57, 7, 29, 9, 32), (42, 32, 25, 62, 7, 26, 9, 32), (42, 32, 33, 38, 8, 30, 9, 32), (42, 32, 128, 170, 0, 14, 9, 32), (42, 32, 128, 182, 0, 4, 9, 32), (42, 32, 128, 197, 0, 9, 9, 32), (42, 36, 128, 182, 0, 3, 9, 32), (42, 39, 68, 61, 8, 28, 9, 32), (42, 40, 25, 50, 8, 25, 9, 32), (42, 40, 25, 54, 8, 25, 9, 32), (42, 40, 25, 57, 8, 25, 9, 32), (42, 40, 25, 62, 7, 23, 9, 32), (42, 40, 25, 62, 8, 20, 9, 32), (42, 40, 33, 38, 6, 28, 9, 32), (42, 40, 128, 174, 0, 18, 9, 32), (42, 40, 128, 182, 0, 4, 9, 32), (42, 44, 128, 182, 0, 3, 9, 32), (42, 48, 25, 50, 1, 24, 9, 32), (42, 48, 25, 54, 1, 24, 9, 32), (42, 48, 25, 57, 1, 24, 9, 32), (42, 48, 25, 61, 8, 15, 9, 32), (42, 48, 25, 62, 2, 21, 9, 32), (42, 48, 68, 59, 8, 25, 9, 32), (42, 48, 128, 165, 0, 30, 9, 32), (42, 48, 128, 167, 0, 17, 9, 32), (42, 48, 128, 170, 0, 14, 9, 32), (42, 48, 128, 182, 0, 11, 9, 32), (42, 48, 128, 197, 0, 9, 9, 32), (42, 52, 128, 182, 0, 3, 9, 32), (42, 55, 68, 57, 9, 22, 9, 32), (42, 56, 25, 50, 7, 29, 9, 32), (42, 56, 25, 54, 7, 29, 9, 32), (42, 56, 25, 57, 8, 16, 9, 32), (42, 56, 25, 57, 8, 29, 9, 32), (42, 56, 25, 62, 8, 26, 9, 32), (42, 56, 33, 38, 4, 26, 9, 32), (42, 56, 128, 170, 0, 14, 9, 32), (42, 56, 128, 182, 0, 4, 9, 32), (42, 56, 128, 197, 0, 9, 9, 32), (42, 60, 128, 182, 0, 3, 9, 32), (43, 0, 25, 52, 7, 29, 9, 32), (43, 0, 25, 52, 20, 18, 9, 32), (43, 0, 25, 56, 7, 29, 9, 32), (43, 0, 25, 59, 7, 29, 9, 32), (43, 0, 25, 64, 7, 26, 9, 32), (43, 0, 33, 28, 8, 30, 9, 32), (43, 0, 49, 52, 20, 31, 9, 32), (43, 0, 49, 64, 20, 31, 9, 32), (43, 0, 49, 68, 20, 31, 9, 32), (43, 0, 49, 71, 20, 31, 9, 32), (43, 0, 68, 59, 15, 26, 9, 32), (43, 0, 128, 163, 0, 27, 9, 32), (43, 0, 128, 170, 0, 18, 9, 32), (43, 0, 128, 182, 0, 4, 9, 32), (43, 0, 128, 197, 0, 12, 9, 32), (43, 4, 128, 170, 0, 14, 9, 32), (43, 4, 128, 182, 0, 3, 9, 32), (43, 4, 128, 197, 0, 9, 9, 32), (43, 8, 25, 52, 8, 25, 9, 32), (43, 8, 25, 56, 8, 25, 9, 32), (43, 8, 25, 59, 8, 25, 9, 32), (43, 8, 25, 59, 16, 15, 9, 32), (43, 8, 25, 64, 7, 23, 9, 32), (43, 8, 33, 28, 6, 28, 9, 32), (43, 8, 128, 170, 0, 15, 9, 32), (43, 8, 128, 182, 0, 4, 9, 32), (43, 8, 128, 197, 0, 10, 9, 32), (43, 12, 128, 182, 0, 3, 9, 32), (43, 16, 25, 52, 1, 24, 9, 32), (43, 16, 25, 56, 1, 24, 9, 32), (43, 16, 25, 59, 1, 24, 9, 32), (43, 16, 25, 64, 2, 21, 9, 32), (43, 16, 25, 64, 8, 19, 9, 32), (43, 16, 33, 30, 8, 30, 9, 32), (43, 16, 68, 61, 2, 28, 9, 32), (43, 16, 128, 165, 0, 30, 9, 32), (43, 16, 128, 167, 0, 17, 9, 32), (43, 16, 128, 170, 0, 14, 9, 32), (43, 16, 128, 182, 0, 11, 9, 32), (43, 16, 128, 197, 0, 9, 9, 32), (43, 20, 128, 182, 0, 3, 9, 32), (43, 24, 25, 49, 28, 17, 9, 32), (43, 24, 25, 52, 7, 29, 9, 32), (43, 24, 25, 56, 7, 29, 9, 32), (43, 24, 25, 59, 8, 29, 9, 32), (43, 24, 25, 64, 8, 26, 9, 32), (43, 24, 33, 33, 19, 31, 9, 32), (43, 24, 49, 57, 28, 31, 9, 32), (43, 24, 49, 64, 28, 31, 9, 32), (43, 24, 49, 69, 28, 31, 9, 32), (43, 24, 49, 73, 28, 31, 9, 32), (43, 24, 54, 64, 20, 16, 9, 32), (43, 24, 54, 69, 11, 16, 9, 32), (43, 24, 54, 73, 13, 17, 9, 32), (43, 24, 68, 61, 12, 30, 9, 32), (43, 24, 128, 163, 0, 27, 9, 32), (43, 24, 128, 170, 0, 14, 9, 32), (43, 24, 128, 182, 0, 4, 9, 32), (43, 24, 128, 197, 0, 9, 9, 32), (43, 28, 128, 182, 0, 3, 9, 32), (43, 32, 25, 49, 7, 29, 9, 32), (43, 32, 25, 52, 7, 29, 9, 32), (43, 32, 25, 52, 20, 17, 9, 32), (43, 32, 25, 57, 7, 29, 9, 32), (43, 32, 25, 61, 7, 26, 9, 32), (43, 32, 128, 170, 0, 18, 9, 32), (43, 32, 128, 182, 0, 4, 9, 32), (43, 32, 128, 197, 0, 12, 9, 32), (43, 36, 128, 182, 0, 3, 9, 32), (43, 37, 54, 71, 2, 13, 9, 32), (43, 37, 68, 59, 2, 16, 9, 32), (43, 40, 25, 49, 8, 25, 9, 32), (43, 40, 25, 52, 8, 25, 9, 32), (43, 40, 25, 57, 8, 18, 9, 32), (43, 40, 25, 57, 8, 25, 9, 32), (43, 40, 25, 61, 7, 23, 9, 32), (43, 40, 54, 69, 8, 17, 9, 32), (43, 40, 68, 57, 13, 19, 9, 32), (43, 40, 128, 163, 0, 27, 9, 32), (43, 40, 128, 174, 0, 18, 9, 32), (43, 40, 128, 182, 0, 4, 9, 32), (43, 44, 128, 182, 0, 3, 9, 32), (43, 48, 25, 49, 1, 24, 9, 32), (43, 48, 25, 52, 1, 24, 9, 32), (43, 48, 25, 57, 1, 24, 9, 32), (43, 48, 25, 61, 2, 21, 9, 32), (43, 48, 25, 64, 8, 20, 9, 32), (43, 48, 33, 33, 16, 29, 9, 32), (43, 48, 128, 165, 0, 30, 9, 32), (43, 48, 128, 167, 0, 17, 9, 32), (43, 48, 128, 170, 0, 14, 9, 32), (43, 48, 128, 182, 0, 11, 9, 32), (43, 48, 128, 197, 0, 9, 9, 32), (43, 52, 128, 182, 0, 3, 9, 32), (43, 56, 25, 49, 7, 29, 9, 32), (43, 56, 25, 52, 7, 29, 9, 32), (43, 56, 25, 57, 8, 29, 9, 32), (43, 56, 25, 61, 8, 17, 9, 32), (43, 56, 25, 61, 8, 26, 9, 32), (43, 56, 128, 170, 0, 18, 9, 32), (43, 56, 128, 182, 0, 4, 9, 32), (43, 56, 128, 197, 0, 12, 9, 32), (43, 60, 128, 182, 0, 3, 9, 32), (44, 0, 1, 90, 16, 20, 9, 32), (44, 0, 25, 42, 36, 17, 9, 32), (44, 0, 25, 49, 7, 29, 9, 32), (44, 0, 25, 54, 7, 29, 9, 32), (44, 0, 25, 57, 7, 29, 9, 32), (44, 0, 25, 61, 7, 26, 9, 32), (44, 0, 33, 30, 8, 30, 9, 32), (44, 0, 49, 54, 36, 31, 9, 32), (44, 0, 49, 66, 41, 31, 9, 32), (44, 0, 49, 69, 36, 31, 9, 32), (44, 0, 49, 73, 36, 31, 9, 32), (44, 0, 54, 61, 18, 20, 9, 32), (44, 0, 54, 66, 18, 20, 9, 32), (44, 0, 68, 69, 8, 31, 9, 32), (44, 0, 128, 163, 0, 27, 9, 32), (44, 0, 128, 177, 0, 13, 9, 32), (44, 0, 128, 182, 0, 4, 9, 32), (44, 4, 128, 170, 0, 14, 9, 32), (44, 4, 128, 182, 0, 3, 9, 32), (44, 4, 128, 197, 0, 9, 9, 32), (44, 8, 25, 49, 8, 25, 9, 32), (44, 8, 25, 54, 7, 25, 9, 32), (44, 8, 25, 54, 20, 15, 9, 32), (44, 8, 25, 57, 8, 25, 9, 32), (44, 8, 25, 61, 7, 23, 9, 32), (44, 8, 33, 30, 6, 28, 9, 32), (44, 8, 68, 68, 8, 30, 9, 32), (44, 8, 128, 170, 0, 15, 9, 32), (44, 8, 128, 182, 0, 4, 9, 32), (44, 8, 128, 197, 0, 10, 9, 32), (44, 12, 128, 182, 0, 3, 9, 32), (44, 16, 25, 49, 1, 24, 9, 32), (44, 16, 25, 54, 1, 24, 9, 32), (44, 16, 25, 57, 1, 24, 9, 32), (44, 16, 25, 61, 2, 21, 9, 32), (44, 16, 25, 61, 20, 21, 9, 32), (44, 16, 68, 66, 8, 30, 9, 32), (44, 16, 128, 165, 0, 30, 9, 32), (44, 16, 128, 167, 0, 17, 9, 32), (44, 16, 128, 170, 0, 14, 9, 32), (44, 16, 128, 182, 0, 11, 9, 32), (44, 16, 128, 197, 0, 9, 9, 32), (44, 20, 128, 182, 0, 3, 9, 32), (44, 24, 1, 93, 16, 20, 9, 32), (44, 24, 25, 49, 7, 29, 9, 32), (44, 24, 25, 54, 7, 29, 9, 32), (44, 24, 25, 57, 8, 29, 9, 32), (44, 24, 25, 57, 24, 16, 9, 32), (44, 24, 25, 61, 7, 26, 9, 32), (44, 24, 33, 30, 4, 26, 9, 32), (44, 24, 54, 66, 20, 17, 9, 32), (44, 24, 54, 69, 20, 17, 9, 32), (44, 24, 68, 64, 16, 26, 9, 32), (44, 24, 128, 163, 0, 27, 9, 32), (44, 24, 128, 170, 0, 14, 9, 32), (44, 24, 128, 182, 0, 4, 9, 32), (44, 24, 128, 197, 0, 9, 9, 32), (44, 28, 128, 182, 0, 3, 9, 32), (44, 32, 25, 49, 7, 29, 9, 32), (44, 32, 25, 54, 7, 29, 9, 32), (44, 32, 25, 54, 20, 14, 9, 32), (44, 32, 25, 57, 7, 29, 9, 32), (44, 32, 25, 61, 7, 26, 9, 32), (44, 32, 33, 30, 8, 30, 9, 32), (44, 32, 128, 170, 0, 18, 9, 32), (44, 32, 128, 182, 0, 4, 9, 32), (44, 32, 128, 197, 0, 12, 9, 32), (44, 36, 128, 182, 0, 3, 9, 32), (44, 40, 25, 49, 8, 25, 9, 32), (44, 40, 25, 54, 8, 25, 9, 32), (44, 40, 25, 57, 8, 25, 9, 32), (44, 40, 25, 62, 7, 23, 9, 32), (44, 40, 25, 62, 8, 20, 9, 32), (44, 40, 33, 30, 6, 28, 9, 32), (44, 40, 68, 66, 15, 28, 9, 32), (44, 40, 128, 174, 0, 18, 9, 32), (44, 40, 128, 182, 0, 4, 9, 32), (44, 44, 128, 182, 0, 3, 9, 32), (44, 48, 1, 97, 15, 20, 9, 32), (44, 48, 25, 49, 1, 24, 9, 32), (44, 48, 25, 54, 1, 24, 9, 32), (44, 48, 25, 57, 1, 24, 9, 32), (44, 48, 25, 61, 2, 21, 9, 32), (44, 48, 25, 61, 8, 14, 9, 32), (44, 48, 128, 165, 0, 30, 9, 32), (44, 48, 128, 167, 0, 17, 9, 32), (44, 48, 128, 170, 0, 14, 9, 32), (44, 48, 128, 182, 0, 11, 9, 32), (44, 48, 128, 197, 0, 9, 9, 32), (44, 49, 54, 69, 15, 19, 9, 32), (44, 49, 54, 73, 15, 19, 9, 32), (44, 52, 128, 182, 0, 3, 9, 32), (44, 56, 25, 49, 7, 29, 9, 32), (44, 56, 25, 54, 7, 29, 9, 32), (44, 56, 25, 57, 8, 14, 9, 32), (44, 56, 25, 57, 8, 29, 9, 32), (44, 56, 25, 61, 8, 26, 9, 32), (44, 56, 128, 170, 0, 18, 9, 32), (44, 56, 128, 182, 0, 4, 9, 32), (44, 56, 128, 197, 0, 12, 9, 32), (44, 60, 128, 182, 0, 3, 9, 32), (45, 0, 1, 97, 16, 20, 9, 32), (45, 0, 25, 49, 7, 29, 9, 32), (45, 0, 25, 54, 7, 29, 9, 32), (45, 0, 25, 56, 7, 29, 9, 32), (45, 0, 25, 61, 7, 26, 9, 32), (45, 0, 33, 37, 19, 31, 9, 32), (45, 0, 49, 49, 36, 31, 9, 32), (45, 0, 49, 61, 36, 31, 9, 32), (45, 0, 49, 68, 36, 31, 9, 32), (45, 0, 54, 61, 20, 17, 9, 32), (45, 0, 54, 66, 20, 17, 9, 32), (45, 0, 54, 68, 20, 17, 9, 32), (45, 0, 54, 73, 0, 17, 9, 32), (45, 0, 68, 66, 18, 27, 9, 32), (45, 0, 128, 163, 0, 27, 9, 32), (45, 0, 128, 170, 0, 18, 9, 32), (45, 0, 128, 177, 0, 13, 9, 32), (45, 0, 128, 182, 0, 5, 9, 32), (45, 0, 128, 197, 0, 12, 9, 32), (45, 2, 128, 182, 0, 4, 9, 32), (45, 3, 128, 182, 0, 5, 9, 32), (45, 4, 128, 170, 0, 14, 9, 32), (45, 4, 128, 182, 0, 3, 9, 32), (45, 4, 128, 197, 0, 9, 9, 32), (45, 5, 128, 182, 0, 5, 9, 32), (45, 7, 128, 182, 0, 4, 9, 32), (45, 8, 25, 49, 8, 25, 9, 32), (45, 8, 25, 54, 8, 25, 9, 32), (45, 8, 25, 56, 8, 25, 9, 32), (45, 8, 25, 61, 7, 23, 9, 32), (45, 8, 128, 170, 0, 15, 9, 32), (45, 8, 128, 182, 0, 5, 9, 32), (45, 8, 128, 197, 0, 10, 9, 32), (45, 9, 128, 182, 0, 3, 9, 32), (45, 11, 128, 182, 0, 5, 9, 32), (45, 12, 128, 182, 0, 4, 9, 32), (45, 13, 128, 182, 0, 5, 9, 32), (45, 15, 128, 182, 0, 3, 9, 32), (45, 16, 25, 49, 1, 24, 9, 32), (45, 16, 25, 54, 1, 24, 9, 32), (45, 16, 25, 56, 1, 24, 9, 32), (45, 16, 25, 61, 2, 21, 9, 32), (45, 16, 128, 165, 0, 30, 9, 32), (45, 16, 128, 167, 0, 17, 9, 32), (45, 16, 128, 170, 0, 14, 9, 32), (45, 16, 128, 182, 0, 5, 9, 32), (45, 16, 128, 197, 0, 9, 9, 32), (45, 17, 128, 182, 1, 4, 9, 32), (45, 19, 128, 182, 0, 5, 9, 32), (45, 20, 128, 182, 0, 3, 9, 32), (45, 21, 128, 182, 0, 5, 9, 32), (45, 22, 49, 65, 29, 31, 9, 32), (45, 23, 128, 182, 0, 4, 9, 32), (45, 24, 1, 97, 16, 20, 9, 32), (45, 24, 25, 49, 7, 29, 9, 32), (45, 24, 25, 54, 7, 29, 9, 32), (45, 24, 25, 56, 8, 29, 9, 32), (45, 24, 25, 61, 8, 26, 9, 32), (45, 24, 33, 37, 20, 31, 9, 32), (45, 24, 54, 61, 20, 17, 9, 32), (45, 24, 54, 65, 20, 17, 9, 32), (45, 24, 54, 68, 20, 17, 9, 32), (45, 24, 54, 73, 20, 17, 9, 32), (45, 24, 68, 65, 17, 27, 9, 32), (45, 24, 128, 163, 0, 27, 9, 32), (45, 24, 128, 170, 0, 14, 9, 32), (45, 24, 128, 182, 0, 5, 9, 32), (45, 24, 128, 197, 0, 9, 9, 32), (45, 25, 128, 182, 1, 3, 9, 32), (45, 27, 128, 182, 0, 5, 9, 32), (45, 28, 128, 182, 0, 4, 9, 32), (45, 30, 128, 182, 0, 5, 9, 32), (45, 31, 128, 182, 0, 3, 9, 32), (45, 32, 25, 49, 7, 29, 9, 32), (45, 32, 25, 53, 7, 29, 9, 32), (45, 32, 25, 56, 7, 29, 9, 32), (45, 32, 25, 61, 7, 26, 9, 32), (45, 32, 119, 72, 24, 31, 9, 32), (45, 32, 128, 170, 0, 18, 9, 32), (45, 32, 128, 182, 0, 5, 9, 32), (45, 32, 128, 197, 0, 12, 9, 32), (45, 33, 128, 182, 0, 4, 9, 32), (45, 35, 128, 182, 0, 5, 9, 32), (45, 36, 128, 182, 0, 3, 9, 32), (45, 37, 128, 182, 0, 5, 9, 32), (45, 39, 128, 182, 0, 4, 9, 32), (45, 40, 25, 49, 8, 25, 9, 32), (45, 40, 25, 53, 8, 25, 9, 32), (45, 40, 25, 56, 8, 25, 9, 32), (45, 40, 25, 61, 7, 23, 9, 32), (45, 40, 128, 163, 0, 21, 9, 32), (45, 40, 128, 174, 0, 18, 9, 32), (45, 40, 128, 182, 0, 5, 9, 32), (45, 41, 128, 182, 0, 3, 9, 32), (45, 43, 128, 182, 0, 5, 9, 32), (45, 44, 128, 182, 0, 4, 9, 32), (45, 46, 128, 182, 0, 5, 9, 32), (45, 47, 128, 182, 0, 3, 9, 32), (45, 48, 25, 49, 1, 24, 9, 32), (45, 48, 25, 53, 1, 24, 9, 32), (45, 48, 25, 56, 1, 24, 9, 32), (45, 48, 25, 61, 2, 21, 9, 32), (45, 48, 33, 37, 16, 25, 9, 32), (45, 48, 128, 163, 0, 27, 9, 32), (45, 48, 128, 165, 0, 31, 9, 32), (45, 48, 128, 167, 0, 17, 9, 32), (45, 48, 128, 170, 0, 14, 9, 32), (45, 48, 128, 182, 0, 11, 9, 32), (45, 48, 128, 197, 0, 9, 9, 32), (45, 56, 25, 49, 7, 29, 9, 32), (45, 56, 25, 53, 7, 29, 9, 32), (45, 56, 25, 56, 8, 29, 9, 32), (45, 56, 25, 61, 8, 26, 9, 32), (45, 56, 128, 170, 0, 18, 9, 32), (45, 56, 128, 197, 0, 12, 9, 32), (45, 61, 27, 49, 36, 27, 9, 32), (45, 62, 27, 54, 36, 28, 9, 32), (45, 63, 27, 57, 36, 28, 9, 32), (46, 0, 1, 61, 32, 19, 9, 32), (46, 0, 27, 61, 36, 28, 9, 32), (46, 0, 27, 66, 36, 30, 9, 32), (46, 0, 49, 54, 36, 29, 9, 32), (46, 0, 49, 66, 36, 29, 9, 32), (46, 0, 49, 73, 36, 27, 9, 32), (46, 0, 49, 78, 36, 27, 9, 32), (46, 0, 49, 81, 36, 27, 9, 32), (46, 0, 68, 57, 7, 24, 9, 32), (46, 0, 128, 163, 0, 27, 9, 32), (46, 0, 128, 177, 0, 17, 9, 32), (46, 0, 128, 184, 2, 19, 9, 32), (46, 8, 1, 66, 28, 22, 9, 32), (46, 8, 128, 170, 0, 14, 9, 32), (46, 8, 128, 197, 0, 9, 9, 32), (46, 9, 68, 57, 6, 22, 9, 32), (46, 16, 1, 69, 24, 19, 9, 32), (46, 16, 68, 56, 5, 20, 9, 32), (46, 16, 128, 165, 0, 30, 9, 32), (46, 16, 128, 167, 0, 17, 9, 32), (46, 16, 128, 170, 0, 14, 9, 32), (46, 16, 128, 184, 2, 18, 9, 32), (46, 16, 128, 197, 0, 9, 9, 32), (46, 24, 1, 73, 20, 19, 9, 32), (46, 24, 128, 163, 0, 27, 9, 32), (46, 24, 128, 170, 0, 18, 9, 32), (46, 24, 128, 197, 0, 12, 9, 32), (46, 25, 68, 57, 10, 24, 9, 32), (46, 32, 128, 170, 0, 14, 9, 32), (46, 32, 128, 184, 2, 19, 9, 32), (46, 32, 128, 197, 0, 9, 9, 32), (46, 40, 68, 57, 7, 26, 9, 32), (46, 40, 128, 156, 2, 15, 9, 32), (46, 40, 128, 158, 2, 15, 9, 32), (46, 40, 128, 174, 0, 18, 9, 32), (46, 48, 68, 56, 6, 21, 9, 32), (46, 48, 128, 156, 2, 15, 9, 32), (46, 48, 128, 157, 2, 15, 9, 32), (46, 48, 128, 165, 0, 30, 9, 32), (46, 48, 128, 167, 0, 17, 9, 32), (46, 48, 128, 170, 0, 14, 9, 32), (46, 48, 128, 184, 2, 18, 9, 32), (46, 48, 128, 197, 0, 9, 9, 32), (46, 56, 68, 57, 10, 25, 9, 32), (46, 56, 128, 170, 0, 14, 9, 32), (46, 56, 128, 197, 0, 9, 9, 32), (47, 0, 1, 61, 32, 23, 9, 32), (47, 0, 49, 52, 36, 29, 9, 32), (47, 0, 49, 64, 36, 29, 9, 32), (47, 0, 49, 73, 36, 27, 9, 32), (47, 0, 49, 76, 36, 27, 9, 32), (47, 0, 49, 81, 36, 27, 9, 32), (47, 0, 128, 163, 0, 27, 9, 32), (47, 0, 128, 170, 0, 18, 9, 32), (47, 0, 128, 184, 2, 19, 9, 32), (47, 0, 128, 197, 0, 12, 9, 32), (47, 4, 128, 170, 0, 14, 9, 32), (47, 4, 128, 197, 0, 9, 9, 32), (47, 7, 68, 57, 8, 25, 9, 32), (47, 8, 1, 64, 24, 23, 9, 32), (47, 8, 128, 170, 0, 15, 9, 32), (47, 8, 128, 197, 0, 10, 9, 32), (47, 16, 1, 68, 8, 23, 9, 32), (47, 16, 68, 56, 7, 22, 9, 32), (47, 16, 128, 165, 0, 30, 9, 32), (47, 16, 128, 167, 0, 17, 9, 32), (47, 16, 128, 170, 0, 14, 9, 32), (47, 16, 128, 184, 2, 18, 9, 32), (47, 16, 128, 197, 0, 9, 9, 32), (47, 24, 1, 69, 20, 23, 9, 32), (47, 24, 68, 57, 9, 26, 9, 32), (47, 24, 128, 156, 2, 15, 9, 32), (47, 24, 128, 157, 2, 15, 9, 32), (47, 24, 128, 163, 0, 27, 9, 32), (47, 24, 128, 170, 0, 14, 9, 32), (47, 24, 128, 197, 0, 9, 9, 32), (47, 32, 128, 156, 2, 15, 9, 32), (47, 32, 128, 157, 2, 15, 9, 32), (47, 32, 128, 170, 0, 18, 9, 32), (47, 32, 128, 184, 2, 19, 9, 32), (47, 32, 128, 197, 0, 12, 9, 32), (47, 40, 128, 156, 2, 15, 9, 32), (47, 40, 128, 158, 2, 15, 9, 32), (47, 40, 128, 163, 0, 27, 9, 32), (47, 40, 128, 174, 0, 18, 9, 32), (47, 48, 128, 156, 2, 15, 9, 32), (47, 48, 128, 157, 2, 15, 9, 32), (47, 48, 128, 165, 0, 30, 9, 32), (47, 48, 128, 167, 0, 17, 9, 32), (47, 48, 128, 170, 0, 14, 9, 32), (47, 48, 128, 184, 2, 18, 9, 32), (47, 48, 128, 197, 0, 9, 9, 32), (47, 56, 68, 56, 3, 24, 9, 32), (47, 56, 128, 170, 0, 18, 9, 32), (47, 56, 128, 197, 0, 12, 9, 32), (47, 61, 68, 56, 3, 17, 9, 32), (48, 0, 1, 57, 32, 23, 9, 32), (48, 0, 49, 50, 36, 29, 9, 32), (48, 0, 49, 62, 36, 29, 9, 32), (48, 0, 49, 74, 36, 27, 9, 32), (48, 0, 49, 78, 36, 27, 9, 32), (48, 0, 49, 81, 36, 27, 9, 32), (48, 0, 68, 57, 6, 26, 9, 32), (48, 0, 128, 163, 0, 27, 9, 32), (48, 0, 128, 170, 0, 18, 9, 32), (48, 0, 128, 184, 2, 19, 9, 32), (48, 0, 128, 197, 0, 12, 9, 32), (48, 4, 128, 170, 0, 14, 9, 32), (48, 4, 128, 197, 0, 9, 9, 32), (48, 8, 1, 62, 28, 23, 9, 32), (48, 8, 68, 57, 7, 25, 9, 32), (48, 8, 128, 170, 0, 15, 9, 32), (48, 8, 128, 197, 0, 10, 9, 32), (48, 16, 1, 66, 24, 23, 9, 32), (48, 16, 128, 165, 0, 30, 9, 32), (48, 16, 128, 167, 0, 17, 9, 32), (48, 16, 128, 170, 0, 14, 9, 32), (48, 16, 128, 184, 2, 18, 9, 32), (48, 16, 128, 197, 0, 9, 9, 32), (48, 17, 68, 56, 6, 26, 9, 32), (48, 24, 1, 69, 20, 23, 9, 32), (48, 24, 68, 57, 11, 25, 9, 32), (48, 24, 128, 163, 0, 27, 9, 32), (48, 24, 128, 170, 0, 14, 9, 32), (48, 24, 128, 197, 0, 9, 9, 32), (48, 32, 128, 170, 0, 18, 9, 32), (48, 32, 128, 184, 2, 19, 9, 32), (48, 32, 128, 197, 0, 12, 9, 32), (48, 40, 68, 57, 8, 26, 9, 32), (48, 40, 128, 156, 2, 15, 9, 32), (48, 40, 128, 158, 2, 15, 9, 32), (48, 40, 128, 174, 0, 18, 9, 32), (48, 48, 68, 61, 7, 28, 9, 32), (48, 48, 128, 156, 2, 15, 9, 32), (48, 48, 128, 157, 2, 15, 9, 32), (48, 48, 128, 165, 0, 30, 9, 32), (48, 48, 128, 167, 0, 17, 9, 32), (48, 48, 128, 170, 0, 14, 9, 32), (48, 48, 128, 184, 2, 18, 9, 32), (48, 48, 128, 197, 0, 9, 9, 32), (48, 56, 68, 54, 17, 26, 9, 32), (48, 56, 128, 156, 2, 11, 9, 32), (48, 56, 128, 158, 2, 11, 9, 32), (48, 56, 128, 170, 0, 18, 9, 32), (48, 56, 128, 197, 0, 12, 9, 32), (49, 0, 1, 62, 24, 23, 9, 32), (49, 0, 1, 66, 24, 23, 9, 32), (49, 0, 1, 71, 24, 23, 9, 32), (49, 0, 49, 54, 24, 29, 9, 32), (49, 0, 49, 59, 24, 29, 9, 32), (49, 0, 49, 71, 24, 27, 9, 32), (49, 0, 49, 74, 24, 27, 9, 32), (49, 0, 49, 78, 24, 27, 9, 32), (49, 0, 128, 163, 0, 27, 9, 32), (49, 0, 128, 170, 0, 18, 9, 32), (49, 0, 128, 184, 2, 19, 9, 32), (49, 0, 128, 197, 0, 12, 9, 32), (49, 4, 128, 170, 0, 14, 9, 32), (49, 4, 128, 197, 0, 9, 9, 32), (49, 8, 128, 170, 0, 15, 9, 32), (49, 8, 128, 197, 0, 10, 9, 32), (49, 16, 54, 59, 8, 19, 9, 32), (49, 16, 54, 64, 8, 19, 9, 32), (49, 16, 54, 69, 8, 19, 9, 32), (49, 16, 68, 57, 8, 27, 9, 32), (49, 16, 128, 165, 0, 30, 9, 32), (49, 16, 128, 167, 0, 17, 9, 32), (49, 16, 128, 170, 0, 14, 9, 32), (49, 16, 128, 184, 2, 18, 9, 32), (49, 16, 128, 197, 0, 9, 9, 32), (49, 24, 54, 61, 12, 17, 9, 32), (49, 24, 54, 64, 0, 17, 9, 32), (49, 24, 54, 68, 12, 17, 9, 32), (49, 24, 68, 56, 12, 24, 9, 32), (49, 24, 128, 163, 0, 27, 9, 32), (49, 24, 128, 170, 0, 14, 9, 32), (49, 24, 128, 197, 0, 9, 9, 32), (49, 32, 1, 61, 24, 26, 9, 32), (49, 32, 1, 64, 24, 26, 9, 32), (49, 32, 1, 68, 24, 26, 9, 32), (49, 32, 1, 71, 24, 26, 9, 32), (49, 32, 1, 76, 24, 26, 9, 32), (49, 32, 49, 49, 24, 29, 9, 32), (49, 32, 49, 61, 24, 29, 9, 32), (49, 32, 49, 73, 24, 27, 9, 32), (49, 32, 49, 76, 24, 27, 9, 32), (49, 32, 49, 80, 24, 27, 9, 32), (49, 32, 128, 156, 2, 15, 9, 32), (49, 32, 128, 157, 2, 15, 9, 32), (49, 32, 128, 170, 0, 18, 9, 32), (49, 32, 128, 184, 2, 19, 9, 32), (49, 32, 128, 197, 0, 12, 9, 32), (49, 40, 128, 156, 2, 15, 9, 32), (49, 40, 128, 158, 2, 15, 9, 32), (49, 40, 128, 163, 0, 21, 9, 32), (49, 40, 128, 174, 0, 18, 9, 32), (49, 48, 128, 156, 2, 11, 9, 32), (49, 48, 128, 157, 2, 11, 9, 32), (49, 48, 128, 165, 0, 30, 9, 32), (49, 48, 128, 167, 0, 17, 9, 32), (49, 48, 128, 170, 0, 14, 9, 32), (49, 48, 128, 184, 2, 18, 9, 32), (49, 48, 128, 197, 0, 9, 9, 32), (49, 56, 33, 28, 8, 30, 9, 32), (49, 56, 54, 78, 3, 26, 9, 32), (49, 56, 68, 56, 5, 20, 9, 32), (49, 56, 128, 170, 0, 18, 9, 32), (49, 56, 128, 197, 0, 12, 9, 32), (49, 61, 27, 49, 36, 27, 9, 32), (49, 62, 27, 54, 36, 28, 9, 32), (49, 63, 25, 45, 34, 29, 9, 32), (49, 63, 25, 49, 35, 29, 9, 32), (49, 63, 27, 57, 36, 28, 9, 32), (50, 0, 1, 61, 32, 19, 9, 32), (50, 0, 25, 54, 33, 29, 9, 32), (50, 0, 27, 61, 36, 28, 9, 32), (50, 0, 27, 66, 36, 30, 9, 32), (50, 0, 33, 30, 8, 30, 9, 32), (50, 0, 49, 54, 36, 29, 9, 32), (50, 0, 49, 66, 36, 29, 9, 32), (50, 0, 49, 73, 36, 27, 9, 32), (50, 0, 49, 78, 36, 27, 9, 32), (50, 0, 49, 81, 36, 27, 9, 32), (50, 0, 54, 81, 8, 26, 9, 32), (50, 0, 68, 57, 7, 24, 9, 32), (50, 0, 128, 163, 0, 27, 9, 32), (50, 0, 128, 177, 0, 17, 9, 32), (50, 0, 128, 184, 2, 19, 9, 32), (50, 1, 25, 57, 33, 29, 9, 32), (50, 1, 25, 61, 33, 26, 9, 32), (50, 8, 1, 66, 28, 22, 9, 32), (50, 8, 33, 30, 17, 31, 9, 32), (50, 8, 54, 80, 2, 24, 9, 32), (50, 8, 128, 170, 0, 14, 9, 32), (50, 8, 128, 197, 0, 9, 9, 32), (50, 9, 68, 57, 6, 22, 9, 32), (50, 16, 1, 69, 24, 19, 9, 32), (50, 16, 18, 102, 3, 25, 9, 32), (50, 16, 54, 78, 6, 24, 9, 32), (50, 16, 68, 56, 5, 20, 9, 32), (50, 16, 128, 165, 0, 30, 9, 32), (50, 16, 128, 167, 0, 17, 9, 32), (50, 16, 128, 170, 0, 14, 9, 32), (50, 16, 128, 184, 2, 18, 9, 32), (50, 16, 128, 197, 0, 9, 9, 32), (50, 24, 1, 73, 20, 19, 9, 32), (50, 24, 18, 90, 12, 23, 9, 32), (50, 24, 54, 78, 15, 24, 9, 32), (50, 24, 128, 163, 0, 27, 9, 32), (50, 24, 128, 170, 0, 18, 9, 32), (50, 24, 128, 197, 0, 12, 9, 32), (50, 25, 68, 57, 10, 24, 9, 32), (50, 32, 128, 170, 0, 14, 9, 32), (50, 32, 128, 184, 2, 19, 9, 32), (50, 32, 128, 197, 0, 9, 9, 32), (50, 40, 18, 90, 6, 26, 9, 32), (50, 40, 54, 78, 14, 26, 9, 32), (50, 40, 68, 57, 7, 26, 9, 32), (50, 40, 128, 156, 2, 15, 9, 32), (50, 40, 128, 158, 2, 15, 9, 32), (50, 40, 128, 174, 0, 18, 9, 32), (50, 48, 18, 90, 12, 24, 9, 32), (50, 48, 128, 156, 2, 15, 9, 32), (50, 48, 128, 157, 2, 15, 9, 32), (50, 48, 128, 165, 0, 30, 9, 32), (50, 48, 128, 167, 0, 17, 9, 32), (50, 48, 128, 170, 0, 14, 9, 32), (50, 48, 128, 184, 2, 18, 9, 32), (50, 48, 128, 197, 0, 9, 9, 32), (50, 56, 54, 78, 4, 24, 9, 32), (50, 56, 68, 56, 6, 21, 9, 32), (50, 56, 128, 170, 0, 14, 9, 32), (50, 56, 128, 197, 0, 9, 9, 32), (50, 63, 54, 81, 9, 27, 9, 32), (51, 0, 1, 61, 32, 23, 9, 32), (51, 0, 33, 28, 20, 30, 9, 32), (51, 0, 49, 52, 36, 29, 9, 32), (51, 0, 49, 64, 36, 29, 9, 32), (51, 0, 49, 73, 36, 27, 9, 32), (51, 0, 49, 76, 36, 27, 9, 32), (51, 0, 49, 81, 36, 27, 9, 32), (51, 0, 68, 57, 7, 24, 9, 32), (51, 0, 128, 163, 0, 27, 9, 32), (51, 0, 128, 170, 0, 18, 9, 32), (51, 0, 128, 184, 2, 19, 9, 32), (51, 0, 128, 197, 0, 12, 9, 32), (51, 4, 128, 170, 0, 14, 9, 32), (51, 4, 128, 197, 0, 9, 9, 32), (51, 8, 1, 64, 24, 23, 9, 32), (51, 8, 54, 80, 2, 24, 9, 32), (51, 8, 68, 57, 7, 22, 9, 32), (51, 8, 128, 170, 0, 15, 9, 32), (51, 8, 128, 197, 0, 10, 9, 32), (51, 16, 1, 68, 8, 23, 9, 32), (51, 16, 54, 78, 3, 26, 9, 32), (51, 16, 68, 56, 7, 22, 9, 32), (51, 16, 128, 165, 0, 30, 9, 32), (51, 16, 128, 167, 0, 17, 9, 32), (51, 16, 128, 170, 0, 14, 9, 32), (51, 16, 128, 184, 2, 18, 9, 32), (51, 16, 128, 197, 0, 9, 9, 32), (51, 24, 1, 69, 20, 23, 9, 32), (51, 24, 33, 40, 27, 31, 9, 32), (51, 24, 54, 78, 21, 24, 9, 32), (51, 24, 68, 57, 9, 26, 9, 32), (51, 24, 128, 156, 2, 15, 9, 32), (51, 24, 128, 157, 2, 15, 9, 32), (51, 24, 128, 163, 0, 27, 9, 32), (51, 24, 128, 170, 0, 14, 9, 32), (51, 24, 128, 197, 0, 9, 9, 32), (51, 32, 128, 156, 2, 15, 9, 32), (51, 32, 128, 157, 2, 15, 9, 32), (51, 32, 128, 170, 0, 18, 9, 32), (51, 32, 128, 184, 2, 19, 9, 32), (51, 32, 128, 197, 0, 12, 9, 32), (51, 40, 128, 156, 2, 15, 9, 32), (51, 40, 128, 158, 2, 15, 9, 32), (51, 40, 128, 163, 0, 27, 9, 32), (51, 40, 128, 174, 0, 18, 9, 32), (51, 48, 128, 156, 2, 15, 9, 32), (51, 48, 128, 157, 2, 15, 9, 32), (51, 48, 128, 165, 0, 30, 9, 32), (51, 48, 128, 167, 0, 17, 9, 32), (51, 48, 128, 170, 0, 14, 9, 32), (51, 48, 128, 184, 2, 18, 9, 32), (51, 48, 128, 197, 0, 9, 9, 32), (51, 56, 54, 78, 2, 26, 9, 32), (51, 56, 68, 56, 5, 20, 9, 32), (51, 56, 128, 170, 0, 18, 9, 32), (51, 56, 128, 197, 0, 12, 9, 32), (52, 0, 1, 57, 32, 23, 9, 32), (52, 0, 33, 38, 8, 30, 9, 32), (52, 0, 49, 50, 36, 29, 9, 32), (52, 0, 49, 62, 36, 29, 9, 32), (52, 0, 49, 74, 36, 27, 9, 32), (52, 0, 49, 78, 36, 27, 9, 32), (52, 0, 49, 81, 36, 27, 9, 32), (52, 0, 54, 81, 9, 26, 9, 32), (52, 0, 68, 57, 6, 25, 9, 32), (52, 0, 128, 163, 0, 27, 9, 32), (52, 0, 128, 170, 0, 18, 9, 32), (52, 0, 128, 184, 2, 19, 9, 32), (52, 0, 128, 197, 0, 12, 9, 32), (52, 4, 128, 170, 0, 14, 9, 32), (52, 4, 128, 197, 0, 9, 9, 32), (52, 8, 1, 62, 28, 23, 9, 32), (52, 8, 33, 45, 6, 28, 9, 32), (52, 8, 54, 80, 7, 22, 9, 32), (52, 8, 68, 57, 8, 22, 9, 32), (52, 8, 128, 170, 0, 15, 9, 32), (52, 8, 128, 197, 0, 10, 9, 32), (52, 16, 1, 66, 24, 23, 9, 32), (52, 16, 33, 52, 7, 30, 9, 32), (52, 16, 54, 78, 1, 22, 9, 32), (52, 16, 68, 56, 7, 22, 9, 32), (52, 16, 128, 165, 0, 30, 9, 32), (52, 16, 128, 167, 0, 17, 9, 32), (52, 16, 128, 170, 0, 14, 9, 32), (52, 16, 128, 184, 2, 18, 9, 32), (52, 16, 128, 197, 0, 9, 9, 32), (52, 24, 1, 69, 20, 23, 9, 32), (52, 24, 33, 50, 23, 31, 9, 32), (52, 24, 54, 78, 12, 22, 9, 32), (52, 24, 68, 57, 20, 26, 9, 32), (52, 24, 128, 163, 0, 27, 9, 32), (52, 24, 128, 170, 0, 14, 9, 32), (52, 24, 128, 197, 0, 9, 9, 32), (52, 32, 128, 170, 0, 18, 9, 32), (52, 32, 128, 184, 2, 19, 9, 32), (52, 32, 128, 197, 0, 12, 9, 32), (52, 40, 54, 78, 6, 22, 9, 32), (52, 40, 128, 156, 2, 15, 9, 32), (52, 40, 128, 158, 2, 15, 9, 32), (52, 40, 128, 174, 0, 18, 9, 32), (52, 48, 54, 81, 4, 21, 9, 32), (52, 48, 68, 64, 6, 25, 9, 32), (52, 48, 128, 156, 2, 15, 9, 32), (52, 48, 128, 157, 2, 15, 9, 32), (52, 48, 128, 165, 0, 30, 9, 32), (52, 48, 128, 167, 0, 17, 9, 32), (52, 48, 128, 170, 0, 14, 9, 32), (52, 48, 128, 184, 2, 18, 9, 32), (52, 48, 128, 197, 0, 9, 9, 32), (52, 56, 33, 28, 7, 30, 9, 32), (52, 56, 54, 81, 24, 22, 9, 32), (52, 56, 68, 64, 34, 25, 9, 32), (52, 56, 128, 156, 2, 11, 9, 32), (52, 56, 128, 158, 2, 11, 9, 32), (52, 56, 128, 170, 0, 18, 9, 32), (52, 56, 128, 197, 0, 12, 9, 32), (53, 0, 1, 52, 24, 26, 9, 32), (53, 0, 1, 59, 24, 26, 9, 32), (53, 0, 1, 64, 24, 26, 9, 32), (53, 0, 1, 69, 24, 26, 9, 32), (53, 0, 33, 40, 23, 30, 9, 32), (53, 0, 49, 52, 36, 29, 9, 32), (53, 0, 49, 64, 36, 29, 9, 32), (53, 0, 49, 69, 24, 27, 9, 32), (53, 0, 49, 76, 36, 27, 9, 32), (53, 0, 49, 81, 24, 27, 9, 32), (53, 0, 49, 83, 36, 27, 9, 32), (53, 0, 128, 163, 0, 27, 9, 32), (53, 0, 128, 177, 0, 17, 9, 32), (53, 0, 128, 184, 2, 19, 9, 32), (53, 4, 128, 170, 0, 14, 9, 32), (53, 4, 128, 197, 0, 9, 9, 32), (53, 8, 128, 170, 0, 15, 9, 32), (53, 8, 128, 197, 0, 10, 9, 32), (53, 16, 128, 170, 0, 14, 9, 32), (53, 16, 128, 184, 2, 18, 9, 32), (53, 16, 128, 197, 0, 9, 9, 32), (53, 24, 54, 80, 28, 22, 9, 32), (53, 24, 128, 163, 0, 27, 9, 32), (53, 24, 128, 170, 0, 14, 9, 32), (53, 24, 128, 197, 0, 9, 9, 32), (53, 32, 1, 52, 24, 26, 9, 32), (53, 32, 1, 59, 24, 26, 9, 32), (53, 32, 1, 64, 24, 26, 9, 32), (53, 32, 1, 68, 24, 26, 9, 32), (53, 32, 1, 76, 24, 26, 9, 32), (53, 32, 33, 40, 24, 30, 9, 32), (53, 32, 49, 68, 24, 27, 9, 32), (53, 32, 49, 80, 24, 27, 9, 32), (53, 32, 128, 170, 0, 18, 9, 32), (53, 32, 128, 184, 2, 19, 9, 32), (53, 32, 128, 197, 0, 12, 9, 32), (53, 40, 128, 163, 0, 21, 9, 32), (53, 40, 128, 174, 0, 18, 9, 32), (53, 48, 68, 66, 7, 24, 9, 32), (53, 48, 128, 161, 2, 28, 9, 32), (53, 48, 128, 165, 2, 30, 9, 32), (53, 48, 128, 167, 0, 17, 9, 32), (53, 48, 128, 170, 0, 14, 9, 32), (53, 48, 128, 184, 2, 18, 9, 32), (53, 48, 128, 197, 0, 9, 9, 32), (53, 56, 68, 69, 28, 24, 9, 32), (53, 56, 128, 170, 0, 18, 9, 32), (53, 56, 128, 197, 0, 12, 9, 32), (53, 63, 89, 57, 35, 18, 9, 32), (53, 63, 89, 62, 35, 19, 9, 32), (53, 63, 89, 66, 35, 18, 9, 32), (54, 0, 27, 57, 36, 21, 9, 32), (54, 0, 27, 62, 36, 21, 9, 32), (54, 0, 49, 50, 36, 27, 9, 32), (54, 0, 49, 57, 36, 27, 9, 32), (54, 0, 49, 62, 36, 27, 9, 32), (54, 0, 49, 66, 36, 27, 9, 32), (54, 0, 127, 57, 50, 31, 9, 32), (54, 0, 128, 163, 0, 27, 9, 32), (54, 0, 128, 177, 0, 18, 9, 32), (54, 49, 68, 73, 15, 24, 9, 32), (54, 63, 89, 59, 18, 12, 9, 32), (54, 63, 89, 64, 18, 18, 9, 32), (54, 63, 89, 68, 18, 17, 9, 32), (55, 0, 49, 52, 20, 27, 9, 32), (55, 0, 49, 59, 20, 27, 9, 32), (55, 0, 49, 64, 20, 27, 9, 32), (55, 0, 49, 68, 20, 27, 9, 32), (55, 0, 68, 71, 20, 20, 9, 32), (55, 23, 89, 57, 26, 16, 9, 32), (55, 23, 89, 61, 26, 18, 9, 32), (55, 23, 89, 66, 26, 14, 9, 32), (55, 23, 89, 69, 26, 17, 9, 32), (55, 24, 68, 69, 20, 24, 9, 32), (55, 25, 49, 54, 27, 27, 9, 32), (55, 25, 49, 61, 27, 27, 9, 32), (55, 25, 49, 66, 27, 27, 9, 32), (55, 25, 49, 69, 27, 27, 9, 32), (55, 48, 68, 66, 8, 25, 9, 32), (55, 48, 119, 72, 16, 31, 9, 32), (55, 56, 68, 69, 28, 26, 9, 32), (55, 63, 89, 57, 34, 19, 9, 32), (55, 63, 89, 62, 35, 18, 9, 32), (55, 63, 89, 66, 35, 18, 9, 32), (56, 0, 27, 57, 36, 30, 9, 32), (56, 0, 27, 62, 36, 30, 9, 32), (56, 0, 49, 50, 36, 27, 9, 32), (56, 0, 49, 57, 36, 27, 9, 32), (56, 0, 49, 62, 36, 27, 9, 32), (56, 0, 49, 66, 36, 27, 9, 32), (56, 48, 68, 73, 16, 27, 9, 32), (56, 62, 89, 64, 18, 18, 9, 32), (56, 63, 89, 59, 18, 12, 9, 32), (56, 63, 89, 68, 18, 17, 9, 32), (57, 0, 49, 52, 20, 27, 9, 32), (57, 0, 49, 59, 20, 27, 9, 32), (57, 0, 49, 64, 20, 27, 9, 32), (57, 0, 49, 68, 20, 27, 9, 32), (57, 0, 68, 71, 20, 24, 9, 32), (57, 23, 89, 57, 26, 18, 9, 32), (57, 23, 89, 61, 26, 22, 9, 32), (57, 23, 89, 66, 26, 17, 9, 32), (57, 23, 89, 69, 25, 17, 9, 32), (57, 24, 68, 69, 19, 24, 9, 32), (57, 25, 49, 54, 27, 27, 9, 32), (57, 25, 49, 61, 27, 27, 9, 32), (57, 25, 49, 66, 27, 27, 9, 32), (57, 25, 49, 69, 27, 27, 9, 32), (57, 47, 68, 66, 6, 24, 9, 32), (57, 48, 1, 66, 8, 31, 9, 32), (57, 48, 119, 72, 16, 31, 9, 32), (57, 48, 124, 97, 52, 31, 9, 32), (57, 56, 1, 69, 16, 31, 9, 32), (57, 56, 68, 69, 21, 27, 9, 32), (57, 63, 25, 45, 7, 28, 9, 32), (57, 63, 25, 50, 8, 28, 9, 32), (57, 63, 89, 57, 35, 17, 9, 32), (57, 63, 89, 62, 35, 19, 9, 32), (57, 63, 89, 66, 35, 17, 9, 32), (58, 0, 25, 54, 7, 28, 9, 32), (58, 0, 27, 57, 36, 30, 9, 32), (58, 0, 27, 62, 36, 30, 9, 32), (58, 0, 49, 50, 36, 27, 9, 32), (58, 0, 49, 57, 36, 27, 9, 32), (58, 0, 49, 62, 36, 27, 9, 32), (58, 0, 49, 66, 36, 27, 9, 32), (58, 0, 49, 88, 19, 29, 9, 32), (58, 0, 128, 163, 2, 27, 9, 32), (58, 0, 128, 177, 2, 17, 9, 32), (58, 1, 25, 57, 7, 28, 9, 32), (58, 1, 25, 62, 7, 27, 9, 32), (58, 8, 25, 50, 8, 24, 9, 32), (58, 8, 25, 54, 7, 24, 9, 32), (58, 8, 25, 57, 8, 24, 9, 32), (58, 8, 25, 62, 7, 21, 9, 32), (58, 16, 25, 50, 1, 22, 9, 32), (58, 16, 25, 54, 1, 22, 9, 32), (58, 16, 25, 57, 1, 22, 9, 32), (58, 16, 25, 62, 2, 20, 9, 32), (58, 16, 128, 182, 2, 21, 9, 32), (58, 16, 128, 209, 2, 26, 9, 32), (58, 17, 54, 50, 5, 21, 9, 32), (58, 17, 54, 54, 5, 21, 9, 32), (58, 24, 25, 50, 7, 27, 9, 32), (58, 24, 25, 54, 7, 27, 9, 32), (58, 24, 25, 57, 8, 27, 9, 32), (58, 24, 25, 62, 7, 24, 9, 32), (58, 24, 49, 86, 20, 29, 9, 32), (58, 24, 54, 54, 20, 21, 9, 32), (58, 24, 54, 57, 40, 21, 9, 32), (58, 32, 25, 50, 7, 27, 9, 32), (58, 32, 25, 54, 7, 27, 9, 32), (58, 32, 25, 57, 7, 27, 9, 32), (58, 32, 25, 62, 7, 24, 9, 32), (58, 40, 25, 50, 8, 24, 9, 32), (58, 40, 25, 54, 8, 24, 9, 32), (58, 40, 25, 57, 8, 24, 9, 32), (58, 40, 25, 62, 7, 21, 9, 32), (58, 48, 25, 50, 1, 22, 9, 32), (58, 48, 25, 54, 1, 22, 9, 32), (58, 48, 25, 57, 1, 22, 9, 32), (58, 48, 25, 62, 2, 20, 9, 32), (58, 48, 49, 83, 32, 27, 9, 32), (58, 48, 54, 61, 6, 23, 9, 32), (58, 48, 54, 64, 6, 23, 9, 32), (58, 48, 128, 182, 2, 20, 9, 32), (58, 56, 25, 50, 7, 27, 9, 32), (58, 56, 25, 54, 7, 27, 9, 32), (58, 56, 25, 57, 8, 27, 9, 32), (58, 56, 25, 62, 8, 24, 9, 32), (58, 56, 54, 61, 39, 23, 9, 32), (58, 56, 54, 64, 39, 23, 9, 32), (58, 63, 89, 59, 24, 17, 9, 32), (58, 63, 89, 64, 35, 20, 9, 32), (58, 63, 89, 68, 24, 18, 9, 32), (59, 0, 25, 52, 7, 27, 9, 32), (59, 0, 25, 56, 7, 27, 9, 32), (59, 0, 25, 59, 7, 27, 9, 32), (59, 0, 25, 64, 7, 24, 9, 32), (59, 0, 49, 52, 20, 27, 9, 32), (59, 0, 49, 59, 20, 27, 9, 32), (59, 0, 49, 64, 20, 27, 9, 32), (59, 0, 49, 68, 20, 27, 9, 32), (59, 0, 49, 90, 20, 29, 9, 32), (59, 8, 25, 52, 8, 24, 9, 32), (59, 8, 25, 56, 8, 24, 9, 32), (59, 8, 25, 59, 8, 24, 9, 32), (59, 8, 25, 64, 7, 21, 9, 32), (59, 16, 25, 52, 1, 22, 9, 32), (59, 16, 25, 56, 1, 22, 9, 32), (59, 16, 25, 59, 1, 22, 9, 32), (59, 16, 25, 64, 2, 20, 9, 32), (59, 16, 54, 76, 7, 21, 9, 32), (59, 16, 54, 81, 7, 21, 9, 32), (59, 16, 128, 182, 2, 21, 9, 32), (59, 24, 25, 49, 7, 27, 9, 32), (59, 24, 25, 52, 7, 27, 9, 32), (59, 24, 25, 57, 8, 27, 9, 32), (59, 24, 25, 61, 8, 24, 9, 32), (59, 24, 54, 76, 16, 24, 9, 32), (59, 24, 54, 80, 16, 24, 9, 32), (59, 25, 49, 57, 27, 27, 9, 32), (59, 25, 49, 61, 27, 27, 9, 32), (59, 25, 49, 64, 27, 27, 9, 32), (59, 25, 49, 69, 27, 27, 9, 32), (59, 32, 25, 49, 7, 27, 9, 32), (59, 32, 25, 52, 7, 27, 9, 32), (59, 32, 25, 57, 7, 27, 9, 32), (59, 32, 25, 61, 7, 24, 9, 32), (59, 32, 49, 85, 44, 24, 9, 32), (59, 32, 49, 97, 44, 24, 9, 32), (59, 34, 89, 61, 21, 20, 9, 32), (59, 34, 89, 69, 23, 17, 9, 32), (59, 40, 25, 49, 8, 24, 9, 32), (59, 40, 25, 52, 8, 24, 9, 32), (59, 40, 25, 57, 8, 24, 9, 32), (59, 40, 25, 61, 7, 21, 9, 32), (59, 40, 54, 73, 23, 21, 9, 32), (59, 40, 54, 76, 1, 21, 9, 32), (59, 48, 25, 49, 1, 22, 9, 32), (59, 48, 25, 52, 1, 22, 9, 32), (59, 48, 25, 57, 1, 22, 9, 32), (59, 48, 25, 61, 2, 20, 9, 32), (59, 48, 128, 182, 2, 20, 9, 32), (59, 56, 25, 49, 7, 27, 9, 32), (59, 56, 25, 52, 7, 27, 9, 32), (59, 56, 25, 57, 8, 27, 9, 32), (59, 56, 25, 61, 8, 24, 9, 32), (59, 63, 25, 45, 7, 28, 9, 32), (59, 63, 25, 49, 8, 28, 9, 32), (60, 0, 1, 66, 16, 31, 9, 32), (60, 0, 25, 54, 7, 28, 9, 32), (60, 0, 25, 66, 16, 22, 9, 32), (60, 0, 27, 66, 16, 31, 9, 32), (60, 0, 49, 61, 36, 27, 9, 32), (60, 0, 49, 66, 36, 27, 9, 32), (60, 0, 49, 69, 36, 27, 9, 32), (60, 1, 25, 57, 7, 28, 9, 32), (60, 1, 25, 61, 7, 27, 9, 32), (60, 1, 89, 57, 30, 21, 9, 32), (60, 1, 89, 61, 30, 19, 9, 32), (60, 1, 89, 66, 31, 12, 9, 32), (60, 8, 25, 49, 8, 24, 9, 32), (60, 8, 25, 54, 7, 24, 9, 32), (60, 8, 25, 57, 8, 24, 9, 32), (60, 8, 25, 61, 7, 21, 9, 32), (60, 16, 25, 49, 1, 22, 9, 32), (60, 16, 25, 54, 1, 22, 9, 32), (60, 16, 25, 57, 1, 22, 9, 32), (60, 16, 25, 61, 2, 20, 9, 32), (60, 23, 25, 69, 20, 22, 9, 32), (60, 24, 1, 69, 20, 31, 9, 32), (60, 24, 25, 49, 7, 27, 9, 32), (60, 24, 25, 54, 7, 27, 9, 32), (60, 24, 25, 57, 8, 27, 9, 32), (60, 24, 25, 61, 7, 24, 9, 32), (60, 24, 27, 69, 20, 31, 9, 32), (60, 32, 25, 49, 7, 27, 9, 32), (60, 32, 25, 54, 7, 27, 9, 32), (60, 32, 25, 57, 7, 27, 9, 32), (60, 32, 25, 61, 7, 24, 9, 32), (60, 40, 25, 49, 8, 24, 9, 32), (60, 40, 25, 54, 8, 24, 9, 32), (60, 40, 25, 57, 8, 24, 9, 32), (60, 40, 25, 61, 7, 21, 9, 32), (60, 48, 1, 73, 14, 31, 9, 32), (60, 48, 25, 49, 1, 22, 9, 32), (60, 48, 25, 54, 1, 22, 9, 32), (60, 48, 25, 57, 1, 22, 9, 32), (60, 48, 25, 61, 2, 20, 9, 32), (60, 48, 25, 73, 14, 25, 9, 32), (60, 48, 27, 73, 14, 31, 9, 32), (60, 56, 25, 49, 7, 27, 9, 32), (60, 56, 25, 54, 7, 27, 9, 32), (60, 56, 25, 57, 8, 27, 9, 32), (60, 56, 25, 61, 8, 24, 9, 32), (61, 0, 1, 71, 17, 31, 9, 32), (61, 0, 25, 52, 19, 27, 9, 32), (61, 0, 25, 56, 20, 27, 9, 32), (61, 0, 25, 59, 20, 27, 9, 32), (61, 0, 25, 71, 17, 22, 9, 32), (61, 0, 27, 71, 26, 31, 9, 32), (61, 0, 128, 163, 2, 27, 9, 32), (61, 0, 128, 177, 2, 17, 9, 32), (61, 1, 25, 64, 20, 24, 9, 32), (61, 8, 68, 66, 2, 22, 9, 32), (61, 16, 68, 66, 7, 26, 9, 32), (61, 24, 68, 63, 8, 18, 9, 32), (61, 32, 68, 68, 16, 24, 9, 32), (61, 32, 119, 72, 24, 22, 9, 32), (61, 40, 33, 32, 8, 30, 9, 32), (61, 48, 33, 42, 16, 31, 9, 32), (61, 48, 68, 66, 13, 21, 9, 32), (61, 48, 128, 161, 0, 28, 9, 32), (61, 48, 128, 163, 0, 27, 9, 32), (61, 48, 128, 165, 0, 30, 9, 32), (61, 48, 128, 167, 0, 17, 9, 32), (61, 61, 27, 52, 36, 26, 9, 32), (61, 62, 27, 56, 36, 26, 9, 32), (61, 63, 25, 47, 7, 31, 9, 32), (61, 63, 25, 52, 8, 31, 9, 32), (61, 63, 27, 59, 36, 26, 9, 32), (62, 0, 25, 52, 24, 19, 9, 32), (62, 0, 25, 56, 7, 31, 9, 32), (62, 0, 27, 64, 36, 26, 9, 32), (62, 0, 33, 28, 8, 30, 9, 32), (62, 0, 49, 52, 36, 31, 9, 32), (62, 0, 49, 64, 36, 31, 9, 32), (62, 0, 49, 68, 36, 31, 9, 32), (62, 0, 49, 71, 36, 31, 9, 32), (62, 0, 54, 71, 17, 20, 9, 32), (62, 0, 54, 75, 17, 20, 9, 32), (62, 0, 54, 78, 17, 18, 9, 32), (62, 0, 68, 66, 18, 26, 9, 32), (62, 0, 128, 163, 0, 27, 9, 32), (62, 0, 128, 177, 0, 17, 9, 32), (62, 1, 25, 59, 7, 31, 9, 32), (62, 1, 25, 64, 7, 31, 9, 32), (62, 8, 25, 52, 8, 25, 9, 32), (62, 8, 25, 56, 7, 25, 9, 32), (62, 8, 25, 56, 20, 17, 9, 32), (62, 8, 25, 59, 8, 25, 9, 32), (62, 8, 25, 64, 7, 23, 9, 32), (62, 8, 33, 28, 6, 28, 9, 32), (62, 8, 128, 170, 0, 14, 9, 32), (62, 8, 128, 197, 0, 9, 9, 32), (62, 16, 25, 52, 1, 24, 9, 32), (62, 16, 25, 56, 1, 24, 9, 32), (62, 16, 25, 59, 1, 24, 9, 32), (62, 16, 25, 64, 2, 21, 9, 32), (62, 16, 25, 64, 20, 19, 9, 32), (62, 16, 128, 165, 0, 30, 9, 32), (62, 16, 128, 167, 0, 17, 9, 32), (62, 16, 128, 170, 0, 14, 9, 32), (62, 16, 128, 197, 0, 9, 9, 32), (62, 24, 25, 52, 7, 29, 9, 32), (62, 24, 25, 56, 7, 29, 9, 32), (62, 24, 25, 59, 8, 29, 9, 32), (62, 24, 25, 59, 24, 18, 9, 32), (62, 24, 25, 64, 7, 26, 9, 32), (62, 24, 33, 28, 4, 26, 9, 32), (62, 24, 54, 71, 12, 23, 9, 32), (62, 24, 54, 78, 12, 18, 9, 32), (62, 24, 68, 66, 12, 25, 9, 32), (62, 24, 128, 163, 0, 27, 9, 32), (62, 24, 128, 170, 0, 18, 9, 32), (62, 24, 128, 197, 0, 12, 9, 32), (62, 25, 54, 75, 11, 18, 9, 32), (62, 32, 25, 52, 7, 29, 9, 32), (62, 32, 25, 52, 20, 16, 9, 32), (62, 32, 25, 56, 7, 29, 9, 32), (62, 32, 25, 59, 7, 29, 9, 32), (62, 32, 25, 64, 7, 26, 9, 32), (62, 32, 33, 28, 8, 30, 9, 32), (62, 32, 128, 170, 0, 14, 9, 32), (62, 32, 128, 197, 0, 9, 9, 32), (62, 40, 25, 52, 8, 25, 9, 32), (62, 40, 25, 56, 8, 25, 9, 32), (62, 40, 25, 59, 8, 25, 9, 32), (62, 40, 25, 64, 7, 23, 9, 32), (62, 40, 25, 64, 8, 20, 9, 32), (62, 40, 33, 28, 6, 28, 9, 32), (62, 40, 54, 71, 4, 21, 9, 32), (62, 40, 54, 75, 3, 16, 9, 32), (62, 40, 54, 78, 4, 19, 9, 32), (62, 40, 68, 66, 8, 24, 9, 32), (62, 40, 128, 174, 0, 18, 9, 32), (62, 48, 25, 52, 1, 24, 9, 32), (62, 48, 25, 56, 1, 24, 9, 32), (62, 48, 25, 59, 1, 24, 9, 32), (62, 48, 25, 63, 8, 15, 9, 32), (62, 48, 25, 64, 2, 21, 9, 32), (62, 48, 33, 28, 8, 31, 9, 32), (62, 48, 54, 66, 5, 21, 9, 32), (62, 48, 54, 71, 5, 22, 9, 32), (62, 48, 68, 59, 3, 25, 9, 32), (62, 48, 128, 165, 0, 30, 9, 32), (62, 48, 128, 167, 0, 17, 9, 32), (62, 48, 128, 170, 0, 14, 9, 32), (62, 48, 128, 182, 0, 11, 9, 32), (62, 48, 128, 197, 0, 9, 9, 32), (62, 56, 25, 52, 7, 29, 9, 32), (62, 56, 25, 56, 7, 29, 9, 32), (62, 56, 25, 59, 8, 16, 9, 32), (62, 56, 25, 59, 8, 29, 9, 32), (62, 56, 25, 64, 8, 26, 9, 32), (62, 56, 33, 28, 6, 28, 9, 32), (62, 56, 54, 66, 4, 18, 9, 32), (62, 56, 54, 71, 4, 18, 9, 32), (62, 56, 68, 59, 8, 22, 9, 32), (62, 56, 128, 170, 0, 14, 9, 32), (62, 56, 128, 197, 0, 9, 9, 32), (63, 0, 1, 73, 17, 15, 9, 32), (63, 0, 1, 78, 18, 15, 9, 32), (63, 0, 1, 82, 18, 15, 9, 32), (63, 0, 25, 49, 7, 29, 9, 32), (63, 0, 25, 54, 7, 29, 9, 32), (63, 0, 25, 54, 20, 18, 9, 32), (63, 0, 25, 58, 7, 29, 9, 32), (63, 0, 25, 61, 7, 26, 9, 32), (63, 0, 33, 30, 8, 30, 9, 32), (63, 0, 49, 54, 20, 31, 9, 32), (63, 0, 49, 66, 20, 31, 9, 32), (63, 0, 49, 70, 20, 31, 9, 32), (63, 0, 49, 73, 20, 31, 9, 32), (63, 0, 54, 66, 18, 20, 9, 32), (63, 0, 54, 70, 18, 24, 9, 32), (63, 0, 54, 73, 18, 20, 9, 32), (63, 0, 68, 61, 19, 26, 9, 32), (63, 0, 128, 163, 0, 27, 9, 32), (63, 0, 128, 170, 0, 18, 9, 32), (63, 0, 128, 197, 0, 12, 9, 32), (63, 4, 128, 170, 0, 14, 9, 32), (63, 4, 128, 197, 0, 9, 9, 32), (63, 8, 25, 49, 8, 25, 9, 32), (63, 8, 25, 54, 8, 25, 9, 32), (63, 8, 25, 58, 8, 25, 9, 32), (63, 8, 25, 61, 7, 23, 9, 32), (63, 8, 25, 61, 16, 15, 9, 32), (63, 8, 33, 30, 6, 28, 9, 32), (63, 8, 128, 170, 0, 15, 9, 32), (63, 8, 128, 197, 0, 10, 9, 32), (63, 16, 25, 49, 1, 24, 9, 32), (63, 16, 25, 54, 1, 24, 9, 32), (63, 16, 25, 58, 1, 24, 9, 32), (63, 16, 25, 61, 2, 21, 9, 32), (63, 16, 25, 66, 8, 19, 9, 32), (63, 16, 128, 165, 0, 30, 9, 32), (63, 16, 128, 167, 0, 17, 9, 32), (63, 16, 128, 170, 0, 14, 9, 32), (63, 16, 128, 197, 0, 9, 9, 32), (63, 23, 1, 75, 18, 20, 9, 32), (63, 23, 1, 78, 20, 18, 9, 32), (63, 23, 1, 83, 19, 19, 9, 32), (63, 24, 25, 51, 7, 29, 9, 32), (63, 24, 25, 51, 28, 17, 9, 32), (63, 24, 25, 54, 7, 29, 9, 32), (63, 24, 25, 59, 8, 29, 9, 32), (63, 24, 25, 63, 8, 26, 9, 32), (63, 24, 33, 32, 20, 30, 9, 32), (63, 24, 49, 56, 28, 31, 9, 32), (63, 24, 49, 68, 28, 31, 9, 32), (63, 24, 49, 71, 28, 31, 9, 32), (63, 24, 49, 75, 28, 31, 9, 32), (63, 24, 54, 66, 24, 20, 9, 32), (63, 24, 54, 71, 24, 22, 9, 32), (63, 24, 54, 75, 24, 22, 9, 32), (63, 24, 68, 63, 18, 30, 9, 32), (63, 24, 128, 163, 0, 27, 9, 32), (63, 24, 128, 170, 0, 14, 9, 32), (63, 24, 128, 197, 0, 9, 9, 32), (63, 32, 25, 51, 7, 29, 9, 32), (63, 32, 25, 54, 7, 29, 9, 32), (63, 32, 25, 54, 20, 17, 9, 32), (63, 32, 25, 59, 7, 29, 9, 32), (63, 32, 25, 63, 7, 26, 9, 32), (63, 32, 128, 170, 0, 18, 9, 32), (63, 32, 128, 197, 0, 12, 9, 32), (63, 40, 25, 51, 8, 25, 9, 32), (63, 40, 25, 54, 8, 25, 9, 32), (63, 40, 25, 59, 8, 18, 9, 32), (63, 40, 25, 59, 8, 25, 9, 32), (63, 40, 25, 63, 7, 23, 9, 32), (63, 40, 128, 163, 0, 27, 9, 32), (63, 40, 128, 174, 0, 18, 9, 32), (63, 48, 25, 51, 1, 24, 9, 32), (63, 48, 25, 54, 1, 24, 9, 32), (63, 48, 25, 59, 1, 24, 9, 32), (63, 48, 25, 63, 2, 21, 9, 32), (63, 48, 25, 68, 8, 20, 9, 32), (63, 48, 128, 165, 0, 30, 9, 32), (63, 48, 128, 167, 0, 17, 9, 32), (63, 48, 128, 170, 0, 14, 9, 32), (63, 48, 128, 182, 0, 11, 9, 32), (63, 48, 128, 197, 0, 9, 9, 32), (63, 55, 33, 30, 6, 28, 9, 32), (63, 56, 25, 51, 7, 29, 9, 32), (63, 56, 25, 54, 7, 29, 9, 32), (63, 56, 25, 59, 8, 29, 9, 32), (63, 56, 25, 63, 8, 17, 9, 32), (63, 56, 25, 63, 8, 26, 9, 32), (63, 56, 128, 170, 0, 18, 9, 32), (63, 56, 128, 197, 0, 12, 9, 32), (63, 61, 27, 52, 36, 26, 9, 32), (63, 62, 27, 56, 36, 26, 9, 32), (63, 63, 25, 47, 7, 31, 9, 32), (63, 63, 25, 52, 8, 31, 9, 32), (63, 63, 27, 59, 36, 26, 9, 32), (64, 0, 1, 75, 20, 16, 9, 32), (64, 0, 1, 78, 20, 18, 9, 32), (64, 0, 1, 83, 20, 17, 9, 32), (64, 0, 25, 52, 24, 19, 9, 32), (64, 0, 25, 56, 7, 31, 9, 32), (64, 0, 27, 64, 36, 26, 9, 32), (64, 0, 33, 28, 8, 30, 9, 32), (64, 0, 49, 52, 36, 31, 9, 32), (64, 0, 49, 64, 36, 31, 9, 32), (64, 0, 49, 68, 36, 31, 9, 32), (64, 0, 49, 71, 36, 31, 9, 32), (64, 0, 54, 71, 16, 16, 9, 32), (64, 0, 54, 75, 15, 20, 9, 32), (64, 0, 54, 78, 15, 20, 9, 32), (64, 0, 68, 66, 18, 26, 9, 32), (64, 0, 128, 163, 0, 27, 9, 32), (64, 0, 128, 177, 0, 12, 9, 32), (64, 0, 128, 197, 0, 12, 9, 32), (64, 1, 25, 59, 7, 31, 9, 32), (64, 1, 25, 64, 7, 30, 9, 32), (64, 4, 128, 170, 0, 14, 9, 32), (64, 4, 128, 197, 0, 9, 9, 32), (64, 8, 25, 52, 8, 25, 9, 32), (64, 8, 25, 56, 7, 25, 9, 32), (64, 8, 25, 56, 20, 17, 9, 32), (64, 8, 25, 59, 8, 25, 9, 32), (64, 8, 25, 64, 7, 23, 9, 32), (64, 8, 33, 28, 6, 28, 9, 32), (64, 8, 128, 170, 0, 15, 9, 32), (64, 8, 128, 197, 0, 10, 9, 32), (64, 16, 25, 52, 1, 24, 9, 32), (64, 16, 25, 56, 1, 24, 9, 32), (64, 16, 25, 59, 1, 24, 9, 32), (64, 16, 25, 64, 2, 21, 9, 32), (64, 16, 25, 64, 20, 19, 9, 32), (64, 16, 128, 165, 0, 30, 9, 32), (64, 16, 128, 167, 0, 17, 9, 32), (64, 16, 128, 170, 0, 14, 9, 32), (64, 16, 128, 197, 0, 9, 9, 32), (64, 24, 25, 52, 7, 29, 9, 32), (64, 24, 25, 56, 7, 29, 9, 32), (64, 24, 25, 59, 8, 29, 9, 32), (64, 24, 25, 59, 24, 18, 9, 32), (64, 24, 25, 64, 7, 26, 9, 32), (64, 24, 33, 28, 4, 26, 9, 32), (64, 24, 54, 71, 11, 22, 9, 32), (64, 24, 54, 75, 11, 22, 9, 32), (64, 24, 54, 78, 11, 18, 9, 32), (64, 24, 68, 66, 12, 25, 9, 32), (64, 24, 128, 163, 0, 27, 9, 32), (64, 24, 128, 170, 0, 14, 9, 32), (64, 24, 128, 197, 0, 9, 9, 32), (64, 32, 25, 52, 7, 29, 9, 32), (64, 32, 25, 52, 20, 16, 9, 32), (64, 32, 25, 56, 7, 29, 9, 32), (64, 32, 25, 59, 7, 29, 9, 32), (64, 32, 25, 64, 7, 26, 9, 32), (64, 32, 33, 28, 8, 30, 9, 32), (64, 32, 128, 170, 0, 18, 9, 32), (64, 32, 128, 197, 0, 12, 9, 32), (64, 40, 25, 52, 8, 25, 9, 32), (64, 40, 25, 56, 8, 25, 9, 32), (64, 40, 25, 59, 8, 25, 9, 32), (64, 40, 25, 64, 7, 23, 9, 32), (64, 40, 25, 64, 8, 20, 9, 32), (64, 40, 33, 28, 6, 28, 9, 32), (64, 40, 54, 71, 3, 19, 9, 32), (64, 40, 54, 75, 3, 15, 9, 32), (64, 40, 54, 78, 4, 20, 9, 32), (64, 40, 68, 66, 8, 24, 9, 32), (64, 40, 128, 174, 0, 18, 9, 32), (64, 48, 25, 52, 1, 24, 9, 32), (64, 48, 25, 56, 1, 24, 9, 32), (64, 48, 25, 59, 1, 24, 9, 32), (64, 48, 25, 63, 8, 15, 9, 32), (64, 48, 25, 64, 2, 21, 9, 32), (64, 48, 33, 28, 8, 31, 9, 32), (64, 48, 54, 66, 5, 20, 9, 32), (64, 48, 54, 71, 6, 22, 9, 32), (64, 48, 68, 59, 3, 25, 9, 32), (64, 48, 128, 165, 0, 30, 9, 32), (64, 48, 128, 167, 0, 17, 9, 32), (64, 48, 128, 170, 0, 14, 9, 32), (64, 48, 128, 182, 0, 11, 9, 32), (64, 48, 128, 197, 0, 9, 9, 32), (64, 56, 25, 52, 7, 29, 9, 32), (64, 56, 25, 56, 7, 29, 9, 32), (64, 56, 25, 59, 8, 16, 9, 32), (64, 56, 25, 59, 8, 29, 9, 32), (64, 56, 25, 64, 8, 26, 9, 32), (64, 56, 33, 28, 6, 28, 9, 32), (64, 56, 54, 66, 5, 19, 9, 32), (64, 56, 54, 71, 5, 23, 9, 32), (64, 56, 68, 59, 8, 22, 9, 32), (64, 56, 128, 170, 0, 18, 9, 32), (64, 56, 128, 197, 0, 12, 9, 32), (65, 0, 1, 73, 18, 19, 9, 32), (65, 0, 1, 78, 19, 18, 9, 32), (65, 0, 1, 82, 19, 17, 9, 32), (65, 0, 25, 49, 7, 29, 9, 32), (65, 0, 25, 54, 7, 29, 9, 32), (65, 0, 25, 54, 20, 18, 9, 32), (65, 0, 25, 58, 7, 29, 9, 32), (65, 0, 25, 61, 7, 26, 9, 32), (65, 0, 33, 30, 8, 30, 9, 32), (65, 0, 49, 54, 20, 31, 9, 32), (65, 0, 49, 66, 20, 31, 9, 32), (65, 0, 49, 70, 20, 31, 9, 32), (65, 0, 49, 73, 20, 31, 9, 32), (65, 0, 54, 66, 18, 19, 9, 32), (65, 0, 54, 70, 18, 24, 9, 32), (65, 0, 54, 73, 18, 20, 9, 32), (65, 0, 68, 61, 19, 26, 9, 32), (65, 0, 128, 163, 0, 27, 9, 32), (65, 0, 128, 170, 0, 18, 9, 32), (65, 0, 128, 197, 0, 12, 9, 32), (65, 4, 128, 170, 0, 14, 9, 32), (65, 4, 128, 197, 0, 9, 9, 32), (65, 8, 25, 49, 8, 25, 9, 32), (65, 8, 25, 54, 8, 25, 9, 32), (65, 8, 25, 58, 8, 25, 9, 32), (65, 8, 25, 61, 7, 23, 9, 32), (65, 8, 25, 61, 16, 15, 9, 32), (65, 8, 33, 30, 6, 28, 9, 32), (65, 8, 128, 170, 0, 15, 9, 32), (65, 8, 128, 197, 0, 10, 9, 32), (65, 16, 25, 49, 1, 24, 9, 32), (65, 16, 25, 54, 1, 24, 9, 32), (65, 16, 25, 58, 1, 24, 9, 32), (65, 16, 25, 61, 2, 21, 9, 32), (65, 16, 25, 66, 8, 19, 9, 32), (65, 16, 128, 165, 0, 30, 9, 32), (65, 16, 128, 167, 0, 17, 9, 32), (65, 16, 128, 170, 0, 14, 9, 32), (65, 16, 128, 197, 0, 9, 9, 32), (65, 23, 54, 71, 17, 24, 9, 32), (65, 24, 1, 75, 18, 21, 9, 32), (65, 24, 1, 78, 19, 19, 9, 32), (65, 24, 1, 83, 19, 18, 9, 32), (65, 24, 25, 51, 7, 29, 9, 32), (65, 24, 25, 51, 28, 17, 9, 32), (65, 24, 25, 54, 7, 29, 9, 32), (65, 24, 25, 59, 8, 29, 9, 32), (65, 24, 25, 63, 8, 26, 9, 32), (65, 24, 33, 32, 20, 30, 9, 32), (65, 24, 49, 56, 28, 31, 9, 32), (65, 24, 49, 68, 28, 31, 9, 32), (65, 24, 49, 71, 28, 31, 9, 32), (65, 24, 49, 75, 28, 31, 9, 32), (65, 24, 54, 66, 17, 21, 9, 32), (65, 24, 54, 75, 17, 25, 9, 32), (65, 24, 68, 59, 18, 30, 9, 32), (65, 24, 128, 163, 0, 27, 9, 32), (65, 24, 128, 170, 0, 14, 9, 32), (65, 24, 128, 197, 0, 9, 9, 32), (65, 32, 25, 51, 7, 29, 9, 32), (65, 32, 25, 54, 7, 29, 9, 32), (65, 32, 25, 54, 20, 17, 9, 32), (65, 32, 25, 59, 7, 29, 9, 32), (65, 32, 25, 63, 7, 26, 9, 32), (65, 32, 128, 170, 0, 18, 9, 32), (65, 32, 128, 197, 0, 12, 9, 32), (65, 40, 25, 51, 8, 25, 9, 32), (65, 40, 25, 54, 8, 25, 9, 32), (65, 40, 25, 59, 8, 18, 9, 32), (65, 40, 25, 59, 8, 25, 9, 32), (65, 40, 25, 63, 7, 23, 9, 32), (65, 40, 128, 163, 0, 21, 9, 32), (65, 40, 128, 174, 0, 18, 9, 32), (65, 48, 25, 51, 1, 24, 9, 32), (65, 48, 25, 54, 1, 24, 9, 32), (65, 48, 25, 59, 1, 24, 9, 32), (65, 48, 25, 63, 2, 21, 9, 32), (65, 48, 25, 68, 8, 20, 9, 32), (65, 48, 128, 165, 0, 30, 9, 32), (65, 48, 128, 167, 0, 17, 9, 32), (65, 48, 128, 170, 0, 14, 9, 32), (65, 48, 128, 182, 0, 11, 9, 32), (65, 48, 128, 197, 0, 9, 9, 32), (65, 55, 33, 30, 6, 28, 9, 32), (65, 56, 25, 51, 7, 29, 9, 32), (65, 56, 25, 54, 7, 29, 9, 32), (65, 56, 25, 59, 8, 29, 9, 32), (65, 56, 25, 63, 8, 17, 9, 32), (65, 56, 25, 63, 8, 26, 9, 32), (65, 56, 128, 170, 0, 18, 9, 32), (65, 56, 128, 197, 0, 12, 9, 32), (65, 61, 27, 52, 36, 26, 9, 32), (65, 62, 27, 56, 36, 26, 9, 32), (65, 63, 25, 47, 7, 31, 9, 32), (65, 63, 25, 52, 8, 31, 9, 32), (65, 63, 27, 59, 36, 26, 9, 32), (66, 0, 1, 75, 30, 18, 9, 32), (66, 0, 1, 78, 31, 19, 9, 32), (66, 0, 1, 83, 30, 19, 9, 32), (66, 0, 25, 52, 24, 19, 9, 32), (66, 0, 25, 56, 7, 31, 9, 32), (66, 0, 27, 64, 36, 26, 9, 32), (66, 0, 33, 28, 8, 30, 9, 32), (66, 0, 49, 52, 36, 31, 9, 32), (66, 0, 49, 64, 36, 31, 9, 32), (66, 0, 49, 68, 36, 31, 9, 32), (66, 0, 49, 71, 36, 31, 9, 32), (66, 0, 54, 71, 18, 23, 9, 32), (66, 0, 54, 75, 18, 27, 9, 32), (66, 0, 54, 78, 18, 22, 9, 32), (66, 0, 128, 163, 0, 27, 9, 32), (66, 0, 128, 177, 0, 12, 9, 32), (66, 1, 25, 59, 7, 31, 9, 32), (66, 1, 25, 64, 7, 30, 9, 32), (66, 1, 68, 66, 17, 20, 9, 32), (66, 8, 25, 52, 8, 25, 9, 32), (66, 8, 25, 56, 7, 25, 9, 32), (66, 8, 25, 56, 20, 17, 9, 32), (66, 8, 25, 59, 8, 25, 9, 32), (66, 8, 25, 64, 7, 23, 9, 32), (66, 8, 33, 28, 6, 28, 9, 32), (66, 8, 128, 170, 0, 14, 9, 32), (66, 8, 128, 197, 0, 9, 9, 32), (66, 16, 25, 52, 1, 24, 9, 32), (66, 16, 25, 56, 1, 24, 9, 32), (66, 16, 25, 59, 1, 24, 9, 32), (66, 16, 25, 64, 2, 21, 9, 32), (66, 16, 25, 64, 20, 19, 9, 32), (66, 16, 128, 165, 0, 30, 9, 32), (66, 16, 128, 167, 0, 17, 9, 32), (66, 16, 128, 170, 0, 14, 9, 32), (66, 16, 128, 197, 0, 9, 9, 32), (66, 24, 25, 52, 7, 29, 9, 32), (66, 24, 25, 56, 7, 29, 9, 32), (66, 24, 25, 59, 8, 29, 9, 32), (66, 24, 25, 59, 24, 18, 9, 32), (66, 24, 25, 64, 7, 26, 9, 32), (66, 24, 33, 28, 4, 26, 9, 32), (66, 24, 54, 71, 13, 23, 9, 32), (66, 24, 54, 75, 13, 22, 9, 32), (66, 24, 54, 78, 13, 20, 9, 32), (66, 24, 68, 66, 13, 25, 9, 32), (66, 24, 128, 163, 0, 27, 9, 32), (66, 24, 128, 170, 0, 18, 9, 32), (66, 24, 128, 197, 0, 12, 9, 32), (66, 32, 25, 52, 7, 29, 9, 32), (66, 32, 25, 52, 20, 16, 9, 32), (66, 32, 25, 56, 7, 29, 9, 32), (66, 32, 25, 59, 7, 29, 9, 32), (66, 32, 25, 64, 7, 26, 9, 32), (66, 32, 33, 28, 8, 30, 9, 32), (66, 32, 128, 170, 0, 14, 9, 32), (66, 32, 128, 197, 0, 9, 9, 32), (66, 40, 25, 52, 8, 25, 9, 32), (66, 40, 25, 56, 8, 25, 9, 32), (66, 40, 25, 59, 8, 25, 9, 32), (66, 40, 25, 64, 7, 23, 9, 32), (66, 40, 25, 64, 8, 20, 9, 32), (66, 40, 33, 28, 6, 28, 9, 32), (66, 40, 54, 71, 6, 21, 9, 32), (66, 40, 54, 75, 6, 19, 9, 32), (66, 40, 54, 78, 7, 16, 9, 32), (66, 40, 68, 66, 8, 26, 9, 32), (66, 40, 128, 174, 0, 18, 9, 32), (66, 48, 25, 52, 1, 24, 9, 32), (66, 48, 25, 56, 1, 24, 9, 32), (66, 48, 25, 59, 1, 24, 9, 32), (66, 48, 25, 63, 8, 15, 9, 32), (66, 48, 25, 64, 2, 21, 9, 32), (66, 48, 54, 66, 5, 22, 9, 32), (66, 48, 54, 71, 6, 22, 9, 32), (66, 48, 68, 59, 6, 28, 9, 32), (66, 48, 128, 165, 0, 30, 9, 32), (66, 48, 128, 167, 0, 17, 9, 32), (66, 48, 128, 170, 0, 14, 9, 32), (66, 48, 128, 182, 0, 11, 9, 32), (66, 48, 128, 197, 0, 9, 9, 32), (66, 55, 54, 71, 5, 19, 9, 32), (66, 56, 25, 52, 7, 29, 9, 32), (66, 56, 25, 56, 7, 29, 9, 32), (66, 56, 25, 59, 8, 16, 9, 32), (66, 56, 25, 59, 8, 29, 9, 32), (66, 56, 25, 64, 8, 26, 9, 32), (66, 56, 33, 28, 4, 26, 9, 32), (66, 56, 54, 66, 4, 16, 9, 32), (66, 56, 68, 59, 8, 25, 9, 32), (66, 56, 128, 170, 0, 14, 9, 32), (66, 56, 128, 197, 0, 9, 9, 32), (67, 0, 1, 73, 17, 18, 9, 32), (67, 0, 1, 78, 18, 19, 9, 32), (67, 0, 1, 82, 18, 16, 9, 32), (67, 0, 25, 49, 7, 29, 9, 32), (67, 0, 25, 54, 7, 29, 9, 32), (67, 0, 25, 54, 20, 18, 9, 32), (67, 0, 25, 58, 7, 29, 9, 32), (67, 0, 25, 61, 7, 26, 9, 32), (67, 0, 33, 30, 8, 30, 9, 32), (67, 0, 49, 54, 20, 31, 9, 32), (67, 0, 49, 66, 20, 31, 9, 32), (67, 0, 49, 70, 20, 31, 9, 32), (67, 0, 49, 73, 20, 31, 9, 32), (67, 0, 54, 70, 17, 25, 9, 32), (67, 0, 54, 73, 17, 22, 9, 32), (67, 0, 68, 61, 15, 28, 9, 32), (67, 0, 128, 163, 0, 27, 9, 32), (67, 0, 128, 170, 0, 18, 9, 32), (67, 0, 128, 177, 0, 12, 9, 32), (67, 0, 128, 197, 0, 12, 9, 32), (67, 1, 54, 66, 17, 21, 9, 32), (67, 4, 128, 170, 0, 14, 9, 32), (67, 4, 128, 197, 0, 9, 9, 32), (67, 8, 25, 49, 8, 25, 9, 32), (67, 8, 25, 54, 8, 25, 9, 32), (67, 8, 25, 58, 8, 25, 9, 32), (67, 8, 25, 61, 7, 23, 9, 32), (67, 8, 25, 61, 16, 15, 9, 32), (67, 8, 33, 30, 6, 28, 9, 32), (67, 8, 128, 170, 0, 15, 9, 32), (67, 8, 128, 197, 0, 10, 9, 32), (67, 16, 25, 49, 1, 24, 9, 32), (67, 16, 25, 54, 1, 24, 9, 32), (67, 16, 25, 58, 1, 24, 9, 32), (67, 16, 25, 61, 2, 21, 9, 32), (67, 16, 25, 66, 8, 19, 9, 32), (67, 16, 33, 32, 8, 30, 9, 32), (67, 16, 68, 61, 3, 28, 9, 32), (67, 16, 128, 165, 0, 30, 9, 32), (67, 16, 128, 167, 0, 17, 9, 32), (67, 16, 128, 170, 0, 14, 9, 32), (67, 16, 128, 197, 0, 9, 9, 32), (67, 23, 1, 75, 25, 24, 9, 32), (67, 23, 1, 78, 26, 19, 9, 32), (67, 24, 1, 83, 26, 18, 9, 32), (67, 24, 25, 51, 7, 29, 9, 32), (67, 24, 25, 51, 28, 17, 9, 32), (67, 24, 25, 54, 7, 29, 9, 32), (67, 24, 25, 59, 8, 29, 9, 32), (67, 24, 25, 63, 8, 26, 9, 32), (67, 24, 33, 35, 19, 31, 9, 32), (67, 24, 49, 59, 28, 31, 9, 32), (67, 24, 49, 66, 28, 31, 9, 32), (67, 24, 49, 71, 28, 31, 9, 32), (67, 24, 49, 75, 28, 31, 9, 32), (67, 24, 54, 66, 22, 23, 9, 32), (67, 24, 54, 71, 22, 22, 9, 32), (67, 24, 54, 75, 22, 27, 9, 32), (67, 24, 68, 63, 14, 28, 9, 32), (67, 24, 128, 163, 0, 27, 9, 32), (67, 24, 128, 170, 0, 14, 9, 32), (67, 24, 128, 197, 0, 9, 9, 32), (67, 32, 25, 51, 7, 29, 9, 32), (67, 32, 25, 54, 7, 29, 9, 32), (67, 32, 25, 54, 20, 17, 9, 32), (67, 32, 25, 59, 7, 29, 9, 32), (67, 32, 25, 63, 7, 26, 9, 32), (67, 32, 128, 170, 0, 18, 9, 32), (67, 32, 128, 197, 0, 12, 9, 32), (67, 40, 25, 51, 8, 25, 9, 32), (67, 40, 25, 54, 8, 25, 9, 32), (67, 40, 25, 59, 8, 18, 9, 32), (67, 40, 25, 59, 8, 25, 9, 32), (67, 40, 25, 63, 7, 23, 9, 32), (67, 40, 128, 163, 0, 27, 9, 32), (67, 40, 128, 174, 0, 18, 9, 32), (67, 48, 25, 51, 1, 24, 9, 32), (67, 48, 25, 54, 1, 24, 9, 32), (67, 48, 25, 59, 1, 24, 9, 32), (67, 48, 25, 63, 2, 21, 9, 32), (67, 48, 25, 68, 8, 20, 9, 32), (67, 48, 33, 35, 16, 29, 9, 32), (67, 48, 128, 165, 0, 30, 9, 32), (67, 48, 128, 167, 0, 17, 9, 32), (67, 48, 128, 170, 0, 14, 9, 32), (67, 48, 128, 182, 0, 11, 9, 32), (67, 48, 128, 197, 0, 9, 9, 32), (67, 56, 25, 51, 7, 29, 9, 32), (67, 56, 25, 54, 7, 29, 9, 32), (67, 56, 25, 59, 8, 29, 9, 32), (67, 56, 25, 63, 8, 17, 9, 32), (67, 56, 25, 63, 8, 26, 9, 32), (67, 56, 128, 170, 0, 18, 9, 32), (67, 56, 128, 197, 0, 12, 9, 32), (67, 63, 25, 47, 7, 31, 9, 32), (67, 63, 25, 51, 8, 31, 9, 32), (68, 0, 25, 44, 36, 17, 9, 32), (68, 0, 25, 56, 7, 31, 9, 32), (68, 0, 33, 32, 8, 30, 9, 32), (68, 0, 49, 56, 36, 31, 9, 32), (68, 0, 49, 68, 36, 31, 9, 32), (68, 0, 49, 71, 36, 31, 9, 32), (68, 0, 49, 75, 36, 31, 9, 32), (68, 0, 128, 163, 0, 27, 9, 32), (68, 0, 128, 170, 0, 18, 9, 32), (68, 0, 128, 177, 0, 12, 9, 32), (68, 0, 128, 197, 0, 12, 9, 32), (68, 1, 25, 59, 7, 31, 9, 32), (68, 1, 25, 63, 7, 30, 9, 32), (68, 4, 128, 170, 0, 14, 9, 32), (68, 4, 128, 197, 0, 9, 9, 32), (68, 8, 25, 51, 8, 25, 9, 32), (68, 8, 25, 56, 7, 25, 9, 32), (68, 8, 25, 56, 20, 15, 9, 32), (68, 8, 25, 59, 8, 25, 9, 32), (68, 8, 25, 63, 7, 23, 9, 32), (68, 8, 33, 32, 6, 28, 9, 32), (68, 8, 128, 170, 0, 15, 9, 32), (68, 8, 128, 197, 0, 10, 9, 32), (68, 16, 25, 51, 1, 24, 9, 32), (68, 16, 25, 56, 1, 24, 9, 32), (68, 16, 25, 59, 1, 24, 9, 32), (68, 16, 25, 63, 2, 21, 9, 32), (68, 16, 25, 63, 20, 21, 9, 32), (68, 16, 54, 71, 24, 25, 9, 32), (68, 16, 54, 75, 24, 25, 9, 32), (68, 16, 68, 63, 20, 26, 9, 32), (68, 16, 128, 165, 0, 30, 9, 32), (68, 16, 128, 167, 0, 17, 9, 32), (68, 16, 128, 170, 0, 14, 9, 32), (68, 16, 128, 197, 0, 9, 9, 32), (68, 24, 25, 51, 7, 29, 9, 32), (68, 24, 25, 56, 7, 29, 9, 32), (68, 24, 25, 59, 8, 29, 9, 32), (68, 24, 25, 59, 24, 16, 9, 32), (68, 24, 25, 63, 7, 26, 9, 32), (68, 24, 33, 32, 4, 26, 9, 32), (68, 24, 128, 163, 0, 27, 9, 32), (68, 24, 128, 170, 0, 14, 9, 32), (68, 24, 128, 197, 0, 9, 9, 32), (68, 32, 25, 51, 7, 29, 9, 32), (68, 32, 25, 56, 7, 29, 9, 32), (68, 32, 25, 56, 20, 14, 9, 32), (68, 32, 25, 59, 7, 29, 9, 32), (68, 32, 25, 63, 7, 26, 9, 32), (68, 32, 33, 32, 8, 30, 9, 32), (68, 32, 128, 170, 0, 18, 9, 32), (68, 32, 128, 197, 0, 12, 9, 32), (68, 40, 25, 51, 8, 25, 9, 32), (68, 40, 25, 56, 8, 25, 9, 32), (68, 40, 25, 59, 8, 25, 9, 32), (68, 40, 25, 64, 7, 23, 9, 32), (68, 40, 25, 64, 8, 20, 9, 32), (68, 40, 33, 32, 6, 28, 9, 32), (68, 40, 128, 174, 0, 18, 9, 32), (68, 48, 25, 51, 1, 24, 9, 32), (68, 48, 25, 56, 1, 24, 9, 32), (68, 48, 25, 59, 1, 24, 9, 32), (68, 48, 25, 63, 2, 21, 9, 32), (68, 48, 25, 63, 8, 14, 9, 32), (68, 48, 54, 73, 7, 26, 9, 32), (68, 48, 54, 76, 8, 25, 9, 32), (68, 48, 68, 64, 8, 27, 9, 32), (68, 48, 128, 165, 0, 30, 9, 32), (68, 48, 128, 167, 0, 17, 9, 32), (68, 48, 128, 170, 0, 14, 9, 32), (68, 48, 128, 182, 0, 11, 9, 32), (68, 48, 128, 197, 0, 9, 9, 32), (68, 55, 54, 75, 3, 20, 9, 32), (68, 56, 25, 51, 7, 29, 9, 32), (68, 56, 25, 56, 7, 29, 9, 32), (68, 56, 25, 59, 8, 14, 9, 32), (68, 56, 25, 59, 8, 29, 9, 32), (68, 56, 25, 63, 8, 26, 9, 32), (68, 56, 54, 71, 2, 23, 9, 32), (68, 56, 68, 63, 8, 26, 9, 32), (68, 56, 128, 170, 0, 18, 9, 32), (68, 56, 128, 197, 0, 12, 9, 32), (69, 0, 25, 54, 19, 29, 9, 32), (69, 0, 25, 54, 20, 18, 9, 32), (69, 0, 25, 58, 20, 29, 9, 32), (69, 0, 25, 61, 20, 29, 9, 32), (69, 0, 33, 30, 8, 30, 9, 32), (69, 0, 49, 54, 36, 31, 9, 32), (69, 0, 49, 66, 36, 31, 9, 32), (69, 0, 49, 70, 20, 31, 9, 32), (69, 0, 49, 73, 20, 31, 9, 32), (69, 0, 54, 70, 16, 30, 9, 32), (69, 0, 54, 73, 16, 25, 9, 32), (69, 0, 128, 163, 0, 27, 9, 32), (69, 0, 128, 170, 0, 18, 9, 32), (69, 0, 128, 185, 0, 14, 9, 32), (69, 0, 128, 197, 0, 12, 9, 32), (69, 1, 1, 73, 15, 19, 9, 32), (69, 1, 1, 78, 16, 19, 9, 32), (69, 1, 1, 82, 16, 15, 9, 32), (69, 1, 25, 66, 20, 26, 9, 32), (69, 1, 68, 61, 15, 28, 9, 32), (69, 8, 25, 61, 16, 15, 9, 32), (69, 8, 33, 30, 6, 28, 9, 32), (69, 16, 25, 66, 8, 19, 9, 32), (69, 16, 33, 32, 8, 30, 9, 32), (69, 16, 128, 170, 0, 14, 9, 32), (69, 16, 128, 197, 0, 9, 9, 32), (69, 23, 54, 66, 21, 25, 9, 32), (69, 23, 54, 71, 21, 26, 9, 32), (69, 24, 1, 78, 19, 20, 9, 32), (69, 24, 1, 83, 20, 20, 9, 32), (69, 24, 25, 54, 27, 28, 9, 32), (69, 24, 25, 59, 28, 17, 9, 32), (69, 24, 25, 59, 28, 28, 9, 32), (69, 24, 25, 63, 28, 28, 9, 32), (69, 24, 33, 35, 20, 31, 9, 32), (69, 24, 49, 71, 28, 31, 9, 32), (69, 24, 49, 75, 28, 31, 9, 32), (69, 24, 68, 59, 17, 28, 9, 32), (69, 24, 128, 163, 0, 27, 9, 32), (69, 24, 128, 177, 0, 14, 9, 32), (69, 25, 1, 75, 18, 20, 9, 32), (69, 25, 25, 66, 28, 23, 9, 32), (69, 32, 128, 170, 0, 18, 9, 32), (69, 32, 128, 197, 0, 12, 9, 32), (69, 40, 128, 163, 0, 21, 9, 32), (69, 40, 128, 174, 0, 18, 9, 32), (69, 48, 68, 75, 7, 26, 9, 32), (69, 48, 128, 165, 0, 30, 9, 32), (69, 48, 128, 167, 0, 17, 9, 32), (69, 48, 128, 170, 0, 14, 9, 32), (69, 48, 128, 182, 0, 11, 9, 32), (69, 48, 128, 197, 0, 9, 9, 32), (69, 56, 33, 32, 8, 28, 9, 32), (69, 56, 68, 78, 2, 22, 9, 32), (69, 61, 27, 52, 36, 26, 9, 32), (69, 62, 27, 56, 36, 26, 9, 32), (69, 63, 27, 59, 36, 26, 9, 32), (70, 0, 25, 52, 7, 29, 9, 32), (70, 0, 25, 52, 24, 19, 9, 32), (70, 0, 25, 56, 7, 29, 9, 32), (70, 0, 25, 59, 7, 29, 9, 32), (70, 0, 25, 64, 7, 26, 9, 32), (70, 0, 27, 64, 36, 26, 9, 32), (70, 0, 33, 28, 8, 30, 9, 32), (70, 0, 49, 52, 36, 31, 9, 32), (70, 0, 49, 64, 36, 31, 9, 32), (70, 0, 49, 68, 36, 31, 9, 32), (70, 0, 49, 71, 36, 31, 9, 32), (70, 0, 54, 66, 15, 13, 9, 32), (70, 0, 54, 71, 15, 13, 9, 32), (70, 0, 54, 78, 14, 12, 9, 32), (70, 0, 68, 78, 16, 24, 9, 32), (70, 0, 128, 163, 0, 27, 9, 32), (70, 0, 128, 177, 0, 17, 9, 32), (70, 0, 128, 182, 0, 4, 9, 32), (70, 4, 128, 182, 0, 3, 9, 32), (70, 8, 25, 52, 8, 25, 9, 32), (70, 8, 25, 56, 7, 25, 9, 32), (70, 8, 25, 56, 20, 17, 9, 32), (70, 8, 25, 59, 8, 25, 9, 32), (70, 8, 25, 64, 7, 23, 9, 32), (70, 8, 33, 28, 6, 28, 9, 32), (70, 8, 128, 170, 0, 14, 9, 32), (70, 8, 128, 182, 0, 4, 9, 32), (70, 8, 128, 197, 0, 9, 9, 32), (70, 12, 128, 182, 0, 3, 9, 32), (70, 16, 1, 90, 16, 20, 9, 32), (70, 16, 25, 52, 1, 24, 9, 32), (70, 16, 25, 56, 1, 24, 9, 32), (70, 16, 25, 59, 1, 24, 9, 32), (70, 16, 25, 64, 2, 21, 9, 32), (70, 16, 25, 64, 20, 19, 9, 32), (70, 16, 54, 66, 14, 22, 9, 32), (70, 16, 54, 71, 15, 21, 9, 32), (70, 16, 54, 78, 14, 20, 9, 32), (70, 16, 68, 66, 16, 25, 9, 32), (70, 16, 128, 165, 0, 30, 9, 32), (70, 16, 128, 167, 0, 17, 9, 32), (70, 16, 128, 170, 0, 14, 9, 32), (70, 16, 128, 182, 0, 11, 9, 32), (70, 16, 128, 197, 0, 9, 9, 32), (70, 20, 128, 182, 0, 3, 9, 32), (70, 24, 25, 52, 7, 29, 9, 32), (70, 24, 25, 56, 7, 29, 9, 32), (70, 24, 25, 59, 8, 29, 9, 32), (70, 24, 25, 59, 24, 18, 9, 32), (70, 24, 25, 64, 7, 26, 9, 32), (70, 24, 33, 28, 4, 26, 9, 32), (70, 24, 128, 163, 0, 27, 9, 32), (70, 24, 128, 170, 0, 18, 9, 32), (70, 24, 128, 182, 0, 4, 9, 32), (70, 24, 128, 197, 0, 12, 9, 32), (70, 28, 128, 182, 0, 3, 9, 32), (70, 32, 1, 88, 8, 20, 9, 32), (70, 32, 25, 52, 7, 29, 9, 32), (70, 32, 25, 52, 20, 16, 9, 32), (70, 32, 25, 56, 7, 29, 9, 32), (70, 32, 25, 59, 7, 29, 9, 32), (70, 32, 25, 64, 7, 26, 9, 32), (70, 32, 33, 28, 8, 30, 9, 32), (70, 32, 54, 66, 6, 24, 9, 32), (70, 32, 54, 71, 6, 24, 9, 32), (70, 32, 54, 76, 6, 24, 9, 32), (70, 32, 128, 170, 0, 14, 9, 32), (70, 32, 128, 182, 0, 4, 9, 32), (70, 32, 128, 197, 0, 9, 9, 32), (70, 33, 68, 64, 8, 24, 9, 32), (70, 36, 128, 182, 0, 3, 9, 32), (70, 40, 1, 87, 8, 20, 9, 32), (70, 40, 25, 52, 8, 25, 9, 32), (70, 40, 25, 56, 8, 25, 9, 32), (70, 40, 25, 59, 8, 25, 9, 32), (70, 40, 25, 64, 7, 23, 9, 32), (70, 40, 25, 64, 8, 20, 9, 32), (70, 40, 33, 28, 6, 28, 9, 32), (70, 40, 54, 66, 7, 21, 9, 32), (70, 40, 54, 71, 7, 21, 9, 32), (70, 40, 54, 75, 6, 24, 9, 32), (70, 40, 128, 174, 0, 18, 9, 32), (70, 40, 128, 182, 0, 4, 9, 32), (70, 41, 68, 63, 8, 24, 9, 32), (70, 44, 128, 182, 0, 3, 9, 32), (70, 48, 1, 85, 8, 20, 9, 32), (70, 48, 25, 52, 1, 24, 9, 32), (70, 48, 25, 56, 1, 24, 9, 32), (70, 48, 25, 59, 1, 24, 9, 32), (70, 48, 25, 63, 8, 15, 9, 32), (70, 48, 25, 64, 2, 21, 9, 32), (70, 48, 33, 28, 8, 31, 9, 32), (70, 48, 54, 66, 6, 20, 9, 32), (70, 48, 54, 73, 6, 21, 9, 32), (70, 48, 128, 165, 0, 30, 9, 32), (70, 48, 128, 167, 0, 17, 9, 32), (70, 48, 128, 170, 0, 14, 9, 32), (70, 48, 128, 182, 0, 11, 9, 32), (70, 48, 128, 197, 0, 9, 9, 32), (70, 49, 68, 61, 8, 24, 9, 32), (70, 52, 128, 182, 0, 3, 9, 32), (70, 56, 1, 83, 8, 20, 9, 32), (70, 56, 25, 52, 7, 29, 9, 32), (70, 56, 25, 56, 7, 29, 9, 32), (70, 56, 25, 59, 8, 16, 9, 32), (70, 56, 25, 59, 8, 29, 9, 32), (70, 56, 25, 64, 8, 26, 9, 32), (70, 56, 33, 28, 6, 28, 9, 32), (70, 56, 54, 66, 5, 21, 9, 32), (70, 56, 54, 71, 5, 24, 9, 32), (70, 56, 68, 59, 8, 21, 9, 32), (70, 56, 128, 170, 0, 14, 9, 32), (70, 56, 128, 182, 0, 4, 9, 32), (70, 56, 128, 197, 0, 9, 9, 32), (70, 60, 128, 182, 0, 3, 9, 32), (71, 0, 1, 82, 16, 20, 9, 32), (71, 0, 25, 54, 7, 29, 9, 32), (71, 0, 25, 54, 20, 18, 9, 32), (71, 0, 25, 58, 7, 29, 9, 32), (71, 0, 25, 61, 7, 29, 9, 32), (71, 0, 25, 66, 7, 26, 9, 32), (71, 0, 33, 30, 8, 30, 9, 32), (71, 0, 49, 54, 20, 31, 9, 32), (71, 0, 49, 66, 20, 31, 9, 32), (71, 0, 49, 70, 20, 31, 9, 32), (71, 0, 49, 73, 20, 31, 9, 32), (71, 0, 54, 61, 18, 21, 9, 32), (71, 0, 54, 66, 19, 21, 9, 32), (71, 0, 54, 70, 19, 20, 9, 32), (71, 0, 68, 58, 18, 25, 9, 32), (71, 0, 128, 163, 0, 27, 9, 32), (71, 0, 128, 170, 0, 18, 9, 32), (71, 0, 128, 182, 0, 4, 9, 32), (71, 0, 128, 197, 0, 12, 9, 32), (71, 4, 128, 170, 0, 14, 9, 32), (71, 4, 128, 182, 0, 3, 9, 32), (71, 4, 128, 197, 0, 9, 9, 32), (71, 8, 25, 54, 8, 25, 9, 32), (71, 8, 25, 58, 8, 25, 9, 32), (71, 8, 25, 61, 8, 25, 9, 32), (71, 8, 25, 61, 16, 15, 9, 32), (71, 8, 25, 66, 7, 23, 9, 32), (71, 8, 33, 30, 6, 28, 9, 32), (71, 8, 128, 170, 0, 15, 9, 32), (71, 8, 128, 182, 0, 4, 9, 32), (71, 8, 128, 197, 0, 10, 9, 32), (71, 12, 128, 182, 0, 3, 9, 32), (71, 16, 25, 54, 1, 24, 9, 32), (71, 16, 25, 58, 1, 24, 9, 32), (71, 16, 25, 61, 1, 24, 9, 32), (71, 16, 25, 66, 2, 21, 9, 32), (71, 16, 25, 66, 8, 19, 9, 32), (71, 16, 128, 165, 0, 30, 9, 32), (71, 16, 128, 167, 0, 17, 9, 32), (71, 16, 128, 170, 0, 14, 9, 32), (71, 16, 128, 182, 0, 11, 9, 32), (71, 16, 128, 197, 0, 9, 9, 32), (71, 20, 128, 182, 0, 3, 9, 32), (71, 24, 1, 83, 16, 20, 9, 32), (71, 24, 25, 51, 28, 17, 9, 32), (71, 24, 25, 54, 7, 29, 9, 32), (71, 24, 25, 58, 7, 29, 9, 32), (71, 24, 25, 61, 8, 29, 9, 32), (71, 24, 25, 66, 8, 26, 9, 32), (71, 24, 33, 32, 20, 30, 9, 32), (71, 24, 49, 56, 28, 31, 9, 32), (71, 24, 49, 68, 28, 31, 9, 32), (71, 24, 49, 71, 28, 31, 9, 32), (71, 24, 49, 75, 28, 31, 9, 32), (71, 24, 54, 63, 19, 24, 9, 32), (71, 24, 54, 66, 19, 21, 9, 32), (71, 24, 68, 59, 16, 25, 9, 32), (71, 24, 128, 163, 0, 27, 9, 32), (71, 24, 128, 170, 0, 14, 9, 32), (71, 24, 128, 182, 0, 4, 9, 32), (71, 24, 128, 197, 0, 9, 9, 32), (71, 25, 54, 71, 18, 24, 9, 32), (71, 28, 128, 182, 0, 3, 9, 32), (71, 32, 25, 51, 7, 29, 9, 32), (71, 32, 25, 56, 7, 29, 9, 32), (71, 32, 25, 56, 20, 17, 9, 32), (71, 32, 25, 59, 7, 29, 9, 32), (71, 32, 25, 63, 7, 26, 9, 32), (71, 32, 128, 170, 0, 18, 9, 32), (71, 32, 128, 182, 0, 4, 9, 32), (71, 32, 128, 197, 0, 12, 9, 32), (71, 36, 128, 182, 0, 3, 9, 32), (71, 40, 25, 51, 8, 25, 9, 32), (71, 40, 25, 56, 8, 25, 9, 32), (71, 40, 25, 59, 8, 18, 9, 32), (71, 40, 25, 59, 8, 25, 9, 32), (71, 40, 25, 63, 7, 23, 9, 32), (71, 40, 128, 163, 0, 27, 9, 32), (71, 40, 128, 174, 0, 18, 9, 32), (71, 40, 128, 182, 0, 4, 9, 32), (71, 44, 128, 182, 0, 3, 9, 32), (71, 48, 25, 51, 1, 24, 9, 32), (71, 48, 25, 56, 1, 24, 9, 32), (71, 48, 25, 59, 1, 24, 9, 32), (71, 48, 25, 63, 2, 21, 9, 32), (71, 48, 25, 68, 8, 20, 9, 32), (71, 48, 68, 75, 7, 24, 9, 32), (71, 48, 128, 165, 0, 30, 9, 32), (71, 48, 128, 167, 0, 17, 9, 32), (71, 48, 128, 170, 0, 14, 9, 32), (71, 48, 128, 182, 0, 11, 9, 32), (71, 48, 128, 197, 0, 9, 9, 32), (71, 52, 128, 182, 0, 3, 9, 32), (71, 55, 33, 30, 6, 28, 9, 32), (71, 56, 25, 51, 7, 29, 9, 32), (71, 56, 25, 56, 7, 29, 9, 32), (71, 56, 25, 59, 8, 29, 9, 32), (71, 56, 25, 63, 8, 17, 9, 32), (71, 56, 25, 63, 8, 26, 9, 32), (71, 56, 68, 78, 4, 22, 9, 32), (71, 56, 128, 170, 0, 18, 9, 32), (71, 56, 128, 182, 0, 4, 9, 32), (71, 56, 128, 197, 0, 12, 9, 32), (71, 60, 128, 182, 0, 3, 9, 32), (71, 61, 27, 52, 36, 26, 9, 32), (71, 62, 27, 56, 36, 26, 9, 32), (71, 63, 27, 59, 36, 26, 9, 32), (72, 0, 25, 52, 7, 29, 9, 32), (72, 0, 25, 52, 24, 19, 9, 32), (72, 0, 25, 56, 7, 29, 9, 32), (72, 0, 25, 59, 7, 29, 9, 32), (72, 0, 25, 64, 7, 26, 9, 32), (72, 0, 27, 64, 36, 26, 9, 32), (72, 0, 33, 28, 8, 30, 9, 32), (72, 0, 49, 52, 36, 31, 9, 32), (72, 0, 49, 64, 36, 31, 9, 32), (72, 0, 49, 68, 36, 31, 9, 32), (72, 0, 49, 71, 36, 31, 9, 32), (72, 0, 54, 66, 15, 13, 9, 32), (72, 0, 54, 71, 15, 13, 9, 32), (72, 0, 54, 78, 14, 12, 9, 32), (72, 0, 68, 78, 16, 24, 9, 32), (72, 0, 128, 163, 0, 27, 9, 32), (72, 0, 128, 170, 0, 18, 9, 32), (72, 0, 128, 177, 0, 12, 9, 32), (72, 0, 128, 182, 0, 4, 9, 32), (72, 0, 128, 197, 0, 12, 9, 32), (72, 4, 128, 170, 0, 14, 9, 32), (72, 4, 128, 182, 0, 3, 9, 32), (72, 4, 128, 197, 0, 9, 9, 32), (72, 8, 25, 52, 8, 25, 9, 32), (72, 8, 25, 56, 7, 25, 9, 32), (72, 8, 25, 56, 20, 17, 9, 32), (72, 8, 25, 59, 8, 25, 9, 32), (72, 8, 25, 64, 7, 23, 9, 32), (72, 8, 33, 28, 6, 28, 9, 32), (72, 8, 128, 170, 0, 15, 9, 32), (72, 8, 128, 182, 0, 4, 9, 32), (72, 8, 128, 197, 0, 10, 9, 32), (72, 12, 128, 182, 0, 3, 9, 32), (72, 16, 1, 90, 16, 20, 9, 32), (72, 16, 25, 52, 1, 24, 9, 32), (72, 16, 25, 56, 1, 24, 9, 32), (72, 16, 25, 59, 1, 24, 9, 32), (72, 16, 25, 64, 2, 21, 9, 32), (72, 16, 25, 64, 20, 19, 9, 32), (72, 16, 54, 66, 14, 23, 9, 32), (72, 16, 54, 71, 15, 23, 9, 32), (72, 16, 54, 78, 14, 22, 9, 32), (72, 16, 68, 66, 16, 25, 9, 32), (72, 16, 128, 165, 0, 30, 9, 32), (72, 16, 128, 167, 0, 17, 9, 32), (72, 16, 128, 170, 0, 14, 9, 32), (72, 16, 128, 182, 0, 11, 9, 32), (72, 16, 128, 197, 0, 9, 9, 32), (72, 20, 128, 182, 0, 3, 9, 32), (72, 24, 25, 52, 7, 29, 9, 32), (72, 24, 25, 56, 7, 29, 9, 32), (72, 24, 25, 59, 8, 29, 9, 32), (72, 24, 25, 59, 24, 18, 9, 32), (72, 24, 25, 64, 7, 26, 9, 32), (72, 24, 33, 28, 4, 26, 9, 32), (72, 24, 128, 163, 0, 27, 9, 32), (72, 24, 128, 170, 0, 14, 9, 32), (72, 24, 128, 182, 0, 4, 9, 32), (72, 24, 128, 197, 0, 9, 9, 32), (72, 28, 128, 182, 0, 3, 9, 32), (72, 32, 1, 88, 8, 20, 9, 32), (72, 32, 25, 52, 7, 29, 9, 32), (72, 32, 25, 52, 20, 16, 9, 32), (72, 32, 25, 56, 7, 29, 9, 32), (72, 32, 25, 59, 7, 29, 9, 32), (72, 32, 25, 64, 7, 26, 9, 32), (72, 32, 33, 28, 8, 30, 9, 32), (72, 32, 54, 76, 7, 23, 9, 32), (72, 32, 68, 64, 9, 24, 9, 32), (72, 32, 128, 170, 0, 18, 9, 32), (72, 32, 128, 182, 0, 4, 9, 32), (72, 32, 128, 197, 0, 12, 9, 32), (72, 33, 54, 66, 4, 23, 9, 32), (72, 33, 54, 71, 5, 23, 9, 32), (72, 36, 128, 182, 0, 3, 9, 32), (72, 40, 1, 87, 8, 20, 9, 32), (72, 40, 25, 52, 8, 25, 9, 32), (72, 40, 25, 56, 8, 25, 9, 32), (72, 40, 25, 59, 8, 25, 9, 32), (72, 40, 25, 64, 7, 23, 9, 32), (72, 40, 25, 64, 8, 20, 9, 32), (72, 40, 33, 28, 6, 28, 9, 32), (72, 40, 54, 66, 6, 20, 9, 32), (72, 40, 54, 71, 6, 20, 9, 32), (72, 40, 54, 75, 6, 24, 9, 32), (72, 40, 68, 63, 8, 24, 9, 32), (72, 40, 128, 174, 0, 18, 9, 32), (72, 40, 128, 182, 0, 4, 9, 32), (72, 44, 128, 182, 0, 3, 9, 32), (72, 48, 1, 85, 8, 20, 9, 32), (72, 48, 25, 52, 1, 24, 9, 32), (72, 48, 25, 56, 1, 24, 9, 32), (72, 48, 25, 59, 1, 24, 9, 32), (72, 48, 25, 63, 8, 15, 9, 32), (72, 48, 25, 64, 2, 21, 9, 32), (72, 48, 33, 28, 8, 31, 9, 32), (72, 48, 54, 66, 6, 22, 9, 32), (72, 48, 54, 73, 6, 20, 9, 32), (72, 48, 68, 61, 9, 24, 9, 32), (72, 48, 128, 165, 0, 30, 9, 32), (72, 48, 128, 167, 0, 17, 9, 32), (72, 48, 128, 170, 0, 14, 9, 32), (72, 48, 128, 182, 0, 11, 9, 32), (72, 48, 128, 197, 0, 9, 9, 32), (72, 52, 128, 182, 0, 3, 9, 32), (72, 56, 1, 83, 8, 20, 9, 32), (72, 56, 25, 52, 7, 29, 9, 32), (72, 56, 25, 56, 7, 29, 9, 32), (72, 56, 25, 59, 8, 16, 9, 32), (72, 56, 25, 59, 8, 29, 9, 32), (72, 56, 25, 64, 8, 26, 9, 32), (72, 56, 33, 28, 6, 28, 9, 32), (72, 56, 54, 66, 5, 20, 9, 32), (72, 56, 54, 71, 6, 24, 9, 32), (72, 56, 68, 59, 9, 21, 9, 32), (72, 56, 128, 170, 0, 18, 9, 32), (72, 56, 128, 182, 0, 4, 9, 32), (72, 56, 128, 197, 0, 12, 9, 32), (72, 60, 128, 182, 0, 3, 9, 32), (73, 0, 1, 82, 16, 20, 9, 32), (73, 0, 25, 54, 7, 29, 9, 32), (73, 0, 25, 54, 20, 18, 9, 32), (73, 0, 25, 58, 7, 29, 9, 32), (73, 0, 25, 61, 7, 29, 9, 32), (73, 0, 25, 66, 7, 26, 9, 32), (73, 0, 33, 30, 8, 30, 9, 32), (73, 0, 49, 54, 20, 31, 9, 32), (73, 0, 49, 66, 20, 31, 9, 32), (73, 0, 49, 70, 20, 31, 9, 32), (73, 0, 49, 73, 20, 31, 9, 32), (73, 0, 54, 61, 18, 23, 9, 32), (73, 0, 54, 66, 19, 19, 9, 32), (73, 0, 54, 70, 19, 22, 9, 32), (73, 0, 68, 58, 18, 25, 9, 32), (73, 0, 128, 163, 0, 27, 9, 32), (73, 0, 128, 170, 0, 18, 9, 32), (73, 0, 128, 182, 0, 4, 9, 32), (73, 0, 128, 197, 0, 12, 9, 32), (73, 4, 128, 170, 0, 14, 9, 32), (73, 4, 128, 182, 0, 3, 9, 32), (73, 4, 128, 197, 0, 9, 9, 32), (73, 8, 25, 54, 8, 25, 9, 32), (73, 8, 25, 58, 8, 25, 9, 32), (73, 8, 25, 61, 8, 25, 9, 32), (73, 8, 25, 61, 16, 15, 9, 32), (73, 8, 25, 66, 7, 23, 9, 32), (73, 8, 33, 30, 6, 28, 9, 32), (73, 8, 128, 170, 0, 15, 9, 32), (73, 8, 128, 182, 0, 4, 9, 32), (73, 8, 128, 197, 0, 10, 9, 32), (73, 12, 128, 182, 0, 3, 9, 32), (73, 16, 25, 54, 1, 24, 9, 32), (73, 16, 25, 58, 1, 24, 9, 32), (73, 16, 25, 61, 1, 24, 9, 32), (73, 16, 25, 66, 2, 21, 9, 32), (73, 16, 25, 66, 8, 19, 9, 32), (73, 16, 128, 165, 0, 30, 9, 32), (73, 16, 128, 167, 0, 17, 9, 32), (73, 16, 128, 170, 0, 14, 9, 32), (73, 16, 128, 182, 0, 11, 9, 32), (73, 16, 128, 197, 0, 9, 9, 32), (73, 20, 128, 182, 0, 3, 9, 32), (73, 24, 1, 83, 16, 20, 9, 32), (73, 24, 25, 51, 28, 17, 9, 32), (73, 24, 25, 54, 7, 29, 9, 32), (73, 24, 25, 58, 7, 29, 9, 32), (73, 24, 25, 61, 8, 29, 9, 32), (73, 24, 25, 66, 8, 26, 9, 32), (73, 24, 33, 32, 20, 30, 9, 32), (73, 24, 49, 56, 28, 31, 9, 32), (73, 24, 49, 68, 28, 31, 9, 32), (73, 24, 49, 71, 28, 31, 9, 32), (73, 24, 49, 75, 28, 31, 9, 32), (73, 24, 54, 71, 18, 24, 9, 32), (73, 24, 68, 59, 16, 25, 9, 32), (73, 24, 128, 163, 0, 27, 9, 32), (73, 24, 128, 170, 0, 14, 9, 32), (73, 24, 128, 182, 0, 4, 9, 32), (73, 24, 128, 197, 0, 9, 9, 32), (73, 25, 54, 63, 18, 24, 9, 32), (73, 25, 54, 66, 18, 21, 9, 32), (73, 28, 128, 182, 0, 3, 9, 32), (73, 32, 25, 51, 7, 29, 9, 32), (73, 32, 25, 56, 7, 29, 9, 32), (73, 32, 25, 56, 20, 17, 9, 32), (73, 32, 25, 59, 7, 29, 9, 32), (73, 32, 25, 63, 7, 26, 9, 32), (73, 32, 128, 170, 0, 18, 9, 32), (73, 32, 128, 182, 0, 4, 9, 32), (73, 32, 128, 197, 0, 12, 9, 32), (73, 36, 128, 182, 0, 3, 9, 32), (73, 40, 25, 51, 8, 25, 9, 32), (73, 40, 25, 56, 8, 25, 9, 32), (73, 40, 25, 59, 8, 18, 9, 32), (73, 40, 25, 59, 8, 25, 9, 32), (73, 40, 25, 63, 7, 23, 9, 32), (73, 40, 128, 163, 0, 21, 9, 32), (73, 40, 128, 174, 0, 18, 9, 32), (73, 40, 128, 182, 0, 4, 9, 32), (73, 44, 128, 182, 0, 3, 9, 32), (73, 48, 1, 83, 8, 20, 9, 32), (73, 48, 25, 51, 1, 24, 9, 32), (73, 48, 25, 56, 1, 24, 9, 32), (73, 48, 25, 59, 1, 24, 9, 32), (73, 48, 25, 63, 2, 21, 9, 32), (73, 48, 25, 68, 8, 20, 9, 32), (73, 48, 54, 63, 5, 20, 9, 32), (73, 48, 54, 66, 6, 22, 9, 32), (73, 48, 54, 71, 5, 22, 9, 32), (73, 48, 68, 59, 7, 24, 9, 32), (73, 48, 128, 165, 0, 30, 9, 32), (73, 48, 128, 167, 0, 17, 9, 32), (73, 48, 128, 170, 0, 14, 9, 32), (73, 48, 128, 182, 0, 11, 9, 32), (73, 48, 128, 197, 0, 9, 9, 32), (73, 52, 128, 182, 0, 3, 9, 32), (73, 55, 33, 30, 6, 28, 9, 32), (73, 55, 54, 63, 6, 24, 9, 32), (73, 55, 54, 66, 6, 21, 9, 32), (73, 55, 54, 70, 6, 24, 9, 32), (73, 56, 25, 51, 7, 29, 9, 32), (73, 56, 25, 56, 7, 29, 9, 32), (73, 56, 25, 59, 8, 29, 9, 32), (73, 56, 25, 63, 8, 17, 9, 32), (73, 56, 25, 63, 8, 26, 9, 32), (73, 56, 68, 58, 6, 24, 9, 32), (73, 56, 128, 170, 0, 18, 9, 32), (73, 56, 128, 182, 0, 4, 9, 32), (73, 56, 128, 197, 0, 12, 9, 32), (73, 57, 1, 82, 7, 21, 9, 32), (73, 60, 128, 182, 0, 3, 9, 32), (73, 61, 27, 52, 36, 26, 9, 32), (73, 62, 27, 56, 36, 26, 9, 32), (73, 63, 27, 59, 36, 26, 9, 32), (73, 63, 54, 63, 6, 22, 9, 32), (73, 63, 54, 68, 7, 22, 9, 32), (74, 0, 1, 80, 16, 21, 9, 32), (74, 0, 25, 52, 7, 29, 9, 32), (74, 0, 25, 52, 24, 19, 9, 32), (74, 0, 25, 56, 7, 29, 9, 32), (74, 0, 25, 59, 7, 29, 9, 32), (74, 0, 25, 64, 7, 26, 9, 32), (74, 0, 27, 64, 36, 26, 9, 32), (74, 0, 33, 28, 8, 30, 9, 32), (74, 0, 49, 52, 36, 31, 9, 32), (74, 0, 49, 64, 36, 31, 9, 32), (74, 0, 49, 68, 36, 31, 9, 32), (74, 0, 49, 71, 36, 31, 9, 32), (74, 0, 54, 66, 15, 13, 9, 32), (74, 0, 54, 71, 15, 13, 9, 32), (74, 0, 54, 78, 14, 12, 9, 32), (74, 0, 68, 56, 8, 31, 9, 32), (74, 0, 128, 163, 0, 27, 9, 32), (74, 0, 128, 177, 0, 13, 9, 32), (74, 0, 128, 182, 0, 4, 9, 32), (74, 4, 128, 182, 0, 3, 9, 32), (74, 8, 25, 52, 8, 25, 9, 32), (74, 8, 25, 56, 7, 25, 9, 32), (74, 8, 25, 56, 20, 17, 9, 32), (74, 8, 25, 59, 8, 25, 9, 32), (74, 8, 25, 64, 7, 23, 9, 32), (74, 8, 33, 28, 6, 28, 9, 32), (74, 8, 128, 170, 0, 14, 9, 32), (74, 8, 128, 182, 0, 4, 9, 32), (74, 8, 128, 197, 0, 9, 9, 32), (74, 12, 128, 182, 0, 3, 9, 32), (74, 16, 25, 52, 1, 24, 9, 32), (74, 16, 25, 56, 1, 24, 9, 32), (74, 16, 25, 59, 1, 24, 9, 32), (74, 16, 25, 64, 2, 21, 9, 32), (74, 16, 25, 64, 20, 19, 9, 32), (74, 16, 68, 66, 15, 26, 9, 32), (74, 16, 128, 165, 0, 30, 9, 32), (74, 16, 128, 167, 0, 17, 9, 32), (74, 16, 128, 170, 0, 14, 9, 32), (74, 16, 128, 182, 0, 11, 9, 32), (74, 16, 128, 197, 0, 9, 9, 32), (74, 17, 54, 66, 13, 23, 9, 32), (74, 17, 54, 71, 13, 23, 9, 32), (74, 17, 54, 78, 13, 21, 9, 32), (74, 20, 128, 182, 0, 3, 9, 32), (74, 24, 25, 52, 7, 29, 9, 32), (74, 24, 25, 56, 7, 29, 9, 32), (74, 24, 25, 59, 8, 29, 9, 32), (74, 24, 25, 59, 24, 18, 9, 32), (74, 24, 25, 64, 7, 26, 9, 32), (74, 24, 33, 28, 4, 26, 9, 32), (74, 24, 128, 163, 0, 27, 9, 32), (74, 24, 128, 170, 0, 18, 9, 32), (74, 24, 128, 182, 0, 4, 9, 32), (74, 24, 128, 197, 0, 12, 9, 32), (74, 28, 128, 182, 0, 3, 9, 32), (74, 31, 68, 64, 8, 26, 9, 32), (74, 32, 25, 52, 7, 29, 9, 32), (74, 32, 25, 52, 20, 16, 9, 32), (74, 32, 25, 56, 7, 29, 9, 32), (74, 32, 25, 59, 7, 29, 9, 32), (74, 32, 25, 64, 7, 26, 9, 32), (74, 32, 33, 28, 8, 30, 9, 32), (74, 32, 54, 66, 6, 23, 9, 32), (74, 32, 54, 71, 7, 24, 9, 32), (74, 32, 54, 76, 6, 23, 9, 32), (74, 32, 128, 170, 0, 14, 9, 32), (74, 32, 128, 182, 0, 4, 9, 32), (74, 32, 128, 197, 0, 9, 9, 32), (74, 36, 128, 182, 0, 3, 9, 32), (74, 39, 68, 63, 8, 28, 9, 32), (74, 40, 25, 52, 8, 25, 9, 32), (74, 40, 25, 56, 8, 25, 9, 32), (74, 40, 25, 59, 8, 25, 9, 32), (74, 40, 25, 64, 7, 23, 9, 32), (74, 40, 25, 64, 8, 20, 9, 32), (74, 40, 33, 28, 6, 28, 9, 32), (74, 40, 54, 66, 6, 21, 9, 32), (74, 40, 54, 71, 6, 23, 9, 32), (74, 40, 54, 75, 5, 22, 9, 32), (74, 40, 128, 174, 0, 18, 9, 32), (74, 40, 128, 182, 0, 4, 9, 32), (74, 44, 128, 182, 0, 3, 9, 32), (74, 48, 25, 52, 1, 24, 9, 32), (74, 48, 25, 56, 1, 24, 9, 32), (74, 48, 25, 59, 1, 24, 9, 32), (74, 48, 25, 63, 8, 15, 9, 32), (74, 48, 25, 64, 2, 21, 9, 32), (74, 48, 54, 66, 6, 18, 9, 32), (74, 48, 54, 73, 6, 25, 9, 32), (74, 48, 68, 61, 8, 25, 9, 32), (74, 48, 128, 165, 0, 30, 9, 32), (74, 48, 128, 167, 0, 17, 9, 32), (74, 48, 128, 170, 0, 14, 9, 32), (74, 48, 128, 182, 0, 11, 9, 32), (74, 48, 128, 197, 0, 9, 9, 32), (74, 52, 128, 182, 0, 3, 9, 32), (74, 55, 68, 59, 9, 22, 9, 32), (74, 56, 25, 52, 7, 29, 9, 32), (74, 56, 25, 56, 7, 29, 9, 32), (74, 56, 25, 59, 8, 16, 9, 32), (74, 56, 25, 59, 8, 29, 9, 32), (74, 56, 25, 64, 8, 26, 9, 32), (74, 56, 33, 28, 4, 26, 9, 32), (74, 56, 54, 66, 5, 21, 9, 32), (74, 56, 54, 71, 7, 24, 9, 32), (74, 56, 128, 170, 0, 14, 9, 32), (74, 56, 128, 182, 0, 4, 9, 32), (74, 56, 128, 197, 0, 9, 9, 32), (74, 60, 128, 182, 0, 3, 9, 32), (75, 0, 25, 54, 7, 29, 9, 32), (75, 0, 25, 54, 20, 18, 9, 32), (75, 0, 25, 58, 7, 29, 9, 32), (75, 0, 25, 61, 7, 29, 9, 32), (75, 0, 25, 66, 7, 26, 9, 32), (75, 0, 33, 30, 8, 30, 9, 32), (75, 0, 49, 54, 20, 31, 9, 32), (75, 0, 49, 66, 20, 31, 9, 32), (75, 0, 49, 70, 20, 31, 9, 32), (75, 0, 49, 73, 20, 31, 9, 32), (75, 0, 54, 66, 13, 21, 9, 32), (75, 0, 54, 70, 14, 24, 9, 32), (75, 0, 54, 73, 14, 23, 9, 32), (75, 0, 68, 61, 15, 26, 9, 32), (75, 0, 128, 163, 0, 27, 9, 32), (75, 0, 128, 170, 0, 18, 9, 32), (75, 0, 128, 182, 0, 4, 9, 32), (75, 0, 128, 197, 0, 12, 9, 32), (75, 4, 128, 170, 0, 14, 9, 32), (75, 4, 128, 182, 0, 3, 9, 32), (75, 4, 128, 197, 0, 9, 9, 32), (75, 8, 25, 54, 8, 25, 9, 32), (75, 8, 25, 58, 8, 25, 9, 32), (75, 8, 25, 61, 8, 25, 9, 32), (75, 8, 25, 61, 16, 15, 9, 32), (75, 8, 25, 66, 7, 23, 9, 32), (75, 8, 33, 30, 6, 28, 9, 32), (75, 8, 128, 170, 0, 15, 9, 32), (75, 8, 128, 182, 0, 4, 9, 32), (75, 8, 128, 197, 0, 10, 9, 32), (75, 12, 128, 182, 0, 3, 9, 32), (75, 16, 25, 54, 1, 24, 9, 32), (75, 16, 25, 58, 1, 24, 9, 32), (75, 16, 25, 61, 1, 24, 9, 32), (75, 16, 25, 66, 2, 21, 9, 32), (75, 16, 25, 66, 8, 19, 9, 32), (75, 16, 33, 32, 8, 30, 9, 32), (75, 16, 54, 66, 3, 18, 9, 32), (75, 16, 54, 71, 3, 22, 9, 32), (75, 16, 54, 75, 3, 27, 9, 32), (75, 16, 68, 63, 2, 28, 9, 32), (75, 16, 128, 165, 0, 30, 9, 32), (75, 16, 128, 167, 0, 17, 9, 32), (75, 16, 128, 170, 0, 14, 9, 32), (75, 16, 128, 182, 0, 11, 9, 32), (75, 16, 128, 197, 0, 9, 9, 32), (75, 20, 128, 182, 0, 3, 9, 32), (75, 24, 25, 51, 28, 17, 9, 32), (75, 24, 25, 54, 7, 29, 9, 32), (75, 24, 25, 58, 7, 29, 9, 32), (75, 24, 25, 61, 8, 29, 9, 32), (75, 24, 25, 66, 8, 26, 9, 32), (75, 24, 33, 35, 19, 31, 9, 32), (75, 24, 49, 59, 28, 31, 9, 32), (75, 24, 49, 66, 28, 31, 9, 32), (75, 24, 49, 71, 28, 31, 9, 32), (75, 24, 49, 75, 28, 31, 9, 32), (75, 24, 54, 66, 20, 24, 9, 32), (75, 24, 54, 71, 11, 25, 9, 32), (75, 24, 54, 75, 13, 27, 9, 32), (75, 24, 68, 63, 19, 30, 9, 32), (75, 24, 128, 163, 0, 27, 9, 32), (75, 24, 128, 170, 0, 14, 9, 32), (75, 24, 128, 182, 0, 4, 9, 32), (75, 24, 128, 197, 0, 9, 9, 32), (75, 28, 128, 182, 0, 3, 9, 32), (75, 32, 25, 51, 7, 29, 9, 32), (75, 32, 25, 54, 20, 17, 9, 32), (75, 32, 25, 56, 7, 29, 9, 32), (75, 32, 25, 59, 7, 29, 9, 32), (75, 32, 25, 63, 7, 26, 9, 32), (75, 32, 128, 170, 0, 18, 9, 32), (75, 32, 128, 182, 0, 4, 9, 32), (75, 32, 128, 197, 0, 12, 9, 32), (75, 36, 128, 182, 0, 3, 9, 32), (75, 37, 54, 73, 2, 21, 9, 32), (75, 40, 25, 51, 8, 25, 9, 32), (75, 40, 25, 56, 8, 25, 9, 32), (75, 40, 25, 59, 8, 18, 9, 32), (75, 40, 25, 59, 8, 25, 9, 32), (75, 40, 25, 63, 7, 23, 9, 32), (75, 40, 54, 71, 8, 26, 9, 32), (75, 40, 128, 163, 0, 27, 9, 32), (75, 40, 128, 174, 0, 18, 9, 32), (75, 40, 128, 182, 0, 4, 9, 32), (75, 44, 128, 182, 0, 3, 9, 32), (75, 48, 25, 51, 1, 24, 9, 32), (75, 48, 25, 56, 1, 24, 9, 32), (75, 48, 25, 59, 1, 24, 9, 32), (75, 48, 25, 63, 2, 21, 9, 32), (75, 48, 25, 66, 8, 20, 9, 32), (75, 48, 33, 35, 16, 29, 9, 32), (75, 48, 128, 165, 0, 30, 9, 32), (75, 48, 128, 167, 0, 17, 9, 32), (75, 48, 128, 170, 0, 14, 9, 32), (75, 48, 128, 182, 0, 11, 9, 32), (75, 48, 128, 197, 0, 9, 9, 32), (75, 52, 128, 182, 0, 3, 9, 32), (75, 56, 25, 51, 7, 29, 9, 32), (75, 56, 25, 56, 7, 29, 9, 32), (75, 56, 25, 59, 8, 29, 9, 32), (75, 56, 25, 63, 8, 17, 9, 32), (75, 56, 25, 63, 8, 26, 9, 32), (75, 56, 128, 170, 0, 18, 9, 32), (75, 56, 128, 182, 0, 4, 9, 32), (75, 56, 128, 197, 0, 12, 9, 32), (75, 60, 128, 182, 0, 3, 9, 32), (76, 0, 1, 80, 16, 24, 9, 32), (76, 0, 25, 44, 36, 17, 9, 32), (76, 0, 25, 51, 7, 29, 9, 32), (76, 0, 25, 56, 7, 29, 9, 32), (76, 0, 25, 59, 7, 29, 9, 32), (76, 0, 25, 63, 7, 26, 9, 32), (76, 0, 33, 32, 8, 30, 9, 32), (76, 0, 49, 56, 36, 31, 9, 32), (76, 0, 49, 68, 36, 31, 9, 32), (76, 0, 49, 71, 36, 31, 9, 32), (76, 0, 49, 75, 36, 31, 9, 32), (76, 0, 54, 63, 18, 24, 9, 32), (76, 0, 54, 68, 18, 24, 9, 32), (76, 0, 68, 56, 18, 31, 9, 32), (76, 0, 128, 163, 0, 27, 9, 32), (76, 0, 128, 177, 0, 13, 9, 32), (76, 0, 128, 182, 0, 4, 9, 32), (76, 1, 54, 71, 17, 23, 9, 32), (76, 4, 128, 170, 0, 14, 9, 32), (76, 4, 128, 182, 0, 3, 9, 32), (76, 4, 128, 197, 0, 9, 9, 32), (76, 8, 25, 51, 8, 25, 9, 32), (76, 8, 25, 56, 7, 25, 9, 32), (76, 8, 25, 56, 20, 15, 9, 32), (76, 8, 25, 59, 8, 25, 9, 32), (76, 8, 25, 63, 7, 23, 9, 32), (76, 8, 33, 32, 6, 28, 9, 32), (76, 8, 128, 170, 0, 15, 9, 32), (76, 8, 128, 182, 0, 4, 9, 32), (76, 8, 128, 197, 0, 10, 9, 32), (76, 12, 128, 182, 0, 3, 9, 32), (76, 16, 25, 51, 1, 24, 9, 32), (76, 16, 25, 56, 1, 24, 9, 32), (76, 16, 25, 59, 1, 24, 9, 32), (76, 16, 25, 63, 2, 21, 9, 32), (76, 16, 25, 63, 20, 21, 9, 32), (76, 16, 128, 165, 0, 30, 9, 32), (76, 16, 128, 167, 0, 17, 9, 32), (76, 16, 128, 170, 0, 14, 9, 32), (76, 16, 128, 182, 0, 11, 9, 32), (76, 16, 128, 197, 0, 9, 9, 32), (76, 20, 128, 182, 0, 3, 9, 32), (76, 24, 1, 83, 16, 24, 9, 32), (76, 24, 25, 51, 7, 29, 9, 32), (76, 24, 25, 56, 7, 29, 9, 32), (76, 24, 25, 59, 8, 29, 9, 32), (76, 24, 25, 59, 24, 16, 9, 32), (76, 24, 25, 63, 7, 26, 9, 32), (76, 24, 33, 32, 4, 26, 9, 32), (76, 24, 54, 63, 13, 22, 9, 32), (76, 24, 54, 68, 14, 20, 9, 32), (76, 24, 54, 71, 13, 23, 9, 32), (76, 24, 68, 59, 20, 27, 9, 32), (76, 24, 128, 163, 0, 27, 9, 32), (76, 24, 128, 170, 0, 14, 9, 32), (76, 24, 128, 182, 0, 4, 9, 32), (76, 24, 128, 197, 0, 9, 9, 32), (76, 28, 128, 182, 0, 3, 9, 32), (76, 32, 25, 51, 7, 29, 9, 32), (76, 32, 25, 56, 7, 29, 9, 32), (76, 32, 25, 56, 20, 14, 9, 32), (76, 32, 25, 59, 7, 29, 9, 32), (76, 32, 25, 63, 7, 26, 9, 32), (76, 32, 33, 32, 8, 30, 9, 32), (76, 32, 128, 170, 0, 18, 9, 32), (76, 32, 128, 182, 0, 4, 9, 32), (76, 32, 128, 197, 0, 12, 9, 32), (76, 36, 128, 182, 0, 3, 9, 32), (76, 40, 25, 51, 8, 25, 9, 32), (76, 40, 25, 56, 8, 25, 9, 32), (76, 40, 25, 59, 8, 25, 9, 32), (76, 40, 25, 64, 7, 23, 9, 32), (76, 40, 25, 64, 8, 20, 9, 32), (76, 40, 33, 32, 6, 28, 9, 32), (76, 40, 128, 174, 0, 18, 9, 32), (76, 40, 128, 182, 0, 4, 9, 32), (76, 44, 128, 182, 0, 3, 9, 32), (76, 48, 1, 87, 15, 24, 9, 32), (76, 48, 25, 51, 1, 24, 9, 32), (76, 48, 25, 56, 1, 24, 9, 32), (76, 48, 25, 59, 1, 24, 9, 32), (76, 48, 25, 63, 2, 21, 9, 32), (76, 48, 25, 63, 8, 14, 9, 32), (76, 48, 54, 66, 12, 23, 9, 32), (76, 48, 54, 71, 12, 24, 9, 32), (76, 48, 54, 75, 12, 25, 9, 32), (76, 48, 128, 165, 0, 30, 9, 32), (76, 48, 128, 167, 0, 17, 9, 32), (76, 48, 128, 170, 0, 14, 9, 32), (76, 48, 128, 182, 0, 11, 9, 32), (76, 48, 128, 197, 0, 9, 9, 32), (76, 49, 68, 63, 15, 30, 9, 32), (76, 52, 128, 182, 0, 3, 9, 32), (76, 56, 25, 51, 7, 29, 9, 32), (76, 56, 25, 56, 7, 29, 9, 32), (76, 56, 25, 59, 8, 14, 9, 32), (76, 56, 25, 59, 8, 29, 9, 32), (76, 56, 25, 63, 8, 26, 9, 32), (76, 56, 128, 170, 0, 18, 9, 32), (76, 56, 128, 182, 0, 4, 9, 32), (76, 56, 128, 197, 0, 12, 9, 32), (76, 60, 128, 182, 0, 3, 9, 32), (77, 0, 1, 85, 16, 24, 9, 32), (77, 0, 25, 54, 7, 29, 9, 32), (77, 0, 25, 54, 20, 18, 9, 32), (77, 0, 25, 58, 7, 29, 9, 32), (77, 0, 25, 61, 7, 29, 9, 32), (77, 0, 25, 66, 7, 26, 9, 32), (77, 0, 33, 30, 8, 30, 9, 32), (77, 0, 49, 54, 36, 31, 9, 32), (77, 0, 49, 66, 36, 31, 9, 32), (77, 0, 49, 70, 20, 31, 9, 32), (77, 0, 49, 73, 20, 31, 9, 32), (77, 0, 54, 66, 16, 24, 9, 32), (77, 0, 54, 70, 16, 24, 9, 32), (77, 0, 54, 73, 16, 25, 9, 32), (77, 0, 68, 61, 18, 27, 9, 32), (77, 0, 128, 163, 0, 27, 9, 32), (77, 0, 128, 170, 0, 18, 9, 32), (77, 0, 128, 177, 0, 13, 9, 32), (77, 0, 128, 182, 0, 4, 9, 32), (77, 0, 128, 197, 0, 12, 9, 32), (77, 4, 128, 170, 0, 14, 9, 32), (77, 4, 128, 182, 0, 3, 9, 32), (77, 4, 128, 197, 0, 9, 9, 32), (77, 8, 25, 54, 8, 25, 9, 32), (77, 8, 25, 58, 8, 25, 9, 32), (77, 8, 25, 61, 8, 25, 9, 32), (77, 8, 25, 61, 16, 15, 9, 32), (77, 8, 25, 66, 7, 23, 9, 32), (77, 8, 33, 30, 6, 28, 9, 32), (77, 8, 128, 170, 0, 15, 9, 32), (77, 8, 128, 182, 0, 4, 9, 32), (77, 8, 128, 197, 0, 10, 9, 32), (77, 12, 128, 182, 0, 3, 9, 32), (77, 16, 25, 54, 1, 24, 9, 32), (77, 16, 25, 58, 1, 24, 9, 32), (77, 16, 25, 61, 1, 24, 9, 32), (77, 16, 25, 66, 2, 21, 9, 32), (77, 16, 25, 66, 8, 19, 9, 32), (77, 16, 33, 32, 8, 30, 9, 32), (77, 16, 128, 165, 0, 30, 9, 32), (77, 16, 128, 167, 0, 17, 9, 32), (77, 16, 128, 170, 0, 14, 9, 32), (77, 16, 128, 182, 0, 11, 9, 32), (77, 16, 128, 197, 0, 9, 9, 32), (77, 20, 128, 182, 0, 3, 9, 32), (77, 24, 1, 83, 16, 24, 9, 32), (77, 24, 25, 54, 7, 29, 9, 32), (77, 24, 25, 58, 7, 29, 9, 32), (77, 24, 25, 59, 28, 17, 9, 32), (77, 24, 25, 61, 8, 29, 9, 32), (77, 24, 25, 66, 8, 26, 9, 32), (77, 24, 33, 35, 20, 31, 9, 32), (77, 24, 49, 71, 28, 31, 9, 32), (77, 24, 49, 75, 28, 31, 9, 32), (77, 24, 54, 63, 19, 24, 9, 32), (77, 24, 54, 66, 20, 25, 9, 32), (77, 24, 54, 71, 20, 24, 9, 32), (77, 24, 68, 59, 17, 27, 9, 32), (77, 24, 128, 163, 0, 27, 9, 32), (77, 24, 128, 170, 0, 14, 9, 32), (77, 24, 128, 182, 0, 4, 9, 32), (77, 24, 128, 197, 0, 9, 9, 32), (77, 28, 128, 182, 0, 3, 9, 32), (77, 32, 25, 51, 7, 29, 9, 32), (77, 32, 25, 54, 7, 29, 9, 32), (77, 32, 25, 59, 7, 29, 9, 32), (77, 32, 25, 63, 7, 26, 9, 32), (77, 32, 128, 170, 0, 18, 9, 32), (77, 32, 128, 182, 0, 4, 9, 32), (77, 32, 128, 197, 0, 12, 9, 32), (77, 36, 128, 182, 0, 3, 9, 32), (77, 40, 25, 51, 8, 25, 9, 32), (77, 40, 25, 54, 8, 25, 9, 32), (77, 40, 25, 59, 8, 25, 9, 32), (77, 40, 25, 63, 7, 23, 9, 32), (77, 40, 128, 163, 0, 21, 9, 32), (77, 40, 128, 174, 0, 18, 9, 32), (77, 40, 128, 182, 0, 4, 9, 32), (77, 44, 128, 182, 0, 3, 9, 32), (77, 48, 25, 51, 1, 24, 9, 32), (77, 48, 25, 54, 1, 24, 9, 32), (77, 48, 25, 59, 1, 24, 9, 32), (77, 48, 25, 63, 2, 21, 9, 32), (77, 48, 68, 75, 7, 26, 9, 32), (77, 48, 128, 163, 0, 27, 9, 32), (77, 48, 128, 165, 0, 30, 9, 32), (77, 48, 128, 167, 0, 17, 9, 32), (77, 48, 128, 170, 0, 14, 9, 32), (77, 48, 128, 182, 0, 11, 9, 32), (77, 48, 128, 197, 0, 9, 9, 32), (77, 52, 128, 182, 0, 3, 9, 32), (77, 56, 25, 51, 7, 29, 9, 32), (77, 56, 25, 54, 7, 29, 9, 32), (77, 56, 25, 59, 8, 29, 9, 32), (77, 56, 25, 63, 8, 26, 9, 32), (77, 56, 33, 32, 8, 28, 9, 32), (77, 56, 68, 78, 2, 22, 9, 32), (77, 56, 128, 170, 0, 18, 9, 32), (77, 56, 128, 182, 0, 4, 9, 32), (77, 56, 128, 197, 0, 12, 9, 32), (77, 60, 128, 182, 0, 3, 9, 32), (77, 61, 27, 52, 36, 26, 9, 32), (77, 62, 27, 56, 36, 26, 9, 32), (77, 63, 27, 59, 36, 26, 9, 32), (78, 0, 25, 52, 7, 29, 9, 32), (78, 0, 25, 52, 24, 19, 9, 32), (78, 0, 25, 56, 7, 29, 9, 32), (78, 0, 25, 59, 7, 29, 9, 32), (78, 0, 25, 64, 7, 26, 9, 32), (78, 0, 27, 64, 36, 26, 9, 32), (78, 0, 33, 28, 8, 30, 9, 32), (78, 0, 49, 52, 36, 31, 9, 32), (78, 0, 49, 64, 36, 31, 9, 32), (78, 0, 49, 68, 36, 31, 9, 32), (78, 0, 49, 71, 36, 31, 9, 32), (78, 0, 68, 78, 34, 24, 9, 32), (78, 0, 128, 163, 0, 27, 9, 32), (78, 0, 128, 177, 0, 17, 9, 32), (78, 0, 128, 182, 0, 4, 9, 32), (78, 4, 128, 182, 0, 3, 9, 32), (78, 8, 25, 52, 8, 25, 9, 32), (78, 8, 25, 56, 7, 25, 9, 32), (78, 8, 25, 56, 20, 17, 9, 32), (78, 8, 25, 59, 8, 25, 9, 32), (78, 8, 25, 64, 7, 23, 9, 32), (78, 8, 33, 28, 6, 28, 9, 32), (78, 8, 128, 170, 0, 14, 9, 32), (78, 8, 128, 182, 0, 4, 9, 32), (78, 8, 128, 197, 0, 9, 9, 32), (78, 12, 128, 182, 0, 3, 9, 32), (78, 16, 25, 52, 1, 24, 9, 32), (78, 16, 25, 56, 1, 24, 9, 32), (78, 16, 25, 59, 1, 24, 9, 32), (78, 16, 25, 64, 2, 21, 9, 32), (78, 16, 25, 64, 20, 19, 9, 32), (78, 16, 54, 66, 14, 22, 9, 32), (78, 16, 54, 71, 15, 21, 9, 32), (78, 16, 54, 78, 14, 20, 9, 32), (78, 16, 68, 66, 16, 25, 9, 32), (78, 16, 128, 165, 0, 30, 9, 32), (78, 16, 128, 167, 0, 17, 9, 32), (78, 16, 128, 170, 0, 14, 9, 32), (78, 16, 128, 182, 0, 11, 9, 32), (78, 16, 128, 197, 0, 9, 9, 32), (78, 20, 128, 182, 0, 3, 9, 32), (78, 24, 25, 52, 7, 29, 9, 32), (78, 24, 25, 56, 7, 29, 9, 32), (78, 24, 25, 59, 8, 29, 9, 32), (78, 24, 25, 59, 24, 18, 9, 32), (78, 24, 25, 64, 7, 26, 9, 32), (78, 24, 33, 28, 4, 26, 9, 32), (78, 24, 128, 163, 0, 27, 9, 32), (78, 24, 128, 170, 0, 18, 9, 32), (78, 24, 128, 182, 0, 4, 9, 32), (78, 24, 128, 197, 0, 12, 9, 32), (78, 28, 128, 182, 0, 3, 9, 32), (78, 32, 25, 52, 7, 29, 9, 32), (78, 32, 25, 52, 20, 16, 9, 32), (78, 32, 25, 56, 7, 29, 9, 32), (78, 32, 25, 59, 7, 29, 9, 32), (78, 32, 25, 64, 7, 26, 9, 32), (78, 32, 33, 28, 8, 30, 9, 32), (78, 32, 54, 66, 6, 24, 9, 32), (78, 32, 54, 71, 6, 24, 9, 32), (78, 32, 54, 76, 6, 24, 9, 32), (78, 32, 128, 170, 0, 14, 9, 32), (78, 32, 128, 182, 0, 4, 9, 32), (78, 32, 128, 197, 0, 9, 9, 32), (78, 33, 68, 64, 8, 24, 9, 32), (78, 36, 128, 182, 0, 3, 9, 32), (78, 40, 25, 52, 8, 25, 9, 32), (78, 40, 25, 56, 8, 25, 9, 32), (78, 40, 25, 59, 8, 25, 9, 32), (78, 40, 25, 64, 7, 23, 9, 32), (78, 40, 25, 64, 8, 20, 9, 32), (78, 40, 33, 28, 6, 28, 9, 32), (78, 40, 54, 66, 7, 21, 9, 32), (78, 40, 54, 71, 7, 21, 9, 32), (78, 40, 54, 75, 6, 24, 9, 32), (78, 40, 128, 174, 0, 18, 9, 32), (78, 40, 128, 182, 0, 4, 9, 32), (78, 41, 68, 63, 8, 24, 9, 32), (78, 44, 128, 182, 0, 3, 9, 32), (78, 48, 25, 52, 1, 24, 9, 32), (78, 48, 25, 56, 1, 24, 9, 32), (78, 48, 25, 59, 1, 24, 9, 32), (78, 48, 25, 63, 8, 15, 9, 32), (78, 48, 25, 64, 2, 21, 9, 32), (78, 48, 33, 28, 8, 31, 9, 32), (78, 48, 54, 66, 6, 20, 9, 32), (78, 48, 54, 73, 6, 21, 9, 32), (78, 48, 128, 165, 0, 30, 9, 32), (78, 48, 128, 167, 0, 17, 9, 32), (78, 48, 128, 170, 0, 14, 9, 32), (78, 48, 128, 182, 0, 11, 9, 32), (78, 48, 128, 197, 0, 9, 9, 32), (78, 49, 68, 61, 8, 24, 9, 32), (78, 52, 128, 182, 0, 3, 9, 32), (78, 56, 25, 52, 7, 29, 9, 32), (78, 56, 25, 56, 7, 29, 9, 32), (78, 56, 25, 59, 8, 16, 9, 32), (78, 56, 25, 59, 8, 29, 9, 32), (78, 56, 25, 64, 8, 26, 9, 32), (78, 56, 33, 28, 6, 28, 9, 32), (78, 56, 54, 66, 5, 21, 9, 32), (78, 56, 54, 71, 5, 24, 9, 32), (78, 56, 68, 59, 8, 21, 9, 32), (78, 56, 128, 170, 0, 14, 9, 32), (78, 56, 128, 182, 0, 4, 9, 32), (78, 56, 128, 197, 0, 9, 9, 32), (78, 57, 68, 83, 9, 20, 9, 32), (78, 60, 128, 182, 0, 3, 9, 32), (79, 0, 25, 54, 7, 29, 9, 32), (79, 0, 25, 54, 20, 18, 9, 32), (79, 0, 25, 58, 7, 29, 9, 32), (79, 0, 25, 61, 7, 29, 9, 32), (79, 0, 25, 66, 7, 26, 9, 32), (79, 0, 33, 30, 8, 30, 9, 32), (79, 0, 49, 54, 20, 31, 9, 32), (79, 0, 49, 66, 20, 31, 9, 32), (79, 0, 49, 70, 20, 31, 9, 32), (79, 0, 49, 73, 20, 31, 9, 32), (79, 0, 54, 61, 18, 21, 9, 32), (79, 0, 54, 66, 19, 21, 9, 32), (79, 0, 54, 70, 19, 20, 9, 32), (79, 0, 68, 58, 18, 25, 9, 32), (79, 0, 68, 82, 9, 22, 9, 32), (79, 0, 128, 163, 0, 27, 9, 32), (79, 0, 128, 170, 0, 18, 9, 32), (79, 0, 128, 182, 0, 4, 9, 32), (79, 0, 128, 197, 0, 12, 9, 32), (79, 4, 128, 170, 0, 14, 9, 32), (79, 4, 128, 182, 0, 3, 9, 32), (79, 4, 128, 197, 0, 9, 9, 32), (79, 8, 25, 54, 8, 25, 9, 32), (79, 8, 25, 58, 8, 25, 9, 32), (79, 8, 25, 61, 8, 25, 9, 32), (79, 8, 25, 61, 16, 15, 9, 32), (79, 8, 25, 66, 7, 23, 9, 32), (79, 8, 33, 30, 6, 28, 9, 32), (79, 8, 68, 80, 8, 21, 9, 32), (79, 8, 128, 170, 0, 15, 9, 32), (79, 8, 128, 182, 0, 4, 9, 32), (79, 8, 128, 197, 0, 10, 9, 32), (79, 12, 128, 182, 0, 3, 9, 32), (79, 16, 25, 54, 1, 24, 9, 32), (79, 16, 25, 58, 1, 24, 9, 32), (79, 16, 25, 61, 1, 24, 9, 32), (79, 16, 25, 66, 2, 21, 9, 32), (79, 16, 25, 66, 8, 19, 9, 32), (79, 16, 68, 78, 22, 22, 9, 32), (79, 16, 128, 165, 0, 30, 9, 32), (79, 16, 128, 167, 0, 17, 9, 32), (79, 16, 128, 170, 0, 14, 9, 32), (79, 16, 128, 182, 0, 11, 9, 32), (79, 16, 128, 197, 0, 9, 9, 32), (79, 20, 128, 182, 0, 3, 9, 32), (79, 24, 25, 51, 28, 17, 9, 32), (79, 24, 25, 54, 7, 29, 9, 32), (79, 24, 25, 58, 7, 29, 9, 32), (79, 24, 25, 61, 8, 29, 9, 32), (79, 24, 25, 66, 8, 26, 9, 32), (79, 24, 33, 32, 20, 30, 9, 32), (79, 24, 49, 56, 28, 31, 9, 32), (79, 24, 49, 68, 28, 31, 9, 32), (79, 24, 49, 71, 28, 31, 9, 32), (79, 24, 49, 75, 28, 31, 9, 32), (79, 24, 54, 63, 19, 24, 9, 32), (79, 24, 54, 66, 19, 21, 9, 32), (79, 24, 68, 59, 16, 25, 9, 32), (79, 24, 128, 163, 0, 27, 9, 32), (79, 24, 128, 170, 0, 14, 9, 32), (79, 24, 128, 182, 0, 4, 9, 32), (79, 24, 128, 197, 0, 9, 9, 32), (79, 25, 54, 71, 18, 24, 9, 32), (79, 28, 128, 182, 0, 3, 9, 32), (79, 32, 25, 51, 7, 29, 9, 32), (79, 32, 25, 56, 7, 29, 9, 32), (79, 32, 25, 56, 20, 17, 9, 32), (79, 32, 25, 59, 7, 29, 9, 32), (79, 32, 25, 63, 7, 26, 9, 32), (79, 32, 128, 170, 0, 18, 9, 32), (79, 32, 128, 182, 0, 4, 9, 32), (79, 32, 128, 197, 0, 12, 9, 32), (79, 36, 128, 182, 0, 3, 9, 32), (79, 40, 25, 51, 8, 25, 9, 32), (79, 40, 25, 56, 8, 25, 9, 32), (79, 40, 25, 59, 8, 18, 9, 32), (79, 40, 25, 59, 8, 25, 9, 32), (79, 40, 25, 63, 7, 23, 9, 32), (79, 40, 128, 163, 0, 27, 9, 32), (79, 40, 128, 174, 0, 18, 9, 32), (79, 40, 128, 182, 0, 4, 9, 32), (79, 44, 68, 76, 3, 22, 9, 32), (79, 44, 128, 182, 0, 3, 9, 32), (79, 47, 68, 75, 15, 21, 9, 32), (79, 48, 25, 51, 1, 24, 9, 32), (79, 48, 25, 56, 1, 24, 9, 32), (79, 48, 25, 59, 1, 24, 9, 32), (79, 48, 25, 63, 2, 21, 9, 32), (79, 48, 25, 68, 8, 20, 9, 32), (79, 48, 128, 165, 0, 30, 9, 32), (79, 48, 128, 167, 0, 17, 9, 32), (79, 48, 128, 170, 0, 14, 9, 32), (79, 48, 128, 182, 0, 11, 9, 32), (79, 48, 128, 197, 0, 9, 9, 32), (79, 52, 128, 182, 0, 3, 9, 32), (79, 55, 33, 30, 6, 28, 9, 32), (79, 56, 25, 51, 7, 29, 9, 32), (79, 56, 25, 56, 7, 29, 9, 32), (79, 56, 25, 59, 8, 29, 9, 32), (79, 56, 25, 63, 8, 17, 9, 32), (79, 56, 25, 63, 8, 26, 9, 32), (79, 56, 128, 170, 0, 18, 9, 32), (79, 56, 128, 182, 0, 4, 9, 32), (79, 56, 128, 197, 0, 12, 9, 32), (79, 60, 128, 182, 0, 3, 9, 32), (79, 61, 27, 52, 36, 26, 9, 32), (79, 62, 27, 56, 36, 26, 9, 32), (79, 63, 27, 59, 36, 26, 9, 32), (80, 0, 25, 52, 7, 29, 9, 32), (80, 0, 25, 52, 24, 19, 9, 32), (80, 0, 25, 56, 7, 29, 9, 32), (80, 0, 25, 59, 7, 29, 9, 32), (80, 0, 25, 64, 7, 26, 9, 32), (80, 0, 27, 64, 36, 26, 9, 32), (80, 0, 33, 28, 8, 30, 9, 32), (80, 0, 49, 52, 36, 31, 9, 32), (80, 0, 49, 64, 36, 31, 9, 32), (80, 0, 49, 68, 36, 31, 9, 32), (80, 0, 49, 71, 36, 31, 9, 32), (80, 0, 54, 66, 15, 13, 9, 32), (80, 0, 54, 71, 15, 13, 9, 32), (80, 0, 54, 78, 14, 12, 9, 32), (80, 0, 128, 163, 0, 27, 9, 32), (80, 0, 128, 170, 0, 18, 9, 32), (80, 0, 128, 177, 0, 17, 9, 32), (80, 0, 128, 182, 0, 4, 9, 32), (80, 0, 128, 197, 0, 12, 9, 32), (80, 4, 128, 170, 0, 14, 9, 32), (80, 4, 128, 182, 0, 3, 9, 32), (80, 4, 128, 197, 0, 9, 9, 32), (80, 8, 25, 52, 8, 25, 9, 32), (80, 8, 25, 56, 7, 25, 9, 32), (80, 8, 25, 56, 20, 17, 9, 32), (80, 8, 25, 59, 8, 25, 9, 32), (80, 8, 25, 64, 7, 23, 9, 32), (80, 8, 33, 28, 6, 28, 9, 32), (80, 8, 128, 170, 0, 15, 9, 32), (80, 8, 128, 182, 0, 4, 9, 32), (80, 8, 128, 197, 0, 10, 9, 32), (80, 12, 128, 182, 0, 3, 9, 32), (80, 16, 25, 52, 1, 24, 9, 32), (80, 16, 25, 56, 1, 24, 9, 32), (80, 16, 25, 59, 1, 24, 9, 32), (80, 16, 25, 64, 2, 21, 9, 32), (80, 16, 25, 64, 20, 19, 9, 32), (80, 16, 54, 66, 14, 23, 9, 32), (80, 16, 54, 71, 15, 23, 9, 32), (80, 16, 54, 78, 14, 22, 9, 32), (80, 16, 68, 66, 16, 25, 9, 32), (80, 16, 128, 165, 0, 30, 9, 32), (80, 16, 128, 167, 0, 17, 9, 32), (80, 16, 128, 170, 0, 14, 9, 32), (80, 16, 128, 182, 0, 11, 9, 32), (80, 16, 128, 197, 0, 9, 9, 32), (80, 20, 128, 182, 0, 3, 9, 32), (80, 24, 25, 52, 7, 29, 9, 32), (80, 24, 25, 56, 7, 29, 9, 32), (80, 24, 25, 59, 8, 29, 9, 32), (80, 24, 25, 59, 24, 18, 9, 32), (80, 24, 25, 64, 7, 26, 9, 32), (80, 24, 33, 28, 4, 26, 9, 32), (80, 24, 128, 163, 0, 27, 9, 32), (80, 24, 128, 170, 0, 14, 9, 32), (80, 24, 128, 182, 0, 4, 9, 32), (80, 24, 128, 197, 0, 9, 9, 32), (80, 28, 128, 182, 0, 3, 9, 32), (80, 32, 25, 52, 7, 29, 9, 32), (80, 32, 25, 52, 20, 16, 9, 32), (80, 32, 25, 56, 7, 29, 9, 32), (80, 32, 25, 59, 7, 29, 9, 32), (80, 32, 25, 64, 7, 26, 9, 32), (80, 32, 33, 28, 8, 30, 9, 32), (80, 32, 54, 76, 7, 23, 9, 32), (80, 32, 68, 64, 9, 24, 9, 32), (80, 32, 128, 170, 0, 18, 9, 32), (80, 32, 128, 182, 0, 4, 9, 32), (80, 32, 128, 197, 0, 12, 9, 32), (80, 33, 54, 66, 4, 23, 9, 32), (80, 33, 54, 71, 5, 23, 9, 32), (80, 36, 128, 182, 0, 3, 9, 32), (80, 40, 25, 52, 8, 25, 9, 32), (80, 40, 25, 56, 8, 25, 9, 32), (80, 40, 25, 59, 8, 25, 9, 32), (80, 40, 25, 64, 7, 23, 9, 32), (80, 40, 25, 64, 8, 20, 9, 32), (80, 40, 33, 28, 6, 28, 9, 32), (80, 40, 54, 66, 6, 20, 9, 32), (80, 40, 54, 71, 6, 20, 9, 32), (80, 40, 54, 75, 6, 24, 9, 32), (80, 40, 68, 63, 8, 24, 9, 32), (80, 40, 128, 174, 0, 18, 9, 32), (80, 40, 128, 182, 0, 4, 9, 32), (80, 44, 128, 182, 0, 3, 9, 32), (80, 48, 25, 52, 1, 24, 9, 32), (80, 48, 25, 56, 1, 24, 9, 32), (80, 48, 25, 59, 1, 24, 9, 32), (80, 48, 25, 63, 8, 15, 9, 32), (80, 48, 25, 64, 2, 21, 9, 32), (80, 48, 33, 28, 8, 31, 9, 32), (80, 48, 54, 66, 6, 22, 9, 32), (80, 48, 54, 73, 6, 20, 9, 32), (80, 48, 68, 61, 9, 24, 9, 32), (80, 48, 128, 165, 0, 30, 9, 32), (80, 48, 128, 167, 0, 17, 9, 32), (80, 48, 128, 170, 0, 14, 9, 32), (80, 48, 128, 182, 0, 11, 9, 32), (80, 48, 128, 197, 0, 9, 9, 32), (80, 52, 128, 182, 0, 3, 9, 32), (80, 56, 25, 52, 7, 29, 9, 32), (80, 56, 25, 56, 7, 29, 9, 32), (80, 56, 25, 59, 8, 16, 9, 32), (80, 56, 25, 59, 8, 29, 9, 32), (80, 56, 25, 64, 8, 26, 9, 32), (80, 56, 33, 28, 6, 28, 9, 32), (80, 56, 54, 66, 5, 20, 9, 32), (80, 56, 54, 71, 6, 24, 9, 32), (80, 56, 68, 59, 9, 21, 9, 32), (80, 56, 128, 170, 0, 18, 9, 32), (80, 56, 128, 182, 0, 4, 9, 32), (80, 56, 128, 197, 0, 12, 9, 32), (80, 60, 128, 182, 0, 3, 9, 32), (81, 0, 25, 54, 7, 29, 9, 32), (81, 0, 25, 54, 20, 18, 9, 32), (81, 0, 25, 58, 7, 29, 9, 32), (81, 0, 25, 61, 7, 29, 9, 32), (81, 0, 25, 66, 7, 26, 9, 32), (81, 0, 33, 30, 8, 30, 9, 32), (81, 0, 49, 54, 20, 31, 9, 32), (81, 0, 49, 66, 20, 31, 9, 32), (81, 0, 49, 70, 20, 31, 9, 32), (81, 0, 49, 73, 20, 31, 9, 32), (81, 0, 54, 61, 18, 23, 9, 32), (81, 0, 54, 66, 19, 19, 9, 32), (81, 0, 54, 70, 19, 22, 9, 32), (81, 0, 68, 58, 18, 25, 9, 32), (81, 0, 128, 163, 0, 27, 9, 32), (81, 0, 128, 170, 0, 18, 9, 32), (81, 0, 128, 182, 0, 4, 9, 32), (81, 0, 128, 197, 0, 12, 9, 32), (81, 4, 128, 170, 0, 14, 9, 32), (81, 4, 128, 182, 0, 3, 9, 32), (81, 4, 128, 197, 0, 9, 9, 32), (81, 8, 25, 54, 8, 25, 9, 32), (81, 8, 25, 58, 8, 25, 9, 32), (81, 8, 25, 61, 8, 25, 9, 32), (81, 8, 25, 61, 16, 15, 9, 32), (81, 8, 25, 66, 7, 23, 9, 32), (81, 8, 33, 30, 6, 28, 9, 32), (81, 8, 128, 170, 0, 15, 9, 32), (81, 8, 128, 182, 0, 4, 9, 32), (81, 8, 128, 197, 0, 10, 9, 32), (81, 12, 128, 182, 0, 3, 9, 32), (81, 16, 25, 54, 1, 24, 9, 32), (81, 16, 25, 58, 1, 24, 9, 32), (81, 16, 25, 61, 1, 24, 9, 32), (81, 16, 25, 66, 2, 21, 9, 32), (81, 16, 25, 66, 8, 19, 9, 32), (81, 16, 128, 165, 0, 30, 9, 32), (81, 16, 128, 167, 0, 17, 9, 32), (81, 16, 128, 170, 0, 14, 9, 32), (81, 16, 128, 182, 0, 11, 9, 32), (81, 16, 128, 197, 0, 9, 9, 32), (81, 20, 128, 182, 0, 3, 9, 32), (81, 24, 25, 51, 28, 17, 9, 32), (81, 24, 25, 54, 7, 29, 9, 32), (81, 24, 25, 58, 7, 29, 9, 32), (81, 24, 25, 61, 8, 29, 9, 32), (81, 24, 25, 66, 8, 26, 9, 32), (81, 24, 33, 32, 20, 30, 9, 32), (81, 24, 49, 56, 28, 31, 9, 32), (81, 24, 49, 68, 28, 31, 9, 32), (81, 24, 49, 71, 28, 31, 9, 32), (81, 24, 49, 75, 28, 31, 9, 32), (81, 24, 54, 71, 18, 24, 9, 32), (81, 24, 68, 59, 16, 25, 9, 32), (81, 24, 128, 163, 0, 27, 9, 32), (81, 24, 128, 170, 0, 14, 9, 32), (81, 24, 128, 182, 0, 4, 9, 32), (81, 24, 128, 197, 0, 9, 9, 32), (81, 25, 54, 63, 18, 24, 9, 32), (81, 25, 54, 66, 18, 21, 9, 32), (81, 28, 128, 182, 0, 3, 9, 32), (81, 32, 25, 51, 7, 29, 9, 32), (81, 32, 25, 56, 7, 29, 9, 32), (81, 32, 25, 56, 20, 17, 9, 32), (81, 32, 25, 59, 7, 29, 9, 32), (81, 32, 25, 63, 7, 26, 9, 32), (81, 32, 128, 170, 0, 18, 9, 32), (81, 32, 128, 182, 0, 4, 9, 32), (81, 32, 128, 197, 0, 12, 9, 32), (81, 36, 128, 182, 0, 3, 9, 32), (81, 40, 25, 51, 8, 25, 9, 32), (81, 40, 25, 56, 8, 25, 9, 32), (81, 40, 25, 59, 8, 18, 9, 32), (81, 40, 25, 59, 8, 25, 9, 32), (81, 40, 25, 63, 7, 23, 9, 32), (81, 40, 128, 163, 0, 21, 9, 32), (81, 40, 128, 174, 0, 18, 9, 32), (81, 40, 128, 182, 0, 4, 9, 32), (81, 44, 128, 182, 0, 3, 9, 32), (81, 48, 25, 51, 1, 24, 9, 32), (81, 48, 25, 56, 1, 24, 9, 32), (81, 48, 25, 59, 1, 24, 9, 32), (81, 48, 25, 63, 2, 21, 9, 32), (81, 48, 25, 68, 8, 20, 9, 32), (81, 48, 54, 63, 5, 20, 9, 32), (81, 48, 54, 66, 6, 22, 9, 32), (81, 48, 54, 71, 5, 22, 9, 32), (81, 48, 68, 59, 7, 24, 9, 32), (81, 48, 128, 165, 0, 30, 9, 32), (81, 48, 128, 167, 0, 17, 9, 32), (81, 48, 128, 170, 0, 14, 9, 32), (81, 48, 128, 182, 0, 11, 9, 32), (81, 48, 128, 197, 0, 9, 9, 32), (81, 52, 128, 182, 0, 3, 9, 32), (81, 55, 33, 30, 6, 28, 9, 32), (81, 55, 54, 63, 6, 24, 9, 32), (81, 55, 54, 66, 6, 21, 9, 32), (81, 55, 54, 70, 6, 24, 9, 32), (81, 56, 25, 51, 7, 29, 9, 32), (81, 56, 25, 56, 7, 29, 9, 32), (81, 56, 25, 59, 8, 29, 9, 32), (81, 56, 25, 63, 8, 17, 9, 32), (81, 56, 25, 63, 8, 26, 9, 32), (81, 56, 68, 58, 6, 24, 9, 32), (81, 56, 128, 170, 0, 18, 9, 32), (81, 56, 128, 182, 0, 4, 9, 32), (81, 56, 128, 197, 0, 12, 9, 32), (81, 60, 128, 182, 0, 3, 9, 32), (81, 61, 27, 52, 36, 26, 9, 32), (81, 62, 27, 56, 36, 26, 9, 32), (81, 63, 27, 59, 36, 26, 9, 32), (81, 63, 54, 63, 6, 22, 9, 32), (81, 63, 54, 68, 7, 22, 9, 32), (82, 0, 25, 52, 7, 29, 9, 32), (82, 0, 25, 52, 24, 19, 9, 32), (82, 0, 25, 56, 7, 29, 9, 32), (82, 0, 25, 59, 7, 29, 9, 32), (82, 0, 25, 64, 7, 26, 9, 32), (82, 0, 27, 64, 36, 26, 9, 32), (82, 0, 33, 28, 8, 30, 9, 32), (82, 0, 49, 52, 36, 31, 9, 32), (82, 0, 49, 64, 36, 31, 9, 32), (82, 0, 49, 68, 36, 31, 9, 32), (82, 0, 49, 71, 36, 31, 9, 32), (82, 0, 54, 66, 15, 13, 9, 32), (82, 0, 54, 71, 15, 13, 9, 32), (82, 0, 54, 78, 14, 12, 9, 32), (82, 0, 68, 56, 8, 31, 9, 32), (82, 0, 128, 163, 0, 27, 9, 32), (82, 0, 128, 177, 0, 13, 9, 32), (82, 0, 128, 182, 0, 4, 9, 32), (82, 4, 128, 170, 0, 14, 9, 32), (82, 4, 128, 182, 0, 3, 9, 32), (82, 4, 128, 197, 0, 9, 9, 32), (82, 8, 25, 52, 8, 25, 9, 32), (82, 8, 25, 56, 7, 25, 9, 32), (82, 8, 25, 56, 20, 17, 9, 32), (82, 8, 25, 59, 8, 25, 9, 32), (82, 8, 25, 64, 7, 23, 9, 32), (82, 8, 33, 28, 6, 28, 9, 32), (82, 8, 128, 170, 0, 15, 9, 32), (82, 8, 128, 182, 0, 4, 9, 32), (82, 8, 128, 197, 0, 10, 9, 32), (82, 12, 128, 182, 0, 3, 9, 32), (82, 16, 25, 52, 1, 24, 9, 32), (82, 16, 25, 56, 1, 24, 9, 32), (82, 16, 25, 59, 1, 24, 9, 32), (82, 16, 25, 64, 2, 21, 9, 32), (82, 16, 25, 64, 20, 19, 9, 32), (82, 16, 68, 66, 15, 26, 9, 32), (82, 16, 128, 165, 0, 30, 9, 32), (82, 16, 128, 167, 0, 17, 9, 32), (82, 16, 128, 170, 0, 14, 9, 32), (82, 16, 128, 182, 0, 11, 9, 32), (82, 16, 128, 197, 0, 9, 9, 32), (82, 17, 54, 66, 13, 23, 9, 32), (82, 17, 54, 71, 13, 23, 9, 32), (82, 17, 54, 78, 13, 21, 9, 32), (82, 20, 128, 182, 0, 3, 9, 32), (82, 24, 25, 52, 7, 29, 9, 32), (82, 24, 25, 56, 7, 29, 9, 32), (82, 24, 25, 59, 8, 29, 9, 32), (82, 24, 25, 59, 24, 18, 9, 32), (82, 24, 25, 64, 7, 26, 9, 32), (82, 24, 33, 28, 4, 26, 9, 32), (82, 24, 128, 163, 0, 27, 9, 32), (82, 24, 128, 170, 0, 14, 9, 32), (82, 24, 128, 182, 0, 4, 9, 32), (82, 24, 128, 197, 0, 9, 9, 32), (82, 28, 128, 182, 0, 3, 9, 32), (82, 31, 68, 64, 8, 26, 9, 32), (82, 32, 25, 52, 7, 29, 9, 32), (82, 32, 25, 52, 20, 16, 9, 32), (82, 32, 25, 56, 7, 29, 9, 32), (82, 32, 25, 59, 7, 29, 9, 32), (82, 32, 25, 64, 7, 26, 9, 32), (82, 32, 33, 28, 8, 30, 9, 32), (82, 32, 54, 66, 6, 23, 9, 32), (82, 32, 54, 71, 7, 24, 9, 32), (82, 32, 54, 76, 6, 23, 9, 32), (82, 32, 128, 170, 0, 18, 9, 32), (82, 32, 128, 182, 0, 4, 9, 32), (82, 32, 128, 197, 0, 12, 9, 32), (82, 36, 128, 182, 0, 3, 9, 32), (82, 39, 68, 63, 8, 28, 9, 32), (82, 40, 25, 52, 8, 25, 9, 32), (82, 40, 25, 56, 8, 25, 9, 32), (82, 40, 25, 59, 8, 25, 9, 32), (82, 40, 25, 64, 7, 23, 9, 32), (82, 40, 25, 64, 8, 20, 9, 32), (82, 40, 33, 28, 6, 28, 9, 32), (82, 40, 54, 66, 6, 21, 9, 32), (82, 40, 54, 71, 6, 23, 9, 32), (82, 40, 54, 75, 5, 22, 9, 32), (82, 40, 128, 174, 0, 18, 9, 32), (82, 40, 128, 182, 0, 4, 9, 32), (82, 44, 128, 182, 0, 3, 9, 32), (82, 48, 25, 52, 1, 24, 9, 32), (82, 48, 25, 56, 1, 24, 9, 32), (82, 48, 25, 59, 1, 24, 9, 32), (82, 48, 25, 63, 8, 15, 9, 32), (82, 48, 25, 64, 2, 21, 9, 32), (82, 48, 54, 66, 6, 18, 9, 32), (82, 48, 54, 73, 6, 25, 9, 32), (82, 48, 68, 61, 8, 25, 9, 32), (82, 48, 128, 165, 0, 30, 9, 32), (82, 48, 128, 167, 0, 17, 9, 32), (82, 48, 128, 170, 0, 14, 9, 32), (82, 48, 128, 182, 0, 11, 9, 32), (82, 48, 128, 197, 0, 9, 9, 32), (82, 52, 128, 182, 0, 3, 9, 32), (82, 55, 68, 59, 9, 22, 9, 32), (82, 56, 25, 52, 7, 29, 9, 32), (82, 56, 25, 56, 7, 29, 9, 32), (82, 56, 25, 59, 8, 16, 9, 32), (82, 56, 25, 59, 8, 29, 9, 32), (82, 56, 25, 64, 8, 26, 9, 32), (82, 56, 33, 28, 4, 26, 9, 32), (82, 56, 54, 66, 5, 21, 9, 32), (82, 56, 54, 71, 7, 24, 9, 32), (82, 56, 128, 170, 0, 18, 9, 32), (82, 56, 128, 182, 0, 4, 9, 32), (82, 56, 128, 197, 0, 12, 9, 32), (82, 60, 128, 182, 0, 3, 9, 32), (83, 0, 25, 54, 7, 29, 9, 32), (83, 0, 25, 54, 20, 18, 9, 32), (83, 0, 25, 58, 7, 29, 9, 32), (83, 0, 25, 61, 7, 29, 9, 32), (83, 0, 25, 66, 7, 26, 9, 32), (83, 0, 33, 30, 8, 30, 9, 32), (83, 0, 49, 54, 20, 31, 9, 32), (83, 0, 49, 66, 20, 31, 9, 32), (83, 0, 49, 70, 20, 31, 9, 32), (83, 0, 49, 73, 20, 31, 9, 32), (83, 0, 54, 66, 13, 21, 9, 32), (83, 0, 54, 70, 14, 24, 9, 32), (83, 0, 54, 73, 14, 23, 9, 32), (83, 0, 68, 61, 15, 26, 9, 32), (83, 0, 128, 163, 0, 27, 9, 32), (83, 0, 128, 170, 0, 18, 9, 32), (83, 0, 128, 182, 0, 4, 9, 32), (83, 0, 128, 197, 0, 12, 9, 32), (83, 4, 128, 170, 0, 14, 9, 32), (83, 4, 128, 182, 0, 3, 9, 32), (83, 4, 128, 197, 0, 9, 9, 32), (83, 8, 25, 54, 8, 25, 9, 32), (83, 8, 25, 58, 8, 25, 9, 32), (83, 8, 25, 61, 8, 25, 9, 32), (83, 8, 25, 61, 16, 15, 9, 32), (83, 8, 25, 66, 7, 23, 9, 32), (83, 8, 33, 30, 6, 28, 9, 32), (83, 8, 128, 170, 0, 15, 9, 32), (83, 8, 128, 182, 0, 4, 9, 32), (83, 8, 128, 197, 0, 10, 9, 32), (83, 12, 128, 182, 0, 3, 9, 32), (83, 16, 25, 54, 1, 24, 9, 32), (83, 16, 25, 58, 1, 24, 9, 32), (83, 16, 25, 61, 1, 24, 9, 32), (83, 16, 25, 66, 2, 21, 9, 32), (83, 16, 25, 66, 8, 19, 9, 32), (83, 16, 33, 32, 8, 30, 9, 32), (83, 16, 54, 66, 3, 18, 9, 32), (83, 16, 54, 71, 3, 22, 9, 32), (83, 16, 54, 75, 3, 27, 9, 32), (83, 16, 68, 63, 2, 28, 9, 32), (83, 16, 128, 165, 0, 30, 9, 32), (83, 16, 128, 167, 0, 17, 9, 32), (83, 16, 128, 170, 0, 14, 9, 32), (83, 16, 128, 182, 0, 11, 9, 32), (83, 16, 128, 197, 0, 9, 9, 32), (83, 20, 128, 182, 0, 3, 9, 32), (83, 24, 25, 51, 28, 17, 9, 32), (83, 24, 25, 54, 7, 29, 9, 32), (83, 24, 25, 58, 7, 29, 9, 32), (83, 24, 25, 61, 8, 29, 9, 32), (83, 24, 25, 66, 8, 26, 9, 32), (83, 24, 33, 35, 19, 31, 9, 32), (83, 24, 49, 59, 28, 31, 9, 32), (83, 24, 49, 66, 28, 31, 9, 32), (83, 24, 49, 71, 28, 31, 9, 32), (83, 24, 49, 75, 28, 31, 9, 32), (83, 24, 54, 66, 20, 24, 9, 32), (83, 24, 54, 71, 11, 25, 9, 32), (83, 24, 54, 75, 13, 27, 9, 32), (83, 24, 68, 63, 19, 30, 9, 32), (83, 24, 128, 163, 0, 27, 9, 32), (83, 24, 128, 170, 0, 14, 9, 32), (83, 24, 128, 182, 0, 4, 9, 32), (83, 24, 128, 197, 0, 9, 9, 32), (83, 28, 128, 182, 0, 3, 9, 32), (83, 32, 25, 51, 7, 29, 9, 32), (83, 32, 25, 54, 20, 17, 9, 32), (83, 32, 25, 56, 7, 29, 9, 32), (83, 32, 25, 59, 7, 29, 9, 32), (83, 32, 25, 63, 7, 26, 9, 32), (83, 32, 128, 170, 0, 18, 9, 32), (83, 32, 128, 182, 0, 5, 9, 32), (83, 32, 128, 197, 0, 12, 9, 32), (83, 33, 128, 182, 0, 4, 9, 32), (83, 35, 128, 182, 0, 5, 9, 32), (83, 36, 128, 182, 0, 3, 9, 32), (83, 37, 54, 73, 2, 21, 9, 32), (83, 37, 128, 182, 1, 5, 9, 32), (83, 39, 128, 182, 0, 4, 9, 32), (83, 40, 25, 51, 8, 25, 9, 32), (83, 40, 25, 56, 8, 25, 9, 32), (83, 40, 25, 59, 8, 18, 9, 32), (83, 40, 25, 59, 8, 25, 9, 32), (83, 40, 25, 63, 7, 23, 9, 32), (83, 40, 54, 71, 8, 26, 9, 32), (83, 40, 128, 163, 0, 21, 9, 32), (83, 40, 128, 174, 0, 18, 9, 32), (83, 40, 128, 182, 0, 5, 9, 32), (83, 42, 128, 182, 0, 3, 9, 32), (83, 43, 128, 182, 0, 5, 9, 32), (83, 44, 128, 182, 0, 4, 9, 32), (83, 46, 128, 182, 0, 5, 9, 32), (83, 47, 128, 182, 0, 3, 9, 32), (83, 48, 25, 51, 1, 24, 9, 32), (83, 48, 25, 56, 1, 24, 9, 32), (83, 48, 25, 59, 1, 24, 9, 32), (83, 48, 25, 63, 2, 21, 9, 32), (83, 48, 25, 66, 8, 20, 9, 32), (83, 48, 33, 35, 16, 29, 9, 32), (83, 48, 128, 163, 0, 27, 9, 32), (83, 48, 128, 165, 0, 30, 9, 32), (83, 48, 128, 167, 0, 17, 9, 32), (83, 48, 128, 170, 0, 14, 9, 32), (83, 48, 128, 182, 0, 5, 9, 32), (83, 48, 128, 197, 0, 9, 9, 32), (83, 49, 128, 182, 0, 4, 9, 32), (83, 51, 128, 182, 0, 5, 9, 32), (83, 52, 128, 182, 0, 3, 9, 32), (83, 53, 128, 182, 0, 5, 9, 32), (83, 55, 128, 182, 0, 4, 9, 32), (83, 56, 25, 51, 7, 29, 9, 32), (83, 56, 25, 56, 7, 29, 9, 32), (83, 56, 25, 59, 8, 29, 9, 32), (83, 56, 25, 63, 8, 17, 9, 32), (83, 56, 25, 63, 8, 26, 9, 32), (83, 56, 128, 170, 0, 18, 9, 32), (83, 56, 128, 182, 0, 5, 9, 32), (83, 56, 128, 197, 0, 12, 9, 32), (83, 57, 128, 182, 0, 3, 9, 32), (83, 59, 128, 182, 0, 5, 9, 32), (83, 60, 128, 182, 0, 4, 9, 32), (83, 61, 128, 182, 0, 5, 9, 32), (83, 62, 25, 51, 2, 19, 9, 32), (83, 63, 128, 182, 0, 3, 9, 32), (84, 0, 1, 66, 9, 17, 9, 32), (84, 0, 25, 56, 34, 19, 9, 32), (84, 0, 33, 32, 32, 30, 9, 32), (84, 0, 49, 56, 36, 31, 9, 32), (84, 0, 49, 68, 36, 31, 9, 32), (84, 0, 49, 71, 36, 31, 9, 32), (84, 0, 49, 75, 36, 31, 9, 32), (84, 0, 54, 63, 18, 24, 9, 32), (84, 0, 54, 68, 18, 24, 9, 32), (84, 0, 68, 56, 18, 31, 9, 32), (84, 0, 128, 163, 0, 27, 9, 32), (84, 0, 128, 177, 2, 17, 9, 32), (84, 0, 128, 182, 0, 5, 9, 32), (84, 1, 54, 71, 17, 23, 9, 32), (84, 1, 128, 182, 1, 4, 9, 32), (84, 2, 25, 59, 34, 19, 9, 32), (84, 2, 25, 63, 34, 17, 9, 32), (84, 3, 128, 182, 0, 5, 9, 32), (84, 4, 128, 182, 0, 3, 9, 32), (84, 5, 128, 182, 0, 4, 9, 32), (84, 7, 128, 182, 0, 4, 9, 32), (84, 8, 128, 182, 0, 5, 9, 32), (84, 9, 1, 68, 7, 20, 9, 32), (84, 10, 128, 182, 0, 3, 9, 32), (84, 11, 128, 182, 0, 4, 9, 32), (84, 12, 128, 182, 0, 4, 9, 32), (84, 13, 128, 182, 0, 5, 9, 32), (84, 15, 128, 182, 0, 3, 9, 32), (84, 16, 1, 71, 9, 23, 9, 32), (84, 16, 128, 179, 0, 12, 9, 32), (84, 16, 128, 182, 0, 4, 9, 32), (84, 16, 128, 197, 0, 8, 9, 32), (84, 17, 128, 182, 0, 4, 9, 32), (84, 19, 128, 182, 0, 4, 9, 32), (84, 20, 128, 182, 0, 3, 9, 32), (84, 21, 128, 182, 1, 4, 9, 32), (84, 23, 128, 182, 0, 3, 9, 32), (84, 24, 1, 73, 14, 23, 9, 32), (84, 24, 1, 85, 14, 23, 9, 32), (84, 24, 54, 63, 13, 22, 9, 32), (84, 24, 54, 68, 14, 20, 9, 32), (84, 24, 54, 71, 13, 23, 9, 32), (84, 24, 68, 59, 20, 27, 9, 32), (84, 24, 128, 182, 0, 4, 9, 32), (84, 26, 128, 182, 0, 3, 9, 32), (84, 27, 128, 182, 0, 4, 9, 32), (84, 28, 128, 182, 0, 3, 9, 32), (84, 29, 128, 182, 0, 4, 9, 32), (84, 31, 128, 182, 0, 3, 9, 32), (84, 32, 128, 179, 0, 16, 9, 32), (84, 32, 128, 182, 0, 4, 9, 32), (84, 32, 128, 197, 0, 11, 9, 32), (84, 33, 128, 182, 0, 3, 9, 32), (84, 35, 128, 182, 0, 4, 9, 32), (84, 36, 128, 182, 0, 2, 9, 32), (84, 38, 128, 182, 0, 3, 9, 32), (84, 39, 128, 182, 0, 3, 9, 32), (84, 40, 1, 75, 16, 23, 9, 32), (84, 40, 1, 87, 16, 23, 9, 32), (84, 40, 128, 182, 0, 4, 9, 32), (84, 41, 128, 182, 0, 2, 9, 32), (84, 43, 128, 182, 0, 3, 9, 32), (84, 44, 128, 182, 0, 3, 9, 32), (84, 45, 128, 182, 0, 3, 9, 32), (84, 47, 128, 182, 0, 2, 9, 32), (84, 48, 54, 66, 12, 23, 9, 32), (84, 48, 54, 71, 12, 24, 9, 32), (84, 48, 54, 75, 12, 25, 9, 32), (84, 48, 128, 179, 0, 12, 9, 32), (84, 48, 128, 182, 0, 7, 9, 32), (84, 48, 128, 197, 0, 8, 9, 32), (84, 49, 68, 63, 15, 30, 9, 32), (84, 61, 25, 54, 26, 19, 9, 32), (84, 63, 25, 58, 26, 19, 9, 32), (85, 0, 33, 30, 20, 30, 9, 30), (85, 0, 49, 54, 36, 31, 9, 30), (85, 0, 49, 66, 36, 31, 9, 30), (85, 0, 49, 70, 20, 31, 9, 30), (85, 0, 49, 73, 20, 31, 9, 30), (85, 0, 54, 66, 16, 24, 9, 30), (85, 0, 54, 70, 16, 24, 9, 30), (85, 0, 54, 73, 16, 25, 9, 30), (85, 0, 68, 61, 18, 27, 9, 30), (85, 0, 128, 179, 0, 16, 9, 30), (85, 0, 128, 197, 0, 11, 9, 30), (85, 1, 1, 73, 9, 20, 9, 30), (85, 1, 25, 61, 26, 19, 9, 30), (85, 1, 25, 66, 26, 17, 9, 30), (85, 9, 1, 70, 8, 20, 9, 30), (85, 16, 128, 179, 0, 12, 9, 27), (85, 16, 128, 197, 0, 8, 9, 27), (85, 17, 1, 66, 8, 20, 9, 27), (85, 24, 33, 35, 27, 29, 9, 27), (85, 24, 49, 71, 28, 31, 9, 27), (85, 24, 49, 75, 28, 31, 9, 27), (85, 24, 54, 63, 19, 24, 9, 27), (85, 24, 54, 66, 20, 25, 9, 27), (85, 24, 54, 71, 20, 24, 9, 27), (85, 24, 68, 59, 17, 27, 9, 27), (85, 25, 1, 71, 18, 23, 9, 27), (85, 25, 1, 83, 18, 23, 9, 27), (85, 32, 119, 72, 24, 12, 9, 27), (85, 32, 128, 179, 0, 16, 9, 27), (85, 32, 128, 197, 0, 11, 9, 27), (85, 48, 128, 179, 0, 12, 9, 27), (85, 48, 128, 197, 0, 8, 9, 27), (85, 56, 68, 59, 8, 22, 9, 27), (85, 62, 25, 51, 35, 19, 9, 27), (86, 0, 1, 56, 27, 28, 9, 23), (86, 0, 25, 56, 34, 19, 9, 23), (86, 0, 33, 32, 35, 21, 9, 23), (86, 0, 49, 68, 26, 31, 9, 23), (86, 0, 49, 71, 26, 31, 9, 23), (86, 0, 49, 75, 26, 31, 9, 23), (86, 0, 68, 56, 18, 31, 9, 23), (86, 0, 128, 179, 0, 11, 9, 23), (86, 2, 25, 59, 34, 19, 9, 23), (86, 2, 25, 63, 34, 17, 9, 23), (86, 7, 1, 63, 12, 18, 9, 23), (86, 14, 25, 51, 32, 25, 9, 23), (86, 15, 25, 56, 32, 25, 9, 23), (86, 16, 1, 68, 8, 17, 9, 23), (86, 16, 128, 179, 0, 10, 9, 23), (86, 16, 128, 197, 0, 8, 9, 23), (86, 17, 25, 59, 31, 25, 9, 23), (86, 17, 25, 63, 31, 23, 9, 23), (86, 24, 1, 63, 18, 19, 9, 23), (86, 24, 68, 59, 20, 27, 9, 23), (86, 32, 1, 68, 8, 28, 9, 32), (86, 40, 1, 71, 15, 28, 9, 32), (86, 48, 1, 63, 17, 21, 9, 32), (86, 49, 68, 63, 15, 30, 9, 32), (86, 56, 1, 68, 13, 14, 9, 32), (86, 62, 25, 49, 19, 19, 9, 32), (87, 0, 25, 54, 18, 19, 9, 32), (87, 0, 68, 61, 16, 27, 9, 32), (87, 1, 1, 66, 14, 17, 9, 32), (87, 1, 1, 70, 13, 20, 9, 32), (87, 1, 1, 73, 14, 19, 9, 32), (87, 2, 25, 58, 19, 19, 9, 32), (87, 2, 25, 61, 19, 17, 9, 32), (87, 16, 68, 59, 1, 21, 9, 32), (87, 20, 25, 51, 30, 19, 9, 32), (87, 22, 25, 54, 29, 19, 9, 32), (87, 23, 1, 59, 23, 17, 9, 32), (87, 24, 1, 63, 23, 21, 9, 32), (87, 24, 25, 59, 28, 19, 9, 32), (87, 24, 25, 63, 28, 17, 9, 32), (87, 24, 68, 59, 27, 27, 9, 32), (87, 26, 1, 66, 22, 18, 9, 32), (87, 27, 1, 71, 23, 23, 9, 32)]\n"
     ]
    }
   ],
   "source": [
    " e = MIDI_to_encoding(midi_obj)\n",
    " print(e)"
   ]
  },
  {
   "cell_type": "code",
   "execution_count": 41,
   "metadata": {
    "colab": {
     "base_uri": "https://localhost:8080/"
    },
    "id": "vjhow7BxlrC9",
    "outputId": "8ac7455f-4e6d-4fea-ccfd-cdc1bdabe6b7",
    "tags": []
   },
   "outputs": [
    {
     "name": "stdout",
     "output_type": "stream",
     "text": [
      "5975\n"
     ]
    }
   ],
   "source": [
    " print(len(e))"
   ]
  },
  {
   "cell_type": "code",
   "execution_count": 42,
   "metadata": {
    "id": "E_BNu3R2loWI",
    "tags": []
   },
   "outputs": [],
   "source": [
    " output_str_list = []\n",
    " sample_step = max(round(sample_len_max / sample_overlap_rate), 1)"
   ]
  },
  {
   "cell_type": "code",
   "execution_count": 43,
   "metadata": {
    "id": "AIVDm0ODl1B_",
    "tags": []
   },
   "outputs": [],
   "source": [
    " for p in range(0 - random.randint(0, sample_len_max - 1), len(e), sample_step):\n",
    "   L = max(p, 0)\n",
    "   R = min(p + sample_len_max, len(e)) - 1\n",
    "   bar_index_list = [e[i][0]\n",
    "                     for i in range(L, R + 1) if e[i][0] is not None]\n",
    "   bar_index_min = 0\n",
    "   bar_index_max = 0\n",
    "   if len(bar_index_list) > 0:\n",
    "       bar_index_min = min(bar_index_list)\n",
    "       bar_index_max = max(bar_index_list)\n",
    "   offset_lower_bound = -bar_index_min\n",
    "   offset_upper_bound = bar_max - 1 - bar_index_max\n",
    "   # to make bar index distribute in [0, bar_max)\n",
    "   bar_index_offset = random.randint(\n",
    "       offset_lower_bound, offset_upper_bound) if offset_lower_bound <= offset_upper_bound else offset_lower_bound\n",
    "   e_segment = []\n",
    "   for i in e[L: R + 1]:\n",
    "       if i[0] is None or i[0] + bar_index_offset < bar_max:\n",
    "           e_segment.append(i)\n",
    "       else:\n",
    "           break\n",
    "   tokens_per_note = 8\n",
    "   output_words = (['<s>'] * tokens_per_note) \\\n",
    "       + [('<{}-{}>'.format(j, k if j > 0 else k + bar_index_offset) if k is not None else '<unk>') for i in e_segment for j, k in enumerate(i)] \\\n",
    "       + (['</s>'] * (tokens_per_note - 1)\n",
    "           )  # tokens_per_note - 1 for append_eos functionality of binarizer in fairseq\n",
    "   output_str_list.append(' '.join(output_words))"
   ]
  },
  {
   "cell_type": "code",
   "execution_count": 44,
   "metadata": {
    "colab": {
     "base_uri": "https://localhost:8080/"
    },
    "id": "mOR3lasvmfoJ",
    "outputId": "b51ddc99-3f53-4c33-a437-57cd64193b5a",
    "tags": []
   },
   "outputs": [],
   "source": [
    " #print(e)"
   ]
  },
  {
   "cell_type": "code",
   "execution_count": 45,
   "metadata": {
    "colab": {
     "base_uri": "https://localhost:8080/"
    },
    "id": "0Y7kem1Zl8aU",
    "outputId": "39e281fd-d433-4119-d58b-dae9f0bd930b",
    "tags": []
   },
   "outputs": [],
   "source": [
    " #print(output_str_list)"
   ]
  },
  {
   "cell_type": "markdown",
   "metadata": {
    "id": "ymem_KQvr9TU",
    "tags": []
   },
   "source": [
    "## Loading pretrained MusicBERT (derived from fairseq RoBERTa)"
   ]
  },
  {
   "cell_type": "code",
   "execution_count": 46,
   "metadata": {
    "colab": {
     "base_uri": "https://localhost:8080/"
    },
    "id": "N6-41SqvsPDB",
    "outputId": "3c872528-ed92-48ac-8ada-039023e6dc18",
    "tags": []
   },
   "outputs": [
    {
     "name": "stdout",
     "output_type": "stream",
     "text": [
      "disable_cp = False\n",
      "mask_strategy = ['bar']\n",
      "convert_encoding = OCTMIDI\n",
      "crop_length = None\n"
     ]
    },
    {
     "name": "stderr",
     "output_type": "stream",
     "text": [
      "/usr/local/lib/python3.8/dist-packages/sklearn/utils/multiclass.py:13: DeprecationWarning: Please use `spmatrix` from the `scipy.sparse` namespace, the `scipy.sparse.base` namespace is deprecated.\n",
      "  from scipy.sparse.base import spmatrix\n"
     ]
    }
   ],
   "source": [
    "# Copyright (c) Microsoft Corporation. All rights reserved.\n",
    "# Licensed under the MIT License.\n",
    "#\n",
    "ruta_directorio_musicbert = \"/app/work/TFG/muzic/musicbert\"\n",
    "\n",
    "if ruta_directorio_musicbert not in sys.path:\n",
    "    sys.path.append(ruta_directorio_musicbert)\n",
    "\n",
    "from fairseq.models.roberta import RobertaModel\n",
    "# from fairseq.models.transformer import TransformerModel\n",
    "import numpy as np\n",
    "import torch\n",
    "import torch.nn.functional as F\n",
    "import sys\n",
    "from musicbert import *\n"
   ]
  },
  {
   "cell_type": "code",
   "execution_count": 47,
   "metadata": {
    "id": "AK1od2nRt-MU",
    "tags": []
   },
   "outputs": [],
   "source": [
    "def gen_dictionary(file_name):\n",
    "    num = 0\n",
    "    with open(file_name, 'w') as f:\n",
    "        for j in range(bar_max):\n",
    "            print('<0-{}>'.format(j), num, file=f)\n",
    "        for j in range(beat_note_factor * max_notes_per_bar * pos_resolution):\n",
    "            print('<1-{}>'.format(j), num, file=f)\n",
    "        for j in range(max_inst + 1 + 1):\n",
    "            # max_inst + 1 for percussion\n",
    "            print('<2-{}>'.format(j), num, file=f)\n",
    "        for j in range(2 * max_pitch + 1 + 1):\n",
    "            # max_pitch + 1 ~ 2 * max_pitch + 1 for percussion\n",
    "            print('<3-{}>'.format(j), num, file=f)\n",
    "        for j in range(duration_max * pos_resolution):\n",
    "            print('<4-{}>'.format(j), num, file=f)\n",
    "        for j in range(v2e(max_velocity) + 1):\n",
    "            print('<5-{}>'.format(j), num, file=f)\n",
    "        for j in range(len(ts_list)):\n",
    "            print('<6-{}>'.format(j), num, file=f)\n",
    "        for j in range(b2e(max_tempo) + 1):\n",
    "            print('<7-{}>'.format(j), num, file=f)\n"
   ]
  },
  {
   "cell_type": "code",
   "execution_count": 48,
   "metadata": {
    "id": "5oH8y29oR_rY",
    "tags": []
   },
   "outputs": [],
   "source": [
    "\n",
    "os.makedirs('input0', exist_ok=True)\n",
    "\n",
    "ROOT = os.path.join(os.getcwd(), 'input0')\n",
    "dict_file_path = os.path.join(ROOT, 'dict.txt')\n",
    "\n",
    "gen_dictionary(dict_file_path)\n"
   ]
  },
  {
   "cell_type": "code",
   "execution_count": 49,
   "metadata": {
    "id": "EQFxUixXSQxq",
    "tags": []
   },
   "outputs": [],
   "source": [
    "\n",
    "os.makedirs('label', exist_ok=True)\n",
    "\n",
    "ROOT = os.path.join(os.getcwd(), 'label')\n",
    "dict_file_path = os.path.join(ROOT, 'dict.txt')\n",
    "\n",
    "gen_dictionary(dict_file_path)\n"
   ]
  },
  {
   "cell_type": "markdown",
   "metadata": {
    "id": "ZRgmn2Kz6WMu"
   },
   "source": [
    "mentioned in https://github.com/microsoft/muzic/issues/51#issuecomment-1115821739_"
   ]
  },
  {
   "cell_type": "markdown",
   "metadata": {
    "id": "uaJ-9RgkM1Av"
   },
   "source": [
    "https://fairseq.readthedocs.io/en/v0.10.2/_modules/fairseq/models.html \n",
    "\n",
    "https://fairseq.readthedocs.io/en/v0.10.2/command_line_tools.html\n",
    "\n",
    "https://github.com/facebookresearch/fairseq/issues/2546"
   ]
  },
  {
   "cell_type": "code",
   "execution_count": 50,
   "metadata": {
    "colab": {
     "base_uri": "https://localhost:8080/"
    },
    "id": "klQIW1GajWuI",
    "outputId": "1f45c2a1-7877-4131-c97a-9b29885d84d0",
    "tags": []
   },
   "outputs": [
    {
     "name": "stdout",
     "output_type": "stream",
     "text": [
      "/app/work/TFG/muzic/musicbert\n"
     ]
    }
   ],
   "source": [
    "%cd /app/work/TFG/muzic/musicbert"
   ]
  },
  {
   "cell_type": "markdown",
   "metadata": {
    "id": "hKbBIOnJuKqE"
   },
   "source": [
    "`https://github.com/microsoft/muzic/blob/main/musicbert/musicbert/__init__.py`"
   ]
  },
  {
   "cell_type": "code",
   "execution_count": 51,
   "metadata": {
    "colab": {
     "base_uri": "https://localhost:8080/"
    },
    "id": "KL8is1qxUGrL",
    "outputId": "b48718bb-a106-4195-83a5-543694a30998",
    "tags": []
   },
   "outputs": [
    {
     "name": "stdout",
     "output_type": "stream",
     "text": [
      "loading model and data\n"
     ]
    },
    {
     "name": "stderr",
     "output_type": "stream",
     "text": [
      "/usr/local/lib/python3.8/dist-packages/torch/cuda/__init__.py:88: UserWarning: CUDA initialization: Unexpected error from cudaGetDeviceCount(). Did you run some cuda functions before calling NumCudaDevices() that might have already set an error? Error 804: forward compatibility was attempted on non supported HW (Triggered internally at ../c10/cuda/CUDAFunctions.cpp:109.)\n",
      "  return torch._C._cuda_getDeviceCount() > 0\n"
     ]
    }
   ],
   "source": [
    "print('loading model and data')\n",
    "\n",
    "roberta_base = MusicBERTModel.from_pretrained('.', \n",
    "  checkpoint_file = 'checkpoints/checkpoint_last_musicbert_base_w_genre_head.pt',\n",
    "  # user_dir='musicbert'    # activate the MusicBERT plugin with this keyword\n",
    ")\n",
    "#,\n",
    " # data_name_or_path = '.')"
   ]
  },
  {
   "cell_type": "code",
   "execution_count": 52,
   "metadata": {
    "colab": {
     "base_uri": "https://localhost:8080/"
    },
    "id": "IlPwnJf4wtfv",
    "outputId": "7a62e796-1aff-48a8-a3e3-f6ffae9f8ffa",
    "tags": []
   },
   "outputs": [
    {
     "name": "stdout",
     "output_type": "stream",
     "text": [
      "RobertaHubInterface(\n",
      "  (model): MusicBERTModel(\n",
      "    (encoder): MusicBERTEncoder(\n",
      "      (sentence_encoder): OctupleEncoder(\n",
      "        (dropout_module): FairseqDropout()\n",
      "        (embed_tokens): Embedding(1237, 768, padding_idx=1)\n",
      "        (embed_positions): LearnedPositionalEmbedding(8194, 768, padding_idx=1)\n",
      "        (emb_layer_norm): LayerNorm((768,), eps=1e-05, elementwise_affine=True)\n",
      "        (layers): ModuleList(\n",
      "          (0): TransformerSentenceEncoderLayer(\n",
      "            (dropout_module): FairseqDropout()\n",
      "            (activation_dropout_module): FairseqDropout()\n",
      "            (self_attn): MultiheadAttention(\n",
      "              (dropout_module): FairseqDropout()\n",
      "              (k_proj): Linear(in_features=768, out_features=768, bias=True)\n",
      "              (v_proj): Linear(in_features=768, out_features=768, bias=True)\n",
      "              (q_proj): Linear(in_features=768, out_features=768, bias=True)\n",
      "              (out_proj): Linear(in_features=768, out_features=768, bias=True)\n",
      "            )\n",
      "            (self_attn_layer_norm): LayerNorm((768,), eps=1e-05, elementwise_affine=True)\n",
      "            (fc1): Linear(in_features=768, out_features=3072, bias=True)\n",
      "            (fc2): Linear(in_features=3072, out_features=768, bias=True)\n",
      "            (final_layer_norm): LayerNorm((768,), eps=1e-05, elementwise_affine=True)\n",
      "          )\n",
      "          (1): TransformerSentenceEncoderLayer(\n",
      "            (dropout_module): FairseqDropout()\n",
      "            (activation_dropout_module): FairseqDropout()\n",
      "            (self_attn): MultiheadAttention(\n",
      "              (dropout_module): FairseqDropout()\n",
      "              (k_proj): Linear(in_features=768, out_features=768, bias=True)\n",
      "              (v_proj): Linear(in_features=768, out_features=768, bias=True)\n",
      "              (q_proj): Linear(in_features=768, out_features=768, bias=True)\n",
      "              (out_proj): Linear(in_features=768, out_features=768, bias=True)\n",
      "            )\n",
      "            (self_attn_layer_norm): LayerNorm((768,), eps=1e-05, elementwise_affine=True)\n",
      "            (fc1): Linear(in_features=768, out_features=3072, bias=True)\n",
      "            (fc2): Linear(in_features=3072, out_features=768, bias=True)\n",
      "            (final_layer_norm): LayerNorm((768,), eps=1e-05, elementwise_affine=True)\n",
      "          )\n",
      "          (2): TransformerSentenceEncoderLayer(\n",
      "            (dropout_module): FairseqDropout()\n",
      "            (activation_dropout_module): FairseqDropout()\n",
      "            (self_attn): MultiheadAttention(\n",
      "              (dropout_module): FairseqDropout()\n",
      "              (k_proj): Linear(in_features=768, out_features=768, bias=True)\n",
      "              (v_proj): Linear(in_features=768, out_features=768, bias=True)\n",
      "              (q_proj): Linear(in_features=768, out_features=768, bias=True)\n",
      "              (out_proj): Linear(in_features=768, out_features=768, bias=True)\n",
      "            )\n",
      "            (self_attn_layer_norm): LayerNorm((768,), eps=1e-05, elementwise_affine=True)\n",
      "            (fc1): Linear(in_features=768, out_features=3072, bias=True)\n",
      "            (fc2): Linear(in_features=3072, out_features=768, bias=True)\n",
      "            (final_layer_norm): LayerNorm((768,), eps=1e-05, elementwise_affine=True)\n",
      "          )\n",
      "          (3): TransformerSentenceEncoderLayer(\n",
      "            (dropout_module): FairseqDropout()\n",
      "            (activation_dropout_module): FairseqDropout()\n",
      "            (self_attn): MultiheadAttention(\n",
      "              (dropout_module): FairseqDropout()\n",
      "              (k_proj): Linear(in_features=768, out_features=768, bias=True)\n",
      "              (v_proj): Linear(in_features=768, out_features=768, bias=True)\n",
      "              (q_proj): Linear(in_features=768, out_features=768, bias=True)\n",
      "              (out_proj): Linear(in_features=768, out_features=768, bias=True)\n",
      "            )\n",
      "            (self_attn_layer_norm): LayerNorm((768,), eps=1e-05, elementwise_affine=True)\n",
      "            (fc1): Linear(in_features=768, out_features=3072, bias=True)\n",
      "            (fc2): Linear(in_features=3072, out_features=768, bias=True)\n",
      "            (final_layer_norm): LayerNorm((768,), eps=1e-05, elementwise_affine=True)\n",
      "          )\n",
      "          (4): TransformerSentenceEncoderLayer(\n",
      "            (dropout_module): FairseqDropout()\n",
      "            (activation_dropout_module): FairseqDropout()\n",
      "            (self_attn): MultiheadAttention(\n",
      "              (dropout_module): FairseqDropout()\n",
      "              (k_proj): Linear(in_features=768, out_features=768, bias=True)\n",
      "              (v_proj): Linear(in_features=768, out_features=768, bias=True)\n",
      "              (q_proj): Linear(in_features=768, out_features=768, bias=True)\n",
      "              (out_proj): Linear(in_features=768, out_features=768, bias=True)\n",
      "            )\n",
      "            (self_attn_layer_norm): LayerNorm((768,), eps=1e-05, elementwise_affine=True)\n",
      "            (fc1): Linear(in_features=768, out_features=3072, bias=True)\n",
      "            (fc2): Linear(in_features=3072, out_features=768, bias=True)\n",
      "            (final_layer_norm): LayerNorm((768,), eps=1e-05, elementwise_affine=True)\n",
      "          )\n",
      "          (5): TransformerSentenceEncoderLayer(\n",
      "            (dropout_module): FairseqDropout()\n",
      "            (activation_dropout_module): FairseqDropout()\n",
      "            (self_attn): MultiheadAttention(\n",
      "              (dropout_module): FairseqDropout()\n",
      "              (k_proj): Linear(in_features=768, out_features=768, bias=True)\n",
      "              (v_proj): Linear(in_features=768, out_features=768, bias=True)\n",
      "              (q_proj): Linear(in_features=768, out_features=768, bias=True)\n",
      "              (out_proj): Linear(in_features=768, out_features=768, bias=True)\n",
      "            )\n",
      "            (self_attn_layer_norm): LayerNorm((768,), eps=1e-05, elementwise_affine=True)\n",
      "            (fc1): Linear(in_features=768, out_features=3072, bias=True)\n",
      "            (fc2): Linear(in_features=3072, out_features=768, bias=True)\n",
      "            (final_layer_norm): LayerNorm((768,), eps=1e-05, elementwise_affine=True)\n",
      "          )\n",
      "          (6): TransformerSentenceEncoderLayer(\n",
      "            (dropout_module): FairseqDropout()\n",
      "            (activation_dropout_module): FairseqDropout()\n",
      "            (self_attn): MultiheadAttention(\n",
      "              (dropout_module): FairseqDropout()\n",
      "              (k_proj): Linear(in_features=768, out_features=768, bias=True)\n",
      "              (v_proj): Linear(in_features=768, out_features=768, bias=True)\n",
      "              (q_proj): Linear(in_features=768, out_features=768, bias=True)\n",
      "              (out_proj): Linear(in_features=768, out_features=768, bias=True)\n",
      "            )\n",
      "            (self_attn_layer_norm): LayerNorm((768,), eps=1e-05, elementwise_affine=True)\n",
      "            (fc1): Linear(in_features=768, out_features=3072, bias=True)\n",
      "            (fc2): Linear(in_features=3072, out_features=768, bias=True)\n",
      "            (final_layer_norm): LayerNorm((768,), eps=1e-05, elementwise_affine=True)\n",
      "          )\n",
      "          (7): TransformerSentenceEncoderLayer(\n",
      "            (dropout_module): FairseqDropout()\n",
      "            (activation_dropout_module): FairseqDropout()\n",
      "            (self_attn): MultiheadAttention(\n",
      "              (dropout_module): FairseqDropout()\n",
      "              (k_proj): Linear(in_features=768, out_features=768, bias=True)\n",
      "              (v_proj): Linear(in_features=768, out_features=768, bias=True)\n",
      "              (q_proj): Linear(in_features=768, out_features=768, bias=True)\n",
      "              (out_proj): Linear(in_features=768, out_features=768, bias=True)\n",
      "            )\n",
      "            (self_attn_layer_norm): LayerNorm((768,), eps=1e-05, elementwise_affine=True)\n",
      "            (fc1): Linear(in_features=768, out_features=3072, bias=True)\n",
      "            (fc2): Linear(in_features=3072, out_features=768, bias=True)\n",
      "            (final_layer_norm): LayerNorm((768,), eps=1e-05, elementwise_affine=True)\n",
      "          )\n",
      "          (8): TransformerSentenceEncoderLayer(\n",
      "            (dropout_module): FairseqDropout()\n",
      "            (activation_dropout_module): FairseqDropout()\n",
      "            (self_attn): MultiheadAttention(\n",
      "              (dropout_module): FairseqDropout()\n",
      "              (k_proj): Linear(in_features=768, out_features=768, bias=True)\n",
      "              (v_proj): Linear(in_features=768, out_features=768, bias=True)\n",
      "              (q_proj): Linear(in_features=768, out_features=768, bias=True)\n",
      "              (out_proj): Linear(in_features=768, out_features=768, bias=True)\n",
      "            )\n",
      "            (self_attn_layer_norm): LayerNorm((768,), eps=1e-05, elementwise_affine=True)\n",
      "            (fc1): Linear(in_features=768, out_features=3072, bias=True)\n",
      "            (fc2): Linear(in_features=3072, out_features=768, bias=True)\n",
      "            (final_layer_norm): LayerNorm((768,), eps=1e-05, elementwise_affine=True)\n",
      "          )\n",
      "          (9): TransformerSentenceEncoderLayer(\n",
      "            (dropout_module): FairseqDropout()\n",
      "            (activation_dropout_module): FairseqDropout()\n",
      "            (self_attn): MultiheadAttention(\n",
      "              (dropout_module): FairseqDropout()\n",
      "              (k_proj): Linear(in_features=768, out_features=768, bias=True)\n",
      "              (v_proj): Linear(in_features=768, out_features=768, bias=True)\n",
      "              (q_proj): Linear(in_features=768, out_features=768, bias=True)\n",
      "              (out_proj): Linear(in_features=768, out_features=768, bias=True)\n",
      "            )\n",
      "            (self_attn_layer_norm): LayerNorm((768,), eps=1e-05, elementwise_affine=True)\n",
      "            (fc1): Linear(in_features=768, out_features=3072, bias=True)\n",
      "            (fc2): Linear(in_features=3072, out_features=768, bias=True)\n",
      "            (final_layer_norm): LayerNorm((768,), eps=1e-05, elementwise_affine=True)\n",
      "          )\n",
      "          (10): TransformerSentenceEncoderLayer(\n",
      "            (dropout_module): FairseqDropout()\n",
      "            (activation_dropout_module): FairseqDropout()\n",
      "            (self_attn): MultiheadAttention(\n",
      "              (dropout_module): FairseqDropout()\n",
      "              (k_proj): Linear(in_features=768, out_features=768, bias=True)\n",
      "              (v_proj): Linear(in_features=768, out_features=768, bias=True)\n",
      "              (q_proj): Linear(in_features=768, out_features=768, bias=True)\n",
      "              (out_proj): Linear(in_features=768, out_features=768, bias=True)\n",
      "            )\n",
      "            (self_attn_layer_norm): LayerNorm((768,), eps=1e-05, elementwise_affine=True)\n",
      "            (fc1): Linear(in_features=768, out_features=3072, bias=True)\n",
      "            (fc2): Linear(in_features=3072, out_features=768, bias=True)\n",
      "            (final_layer_norm): LayerNorm((768,), eps=1e-05, elementwise_affine=True)\n",
      "          )\n",
      "          (11): TransformerSentenceEncoderLayer(\n",
      "            (dropout_module): FairseqDropout()\n",
      "            (activation_dropout_module): FairseqDropout()\n",
      "            (self_attn): MultiheadAttention(\n",
      "              (dropout_module): FairseqDropout()\n",
      "              (k_proj): Linear(in_features=768, out_features=768, bias=True)\n",
      "              (v_proj): Linear(in_features=768, out_features=768, bias=True)\n",
      "              (q_proj): Linear(in_features=768, out_features=768, bias=True)\n",
      "              (out_proj): Linear(in_features=768, out_features=768, bias=True)\n",
      "            )\n",
      "            (self_attn_layer_norm): LayerNorm((768,), eps=1e-05, elementwise_affine=True)\n",
      "            (fc1): Linear(in_features=768, out_features=3072, bias=True)\n",
      "            (fc2): Linear(in_features=3072, out_features=768, bias=True)\n",
      "            (final_layer_norm): LayerNorm((768,), eps=1e-05, elementwise_affine=True)\n",
      "          )\n",
      "        )\n",
      "        (downsampling): Sequential(\n",
      "          (0): Linear(in_features=6144, out_features=768, bias=True)\n",
      "        )\n",
      "        (upsampling): Sequential(\n",
      "          (0): Linear(in_features=768, out_features=6144, bias=True)\n",
      "        )\n",
      "      )\n",
      "      (lm_head): RobertaLMHead(\n",
      "        (dense): Linear(in_features=768, out_features=768, bias=True)\n",
      "        (layer_norm): LayerNorm((768,), eps=1e-05, elementwise_affine=True)\n",
      "      )\n",
      "    )\n",
      "    (classification_heads): ModuleDict(\n",
      "      (topmagd_head): RobertaClassificationHead(\n",
      "        (dense): Linear(in_features=768, out_features=768, bias=True)\n",
      "        (dropout): Dropout(p=0.0, inplace=False)\n",
      "        (out_proj): Linear(in_features=768, out_features=13, bias=True)\n",
      "      )\n",
      "    )\n",
      "  )\n",
      ")\n"
     ]
    }
   ],
   "source": [
    "print(roberta_base)"
   ]
  },
  {
   "cell_type": "code",
   "execution_count": 53,
   "metadata": {
    "colab": {
     "base_uri": "https://localhost:8080/"
    },
    "id": "gRLp3avyUywc",
    "outputId": "09e95fbb-11d9-41c0-d1fd-ac24d9bc9603",
    "tags": []
   },
   "outputs": [
    {
     "name": "stdout",
     "output_type": "stream",
     "text": [
      "OctupleEncoder(\n",
      "  (dropout_module): FairseqDropout()\n",
      "  (embed_tokens): Embedding(1237, 768, padding_idx=1)\n",
      "  (embed_positions): LearnedPositionalEmbedding(8194, 768, padding_idx=1)\n",
      "  (emb_layer_norm): LayerNorm((768,), eps=1e-05, elementwise_affine=True)\n",
      "  (layers): ModuleList(\n",
      "    (0): TransformerSentenceEncoderLayer(\n",
      "      (dropout_module): FairseqDropout()\n",
      "      (activation_dropout_module): FairseqDropout()\n",
      "      (self_attn): MultiheadAttention(\n",
      "        (dropout_module): FairseqDropout()\n",
      "        (k_proj): Linear(in_features=768, out_features=768, bias=True)\n",
      "        (v_proj): Linear(in_features=768, out_features=768, bias=True)\n",
      "        (q_proj): Linear(in_features=768, out_features=768, bias=True)\n",
      "        (out_proj): Linear(in_features=768, out_features=768, bias=True)\n",
      "      )\n",
      "      (self_attn_layer_norm): LayerNorm((768,), eps=1e-05, elementwise_affine=True)\n",
      "      (fc1): Linear(in_features=768, out_features=3072, bias=True)\n",
      "      (fc2): Linear(in_features=3072, out_features=768, bias=True)\n",
      "      (final_layer_norm): LayerNorm((768,), eps=1e-05, elementwise_affine=True)\n",
      "    )\n",
      "    (1): TransformerSentenceEncoderLayer(\n",
      "      (dropout_module): FairseqDropout()\n",
      "      (activation_dropout_module): FairseqDropout()\n",
      "      (self_attn): MultiheadAttention(\n",
      "        (dropout_module): FairseqDropout()\n",
      "        (k_proj): Linear(in_features=768, out_features=768, bias=True)\n",
      "        (v_proj): Linear(in_features=768, out_features=768, bias=True)\n",
      "        (q_proj): Linear(in_features=768, out_features=768, bias=True)\n",
      "        (out_proj): Linear(in_features=768, out_features=768, bias=True)\n",
      "      )\n",
      "      (self_attn_layer_norm): LayerNorm((768,), eps=1e-05, elementwise_affine=True)\n",
      "      (fc1): Linear(in_features=768, out_features=3072, bias=True)\n",
      "      (fc2): Linear(in_features=3072, out_features=768, bias=True)\n",
      "      (final_layer_norm): LayerNorm((768,), eps=1e-05, elementwise_affine=True)\n",
      "    )\n",
      "    (2): TransformerSentenceEncoderLayer(\n",
      "      (dropout_module): FairseqDropout()\n",
      "      (activation_dropout_module): FairseqDropout()\n",
      "      (self_attn): MultiheadAttention(\n",
      "        (dropout_module): FairseqDropout()\n",
      "        (k_proj): Linear(in_features=768, out_features=768, bias=True)\n",
      "        (v_proj): Linear(in_features=768, out_features=768, bias=True)\n",
      "        (q_proj): Linear(in_features=768, out_features=768, bias=True)\n",
      "        (out_proj): Linear(in_features=768, out_features=768, bias=True)\n",
      "      )\n",
      "      (self_attn_layer_norm): LayerNorm((768,), eps=1e-05, elementwise_affine=True)\n",
      "      (fc1): Linear(in_features=768, out_features=3072, bias=True)\n",
      "      (fc2): Linear(in_features=3072, out_features=768, bias=True)\n",
      "      (final_layer_norm): LayerNorm((768,), eps=1e-05, elementwise_affine=True)\n",
      "    )\n",
      "    (3): TransformerSentenceEncoderLayer(\n",
      "      (dropout_module): FairseqDropout()\n",
      "      (activation_dropout_module): FairseqDropout()\n",
      "      (self_attn): MultiheadAttention(\n",
      "        (dropout_module): FairseqDropout()\n",
      "        (k_proj): Linear(in_features=768, out_features=768, bias=True)\n",
      "        (v_proj): Linear(in_features=768, out_features=768, bias=True)\n",
      "        (q_proj): Linear(in_features=768, out_features=768, bias=True)\n",
      "        (out_proj): Linear(in_features=768, out_features=768, bias=True)\n",
      "      )\n",
      "      (self_attn_layer_norm): LayerNorm((768,), eps=1e-05, elementwise_affine=True)\n",
      "      (fc1): Linear(in_features=768, out_features=3072, bias=True)\n",
      "      (fc2): Linear(in_features=3072, out_features=768, bias=True)\n",
      "      (final_layer_norm): LayerNorm((768,), eps=1e-05, elementwise_affine=True)\n",
      "    )\n",
      "    (4): TransformerSentenceEncoderLayer(\n",
      "      (dropout_module): FairseqDropout()\n",
      "      (activation_dropout_module): FairseqDropout()\n",
      "      (self_attn): MultiheadAttention(\n",
      "        (dropout_module): FairseqDropout()\n",
      "        (k_proj): Linear(in_features=768, out_features=768, bias=True)\n",
      "        (v_proj): Linear(in_features=768, out_features=768, bias=True)\n",
      "        (q_proj): Linear(in_features=768, out_features=768, bias=True)\n",
      "        (out_proj): Linear(in_features=768, out_features=768, bias=True)\n",
      "      )\n",
      "      (self_attn_layer_norm): LayerNorm((768,), eps=1e-05, elementwise_affine=True)\n",
      "      (fc1): Linear(in_features=768, out_features=3072, bias=True)\n",
      "      (fc2): Linear(in_features=3072, out_features=768, bias=True)\n",
      "      (final_layer_norm): LayerNorm((768,), eps=1e-05, elementwise_affine=True)\n",
      "    )\n",
      "    (5): TransformerSentenceEncoderLayer(\n",
      "      (dropout_module): FairseqDropout()\n",
      "      (activation_dropout_module): FairseqDropout()\n",
      "      (self_attn): MultiheadAttention(\n",
      "        (dropout_module): FairseqDropout()\n",
      "        (k_proj): Linear(in_features=768, out_features=768, bias=True)\n",
      "        (v_proj): Linear(in_features=768, out_features=768, bias=True)\n",
      "        (q_proj): Linear(in_features=768, out_features=768, bias=True)\n",
      "        (out_proj): Linear(in_features=768, out_features=768, bias=True)\n",
      "      )\n",
      "      (self_attn_layer_norm): LayerNorm((768,), eps=1e-05, elementwise_affine=True)\n",
      "      (fc1): Linear(in_features=768, out_features=3072, bias=True)\n",
      "      (fc2): Linear(in_features=3072, out_features=768, bias=True)\n",
      "      (final_layer_norm): LayerNorm((768,), eps=1e-05, elementwise_affine=True)\n",
      "    )\n",
      "    (6): TransformerSentenceEncoderLayer(\n",
      "      (dropout_module): FairseqDropout()\n",
      "      (activation_dropout_module): FairseqDropout()\n",
      "      (self_attn): MultiheadAttention(\n",
      "        (dropout_module): FairseqDropout()\n",
      "        (k_proj): Linear(in_features=768, out_features=768, bias=True)\n",
      "        (v_proj): Linear(in_features=768, out_features=768, bias=True)\n",
      "        (q_proj): Linear(in_features=768, out_features=768, bias=True)\n",
      "        (out_proj): Linear(in_features=768, out_features=768, bias=True)\n",
      "      )\n",
      "      (self_attn_layer_norm): LayerNorm((768,), eps=1e-05, elementwise_affine=True)\n",
      "      (fc1): Linear(in_features=768, out_features=3072, bias=True)\n",
      "      (fc2): Linear(in_features=3072, out_features=768, bias=True)\n",
      "      (final_layer_norm): LayerNorm((768,), eps=1e-05, elementwise_affine=True)\n",
      "    )\n",
      "    (7): TransformerSentenceEncoderLayer(\n",
      "      (dropout_module): FairseqDropout()\n",
      "      (activation_dropout_module): FairseqDropout()\n",
      "      (self_attn): MultiheadAttention(\n",
      "        (dropout_module): FairseqDropout()\n",
      "        (k_proj): Linear(in_features=768, out_features=768, bias=True)\n",
      "        (v_proj): Linear(in_features=768, out_features=768, bias=True)\n",
      "        (q_proj): Linear(in_features=768, out_features=768, bias=True)\n",
      "        (out_proj): Linear(in_features=768, out_features=768, bias=True)\n",
      "      )\n",
      "      (self_attn_layer_norm): LayerNorm((768,), eps=1e-05, elementwise_affine=True)\n",
      "      (fc1): Linear(in_features=768, out_features=3072, bias=True)\n",
      "      (fc2): Linear(in_features=3072, out_features=768, bias=True)\n",
      "      (final_layer_norm): LayerNorm((768,), eps=1e-05, elementwise_affine=True)\n",
      "    )\n",
      "    (8): TransformerSentenceEncoderLayer(\n",
      "      (dropout_module): FairseqDropout()\n",
      "      (activation_dropout_module): FairseqDropout()\n",
      "      (self_attn): MultiheadAttention(\n",
      "        (dropout_module): FairseqDropout()\n",
      "        (k_proj): Linear(in_features=768, out_features=768, bias=True)\n",
      "        (v_proj): Linear(in_features=768, out_features=768, bias=True)\n",
      "        (q_proj): Linear(in_features=768, out_features=768, bias=True)\n",
      "        (out_proj): Linear(in_features=768, out_features=768, bias=True)\n",
      "      )\n",
      "      (self_attn_layer_norm): LayerNorm((768,), eps=1e-05, elementwise_affine=True)\n",
      "      (fc1): Linear(in_features=768, out_features=3072, bias=True)\n",
      "      (fc2): Linear(in_features=3072, out_features=768, bias=True)\n",
      "      (final_layer_norm): LayerNorm((768,), eps=1e-05, elementwise_affine=True)\n",
      "    )\n",
      "    (9): TransformerSentenceEncoderLayer(\n",
      "      (dropout_module): FairseqDropout()\n",
      "      (activation_dropout_module): FairseqDropout()\n",
      "      (self_attn): MultiheadAttention(\n",
      "        (dropout_module): FairseqDropout()\n",
      "        (k_proj): Linear(in_features=768, out_features=768, bias=True)\n",
      "        (v_proj): Linear(in_features=768, out_features=768, bias=True)\n",
      "        (q_proj): Linear(in_features=768, out_features=768, bias=True)\n",
      "        (out_proj): Linear(in_features=768, out_features=768, bias=True)\n",
      "      )\n",
      "      (self_attn_layer_norm): LayerNorm((768,), eps=1e-05, elementwise_affine=True)\n",
      "      (fc1): Linear(in_features=768, out_features=3072, bias=True)\n",
      "      (fc2): Linear(in_features=3072, out_features=768, bias=True)\n",
      "      (final_layer_norm): LayerNorm((768,), eps=1e-05, elementwise_affine=True)\n",
      "    )\n",
      "    (10): TransformerSentenceEncoderLayer(\n",
      "      (dropout_module): FairseqDropout()\n",
      "      (activation_dropout_module): FairseqDropout()\n",
      "      (self_attn): MultiheadAttention(\n",
      "        (dropout_module): FairseqDropout()\n",
      "        (k_proj): Linear(in_features=768, out_features=768, bias=True)\n",
      "        (v_proj): Linear(in_features=768, out_features=768, bias=True)\n",
      "        (q_proj): Linear(in_features=768, out_features=768, bias=True)\n",
      "        (out_proj): Linear(in_features=768, out_features=768, bias=True)\n",
      "      )\n",
      "      (self_attn_layer_norm): LayerNorm((768,), eps=1e-05, elementwise_affine=True)\n",
      "      (fc1): Linear(in_features=768, out_features=3072, bias=True)\n",
      "      (fc2): Linear(in_features=3072, out_features=768, bias=True)\n",
      "      (final_layer_norm): LayerNorm((768,), eps=1e-05, elementwise_affine=True)\n",
      "    )\n",
      "    (11): TransformerSentenceEncoderLayer(\n",
      "      (dropout_module): FairseqDropout()\n",
      "      (activation_dropout_module): FairseqDropout()\n",
      "      (self_attn): MultiheadAttention(\n",
      "        (dropout_module): FairseqDropout()\n",
      "        (k_proj): Linear(in_features=768, out_features=768, bias=True)\n",
      "        (v_proj): Linear(in_features=768, out_features=768, bias=True)\n",
      "        (q_proj): Linear(in_features=768, out_features=768, bias=True)\n",
      "        (out_proj): Linear(in_features=768, out_features=768, bias=True)\n",
      "      )\n",
      "      (self_attn_layer_norm): LayerNorm((768,), eps=1e-05, elementwise_affine=True)\n",
      "      (fc1): Linear(in_features=768, out_features=3072, bias=True)\n",
      "      (fc2): Linear(in_features=3072, out_features=768, bias=True)\n",
      "      (final_layer_norm): LayerNorm((768,), eps=1e-05, elementwise_affine=True)\n",
      "    )\n",
      "  )\n",
      "  (downsampling): Sequential(\n",
      "    (0): Linear(in_features=6144, out_features=768, bias=True)\n",
      "  )\n",
      "  (upsampling): Sequential(\n",
      "    (0): Linear(in_features=768, out_features=6144, bias=True)\n",
      "  )\n",
      ")\n"
     ]
    }
   ],
   "source": [
    "samp = roberta_base.model.encoder.sentence_encoder\n",
    "print(samp)\n",
    "del samp"
   ]
  },
  {
   "cell_type": "code",
   "execution_count": 54,
   "metadata": {
    "colab": {
     "base_uri": "https://localhost:8080/"
    },
    "id": "EmDnZZa1Uarx",
    "outputId": "5b9a05a3-3f57-4ad9-ed1e-7d8ddba41533",
    "tags": []
   },
   "outputs": [
    {
     "name": "stdout",
     "output_type": "stream",
     "text": [
      "RobertaLMHead(\n",
      "  (dense): Linear(in_features=768, out_features=768, bias=True)\n",
      "  (layer_norm): LayerNorm((768,), eps=1e-05, elementwise_affine=True)\n",
      ")\n"
     ]
    }
   ],
   "source": [
    "samp = roberta_base.model.encoder.lm_head\n",
    "print(samp)\n",
    "del samp"
   ]
  },
  {
   "cell_type": "code",
   "execution_count": 55,
   "metadata": {
    "colab": {
     "base_uri": "https://localhost:8080/"
    },
    "id": "6ef7Ap_zD74Y",
    "outputId": "113af3b9-7cac-495f-e5f0-8a9c3df502b2",
    "tags": []
   },
   "outputs": [
    {
     "ename": "RuntimeError",
     "evalue": "Unexpected error from cudaGetDeviceCount(). Did you run some cuda functions before calling NumCudaDevices() that might have already set an error? Error 804: forward compatibility was attempted on non supported HW",
     "output_type": "error",
     "traceback": [
      "\u001b[0;31m---------------------------------------------------------------------------\u001b[0m",
      "\u001b[0;31mRuntimeError\u001b[0m                              Traceback (most recent call last)",
      "Cell \u001b[0;32mIn[55], line 1\u001b[0m\n\u001b[0;32m----> 1\u001b[0m \u001b[43mroberta_base\u001b[49m\u001b[38;5;241;43m.\u001b[39;49m\u001b[43mcuda\u001b[49m\u001b[43m(\u001b[49m\u001b[43m)\u001b[49m\n\u001b[1;32m      2\u001b[0m roberta_base\u001b[38;5;241m.\u001b[39meval()\n",
      "File \u001b[0;32m/usr/local/lib/python3.8/dist-packages/torch/nn/modules/module.py:749\u001b[0m, in \u001b[0;36mModule.cuda\u001b[0;34m(self, device)\u001b[0m\n\u001b[1;32m    732\u001b[0m \u001b[38;5;28;01mdef\u001b[39;00m \u001b[38;5;21mcuda\u001b[39m(\u001b[38;5;28mself\u001b[39m: T, device: Optional[Union[\u001b[38;5;28mint\u001b[39m, device]] \u001b[38;5;241m=\u001b[39m \u001b[38;5;28;01mNone\u001b[39;00m) \u001b[38;5;241m-\u001b[39m\u001b[38;5;241m>\u001b[39m T:\n\u001b[1;32m    733\u001b[0m \u001b[38;5;250m    \u001b[39m\u001b[38;5;124mr\u001b[39m\u001b[38;5;124;03m\"\"\"Moves all model parameters and buffers to the GPU.\u001b[39;00m\n\u001b[1;32m    734\u001b[0m \n\u001b[1;32m    735\u001b[0m \u001b[38;5;124;03m    This also makes associated parameters and buffers different objects. So\u001b[39;00m\n\u001b[0;32m   (...)\u001b[0m\n\u001b[1;32m    747\u001b[0m \u001b[38;5;124;03m        Module: self\u001b[39;00m\n\u001b[1;32m    748\u001b[0m \u001b[38;5;124;03m    \"\"\"\u001b[39;00m\n\u001b[0;32m--> 749\u001b[0m     \u001b[38;5;28;01mreturn\u001b[39;00m \u001b[38;5;28;43mself\u001b[39;49m\u001b[38;5;241;43m.\u001b[39;49m\u001b[43m_apply\u001b[49m\u001b[43m(\u001b[49m\u001b[38;5;28;43;01mlambda\u001b[39;49;00m\u001b[43m \u001b[49m\u001b[43mt\u001b[49m\u001b[43m:\u001b[49m\u001b[43m \u001b[49m\u001b[43mt\u001b[49m\u001b[38;5;241;43m.\u001b[39;49m\u001b[43mcuda\u001b[49m\u001b[43m(\u001b[49m\u001b[43mdevice\u001b[49m\u001b[43m)\u001b[49m\u001b[43m)\u001b[49m\n",
      "File \u001b[0;32m/usr/local/lib/python3.8/dist-packages/torch/nn/modules/module.py:641\u001b[0m, in \u001b[0;36mModule._apply\u001b[0;34m(self, fn)\u001b[0m\n\u001b[1;32m    639\u001b[0m \u001b[38;5;28;01mdef\u001b[39;00m \u001b[38;5;21m_apply\u001b[39m(\u001b[38;5;28mself\u001b[39m, fn):\n\u001b[1;32m    640\u001b[0m     \u001b[38;5;28;01mfor\u001b[39;00m module \u001b[38;5;129;01min\u001b[39;00m \u001b[38;5;28mself\u001b[39m\u001b[38;5;241m.\u001b[39mchildren():\n\u001b[0;32m--> 641\u001b[0m         \u001b[43mmodule\u001b[49m\u001b[38;5;241;43m.\u001b[39;49m\u001b[43m_apply\u001b[49m\u001b[43m(\u001b[49m\u001b[43mfn\u001b[49m\u001b[43m)\u001b[49m\n\u001b[1;32m    643\u001b[0m     \u001b[38;5;28;01mdef\u001b[39;00m \u001b[38;5;21mcompute_should_use_set_data\u001b[39m(tensor, tensor_applied):\n\u001b[1;32m    644\u001b[0m         \u001b[38;5;28;01mif\u001b[39;00m torch\u001b[38;5;241m.\u001b[39m_has_compatible_shallow_copy_type(tensor, tensor_applied):\n\u001b[1;32m    645\u001b[0m             \u001b[38;5;66;03m# If the new tensor has compatible tensor type as the existing tensor,\u001b[39;00m\n\u001b[1;32m    646\u001b[0m             \u001b[38;5;66;03m# the current behavior is to change the tensor in-place using `.data =`,\u001b[39;00m\n\u001b[0;32m   (...)\u001b[0m\n\u001b[1;32m    651\u001b[0m             \u001b[38;5;66;03m# global flag to let the user control whether they want the future\u001b[39;00m\n\u001b[1;32m    652\u001b[0m             \u001b[38;5;66;03m# behavior of overwriting the existing tensor or not.\u001b[39;00m\n",
      "File \u001b[0;32m/usr/local/lib/python3.8/dist-packages/torch/nn/modules/module.py:641\u001b[0m, in \u001b[0;36mModule._apply\u001b[0;34m(self, fn)\u001b[0m\n\u001b[1;32m    639\u001b[0m \u001b[38;5;28;01mdef\u001b[39;00m \u001b[38;5;21m_apply\u001b[39m(\u001b[38;5;28mself\u001b[39m, fn):\n\u001b[1;32m    640\u001b[0m     \u001b[38;5;28;01mfor\u001b[39;00m module \u001b[38;5;129;01min\u001b[39;00m \u001b[38;5;28mself\u001b[39m\u001b[38;5;241m.\u001b[39mchildren():\n\u001b[0;32m--> 641\u001b[0m         \u001b[43mmodule\u001b[49m\u001b[38;5;241;43m.\u001b[39;49m\u001b[43m_apply\u001b[49m\u001b[43m(\u001b[49m\u001b[43mfn\u001b[49m\u001b[43m)\u001b[49m\n\u001b[1;32m    643\u001b[0m     \u001b[38;5;28;01mdef\u001b[39;00m \u001b[38;5;21mcompute_should_use_set_data\u001b[39m(tensor, tensor_applied):\n\u001b[1;32m    644\u001b[0m         \u001b[38;5;28;01mif\u001b[39;00m torch\u001b[38;5;241m.\u001b[39m_has_compatible_shallow_copy_type(tensor, tensor_applied):\n\u001b[1;32m    645\u001b[0m             \u001b[38;5;66;03m# If the new tensor has compatible tensor type as the existing tensor,\u001b[39;00m\n\u001b[1;32m    646\u001b[0m             \u001b[38;5;66;03m# the current behavior is to change the tensor in-place using `.data =`,\u001b[39;00m\n\u001b[0;32m   (...)\u001b[0m\n\u001b[1;32m    651\u001b[0m             \u001b[38;5;66;03m# global flag to let the user control whether they want the future\u001b[39;00m\n\u001b[1;32m    652\u001b[0m             \u001b[38;5;66;03m# behavior of overwriting the existing tensor or not.\u001b[39;00m\n",
      "    \u001b[0;31m[... skipping similar frames: Module._apply at line 641 (1 times)]\u001b[0m\n",
      "File \u001b[0;32m/usr/local/lib/python3.8/dist-packages/torch/nn/modules/module.py:641\u001b[0m, in \u001b[0;36mModule._apply\u001b[0;34m(self, fn)\u001b[0m\n\u001b[1;32m    639\u001b[0m \u001b[38;5;28;01mdef\u001b[39;00m \u001b[38;5;21m_apply\u001b[39m(\u001b[38;5;28mself\u001b[39m, fn):\n\u001b[1;32m    640\u001b[0m     \u001b[38;5;28;01mfor\u001b[39;00m module \u001b[38;5;129;01min\u001b[39;00m \u001b[38;5;28mself\u001b[39m\u001b[38;5;241m.\u001b[39mchildren():\n\u001b[0;32m--> 641\u001b[0m         \u001b[43mmodule\u001b[49m\u001b[38;5;241;43m.\u001b[39;49m\u001b[43m_apply\u001b[49m\u001b[43m(\u001b[49m\u001b[43mfn\u001b[49m\u001b[43m)\u001b[49m\n\u001b[1;32m    643\u001b[0m     \u001b[38;5;28;01mdef\u001b[39;00m \u001b[38;5;21mcompute_should_use_set_data\u001b[39m(tensor, tensor_applied):\n\u001b[1;32m    644\u001b[0m         \u001b[38;5;28;01mif\u001b[39;00m torch\u001b[38;5;241m.\u001b[39m_has_compatible_shallow_copy_type(tensor, tensor_applied):\n\u001b[1;32m    645\u001b[0m             \u001b[38;5;66;03m# If the new tensor has compatible tensor type as the existing tensor,\u001b[39;00m\n\u001b[1;32m    646\u001b[0m             \u001b[38;5;66;03m# the current behavior is to change the tensor in-place using `.data =`,\u001b[39;00m\n\u001b[0;32m   (...)\u001b[0m\n\u001b[1;32m    651\u001b[0m             \u001b[38;5;66;03m# global flag to let the user control whether they want the future\u001b[39;00m\n\u001b[1;32m    652\u001b[0m             \u001b[38;5;66;03m# behavior of overwriting the existing tensor or not.\u001b[39;00m\n",
      "File \u001b[0;32m/usr/local/lib/python3.8/dist-packages/torch/nn/modules/module.py:664\u001b[0m, in \u001b[0;36mModule._apply\u001b[0;34m(self, fn)\u001b[0m\n\u001b[1;32m    660\u001b[0m \u001b[38;5;66;03m# Tensors stored in modules are graph leaves, and we don't want to\u001b[39;00m\n\u001b[1;32m    661\u001b[0m \u001b[38;5;66;03m# track autograd history of `param_applied`, so we have to use\u001b[39;00m\n\u001b[1;32m    662\u001b[0m \u001b[38;5;66;03m# `with torch.no_grad():`\u001b[39;00m\n\u001b[1;32m    663\u001b[0m \u001b[38;5;28;01mwith\u001b[39;00m torch\u001b[38;5;241m.\u001b[39mno_grad():\n\u001b[0;32m--> 664\u001b[0m     param_applied \u001b[38;5;241m=\u001b[39m \u001b[43mfn\u001b[49m\u001b[43m(\u001b[49m\u001b[43mparam\u001b[49m\u001b[43m)\u001b[49m\n\u001b[1;32m    665\u001b[0m should_use_set_data \u001b[38;5;241m=\u001b[39m compute_should_use_set_data(param, param_applied)\n\u001b[1;32m    666\u001b[0m \u001b[38;5;28;01mif\u001b[39;00m should_use_set_data:\n",
      "File \u001b[0;32m/usr/local/lib/python3.8/dist-packages/torch/nn/modules/module.py:749\u001b[0m, in \u001b[0;36mModule.cuda.<locals>.<lambda>\u001b[0;34m(t)\u001b[0m\n\u001b[1;32m    732\u001b[0m \u001b[38;5;28;01mdef\u001b[39;00m \u001b[38;5;21mcuda\u001b[39m(\u001b[38;5;28mself\u001b[39m: T, device: Optional[Union[\u001b[38;5;28mint\u001b[39m, device]] \u001b[38;5;241m=\u001b[39m \u001b[38;5;28;01mNone\u001b[39;00m) \u001b[38;5;241m-\u001b[39m\u001b[38;5;241m>\u001b[39m T:\n\u001b[1;32m    733\u001b[0m \u001b[38;5;250m    \u001b[39m\u001b[38;5;124mr\u001b[39m\u001b[38;5;124;03m\"\"\"Moves all model parameters and buffers to the GPU.\u001b[39;00m\n\u001b[1;32m    734\u001b[0m \n\u001b[1;32m    735\u001b[0m \u001b[38;5;124;03m    This also makes associated parameters and buffers different objects. So\u001b[39;00m\n\u001b[0;32m   (...)\u001b[0m\n\u001b[1;32m    747\u001b[0m \u001b[38;5;124;03m        Module: self\u001b[39;00m\n\u001b[1;32m    748\u001b[0m \u001b[38;5;124;03m    \"\"\"\u001b[39;00m\n\u001b[0;32m--> 749\u001b[0m     \u001b[38;5;28;01mreturn\u001b[39;00m \u001b[38;5;28mself\u001b[39m\u001b[38;5;241m.\u001b[39m_apply(\u001b[38;5;28;01mlambda\u001b[39;00m t: \u001b[43mt\u001b[49m\u001b[38;5;241;43m.\u001b[39;49m\u001b[43mcuda\u001b[49m\u001b[43m(\u001b[49m\u001b[43mdevice\u001b[49m\u001b[43m)\u001b[49m)\n",
      "File \u001b[0;32m/usr/local/lib/python3.8/dist-packages/torch/cuda/__init__.py:229\u001b[0m, in \u001b[0;36m_lazy_init\u001b[0;34m()\u001b[0m\n\u001b[1;32m    227\u001b[0m \u001b[38;5;28;01mif\u001b[39;00m \u001b[38;5;124m'\u001b[39m\u001b[38;5;124mCUDA_MODULE_LOADING\u001b[39m\u001b[38;5;124m'\u001b[39m \u001b[38;5;129;01mnot\u001b[39;00m \u001b[38;5;129;01min\u001b[39;00m os\u001b[38;5;241m.\u001b[39menviron:\n\u001b[1;32m    228\u001b[0m     os\u001b[38;5;241m.\u001b[39menviron[\u001b[38;5;124m'\u001b[39m\u001b[38;5;124mCUDA_MODULE_LOADING\u001b[39m\u001b[38;5;124m'\u001b[39m] \u001b[38;5;241m=\u001b[39m \u001b[38;5;124m'\u001b[39m\u001b[38;5;124mLAZY\u001b[39m\u001b[38;5;124m'\u001b[39m\n\u001b[0;32m--> 229\u001b[0m \u001b[43mtorch\u001b[49m\u001b[38;5;241;43m.\u001b[39;49m\u001b[43m_C\u001b[49m\u001b[38;5;241;43m.\u001b[39;49m\u001b[43m_cuda_init\u001b[49m\u001b[43m(\u001b[49m\u001b[43m)\u001b[49m\n\u001b[1;32m    230\u001b[0m \u001b[38;5;66;03m# Some of the queued calls may reentrantly call _lazy_init();\u001b[39;00m\n\u001b[1;32m    231\u001b[0m \u001b[38;5;66;03m# we need to just return without initializing in that case.\u001b[39;00m\n\u001b[1;32m    232\u001b[0m \u001b[38;5;66;03m# However, we must not let any *other* threads in!\u001b[39;00m\n\u001b[1;32m    233\u001b[0m _tls\u001b[38;5;241m.\u001b[39mis_initializing \u001b[38;5;241m=\u001b[39m \u001b[38;5;28;01mTrue\u001b[39;00m\n",
      "\u001b[0;31mRuntimeError\u001b[0m: Unexpected error from cudaGetDeviceCount(). Did you run some cuda functions before calling NumCudaDevices() that might have already set an error? Error 804: forward compatibility was attempted on non supported HW"
     ]
    }
   ],
   "source": [
    "roberta_base.cuda()\n",
    "roberta_base.eval()"
   ]
  },
  {
   "cell_type": "code",
   "execution_count": null,
   "metadata": {
    "id": "rTVIP-cBQxEr",
    "tags": []
   },
   "outputs": [],
   "source": [
    "# print('loading model and data')\n",
    "\n",
    "# roberta_base = RobertaModel.from_pretrained('.', \n",
    "#   checkpoint_file = 'checkpoints/checkpoint_last_musicbert_base_w_genre_head.pt',\n",
    "#   user_dir='musicbert'    # activate the MusicBERT plugin with this keyword\n",
    "# )\n",
    "# #,\n",
    "#  # data_name_or_path = '.')"
   ]
  },
  {
   "cell_type": "code",
   "execution_count": null,
   "metadata": {
    "id": "tFxiZX6s9HYI",
    "tags": []
   },
   "outputs": [],
   "source": [
    "# print('loading model and data')\n",
    "\n",
    "# roberta_small = MusicBERTModel.from_pretrained('.', \n",
    "#   checkpoint_file = 'checkpoints/checkpoint_last_musicbert_small_w_genre_head.pt',\n",
    "#   user_dir='musicbert'    # activate the MusicBERT plugin with this keyword\n",
    "# )\n"
   ]
  },
  {
   "cell_type": "markdown",
   "metadata": {
    "id": "5IGKyOKPVBdW",
    "tags": []
   },
   "source": [
    "#  PRUEBA DATASET GRANDE\n"
   ]
  },
  {
   "cell_type": "markdown",
   "metadata": {
    "id": "GAzzHS97VBdX",
    "tags": []
   },
   "source": [
    "## Definicion de funciones"
   ]
  },
  {
   "cell_type": "code",
   "execution_count": null,
   "metadata": {
    "id": "GsWqiwijWFpw",
    "tags": []
   },
   "outputs": [],
   "source": [
    "import json\n",
    "import concurrent.futures\n",
    "from tqdm.auto import tqdm"
   ]
  },
  {
   "cell_type": "code",
   "execution_count": null,
   "metadata": {
    "id": "YyoiPrqHVBdX",
    "tags": []
   },
   "outputs": [],
   "source": [
    "# Esta funcion calcula la similitud entre dos vectores\n",
    "from sklearn.metrics.pairwise import cosine_similarity\n",
    "\n",
    "def calculate_similarity(vec1, vec2):\n",
    "    # pasamos a array de 2D para que puede pasar al funcion consine_similarity\n",
    "    vec1_2d = vec1.reshape(1, -1)\n",
    "    vec2_2d = vec2.reshape(1, -1)\n",
    "    \n",
    "    similarity_matrix = cosine_similarity(vec1_2d, vec2_2d)\n",
    "    \n",
    "    similarity_score = similarity_matrix[0][0]\n",
    "    \n",
    "    return similarity_score\n"
   ]
  },
  {
   "cell_type": "code",
   "execution_count": null,
   "metadata": {
    "id": "ap_Nds5KVBdX",
    "tags": []
   },
   "outputs": [],
   "source": [
    "# Esta función extrae características de un archivo MIDI utilizando MusicBERT(RoBERTa)\n",
    "\n",
    "def get_music_features(midi_path, MusicBERT, max_length=1024):\n",
    "    # Sacar los tokens utilizando miditoolkit\n",
    "    midi_obj = miditoolkit.midi.parser.MidiFile(midi_path)\n",
    "    encoding = MIDI_to_encoding(midi_obj)\n",
    "    encoding = shift_bar_to_front(encoding)\n",
    "    octuple_midi_str = encoding_to_str(encoding)\n",
    "    octuple_midi_tokenized = MusicBERT.task.label_dictionary.encode_line(octuple_midi_str)\n",
    "\n",
    "    # cortar o rellenar la secuencia hasta max_len\n",
    "    if len(octuple_midi_tokenized) > max_length:\n",
    "        octuple_midi_tokenized = octuple_midi_tokenized[:max_length]\n",
    "    else:\n",
    "        octuple_midi_tokenized += [1] * (max_length - len(octuple_midi_tokenized))\n",
    "\n",
    "    # Pasar tokens a lista\n",
    "    if not isinstance(octuple_midi_tokenized, list):\n",
    "        octuple_midi_tokenized = octuple_midi_tokenized.tolist()\n",
    "\n",
    "    # Pasamos tokens para que MusicBERT proceda\n",
    "    input_tensor = torch.tensor([octuple_midi_tokenized]).long().cpu()\n",
    "    #input_tensor = torch.tensor([octuple_midi_tokenized]).long().cuda()\n",
    "    with torch.no_grad():\n",
    "        features = MusicBERT.extract_features(input_tensor)[0].mean(dim=1).cpu().numpy()\n",
    "\n",
    "    return features\n"
   ]
  },
  {
   "cell_type": "code",
   "execution_count": null,
   "metadata": {
    "id": "EfuMgdkSVBdY",
    "tags": []
   },
   "outputs": [],
   "source": [
    "def recommend_songs(input_midi_path, midi_files, midi_features, model, X):\n",
    "    # Proceder archivo MIDI de con la funcion get_music_features\n",
    "    input_features = get_music_features(input_midi_path, model)\n",
    "    # Calcula la similitud del archivo MIDI de entrada y el vector de todos las archivo MIDI en midi_features\n",
    "    similarities = [calculate_similarity(input_features, features) for features in midi_features]\n",
    "    # Ordenar segun similitud\n",
    "    sorted_indices = sorted(range(len(similarities)), key=lambda i: similarities[i], reverse=True)\n",
    "\n",
    "    recommended_songs = []\n",
    "    song_count = 0\n",
    "    idx = 0\n",
    "    while song_count < X + 1:\n",
    "        song_name, similarity = midi_files[sorted_indices[idx]], similarities[sorted_indices[idx]]\n",
    "        # Verificar si la canción ya está en la lista de recomendaciones\n",
    "        if song_name not in [song[0] for song in recommended_songs]:\n",
    "            recommended_songs.append((song_name, similarity))\n",
    "            song_count += 1\n",
    "        idx += 1\n",
    "\n",
    "    # Eliminar la primera canción, que es la canción de entrada\n",
    "    recommended_songs = recommended_songs[1:]\n",
    "\n",
    "    return recommended_songs\n"
   ]
  },
  {
   "cell_type": "code",
   "execution_count": null,
   "metadata": {
    "id": "OxiXJ-BQVBdZ",
    "tags": []
   },
   "outputs": [],
   "source": [
    "#funcion para cargar todos los archivos midis\n",
    "import os\n",
    "\n",
    "def get_midi_files(directory):\n",
    "    midi_files = []\n",
    "    for root, dirs, files in os.walk(directory):\n",
    "        for filename in files:\n",
    "            if filename.endswith('.mid'):\n",
    "                midi_files.append(os.path.join(root, filename))\n",
    "    return midi_files\n"
   ]
  },
  {
   "cell_type": "code",
   "execution_count": null,
   "metadata": {
    "id": "xkcJjrUgin_Y",
    "tags": []
   },
   "outputs": [],
   "source": [
    "# buscar el nombre que le corresponde dentro del archivo JSON\n",
    "def get_new_midi_name(midi_path, json_data):\n",
    "    midi_id = midi_path.split(\"/\")[-1].split(\".\")[0]\n",
    "    if midi_id in json_data:\n",
    "        return json_data[midi_id][0]  # Elige el primer nombre en la lista\n",
    "    else:\n",
    "        return midi_path.split(\"/\")[-1]"
   ]
  },
  {
   "cell_type": "markdown",
   "metadata": {
    "id": "4C3ixm4vVBdZ",
    "tags": []
   },
   "source": [
    "## Ejecucion"
   ]
  },
  {
   "cell_type": "code",
   "execution_count": null,
   "metadata": {
    "colab": {
     "base_uri": "https://localhost:8080/"
    },
    "id": "HC5oSO0rV5wG",
    "outputId": "7ae9c5b8-8244-46de-a5f6-b1a548337b05",
    "tags": []
   },
   "outputs": [],
   "source": [
    "%cd /app/work/midi"
   ]
  },
  {
   "cell_type": "code",
   "execution_count": null,
   "metadata": {
    "colab": {
     "base_uri": "https://localhost:8080/"
    },
    "id": "hLNlCdJRe354",
    "outputId": "3d5929d5-2303-429d-ca2a-7268a2822945",
    "tags": []
   },
   "outputs": [],
   "source": [
    "#!wget http://hog.ee.columbia.edu/craffel/lmd/md5_to_paths.json"
   ]
  },
  {
   "cell_type": "code",
   "execution_count": null,
   "metadata": {
    "colab": {
     "base_uri": "https://localhost:8080/"
    },
    "id": "2oaJj_aXrFHs",
    "outputId": "963513f8-0ebd-4409-8c65-33853b482fae",
    "tags": []
   },
   "outputs": [],
   "source": [
    "#!wget http://hog.ee.columbia.edu/craffel/lmd/lmd_matched.tar.gz"
   ]
  },
  {
   "cell_type": "code",
   "execution_count": null,
   "metadata": {
    "colab": {
     "base_uri": "https://localhost:8080/"
    },
    "id": "SVREnLimrenq",
    "outputId": "d6fec848-b564-445d-cd87-f65d47b830e2",
    "tags": []
   },
   "outputs": [],
   "source": [
    "#!tar -xzvf lmd_matched.tar.gz"
   ]
  },
  {
   "cell_type": "code",
   "execution_count": null,
   "metadata": {
    "colab": {
     "base_uri": "https://localhost:8080/"
    },
    "id": "Kc6xzR09WoZL",
    "outputId": "aa88ae53-0b8c-401d-f217-d128a96b953d",
    "tags": []
   },
   "outputs": [],
   "source": [
    "directory = '/app/work/midi'\n",
    "midi_files = get_midi_files(directory)\n",
    "print(len(midi_files))\n"
   ]
  },
  {
   "cell_type": "code",
   "execution_count": null,
   "metadata": {
    "id": "ZD3FCLFqidwB",
    "tags": []
   },
   "outputs": [],
   "source": [
    "import json\n",
    "\n",
    "# cargamos el archivo JSON\n",
    "json_file = \"/app/work/midi/md5_to_paths.json\" \n",
    "with open(json_file) as f:\n",
    "    json_data = json.load(f)"
   ]
  },
  {
   "cell_type": "code",
   "execution_count": null,
   "metadata": {
    "tags": []
   },
   "outputs": [],
   "source": [
    "## CELDA PARA PROCEDER DATASET\n",
    "#import concurrent.futures\n",
    "#from tqdm.auto import tqdm\n",
    "\n",
    "#def process_midi_file(midi_file):\n",
    "#    try:\n",
    "#        features = get_music_features(midi_file, roberta_base)\n",
    "#        return (midi_file, features)\n",
    "#    except Exception as e:\n",
    "#        print(f\"Error al procesar el archivo MIDI: {e}\")\n",
    "#        return None\n",
    "\n",
    "#midi_features = []\n",
    "#processed_midi_files = []\n",
    "\n",
    "#total_midi_files = len(midi_files)\n",
    "#print(f\"Total de archivos MIDI: {total_midi_files}\")\n",
    "\n",
    "#with concurrent.futures.ThreadPoolExecutor() as executor:\n",
    "#    results = list(tqdm(executor.map(process_midi_file, midi_files), desc=\"Procesando archivos MIDI\", total=len(midi_files)))\n",
    "\n",
    "#for result in results:\n",
    "#    if result is not None:\n",
    "#        midi_file, features = result\n",
    "#        processed_midi_files.append(midi_file)\n",
    "#        midi_features.append(features)"
   ]
  },
  {
   "cell_type": "code",
   "execution_count": null,
   "metadata": {
    "tags": []
   },
   "outputs": [],
   "source": [
    "import pickle\n",
    "\n",
    "with open(\"midi_data.pkl\", \"rb\") as f:\n",
    "    loaded_midi_data = pickle.load(f)"
   ]
  },
  {
   "cell_type": "code",
   "execution_count": null,
   "metadata": {
    "tags": []
   },
   "outputs": [],
   "source": [
    "import json\n",
    "\n",
    "def get_new_midi_name(midi_path, json_data):\n",
    "    midi_id = midi_path.split(\"/\")[-1].split(\".\")[0]\n",
    "    if midi_id in json_data:\n",
    "        return json_data[midi_id][0]  # Elige el primer nombre en la lista\n",
    "    else:\n",
    "        return midi_path.split(\"/\")[-1]\n",
    "\n",
    "json_file = \"md5_to_paths.json\"\n",
    "with open(json_file) as f:\n",
    "    json_data = json.load(f)\n",
    "    \n",
    "updated_midi_data = {}\n",
    "for midi_path, features in loaded_midi_data.items():\n",
    "    updated_midi_name = get_new_midi_name(midi_path, json_data)\n",
    "    updated_midi_data[updated_midi_name] = features\n"
   ]
  },
  {
   "cell_type": "code",
   "execution_count": null,
   "metadata": {
    "colab": {
     "base_uri": "https://localhost:8080/"
    },
    "id": "-PoE2dESi4NX",
    "outputId": "db9b0ad6-e9b0-4bfe-a556-575cd4917224",
    "tags": []
   },
   "outputs": [],
   "source": [
    "input_midi_path = \"/app/work/midi/iwantitthatway.mid\"\n",
    "X = 3  # Número de recomendaciones que quieres\n",
    "\n",
    "# Obtener las características de la canción de entrada\n",
    "input_features = get_music_features(input_midi_path, roberta_base)\n",
    "\n",
    "# Separar los nombres de las canciones y las características de los archivos MIDI cargados\n",
    "loaded_midi_names = list(updated_midi_data.keys())\n",
    "loaded_midi_features = list(updated_midi_data.values())\n",
    "\n",
    "recommendations = recommend_songs(input_midi_path, loaded_midi_names, loaded_midi_features, roberta_base, X)\n",
    "\n",
    "print(f\"Top {X} recomendaciones para la canción seleccionada '{input_midi_path}':\")\n",
    "for idx, (midi_file, similarity) in enumerate(recommendations, 1):\n",
    "    print(f\"{idx}. {midi_file} (similarity: {similarity:.4f})\")"
   ]
  },
  {
   "cell_type": "code",
   "execution_count": null,
   "metadata": {
    "colab": {
     "base_uri": "https://localhost:8080/"
    },
    "id": "ICffhGTfiqnE",
    "outputId": "7a6a0515-8b6d-44e4-af3d-9630aac73e35",
    "tags": []
   },
   "outputs": [],
   "source": [
    "#processed_midi_files = [get_new_midi_name(midi_path, json_data) for midi_path in midi_files]\n",
    "\n",
    "#print(midi_features[:2])"
   ]
  },
  {
   "cell_type": "code",
   "execution_count": null,
   "metadata": {
    "colab": {
     "base_uri": "https://localhost:8080/"
    },
    "id": "MMuBv8lAVBdb",
    "outputId": "d67465a6-c6b5-4382-805f-cc620aa9b4f9",
    "tags": []
   },
   "outputs": [],
   "source": [
    "#input_midi_path = \"/content/midi/Michael_Jackson_-_Beat_It.mid\"  \n",
    "\n",
    "#cuantas recomendaciones quieres\n",
    "#X = 3 \n",
    "\n",
    "#recommendations = recommend_songs(input_midi_path, processed_midi_files, midi_features, roberta_base, X)\n",
    "\n",
    "#print(f\"Top {X} recomendadas para la canciones seleccionado '{input_midi_path}':\")\n",
    "\n",
    "#for idx, (midi_file, similarity) in enumerate(recommendations, 1):\n",
    "#    print(f\"{idx}. {midi_file} (similarity: {similarity:.4f})\")\n"
   ]
  },
  {
   "cell_type": "markdown",
   "metadata": {
    "id": "fKITpbTTVBdb",
    "tags": []
   },
   "source": [
    "## Visualizacion grafica"
   ]
  },
  {
   "cell_type": "code",
   "execution_count": null,
   "metadata": {
    "id": "_l66YjfqVBdc"
   },
   "outputs": [],
   "source": [
    "def visualize_tsne(processed_midi_files, midi_features, perplexity=None):\n",
    "    midi_features = np.array(midi_features)\n",
    "\n",
    "    if perplexity is None:\n",
    "        perplexity = min(30, len(processed_midi_files) - 1)\n",
    "\n",
    "    tsne = TSNE(n_components=2, perplexity=perplexity, random_state=42)\n",
    "    embedded_features = tsne.fit_transform(midi_features)\n",
    "\n",
    "    plt.figure(figsize=(12, 12))\n",
    "    plt.scatter(embedded_features[:, 0], embedded_features[:, 1])\n",
    "    for i, midi_file in enumerate(processed_midi_files):\n",
    "        plt.annotate(midi_file, (embedded_features[i, 0], embedded_features[i, 1]))\n",
    "\n",
    "    plt.title(\"Visualizacion grafica MIDI\")\n",
    "    plt.show()\n",
    "\n",
    "visualize_tsne(processed_midi_files, midi_features)\n"
   ]
  },
  {
   "cell_type": "code",
   "execution_count": null,
   "metadata": {
    "id": "Qhq2Vt_SevZN"
   },
   "outputs": [],
   "source": []
  }
 ],
 "metadata": {
  "accelerator": "GPU",
  "colab": {
   "collapsed_sections": [
    "wFTEEPoMa0qh",
    "hovJZkcIdLLY",
    "LeDwcxf-cPhH",
    "7ayYu78SYWs7",
    "my_PrLy1ct7n",
    "5cbUiE_Hhean",
    "nN04JzAwiuIn",
    "010X3PiShhDH",
    "Wl2Hyr7Ulo1l",
    "ymem_KQvr9TU",
    "mkYdGn38i5EX",
    "pOttnMS9MElC",
    "xmR8y-CBMBJy",
    "yn6QiMoIm9i8",
    "zujjoBiEnLSp",
    "5gQHN0VcWLP5",
    "VR7Qww4QWiIZ",
    "Fzd2gENBxuIo",
    "GAzzHS97VBdX",
    "4C3ixm4vVBdZ",
    "im8s9Yl3g1k-",
    "fKITpbTTVBdb"
   ],
   "machine_shape": "hm",
   "provenance": []
  },
  "gpuClass": "standard",
  "kernelspec": {
   "display_name": "Python 3 (ipykernel)",
   "language": "python",
   "name": "python3"
  },
  "language_info": {
   "codemirror_mode": {
    "name": "ipython",
    "version": 3
   },
   "file_extension": ".py",
   "mimetype": "text/x-python",
   "name": "python",
   "nbconvert_exporter": "python",
   "pygments_lexer": "ipython3",
   "version": "3.8.16"
  },
  "widgets": {
   "application/vnd.jupyter.widget-state+json": {
    "06dea63173664bacae87a21109633cd1": {
     "model_module": "@jupyter-widgets/controls",
     "model_module_version": "1.5.0",
     "model_name": "FloatProgressModel",
     "state": {
      "_dom_classes": [],
      "_model_module": "@jupyter-widgets/controls",
      "_model_module_version": "1.5.0",
      "_model_name": "FloatProgressModel",
      "_view_count": null,
      "_view_module": "@jupyter-widgets/controls",
      "_view_module_version": "1.5.0",
      "_view_name": "ProgressView",
      "bar_style": "success",
      "description": "",
      "description_tooltip": null,
      "layout": "IPY_MODEL_e831af0bb60b4b469f539951bd36c128",
      "max": 5806,
      "min": 0,
      "orientation": "horizontal",
      "style": "IPY_MODEL_0d2b333b5ae144f5a30a879cc0c1b2f2",
      "value": 5806
     }
    },
    "07a4166c56334f0f93db38ef6008b8bc": {
     "model_module": "@jupyter-widgets/controls",
     "model_module_version": "1.5.0",
     "model_name": "HBoxModel",
     "state": {
      "_dom_classes": [],
      "_model_module": "@jupyter-widgets/controls",
      "_model_module_version": "1.5.0",
      "_model_name": "HBoxModel",
      "_view_count": null,
      "_view_module": "@jupyter-widgets/controls",
      "_view_module_version": "1.5.0",
      "_view_name": "HBoxView",
      "box_style": "",
      "children": [
       "IPY_MODEL_c71ca9c5f0fb4d93b752859551d620de",
       "IPY_MODEL_1c40ee2a3f43494b929618519e9ac4c1",
       "IPY_MODEL_e8c8f2fb8069469290e63e0485d82a07"
      ],
      "layout": "IPY_MODEL_a7def8d0ee5d41f193d9deb1112117d9"
     }
    },
    "0d2b333b5ae144f5a30a879cc0c1b2f2": {
     "model_module": "@jupyter-widgets/controls",
     "model_module_version": "1.5.0",
     "model_name": "ProgressStyleModel",
     "state": {
      "_model_module": "@jupyter-widgets/controls",
      "_model_module_version": "1.5.0",
      "_model_name": "ProgressStyleModel",
      "_view_count": null,
      "_view_module": "@jupyter-widgets/base",
      "_view_module_version": "1.2.0",
      "_view_name": "StyleView",
      "bar_color": null,
      "description_width": ""
     }
    },
    "1c40ee2a3f43494b929618519e9ac4c1": {
     "model_module": "@jupyter-widgets/controls",
     "model_module_version": "1.5.0",
     "model_name": "FloatProgressModel",
     "state": {
      "_dom_classes": [],
      "_model_module": "@jupyter-widgets/controls",
      "_model_module_version": "1.5.0",
      "_model_name": "FloatProgressModel",
      "_view_count": null,
      "_view_module": "@jupyter-widgets/controls",
      "_view_module_version": "1.5.0",
      "_view_name": "ProgressView",
      "bar_style": "success",
      "description": "",
      "description_tooltip": null,
      "layout": "IPY_MODEL_3b8ff23140c4459c92ad83db6131bcbb",
      "max": 5810,
      "min": 0,
      "orientation": "horizontal",
      "style": "IPY_MODEL_bc01dfa5aa3f4016ba7393bd20c6bd27",
      "value": 5810
     }
    },
    "2f8c210f2bf54c7684d1cdf3a9e41250": {
     "model_module": "@jupyter-widgets/base",
     "model_module_version": "1.2.0",
     "model_name": "LayoutModel",
     "state": {
      "_model_module": "@jupyter-widgets/base",
      "_model_module_version": "1.2.0",
      "_model_name": "LayoutModel",
      "_view_count": null,
      "_view_module": "@jupyter-widgets/base",
      "_view_module_version": "1.2.0",
      "_view_name": "LayoutView",
      "align_content": null,
      "align_items": null,
      "align_self": null,
      "border": null,
      "bottom": null,
      "display": null,
      "flex": null,
      "flex_flow": null,
      "grid_area": null,
      "grid_auto_columns": null,
      "grid_auto_flow": null,
      "grid_auto_rows": null,
      "grid_column": null,
      "grid_gap": null,
      "grid_row": null,
      "grid_template_areas": null,
      "grid_template_columns": null,
      "grid_template_rows": null,
      "height": null,
      "justify_content": null,
      "justify_items": null,
      "left": null,
      "margin": null,
      "max_height": null,
      "max_width": null,
      "min_height": null,
      "min_width": null,
      "object_fit": null,
      "object_position": null,
      "order": null,
      "overflow": null,
      "overflow_x": null,
      "overflow_y": null,
      "padding": null,
      "right": null,
      "top": null,
      "visibility": null,
      "width": null
     }
    },
    "2f9bf3306d834879b7f31e220f323e63": {
     "model_module": "@jupyter-widgets/controls",
     "model_module_version": "1.5.0",
     "model_name": "DescriptionStyleModel",
     "state": {
      "_model_module": "@jupyter-widgets/controls",
      "_model_module_version": "1.5.0",
      "_model_name": "DescriptionStyleModel",
      "_view_count": null,
      "_view_module": "@jupyter-widgets/base",
      "_view_module_version": "1.2.0",
      "_view_name": "StyleView",
      "description_width": ""
     }
    },
    "3b07671d77c74f90808deb8fd2ac085b": {
     "model_module": "@jupyter-widgets/controls",
     "model_module_version": "1.5.0",
     "model_name": "DescriptionStyleModel",
     "state": {
      "_model_module": "@jupyter-widgets/controls",
      "_model_module_version": "1.5.0",
      "_model_name": "DescriptionStyleModel",
      "_view_count": null,
      "_view_module": "@jupyter-widgets/base",
      "_view_module_version": "1.2.0",
      "_view_name": "StyleView",
      "description_width": ""
     }
    },
    "3b8ff23140c4459c92ad83db6131bcbb": {
     "model_module": "@jupyter-widgets/base",
     "model_module_version": "1.2.0",
     "model_name": "LayoutModel",
     "state": {
      "_model_module": "@jupyter-widgets/base",
      "_model_module_version": "1.2.0",
      "_model_name": "LayoutModel",
      "_view_count": null,
      "_view_module": "@jupyter-widgets/base",
      "_view_module_version": "1.2.0",
      "_view_name": "LayoutView",
      "align_content": null,
      "align_items": null,
      "align_self": null,
      "border": null,
      "bottom": null,
      "display": null,
      "flex": null,
      "flex_flow": null,
      "grid_area": null,
      "grid_auto_columns": null,
      "grid_auto_flow": null,
      "grid_auto_rows": null,
      "grid_column": null,
      "grid_gap": null,
      "grid_row": null,
      "grid_template_areas": null,
      "grid_template_columns": null,
      "grid_template_rows": null,
      "height": null,
      "justify_content": null,
      "justify_items": null,
      "left": null,
      "margin": null,
      "max_height": null,
      "max_width": null,
      "min_height": null,
      "min_width": null,
      "object_fit": null,
      "object_position": null,
      "order": null,
      "overflow": null,
      "overflow_x": null,
      "overflow_y": null,
      "padding": null,
      "right": null,
      "top": null,
      "visibility": null,
      "width": null
     }
    },
    "47f98b9538204c57a4be0b146e0e5ee9": {
     "model_module": "@jupyter-widgets/base",
     "model_module_version": "1.2.0",
     "model_name": "LayoutModel",
     "state": {
      "_model_module": "@jupyter-widgets/base",
      "_model_module_version": "1.2.0",
      "_model_name": "LayoutModel",
      "_view_count": null,
      "_view_module": "@jupyter-widgets/base",
      "_view_module_version": "1.2.0",
      "_view_name": "LayoutView",
      "align_content": null,
      "align_items": null,
      "align_self": null,
      "border": null,
      "bottom": null,
      "display": null,
      "flex": null,
      "flex_flow": null,
      "grid_area": null,
      "grid_auto_columns": null,
      "grid_auto_flow": null,
      "grid_auto_rows": null,
      "grid_column": null,
      "grid_gap": null,
      "grid_row": null,
      "grid_template_areas": null,
      "grid_template_columns": null,
      "grid_template_rows": null,
      "height": null,
      "justify_content": null,
      "justify_items": null,
      "left": null,
      "margin": null,
      "max_height": null,
      "max_width": null,
      "min_height": null,
      "min_width": null,
      "object_fit": null,
      "object_position": null,
      "order": null,
      "overflow": null,
      "overflow_x": null,
      "overflow_y": null,
      "padding": null,
      "right": null,
      "top": null,
      "visibility": null,
      "width": null
     }
    },
    "6f62583d216a4da39219164fa8bbf02b": {
     "model_module": "@jupyter-widgets/controls",
     "model_module_version": "1.5.0",
     "model_name": "HTMLModel",
     "state": {
      "_dom_classes": [],
      "_model_module": "@jupyter-widgets/controls",
      "_model_module_version": "1.5.0",
      "_model_name": "HTMLModel",
      "_view_count": null,
      "_view_module": "@jupyter-widgets/controls",
      "_view_module_version": "1.5.0",
      "_view_name": "HTMLView",
      "description": "",
      "description_tooltip": null,
      "layout": "IPY_MODEL_2f8c210f2bf54c7684d1cdf3a9e41250",
      "placeholder": "​",
      "style": "IPY_MODEL_82a6a7bcb3c34fbb820e9c8a35711421",
      "value": "Procesando subconjunto 20: 100%"
     }
    },
    "6f6af5e45d9e4502a8d1504761473ea9": {
     "model_module": "@jupyter-widgets/base",
     "model_module_version": "1.2.0",
     "model_name": "LayoutModel",
     "state": {
      "_model_module": "@jupyter-widgets/base",
      "_model_module_version": "1.2.0",
      "_model_name": "LayoutModel",
      "_view_count": null,
      "_view_module": "@jupyter-widgets/base",
      "_view_module_version": "1.2.0",
      "_view_name": "LayoutView",
      "align_content": null,
      "align_items": null,
      "align_self": null,
      "border": null,
      "bottom": null,
      "display": null,
      "flex": null,
      "flex_flow": null,
      "grid_area": null,
      "grid_auto_columns": null,
      "grid_auto_flow": null,
      "grid_auto_rows": null,
      "grid_column": null,
      "grid_gap": null,
      "grid_row": null,
      "grid_template_areas": null,
      "grid_template_columns": null,
      "grid_template_rows": null,
      "height": null,
      "justify_content": null,
      "justify_items": null,
      "left": null,
      "margin": null,
      "max_height": null,
      "max_width": null,
      "min_height": null,
      "min_width": null,
      "object_fit": null,
      "object_position": null,
      "order": null,
      "overflow": null,
      "overflow_x": null,
      "overflow_y": null,
      "padding": null,
      "right": null,
      "top": null,
      "visibility": null,
      "width": null
     }
    },
    "82a6a7bcb3c34fbb820e9c8a35711421": {
     "model_module": "@jupyter-widgets/controls",
     "model_module_version": "1.5.0",
     "model_name": "DescriptionStyleModel",
     "state": {
      "_model_module": "@jupyter-widgets/controls",
      "_model_module_version": "1.5.0",
      "_model_name": "DescriptionStyleModel",
      "_view_count": null,
      "_view_module": "@jupyter-widgets/base",
      "_view_module_version": "1.2.0",
      "_view_name": "StyleView",
      "description_width": ""
     }
    },
    "8d333c2862494f54afefa5bd60ed9984": {
     "model_module": "@jupyter-widgets/controls",
     "model_module_version": "1.5.0",
     "model_name": "DescriptionStyleModel",
     "state": {
      "_model_module": "@jupyter-widgets/controls",
      "_model_module_version": "1.5.0",
      "_model_name": "DescriptionStyleModel",
      "_view_count": null,
      "_view_module": "@jupyter-widgets/base",
      "_view_module_version": "1.2.0",
      "_view_name": "StyleView",
      "description_width": ""
     }
    },
    "904eadbf80d64b7db30f13147e8e137b": {
     "model_module": "@jupyter-widgets/controls",
     "model_module_version": "1.5.0",
     "model_name": "HTMLModel",
     "state": {
      "_dom_classes": [],
      "_model_module": "@jupyter-widgets/controls",
      "_model_module_version": "1.5.0",
      "_model_name": "HTMLModel",
      "_view_count": null,
      "_view_module": "@jupyter-widgets/controls",
      "_view_module_version": "1.5.0",
      "_view_name": "HTMLView",
      "description": "",
      "description_tooltip": null,
      "layout": "IPY_MODEL_6f6af5e45d9e4502a8d1504761473ea9",
      "placeholder": "​",
      "style": "IPY_MODEL_e4be7ec7b1f74027bb3270e14a196b8b",
      "value": " 5806/5806 [40:42&lt;00:00,  3.73it/s]"
     }
    },
    "9628eb6d18144ac6bef3727c062b7fd6": {
     "model_module": "@jupyter-widgets/controls",
     "model_module_version": "1.5.0",
     "model_name": "FloatProgressModel",
     "state": {
      "_dom_classes": [],
      "_model_module": "@jupyter-widgets/controls",
      "_model_module_version": "1.5.0",
      "_model_name": "FloatProgressModel",
      "_view_count": null,
      "_view_module": "@jupyter-widgets/controls",
      "_view_module_version": "1.5.0",
      "_view_name": "ProgressView",
      "bar_style": "success",
      "description": "",
      "description_tooltip": null,
      "layout": "IPY_MODEL_a0de89dbe6cc482191d9ed38bb9597d9",
      "max": 5810,
      "min": 0,
      "orientation": "horizontal",
      "style": "IPY_MODEL_faf9327a3403420c90e07901dafe8d54",
      "value": 5810
     }
    },
    "9749bcfae75e4e68b0a4a743fc410728": {
     "model_module": "@jupyter-widgets/base",
     "model_module_version": "1.2.0",
     "model_name": "LayoutModel",
     "state": {
      "_model_module": "@jupyter-widgets/base",
      "_model_module_version": "1.2.0",
      "_model_name": "LayoutModel",
      "_view_count": null,
      "_view_module": "@jupyter-widgets/base",
      "_view_module_version": "1.2.0",
      "_view_name": "LayoutView",
      "align_content": null,
      "align_items": null,
      "align_self": null,
      "border": null,
      "bottom": null,
      "display": null,
      "flex": null,
      "flex_flow": null,
      "grid_area": null,
      "grid_auto_columns": null,
      "grid_auto_flow": null,
      "grid_auto_rows": null,
      "grid_column": null,
      "grid_gap": null,
      "grid_row": null,
      "grid_template_areas": null,
      "grid_template_columns": null,
      "grid_template_rows": null,
      "height": null,
      "justify_content": null,
      "justify_items": null,
      "left": null,
      "margin": null,
      "max_height": null,
      "max_width": null,
      "min_height": null,
      "min_width": null,
      "object_fit": null,
      "object_position": null,
      "order": null,
      "overflow": null,
      "overflow_x": null,
      "overflow_y": null,
      "padding": null,
      "right": null,
      "top": null,
      "visibility": null,
      "width": null
     }
    },
    "98e31a0a6e734466a5102e9211f21a29": {
     "model_module": "@jupyter-widgets/controls",
     "model_module_version": "1.5.0",
     "model_name": "HBoxModel",
     "state": {
      "_dom_classes": [],
      "_model_module": "@jupyter-widgets/controls",
      "_model_module_version": "1.5.0",
      "_model_name": "HBoxModel",
      "_view_count": null,
      "_view_module": "@jupyter-widgets/controls",
      "_view_module_version": "1.5.0",
      "_view_name": "HBoxView",
      "box_style": "",
      "children": [
       "IPY_MODEL_cee9f2fe1cc64214b4db7ef44f33472f",
       "IPY_MODEL_9628eb6d18144ac6bef3727c062b7fd6",
       "IPY_MODEL_eb01436c4c774270a1dcf460d914a757"
      ],
      "layout": "IPY_MODEL_47f98b9538204c57a4be0b146e0e5ee9"
     }
    },
    "a0de89dbe6cc482191d9ed38bb9597d9": {
     "model_module": "@jupyter-widgets/base",
     "model_module_version": "1.2.0",
     "model_name": "LayoutModel",
     "state": {
      "_model_module": "@jupyter-widgets/base",
      "_model_module_version": "1.2.0",
      "_model_name": "LayoutModel",
      "_view_count": null,
      "_view_module": "@jupyter-widgets/base",
      "_view_module_version": "1.2.0",
      "_view_name": "LayoutView",
      "align_content": null,
      "align_items": null,
      "align_self": null,
      "border": null,
      "bottom": null,
      "display": null,
      "flex": null,
      "flex_flow": null,
      "grid_area": null,
      "grid_auto_columns": null,
      "grid_auto_flow": null,
      "grid_auto_rows": null,
      "grid_column": null,
      "grid_gap": null,
      "grid_row": null,
      "grid_template_areas": null,
      "grid_template_columns": null,
      "grid_template_rows": null,
      "height": null,
      "justify_content": null,
      "justify_items": null,
      "left": null,
      "margin": null,
      "max_height": null,
      "max_width": null,
      "min_height": null,
      "min_width": null,
      "object_fit": null,
      "object_position": null,
      "order": null,
      "overflow": null,
      "overflow_x": null,
      "overflow_y": null,
      "padding": null,
      "right": null,
      "top": null,
      "visibility": null,
      "width": null
     }
    },
    "a7def8d0ee5d41f193d9deb1112117d9": {
     "model_module": "@jupyter-widgets/base",
     "model_module_version": "1.2.0",
     "model_name": "LayoutModel",
     "state": {
      "_model_module": "@jupyter-widgets/base",
      "_model_module_version": "1.2.0",
      "_model_name": "LayoutModel",
      "_view_count": null,
      "_view_module": "@jupyter-widgets/base",
      "_view_module_version": "1.2.0",
      "_view_name": "LayoutView",
      "align_content": null,
      "align_items": null,
      "align_self": null,
      "border": null,
      "bottom": null,
      "display": null,
      "flex": null,
      "flex_flow": null,
      "grid_area": null,
      "grid_auto_columns": null,
      "grid_auto_flow": null,
      "grid_auto_rows": null,
      "grid_column": null,
      "grid_gap": null,
      "grid_row": null,
      "grid_template_areas": null,
      "grid_template_columns": null,
      "grid_template_rows": null,
      "height": null,
      "justify_content": null,
      "justify_items": null,
      "left": null,
      "margin": null,
      "max_height": null,
      "max_width": null,
      "min_height": null,
      "min_width": null,
      "object_fit": null,
      "object_position": null,
      "order": null,
      "overflow": null,
      "overflow_x": null,
      "overflow_y": null,
      "padding": null,
      "right": null,
      "top": null,
      "visibility": null,
      "width": null
     }
    },
    "ba10eba75411462b80c5973d9755293c": {
     "model_module": "@jupyter-widgets/controls",
     "model_module_version": "1.5.0",
     "model_name": "HBoxModel",
     "state": {
      "_dom_classes": [],
      "_model_module": "@jupyter-widgets/controls",
      "_model_module_version": "1.5.0",
      "_model_name": "HBoxModel",
      "_view_count": null,
      "_view_module": "@jupyter-widgets/controls",
      "_view_module_version": "1.5.0",
      "_view_name": "HBoxView",
      "box_style": "",
      "children": [
       "IPY_MODEL_6f62583d216a4da39219164fa8bbf02b",
       "IPY_MODEL_06dea63173664bacae87a21109633cd1",
       "IPY_MODEL_904eadbf80d64b7db30f13147e8e137b"
      ],
      "layout": "IPY_MODEL_9749bcfae75e4e68b0a4a743fc410728"
     }
    },
    "bc01dfa5aa3f4016ba7393bd20c6bd27": {
     "model_module": "@jupyter-widgets/controls",
     "model_module_version": "1.5.0",
     "model_name": "ProgressStyleModel",
     "state": {
      "_model_module": "@jupyter-widgets/controls",
      "_model_module_version": "1.5.0",
      "_model_name": "ProgressStyleModel",
      "_view_count": null,
      "_view_module": "@jupyter-widgets/base",
      "_view_module_version": "1.2.0",
      "_view_name": "StyleView",
      "bar_color": null,
      "description_width": ""
     }
    },
    "c022f0f8ae0d416db07ae58395fa51c6": {
     "model_module": "@jupyter-widgets/base",
     "model_module_version": "1.2.0",
     "model_name": "LayoutModel",
     "state": {
      "_model_module": "@jupyter-widgets/base",
      "_model_module_version": "1.2.0",
      "_model_name": "LayoutModel",
      "_view_count": null,
      "_view_module": "@jupyter-widgets/base",
      "_view_module_version": "1.2.0",
      "_view_name": "LayoutView",
      "align_content": null,
      "align_items": null,
      "align_self": null,
      "border": null,
      "bottom": null,
      "display": null,
      "flex": null,
      "flex_flow": null,
      "grid_area": null,
      "grid_auto_columns": null,
      "grid_auto_flow": null,
      "grid_auto_rows": null,
      "grid_column": null,
      "grid_gap": null,
      "grid_row": null,
      "grid_template_areas": null,
      "grid_template_columns": null,
      "grid_template_rows": null,
      "height": null,
      "justify_content": null,
      "justify_items": null,
      "left": null,
      "margin": null,
      "max_height": null,
      "max_width": null,
      "min_height": null,
      "min_width": null,
      "object_fit": null,
      "object_position": null,
      "order": null,
      "overflow": null,
      "overflow_x": null,
      "overflow_y": null,
      "padding": null,
      "right": null,
      "top": null,
      "visibility": null,
      "width": null
     }
    },
    "c71ca9c5f0fb4d93b752859551d620de": {
     "model_module": "@jupyter-widgets/controls",
     "model_module_version": "1.5.0",
     "model_name": "HTMLModel",
     "state": {
      "_dom_classes": [],
      "_model_module": "@jupyter-widgets/controls",
      "_model_module_version": "1.5.0",
      "_model_name": "HTMLModel",
      "_view_count": null,
      "_view_module": "@jupyter-widgets/controls",
      "_view_module_version": "1.5.0",
      "_view_name": "HTMLView",
      "description": "",
      "description_tooltip": null,
      "layout": "IPY_MODEL_c88300ed1916495f9143be2f81c75638",
      "placeholder": "​",
      "style": "IPY_MODEL_2f9bf3306d834879b7f31e220f323e63",
      "value": "Procesando subconjunto 19: 100%"
     }
    },
    "c88300ed1916495f9143be2f81c75638": {
     "model_module": "@jupyter-widgets/base",
     "model_module_version": "1.2.0",
     "model_name": "LayoutModel",
     "state": {
      "_model_module": "@jupyter-widgets/base",
      "_model_module_version": "1.2.0",
      "_model_name": "LayoutModel",
      "_view_count": null,
      "_view_module": "@jupyter-widgets/base",
      "_view_module_version": "1.2.0",
      "_view_name": "LayoutView",
      "align_content": null,
      "align_items": null,
      "align_self": null,
      "border": null,
      "bottom": null,
      "display": null,
      "flex": null,
      "flex_flow": null,
      "grid_area": null,
      "grid_auto_columns": null,
      "grid_auto_flow": null,
      "grid_auto_rows": null,
      "grid_column": null,
      "grid_gap": null,
      "grid_row": null,
      "grid_template_areas": null,
      "grid_template_columns": null,
      "grid_template_rows": null,
      "height": null,
      "justify_content": null,
      "justify_items": null,
      "left": null,
      "margin": null,
      "max_height": null,
      "max_width": null,
      "min_height": null,
      "min_width": null,
      "object_fit": null,
      "object_position": null,
      "order": null,
      "overflow": null,
      "overflow_x": null,
      "overflow_y": null,
      "padding": null,
      "right": null,
      "top": null,
      "visibility": null,
      "width": null
     }
    },
    "cd165f5730d744bda1341e7523c02baa": {
     "model_module": "@jupyter-widgets/controls",
     "model_module_version": "1.5.0",
     "model_name": "DescriptionStyleModel",
     "state": {
      "_model_module": "@jupyter-widgets/controls",
      "_model_module_version": "1.5.0",
      "_model_name": "DescriptionStyleModel",
      "_view_count": null,
      "_view_module": "@jupyter-widgets/base",
      "_view_module_version": "1.2.0",
      "_view_name": "StyleView",
      "description_width": ""
     }
    },
    "cee9f2fe1cc64214b4db7ef44f33472f": {
     "model_module": "@jupyter-widgets/controls",
     "model_module_version": "1.5.0",
     "model_name": "HTMLModel",
     "state": {
      "_dom_classes": [],
      "_model_module": "@jupyter-widgets/controls",
      "_model_module_version": "1.5.0",
      "_model_name": "HTMLModel",
      "_view_count": null,
      "_view_module": "@jupyter-widgets/controls",
      "_view_module_version": "1.5.0",
      "_view_name": "HTMLView",
      "description": "",
      "description_tooltip": null,
      "layout": "IPY_MODEL_c022f0f8ae0d416db07ae58395fa51c6",
      "placeholder": "​",
      "style": "IPY_MODEL_cd165f5730d744bda1341e7523c02baa",
      "value": "Procesando subconjunto 18: 100%"
     }
    },
    "cf11c49b8f3f4430978e2f57d12ede2e": {
     "model_module": "@jupyter-widgets/base",
     "model_module_version": "1.2.0",
     "model_name": "LayoutModel",
     "state": {
      "_model_module": "@jupyter-widgets/base",
      "_model_module_version": "1.2.0",
      "_model_name": "LayoutModel",
      "_view_count": null,
      "_view_module": "@jupyter-widgets/base",
      "_view_module_version": "1.2.0",
      "_view_name": "LayoutView",
      "align_content": null,
      "align_items": null,
      "align_self": null,
      "border": null,
      "bottom": null,
      "display": null,
      "flex": null,
      "flex_flow": null,
      "grid_area": null,
      "grid_auto_columns": null,
      "grid_auto_flow": null,
      "grid_auto_rows": null,
      "grid_column": null,
      "grid_gap": null,
      "grid_row": null,
      "grid_template_areas": null,
      "grid_template_columns": null,
      "grid_template_rows": null,
      "height": null,
      "justify_content": null,
      "justify_items": null,
      "left": null,
      "margin": null,
      "max_height": null,
      "max_width": null,
      "min_height": null,
      "min_width": null,
      "object_fit": null,
      "object_position": null,
      "order": null,
      "overflow": null,
      "overflow_x": null,
      "overflow_y": null,
      "padding": null,
      "right": null,
      "top": null,
      "visibility": null,
      "width": null
     }
    },
    "e4be7ec7b1f74027bb3270e14a196b8b": {
     "model_module": "@jupyter-widgets/controls",
     "model_module_version": "1.5.0",
     "model_name": "DescriptionStyleModel",
     "state": {
      "_model_module": "@jupyter-widgets/controls",
      "_model_module_version": "1.5.0",
      "_model_name": "DescriptionStyleModel",
      "_view_count": null,
      "_view_module": "@jupyter-widgets/base",
      "_view_module_version": "1.2.0",
      "_view_name": "StyleView",
      "description_width": ""
     }
    },
    "e831af0bb60b4b469f539951bd36c128": {
     "model_module": "@jupyter-widgets/base",
     "model_module_version": "1.2.0",
     "model_name": "LayoutModel",
     "state": {
      "_model_module": "@jupyter-widgets/base",
      "_model_module_version": "1.2.0",
      "_model_name": "LayoutModel",
      "_view_count": null,
      "_view_module": "@jupyter-widgets/base",
      "_view_module_version": "1.2.0",
      "_view_name": "LayoutView",
      "align_content": null,
      "align_items": null,
      "align_self": null,
      "border": null,
      "bottom": null,
      "display": null,
      "flex": null,
      "flex_flow": null,
      "grid_area": null,
      "grid_auto_columns": null,
      "grid_auto_flow": null,
      "grid_auto_rows": null,
      "grid_column": null,
      "grid_gap": null,
      "grid_row": null,
      "grid_template_areas": null,
      "grid_template_columns": null,
      "grid_template_rows": null,
      "height": null,
      "justify_content": null,
      "justify_items": null,
      "left": null,
      "margin": null,
      "max_height": null,
      "max_width": null,
      "min_height": null,
      "min_width": null,
      "object_fit": null,
      "object_position": null,
      "order": null,
      "overflow": null,
      "overflow_x": null,
      "overflow_y": null,
      "padding": null,
      "right": null,
      "top": null,
      "visibility": null,
      "width": null
     }
    },
    "e8c8f2fb8069469290e63e0485d82a07": {
     "model_module": "@jupyter-widgets/controls",
     "model_module_version": "1.5.0",
     "model_name": "HTMLModel",
     "state": {
      "_dom_classes": [],
      "_model_module": "@jupyter-widgets/controls",
      "_model_module_version": "1.5.0",
      "_model_name": "HTMLModel",
      "_view_count": null,
      "_view_module": "@jupyter-widgets/controls",
      "_view_module_version": "1.5.0",
      "_view_name": "HTMLView",
      "description": "",
      "description_tooltip": null,
      "layout": "IPY_MODEL_fe5bf897a8364b99926bc175c7ac5e09",
      "placeholder": "​",
      "style": "IPY_MODEL_3b07671d77c74f90808deb8fd2ac085b",
      "value": " 5810/5810 [42:41&lt;00:00,  4.59it/s]"
     }
    },
    "eb01436c4c774270a1dcf460d914a757": {
     "model_module": "@jupyter-widgets/controls",
     "model_module_version": "1.5.0",
     "model_name": "HTMLModel",
     "state": {
      "_dom_classes": [],
      "_model_module": "@jupyter-widgets/controls",
      "_model_module_version": "1.5.0",
      "_model_name": "HTMLModel",
      "_view_count": null,
      "_view_module": "@jupyter-widgets/controls",
      "_view_module_version": "1.5.0",
      "_view_name": "HTMLView",
      "description": "",
      "description_tooltip": null,
      "layout": "IPY_MODEL_cf11c49b8f3f4430978e2f57d12ede2e",
      "placeholder": "​",
      "style": "IPY_MODEL_8d333c2862494f54afefa5bd60ed9984",
      "value": " 5810/5810 [41:09&lt;00:00,  6.95it/s]"
     }
    },
    "faf9327a3403420c90e07901dafe8d54": {
     "model_module": "@jupyter-widgets/controls",
     "model_module_version": "1.5.0",
     "model_name": "ProgressStyleModel",
     "state": {
      "_model_module": "@jupyter-widgets/controls",
      "_model_module_version": "1.5.0",
      "_model_name": "ProgressStyleModel",
      "_view_count": null,
      "_view_module": "@jupyter-widgets/base",
      "_view_module_version": "1.2.0",
      "_view_name": "StyleView",
      "bar_color": null,
      "description_width": ""
     }
    },
    "fe5bf897a8364b99926bc175c7ac5e09": {
     "model_module": "@jupyter-widgets/base",
     "model_module_version": "1.2.0",
     "model_name": "LayoutModel",
     "state": {
      "_model_module": "@jupyter-widgets/base",
      "_model_module_version": "1.2.0",
      "_model_name": "LayoutModel",
      "_view_count": null,
      "_view_module": "@jupyter-widgets/base",
      "_view_module_version": "1.2.0",
      "_view_name": "LayoutView",
      "align_content": null,
      "align_items": null,
      "align_self": null,
      "border": null,
      "bottom": null,
      "display": null,
      "flex": null,
      "flex_flow": null,
      "grid_area": null,
      "grid_auto_columns": null,
      "grid_auto_flow": null,
      "grid_auto_rows": null,
      "grid_column": null,
      "grid_gap": null,
      "grid_row": null,
      "grid_template_areas": null,
      "grid_template_columns": null,
      "grid_template_rows": null,
      "height": null,
      "justify_content": null,
      "justify_items": null,
      "left": null,
      "margin": null,
      "max_height": null,
      "max_width": null,
      "min_height": null,
      "min_width": null,
      "object_fit": null,
      "object_position": null,
      "order": null,
      "overflow": null,
      "overflow_x": null,
      "overflow_y": null,
      "padding": null,
      "right": null,
      "top": null,
      "visibility": null,
      "width": null
     }
    }
   }
  }
 },
 "nbformat": 4,
 "nbformat_minor": 4
}
